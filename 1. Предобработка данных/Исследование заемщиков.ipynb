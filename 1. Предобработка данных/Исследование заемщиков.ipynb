{
 "cells": [
  {
   "cell_type": "markdown",
   "id": "386f2ae7",
   "metadata": {
    "deletable": false,
    "editable": false,
    "id": "386f2ae7"
   },
   "source": [
    "# Исследование надежности заемщиков\n"
   ]
  },
  {
   "cell_type": "markdown",
   "id": "4c71b276-f90c-4fc7-a92f-6e15c09fa974",
   "metadata": {},
   "source": [
    "### Описание проекта\n",
    "\n",
    "Заказчик — кредитный отдел банка. Нужно разобраться, влияет ли семейное положение и количество детей клиента на факт погашения кредита в срок. Входные данные от банка — статистика о платёжеспособности клиентов.\n",
    "\n",
    "Результаты исследования будут учтены при построении модели кредитного скоринга — специальной системы, которая оценивает способность потенциального заёмщика вернуть кредит банку.\n",
    "\n",
    "### Описание данных\n",
    "\n",
    "- `children` — количество детей в семье\n",
    "- `days_employed` — общий трудовой стаж в днях\n",
    "- `dob_years` — возраст клиента в годах\n",
    "- `education` — уровень образования клиента\n",
    "- `education_id` — идентификатор уровня образования\n",
    "- `family_status` — семейное положение\n",
    "- `family_status_id` — идентификатор семейного положения\n",
    "- `gender` — пол клиента\n",
    "- `income_type` — тип занятости\n",
    "- `debt` — имел ли задолженность по возврату кредитов\n",
    "- `total_income` — ежемесячный доход\n",
    "- `purpose` — цель получения кредита\n"
   ]
  },
  {
   "cell_type": "markdown",
   "id": "26613308",
   "metadata": {
    "deletable": true,
    "id": "26613308"
   },
   "source": [
    "## Откроем таблицу и изучим общую информацию о данных"
   ]
  },
  {
   "cell_type": "code",
   "execution_count": 1,
   "id": "77a68a90",
   "metadata": {
    "deletable": false,
    "id": "77a68a90"
   },
   "outputs": [],
   "source": [
    "# считаем данные из csv-файла в датафрейм и сохраним в переменную `data`\n",
    "import pandas as pd\n",
    "import matplotlib.pyplot as plt\n",
    "\n",
    "try:\n",
    "    data = pd.read_csv('/datasets/data.csv')\n",
    "except:\n",
    "    data = pd.read_csv('https://...data.csv')"
   ]
  },
  {
   "cell_type": "code",
   "execution_count": 2,
   "id": "b0451a9a",
   "metadata": {
    "deletable": false,
    "id": "b0451a9a",
    "outputId": "1a8f3ef2-d323-4ec2-ddf7-89670b5944c4"
   },
   "outputs": [
    {
     "data": {
      "text/html": [
       "<div>\n",
       "<style scoped>\n",
       "    .dataframe tbody tr th:only-of-type {\n",
       "        vertical-align: middle;\n",
       "    }\n",
       "\n",
       "    .dataframe tbody tr th {\n",
       "        vertical-align: top;\n",
       "    }\n",
       "\n",
       "    .dataframe thead th {\n",
       "        text-align: right;\n",
       "    }\n",
       "</style>\n",
       "<table border=\"1\" class=\"dataframe\">\n",
       "  <thead>\n",
       "    <tr style=\"text-align: right;\">\n",
       "      <th></th>\n",
       "      <th>children</th>\n",
       "      <th>days_employed</th>\n",
       "      <th>dob_years</th>\n",
       "      <th>education</th>\n",
       "      <th>education_id</th>\n",
       "      <th>family_status</th>\n",
       "      <th>family_status_id</th>\n",
       "      <th>gender</th>\n",
       "      <th>income_type</th>\n",
       "      <th>debt</th>\n",
       "      <th>total_income</th>\n",
       "      <th>purpose</th>\n",
       "    </tr>\n",
       "  </thead>\n",
       "  <tbody>\n",
       "    <tr>\n",
       "      <th>0</th>\n",
       "      <td>1</td>\n",
       "      <td>-8437.673028</td>\n",
       "      <td>42</td>\n",
       "      <td>высшее</td>\n",
       "      <td>0</td>\n",
       "      <td>женат / замужем</td>\n",
       "      <td>0</td>\n",
       "      <td>F</td>\n",
       "      <td>сотрудник</td>\n",
       "      <td>0</td>\n",
       "      <td>253875.639453</td>\n",
       "      <td>покупка жилья</td>\n",
       "    </tr>\n",
       "    <tr>\n",
       "      <th>1</th>\n",
       "      <td>1</td>\n",
       "      <td>-4024.803754</td>\n",
       "      <td>36</td>\n",
       "      <td>среднее</td>\n",
       "      <td>1</td>\n",
       "      <td>женат / замужем</td>\n",
       "      <td>0</td>\n",
       "      <td>F</td>\n",
       "      <td>сотрудник</td>\n",
       "      <td>0</td>\n",
       "      <td>112080.014102</td>\n",
       "      <td>приобретение автомобиля</td>\n",
       "    </tr>\n",
       "    <tr>\n",
       "      <th>2</th>\n",
       "      <td>0</td>\n",
       "      <td>-5623.422610</td>\n",
       "      <td>33</td>\n",
       "      <td>Среднее</td>\n",
       "      <td>1</td>\n",
       "      <td>женат / замужем</td>\n",
       "      <td>0</td>\n",
       "      <td>M</td>\n",
       "      <td>сотрудник</td>\n",
       "      <td>0</td>\n",
       "      <td>145885.952297</td>\n",
       "      <td>покупка жилья</td>\n",
       "    </tr>\n",
       "    <tr>\n",
       "      <th>3</th>\n",
       "      <td>3</td>\n",
       "      <td>-4124.747207</td>\n",
       "      <td>32</td>\n",
       "      <td>среднее</td>\n",
       "      <td>1</td>\n",
       "      <td>женат / замужем</td>\n",
       "      <td>0</td>\n",
       "      <td>M</td>\n",
       "      <td>сотрудник</td>\n",
       "      <td>0</td>\n",
       "      <td>267628.550329</td>\n",
       "      <td>дополнительное образование</td>\n",
       "    </tr>\n",
       "    <tr>\n",
       "      <th>4</th>\n",
       "      <td>0</td>\n",
       "      <td>340266.072047</td>\n",
       "      <td>53</td>\n",
       "      <td>среднее</td>\n",
       "      <td>1</td>\n",
       "      <td>гражданский брак</td>\n",
       "      <td>1</td>\n",
       "      <td>F</td>\n",
       "      <td>пенсионер</td>\n",
       "      <td>0</td>\n",
       "      <td>158616.077870</td>\n",
       "      <td>сыграть свадьбу</td>\n",
       "    </tr>\n",
       "    <tr>\n",
       "      <th>5</th>\n",
       "      <td>0</td>\n",
       "      <td>-926.185831</td>\n",
       "      <td>27</td>\n",
       "      <td>высшее</td>\n",
       "      <td>0</td>\n",
       "      <td>гражданский брак</td>\n",
       "      <td>1</td>\n",
       "      <td>M</td>\n",
       "      <td>компаньон</td>\n",
       "      <td>0</td>\n",
       "      <td>255763.565419</td>\n",
       "      <td>покупка жилья</td>\n",
       "    </tr>\n",
       "    <tr>\n",
       "      <th>6</th>\n",
       "      <td>0</td>\n",
       "      <td>-2879.202052</td>\n",
       "      <td>43</td>\n",
       "      <td>высшее</td>\n",
       "      <td>0</td>\n",
       "      <td>женат / замужем</td>\n",
       "      <td>0</td>\n",
       "      <td>F</td>\n",
       "      <td>компаньон</td>\n",
       "      <td>0</td>\n",
       "      <td>240525.971920</td>\n",
       "      <td>операции с жильем</td>\n",
       "    </tr>\n",
       "    <tr>\n",
       "      <th>7</th>\n",
       "      <td>0</td>\n",
       "      <td>-152.779569</td>\n",
       "      <td>50</td>\n",
       "      <td>СРЕДНЕЕ</td>\n",
       "      <td>1</td>\n",
       "      <td>женат / замужем</td>\n",
       "      <td>0</td>\n",
       "      <td>M</td>\n",
       "      <td>сотрудник</td>\n",
       "      <td>0</td>\n",
       "      <td>135823.934197</td>\n",
       "      <td>образование</td>\n",
       "    </tr>\n",
       "    <tr>\n",
       "      <th>8</th>\n",
       "      <td>2</td>\n",
       "      <td>-6929.865299</td>\n",
       "      <td>35</td>\n",
       "      <td>ВЫСШЕЕ</td>\n",
       "      <td>0</td>\n",
       "      <td>гражданский брак</td>\n",
       "      <td>1</td>\n",
       "      <td>F</td>\n",
       "      <td>сотрудник</td>\n",
       "      <td>0</td>\n",
       "      <td>95856.832424</td>\n",
       "      <td>на проведение свадьбы</td>\n",
       "    </tr>\n",
       "    <tr>\n",
       "      <th>9</th>\n",
       "      <td>0</td>\n",
       "      <td>-2188.756445</td>\n",
       "      <td>41</td>\n",
       "      <td>среднее</td>\n",
       "      <td>1</td>\n",
       "      <td>женат / замужем</td>\n",
       "      <td>0</td>\n",
       "      <td>M</td>\n",
       "      <td>сотрудник</td>\n",
       "      <td>0</td>\n",
       "      <td>144425.938277</td>\n",
       "      <td>покупка жилья для семьи</td>\n",
       "    </tr>\n",
       "    <tr>\n",
       "      <th>10</th>\n",
       "      <td>2</td>\n",
       "      <td>-4171.483647</td>\n",
       "      <td>36</td>\n",
       "      <td>высшее</td>\n",
       "      <td>0</td>\n",
       "      <td>женат / замужем</td>\n",
       "      <td>0</td>\n",
       "      <td>M</td>\n",
       "      <td>компаньон</td>\n",
       "      <td>0</td>\n",
       "      <td>113943.491460</td>\n",
       "      <td>покупка недвижимости</td>\n",
       "    </tr>\n",
       "    <tr>\n",
       "      <th>11</th>\n",
       "      <td>0</td>\n",
       "      <td>-792.701887</td>\n",
       "      <td>40</td>\n",
       "      <td>среднее</td>\n",
       "      <td>1</td>\n",
       "      <td>женат / замужем</td>\n",
       "      <td>0</td>\n",
       "      <td>F</td>\n",
       "      <td>сотрудник</td>\n",
       "      <td>0</td>\n",
       "      <td>77069.234271</td>\n",
       "      <td>покупка коммерческой недвижимости</td>\n",
       "    </tr>\n",
       "    <tr>\n",
       "      <th>12</th>\n",
       "      <td>0</td>\n",
       "      <td>NaN</td>\n",
       "      <td>65</td>\n",
       "      <td>среднее</td>\n",
       "      <td>1</td>\n",
       "      <td>гражданский брак</td>\n",
       "      <td>1</td>\n",
       "      <td>M</td>\n",
       "      <td>пенсионер</td>\n",
       "      <td>0</td>\n",
       "      <td>NaN</td>\n",
       "      <td>сыграть свадьбу</td>\n",
       "    </tr>\n",
       "    <tr>\n",
       "      <th>13</th>\n",
       "      <td>0</td>\n",
       "      <td>-1846.641941</td>\n",
       "      <td>54</td>\n",
       "      <td>неоконченное высшее</td>\n",
       "      <td>2</td>\n",
       "      <td>женат / замужем</td>\n",
       "      <td>0</td>\n",
       "      <td>F</td>\n",
       "      <td>сотрудник</td>\n",
       "      <td>0</td>\n",
       "      <td>130458.228857</td>\n",
       "      <td>приобретение автомобиля</td>\n",
       "    </tr>\n",
       "    <tr>\n",
       "      <th>14</th>\n",
       "      <td>0</td>\n",
       "      <td>-1844.956182</td>\n",
       "      <td>56</td>\n",
       "      <td>высшее</td>\n",
       "      <td>0</td>\n",
       "      <td>гражданский брак</td>\n",
       "      <td>1</td>\n",
       "      <td>F</td>\n",
       "      <td>компаньон</td>\n",
       "      <td>1</td>\n",
       "      <td>165127.911772</td>\n",
       "      <td>покупка жилой недвижимости</td>\n",
       "    </tr>\n",
       "    <tr>\n",
       "      <th>15</th>\n",
       "      <td>1</td>\n",
       "      <td>-972.364419</td>\n",
       "      <td>26</td>\n",
       "      <td>среднее</td>\n",
       "      <td>1</td>\n",
       "      <td>женат / замужем</td>\n",
       "      <td>0</td>\n",
       "      <td>F</td>\n",
       "      <td>сотрудник</td>\n",
       "      <td>0</td>\n",
       "      <td>116820.904450</td>\n",
       "      <td>строительство собственной недвижимости</td>\n",
       "    </tr>\n",
       "    <tr>\n",
       "      <th>16</th>\n",
       "      <td>0</td>\n",
       "      <td>-1719.934226</td>\n",
       "      <td>35</td>\n",
       "      <td>среднее</td>\n",
       "      <td>1</td>\n",
       "      <td>женат / замужем</td>\n",
       "      <td>0</td>\n",
       "      <td>F</td>\n",
       "      <td>сотрудник</td>\n",
       "      <td>0</td>\n",
       "      <td>289202.704229</td>\n",
       "      <td>недвижимость</td>\n",
       "    </tr>\n",
       "    <tr>\n",
       "      <th>17</th>\n",
       "      <td>0</td>\n",
       "      <td>-2369.999720</td>\n",
       "      <td>33</td>\n",
       "      <td>высшее</td>\n",
       "      <td>0</td>\n",
       "      <td>гражданский брак</td>\n",
       "      <td>1</td>\n",
       "      <td>M</td>\n",
       "      <td>сотрудник</td>\n",
       "      <td>0</td>\n",
       "      <td>90410.586745</td>\n",
       "      <td>строительство недвижимости</td>\n",
       "    </tr>\n",
       "    <tr>\n",
       "      <th>18</th>\n",
       "      <td>0</td>\n",
       "      <td>400281.136913</td>\n",
       "      <td>53</td>\n",
       "      <td>среднее</td>\n",
       "      <td>1</td>\n",
       "      <td>вдовец / вдова</td>\n",
       "      <td>2</td>\n",
       "      <td>F</td>\n",
       "      <td>пенсионер</td>\n",
       "      <td>0</td>\n",
       "      <td>56823.777243</td>\n",
       "      <td>на покупку подержанного автомобиля</td>\n",
       "    </tr>\n",
       "    <tr>\n",
       "      <th>19</th>\n",
       "      <td>0</td>\n",
       "      <td>-10038.818549</td>\n",
       "      <td>48</td>\n",
       "      <td>СРЕДНЕЕ</td>\n",
       "      <td>1</td>\n",
       "      <td>в разводе</td>\n",
       "      <td>3</td>\n",
       "      <td>F</td>\n",
       "      <td>сотрудник</td>\n",
       "      <td>0</td>\n",
       "      <td>242831.107982</td>\n",
       "      <td>на покупку своего автомобиля</td>\n",
       "    </tr>\n",
       "  </tbody>\n",
       "</table>\n",
       "</div>"
      ],
      "text/plain": [
       "    children  days_employed  dob_years            education  education_id  \\\n",
       "0          1   -8437.673028         42               высшее             0   \n",
       "1          1   -4024.803754         36              среднее             1   \n",
       "2          0   -5623.422610         33              Среднее             1   \n",
       "3          3   -4124.747207         32              среднее             1   \n",
       "4          0  340266.072047         53              среднее             1   \n",
       "5          0    -926.185831         27               высшее             0   \n",
       "6          0   -2879.202052         43               высшее             0   \n",
       "7          0    -152.779569         50              СРЕДНЕЕ             1   \n",
       "8          2   -6929.865299         35               ВЫСШЕЕ             0   \n",
       "9          0   -2188.756445         41              среднее             1   \n",
       "10         2   -4171.483647         36               высшее             0   \n",
       "11         0    -792.701887         40              среднее             1   \n",
       "12         0            NaN         65              среднее             1   \n",
       "13         0   -1846.641941         54  неоконченное высшее             2   \n",
       "14         0   -1844.956182         56               высшее             0   \n",
       "15         1    -972.364419         26              среднее             1   \n",
       "16         0   -1719.934226         35              среднее             1   \n",
       "17         0   -2369.999720         33               высшее             0   \n",
       "18         0  400281.136913         53              среднее             1   \n",
       "19         0  -10038.818549         48              СРЕДНЕЕ             1   \n",
       "\n",
       "       family_status  family_status_id gender income_type  debt  \\\n",
       "0    женат / замужем                 0      F   сотрудник     0   \n",
       "1    женат / замужем                 0      F   сотрудник     0   \n",
       "2    женат / замужем                 0      M   сотрудник     0   \n",
       "3    женат / замужем                 0      M   сотрудник     0   \n",
       "4   гражданский брак                 1      F   пенсионер     0   \n",
       "5   гражданский брак                 1      M   компаньон     0   \n",
       "6    женат / замужем                 0      F   компаньон     0   \n",
       "7    женат / замужем                 0      M   сотрудник     0   \n",
       "8   гражданский брак                 1      F   сотрудник     0   \n",
       "9    женат / замужем                 0      M   сотрудник     0   \n",
       "10   женат / замужем                 0      M   компаньон     0   \n",
       "11   женат / замужем                 0      F   сотрудник     0   \n",
       "12  гражданский брак                 1      M   пенсионер     0   \n",
       "13   женат / замужем                 0      F   сотрудник     0   \n",
       "14  гражданский брак                 1      F   компаньон     1   \n",
       "15   женат / замужем                 0      F   сотрудник     0   \n",
       "16   женат / замужем                 0      F   сотрудник     0   \n",
       "17  гражданский брак                 1      M   сотрудник     0   \n",
       "18    вдовец / вдова                 2      F   пенсионер     0   \n",
       "19         в разводе                 3      F   сотрудник     0   \n",
       "\n",
       "     total_income                                 purpose  \n",
       "0   253875.639453                           покупка жилья  \n",
       "1   112080.014102                 приобретение автомобиля  \n",
       "2   145885.952297                           покупка жилья  \n",
       "3   267628.550329              дополнительное образование  \n",
       "4   158616.077870                         сыграть свадьбу  \n",
       "5   255763.565419                           покупка жилья  \n",
       "6   240525.971920                       операции с жильем  \n",
       "7   135823.934197                             образование  \n",
       "8    95856.832424                   на проведение свадьбы  \n",
       "9   144425.938277                 покупка жилья для семьи  \n",
       "10  113943.491460                    покупка недвижимости  \n",
       "11   77069.234271       покупка коммерческой недвижимости  \n",
       "12            NaN                         сыграть свадьбу  \n",
       "13  130458.228857                 приобретение автомобиля  \n",
       "14  165127.911772              покупка жилой недвижимости  \n",
       "15  116820.904450  строительство собственной недвижимости  \n",
       "16  289202.704229                            недвижимость  \n",
       "17   90410.586745              строительство недвижимости  \n",
       "18   56823.777243      на покупку подержанного автомобиля  \n",
       "19  242831.107982            на покупку своего автомобиля  "
      ]
     },
     "execution_count": 2,
     "metadata": {},
     "output_type": "execute_result"
    }
   ],
   "source": [
    "# выведим первые 20 строк датафрейма на экран\n",
    "data.head(20)"
   ]
  },
  {
   "cell_type": "code",
   "execution_count": 3,
   "id": "ab3f863b",
   "metadata": {
    "deletable": false,
    "id": "ab3f863b",
    "outputId": "15376089-8dad-46c9-b520-c05248d43158"
   },
   "outputs": [
    {
     "name": "stdout",
     "output_type": "stream",
     "text": [
      "<class 'pandas.core.frame.DataFrame'>\n",
      "RangeIndex: 21525 entries, 0 to 21524\n",
      "Data columns (total 12 columns):\n",
      " #   Column            Non-Null Count  Dtype  \n",
      "---  ------            --------------  -----  \n",
      " 0   children          21525 non-null  int64  \n",
      " 1   days_employed     19351 non-null  float64\n",
      " 2   dob_years         21525 non-null  int64  \n",
      " 3   education         21525 non-null  object \n",
      " 4   education_id      21525 non-null  int64  \n",
      " 5   family_status     21525 non-null  object \n",
      " 6   family_status_id  21525 non-null  int64  \n",
      " 7   gender            21525 non-null  object \n",
      " 8   income_type       21525 non-null  object \n",
      " 9   debt              21525 non-null  int64  \n",
      " 10  total_income      19351 non-null  float64\n",
      " 11  purpose           21525 non-null  object \n",
      "dtypes: float64(2), int64(5), object(5)\n",
      "memory usage: 2.0+ MB\n"
     ]
    }
   ],
   "source": [
    "# выведим основную информацию о датафрейме\n",
    "data.info()"
   ]
  },
  {
   "cell_type": "markdown",
   "id": "60e3e22d",
   "metadata": {
    "deletable": false,
    "editable": false,
    "id": "60e3e22d"
   },
   "source": [
    "## Предобработка данных"
   ]
  },
  {
   "cell_type": "markdown",
   "id": "03dc170c",
   "metadata": {
    "deletable": false,
    "editable": false,
    "id": "03dc170c"
   },
   "source": [
    "### Удаление пропусков"
   ]
  },
  {
   "cell_type": "code",
   "execution_count": 4,
   "id": "2dc372b2",
   "metadata": {
    "deletable": false,
    "id": "2dc372b2",
    "outputId": "81f4d817-781c-465c-ed15-91ce4446810d"
   },
   "outputs": [
    {
     "data": {
      "text/plain": [
       "children               0\n",
       "days_employed       2174\n",
       "dob_years              0\n",
       "education              0\n",
       "education_id           0\n",
       "family_status          0\n",
       "family_status_id       0\n",
       "gender                 0\n",
       "income_type            0\n",
       "debt                   0\n",
       "total_income        2174\n",
       "purpose                0\n",
       "dtype: int64"
      ]
     },
     "execution_count": 4,
     "metadata": {},
     "output_type": "execute_result"
    }
   ],
   "source": [
    "# выведим количество пропущенных значений для каждого столбца\n",
    "data.isna().sum()"
   ]
  },
  {
   "cell_type": "markdown",
   "id": "d5879c9f-c235-4c2a-b845-7212bb6b7974",
   "metadata": {},
   "source": [
    "### Обработка пропусков в столбце `total_income`"
   ]
  },
  {
   "cell_type": "code",
   "execution_count": 5,
   "id": "bdabfb6e",
   "metadata": {
    "deletable": false,
    "id": "bdabfb6e"
   },
   "outputs": [],
   "source": [
    "# заполним пропуски в столбце `total_income` медианным значением по каждому типу из столбца `income_type`\n",
    "for t in data['income_type'].unique():\n",
    "    data.loc[(data['income_type'] == t) & (data['total_income'].isna()), 'total_income'] = \\\n",
    "    data.loc[(data['income_type'] == t), 'total_income'].median()"
   ]
  },
  {
   "cell_type": "markdown",
   "id": "5be34059",
   "metadata": {
    "deletable": true,
    "id": "5be34059"
   },
   "source": [
    "#### Обработка аномальных значений"
   ]
  },
  {
   "cell_type": "code",
   "execution_count": 6,
   "id": "020c46cc",
   "metadata": {
    "deletable": false,
    "id": "020c46cc"
   },
   "outputs": [],
   "source": [
    "# заменим отрицательное количество дней трудового стажа в столбце `days_employed`\n",
    "data['days_employed'] = data['days_employed'].abs()"
   ]
  },
  {
   "cell_type": "code",
   "execution_count": 7,
   "id": "cd3e6328",
   "metadata": {
    "deletable": false,
    "id": "cd3e6328",
    "outputId": "801ef80e-522b-4668-f34e-565af7432bcf"
   },
   "outputs": [
    {
     "data": {
      "text/plain": [
       "income_type\n",
       "безработный        366413.652744\n",
       "в декрете            3296.759962\n",
       "госслужащий          2689.368353\n",
       "компаньон            1547.382223\n",
       "пенсионер          365213.306266\n",
       "предприниматель       520.848083\n",
       "сотрудник            1574.202821\n",
       "студент               578.751554\n",
       "Name: days_employed, dtype: float64"
      ]
     },
     "execution_count": 7,
     "metadata": {},
     "output_type": "execute_result"
    }
   ],
   "source": [
    "# посмотрим на медианное значение трудового стажа `days_employed` в днях\n",
    "data.groupby('income_type')['days_employed'].agg('median')"
   ]
  },
  {
   "cell_type": "markdown",
   "id": "90c5f058",
   "metadata": {
    "deletable": true,
    "id": "90c5f058"
   },
   "source": [
    "У двух типов (безработные и пенсионеры) получатся аномально большие значения. Исправить такие значения сложно, поэтому оставим их как есть, т. к. эти данные нам не пригодятся для решения нашей задачи."
   ]
  },
  {
   "cell_type": "code",
   "execution_count": 8,
   "id": "dbb37b8e",
   "metadata": {
    "deletable": false,
    "id": "dbb37b8e",
    "outputId": "6975b15c-7f95-4697-d16d-a0c79b657b03"
   },
   "outputs": [
    {
     "data": {
      "text/plain": [
       "array([ 1,  0,  3,  2, -1,  4, 20,  5], dtype=int64)"
      ]
     },
     "execution_count": 8,
     "metadata": {},
     "output_type": "execute_result"
    }
   ],
   "source": [
    "# выведим перечень уникальных значений столбца `children`\n",
    "data['children'].unique()"
   ]
  },
  {
   "cell_type": "code",
   "execution_count": 9,
   "id": "20009df8",
   "metadata": {
    "deletable": false,
    "id": "20009df8"
   },
   "outputs": [],
   "source": [
    "# удалим строки, в которых встречаются отрицательные значения в столбце `children`\n",
    "data = data[(data['children'] != -1) & (data['children'] != 20)]"
   ]
  },
  {
   "cell_type": "code",
   "execution_count": 10,
   "id": "07337b81",
   "metadata": {
    "deletable": false,
    "id": "07337b81",
    "outputId": "b2097101-d49d-44d9-901b-32a65c9463d1"
   },
   "outputs": [
    {
     "data": {
      "text/plain": [
       "array([1, 0, 3, 2, 4, 5], dtype=int64)"
      ]
     },
     "execution_count": 10,
     "metadata": {},
     "output_type": "execute_result"
    }
   ],
   "source": [
    "# проверим результат \n",
    "data['children'].unique()"
   ]
  },
  {
   "cell_type": "markdown",
   "id": "c92075ff-5fa6-40ae-8691-d1ec1dc7c821",
   "metadata": {},
   "source": [
    "### Обработка пропусков в столбце `days_employed`"
   ]
  },
  {
   "cell_type": "code",
   "execution_count": 11,
   "id": "61946b83",
   "metadata": {
    "deletable": false,
    "id": "61946b83"
   },
   "outputs": [],
   "source": [
    "# заполним пропуски в столбце `days_employed` медианным значением по `income_type`\n",
    "for t in data['income_type'].unique():\n",
    "    data.loc[(data['income_type'] == t) & (data['days_employed'].isna()), 'days_employed'] = \\\n",
    "    data.loc[(data['income_type'] == t), 'days_employed'].median()"
   ]
  },
  {
   "cell_type": "code",
   "execution_count": 12,
   "id": "937c7014",
   "metadata": {
    "deletable": false,
    "id": "937c7014",
    "outputId": "8da1e4e1-358e-4e87-98c9-f261bce0a7b2"
   },
   "outputs": [
    {
     "data": {
      "text/plain": [
       "children            0\n",
       "days_employed       0\n",
       "dob_years           0\n",
       "education           0\n",
       "education_id        0\n",
       "family_status       0\n",
       "family_status_id    0\n",
       "gender              0\n",
       "income_type         0\n",
       "debt                0\n",
       "total_income        0\n",
       "purpose             0\n",
       "dtype: int64"
      ]
     },
     "execution_count": 12,
     "metadata": {},
     "output_type": "execute_result"
    }
   ],
   "source": [
    "# проверим результат удаления пропусков\n",
    "data.isna().sum()"
   ]
  },
  {
   "cell_type": "markdown",
   "id": "d522e295",
   "metadata": {
    "deletable": false,
    "editable": false,
    "id": "d522e295"
   },
   "source": [
    "### Изменение типов данных"
   ]
  },
  {
   "cell_type": "code",
   "execution_count": 13,
   "id": "31036462",
   "metadata": {
    "deletable": false,
    "id": "31036462"
   },
   "outputs": [],
   "source": [
    "# заменим вещественный тип данных в столбце `total_income` на целочисленный\n",
    "data['total_income'] = data['total_income'].astype(int)"
   ]
  },
  {
   "cell_type": "markdown",
   "id": "b8e3d1d9",
   "metadata": {
    "deletable": false,
    "editable": false,
    "id": "b8e3d1d9"
   },
   "source": [
    "### Обработка дубликатов"
   ]
  },
  {
   "cell_type": "code",
   "execution_count": 14,
   "id": "862e741d-7a90-4a16-a630-54cfc59293d6",
   "metadata": {},
   "outputs": [
    {
     "data": {
      "text/plain": [
       "71"
      ]
     },
     "execution_count": 14,
     "metadata": {},
     "output_type": "execute_result"
    }
   ],
   "source": [
    "# обработаем неявные дубликаты в столбцах `education` и `family_status`\n",
    "# приведём их к нижнему регистру\n",
    "\n",
    "data['education'] = data['education'].str.lower()\n",
    "data['family_status'] = data['family_status'].str.lower()\n",
    "\n",
    "# и посмотрим на количество строк-дубликатов в данных\n",
    "data.duplicated().sum()"
   ]
  },
  {
   "cell_type": "code",
   "execution_count": 15,
   "id": "df853f20",
   "metadata": {
    "deletable": false,
    "id": "df853f20"
   },
   "outputs": [],
   "source": [
    "# удалим их\n",
    "data = data.drop_duplicates()"
   ]
  },
  {
   "cell_type": "markdown",
   "id": "627be38f",
   "metadata": {
    "deletable": false,
    "editable": false,
    "id": "627be38f"
   },
   "source": [
    "### Категоризация данных"
   ]
  },
  {
   "cell_type": "code",
   "execution_count": 16,
   "id": "78965238",
   "metadata": {
    "deletable": false,
    "id": "78965238"
   },
   "outputs": [],
   "source": [
    "# создадим функцию для разбития уровня дотсатка по категориям\n",
    "def categorize_income(income):\n",
    "    try:\n",
    "        if 0 <= income <= 30000:\n",
    "            return 'E'\n",
    "        elif 30001 <= income <= 50000:\n",
    "            return 'D'\n",
    "        elif 50001 <= income <= 200000:\n",
    "            return 'C'\n",
    "        elif 200001 <= income <= 1000000:\n",
    "            return 'B'\n",
    "        elif income >= 1000001:\n",
    "            return 'A'\n",
    "    except:\n",
    "        pass\n",
    "\n",
    "# применим функцию к датафрейму для удобства дальнейшего анализа\n",
    "data['total_income_category'] = data['total_income'].apply(categorize_income)"
   ]
  },
  {
   "cell_type": "code",
   "execution_count": 17,
   "id": "ee07b65e",
   "metadata": {
    "deletable": false,
    "id": "ee07b65e",
    "outputId": "673c12d9-7d7e-4ae0-9812-c622c89dd244"
   },
   "outputs": [
    {
     "data": {
      "text/plain": [
       "array(['покупка жилья', 'приобретение автомобиля',\n",
       "       'дополнительное образование', 'сыграть свадьбу',\n",
       "       'операции с жильем', 'образование', 'на проведение свадьбы',\n",
       "       'покупка жилья для семьи', 'покупка недвижимости',\n",
       "       'покупка коммерческой недвижимости', 'покупка жилой недвижимости',\n",
       "       'строительство собственной недвижимости', 'недвижимость',\n",
       "       'строительство недвижимости', 'на покупку подержанного автомобиля',\n",
       "       'на покупку своего автомобиля',\n",
       "       'операции с коммерческой недвижимостью',\n",
       "       'строительство жилой недвижимости', 'жилье',\n",
       "       'операции со своей недвижимостью', 'автомобили',\n",
       "       'заняться образованием', 'сделка с подержанным автомобилем',\n",
       "       'получение образования', 'автомобиль', 'свадьба',\n",
       "       'получение дополнительного образования', 'покупка своего жилья',\n",
       "       'операции с недвижимостью', 'получение высшего образования',\n",
       "       'свой автомобиль', 'сделка с автомобилем',\n",
       "       'профильное образование', 'высшее образование',\n",
       "       'покупка жилья для сдачи', 'на покупку автомобиля', 'ремонт жилью',\n",
       "       'заняться высшим образованием'], dtype=object)"
      ]
     },
     "execution_count": 17,
     "metadata": {},
     "output_type": "execute_result"
    }
   ],
   "source": [
    "# посмотрим на уникальные цели взятия кредита\n",
    "data['purpose'].unique()"
   ]
  },
  {
   "cell_type": "code",
   "execution_count": 18,
   "id": "be41da5d",
   "metadata": {
    "deletable": false,
    "id": "be41da5d"
   },
   "outputs": [],
   "source": [
    "# создадим функцию для разнесения цели кредита по категориям\n",
    "def categorize_purpose(row):\n",
    "    try:\n",
    "        if 'автом' in row:\n",
    "            return 'операции с автомобилем'\n",
    "        elif 'жил' in row or 'недвиж' in row:\n",
    "            return 'операции с недвижимостью'\n",
    "        elif 'свад' in row:\n",
    "            return 'проведение свадьбы'\n",
    "        elif 'образов' in row:\n",
    "            return 'получение образования'\n",
    "    except:\n",
    "        return 'нет категории'\n",
    "\n",
    "# и применим её\n",
    "data['purpose_category'] = data['purpose'].apply(categorize_purpose)"
   ]
  },
  {
   "cell_type": "markdown",
   "id": "3d596c34",
   "metadata": {
    "deletable": true,
    "id": "3d596c34"
   },
   "source": [
    "## Исследуем данные "
   ]
  },
  {
   "cell_type": "markdown",
   "id": "648db036",
   "metadata": {
    "deletable": true,
    "id": "648db036"
   },
   "source": [
    "### Рассмотрим зависимость между количеством детей и возвратом кредита "
   ]
  },
  {
   "cell_type": "code",
   "execution_count": 19,
   "id": "7fcff25e",
   "metadata": {
    "deletable": false,
    "id": "7fcff25e"
   },
   "outputs": [
    {
     "data": {
      "text/plain": [
       "0    19599\n",
       "1     1732\n",
       "Name: debt, dtype: int64"
      ]
     },
     "execution_count": 19,
     "metadata": {},
     "output_type": "execute_result"
    }
   ],
   "source": [
    "# посчитаем число клиентов с просрочками по кредитам и без\n",
    "data['debt'].value_counts()"
   ]
  },
  {
   "cell_type": "code",
   "execution_count": 20,
   "id": "f0713de2",
   "metadata": {},
   "outputs": [
    {
     "data": {
      "text/plain": [
       "8.119638085415593"
      ]
     },
     "execution_count": 20,
     "metadata": {},
     "output_type": "execute_result"
    }
   ],
   "source": [
    "# узнаем, какой процент должники составляют от числа всех заемщиков\n",
    "(data[data['debt'] == 1]['debt'].count() / data['debt'].count()) * 100"
   ]
  },
  {
   "cell_type": "code",
   "execution_count": 21,
   "id": "1dac5abc",
   "metadata": {},
   "outputs": [
    {
     "data": {
      "image/png": "[encoded data removed]",
      "text/plain": [
       "<Figure size 1500x600 with 1 Axes>"
      ]
     },
     "metadata": {},
     "output_type": "display_data"
    }
   ],
   "source": [
    "# посмотрим на общее распределение клиентов по кол-ву детей\n",
    "plt.figure(figsize=(15, 6))\n",
    "data['children'].value_counts().sort_values(ascending=True).plot.barh()\n",
    "\n",
    "plt.grid(axis='x', alpha=0.3)\n",
    "plt.xlabel('Число клиентов', labelpad=10, fontsize=20)\n",
    "plt.ylabel('Число детей у клиентов', labelpad=10, fontsize=20)\n",
    "plt.xticks(fontsize=15)\n",
    "plt.yticks(fontsize=15)\n",
    "plt.title('Число клиентов по количеству детей', pad=20, fontsize=25);"
   ]
  },
  {
   "cell_type": "code",
   "execution_count": 22,
   "id": "eff34279",
   "metadata": {},
   "outputs": [
    {
     "data": {
      "image/png": "[encoded data removed]",
      "text/plain": [
       "<Figure size 1500x600 with 1 Axes>"
      ]
     },
     "metadata": {},
     "output_type": "display_data"
    }
   ],
   "source": [
    "# создадим отдельную таблицу по клиентам с детьми, которые не имеют долгов по кредиту\n",
    "children_debt_0 = data[['children', 'debt']]\n",
    "children_debt_0 = children_debt_0[children_debt_0['debt'] == 0]\n",
    "children_debt_0_gb = children_debt_0.groupby('children')['debt'].count().sort_values(ascending=True)\n",
    "\n",
    "# построим график и взглянем на распределение числа плательщиков без долгов в зависимости от кол-ва детей\n",
    "plt.figure(figsize=(15, 6))\n",
    "children_debt_0_gb.plot.barh(x='debt', y='children')\n",
    "\n",
    "plt.grid(axis='x', alpha=0.3)\n",
    "plt.xlabel('Число добросовестных заемщиков', labelpad=10, fontsize=20)\n",
    "plt.ylabel('Число детей у заемщиков', labelpad=10, fontsize=20)\n",
    "plt.xticks(fontsize=15)\n",
    "plt.yticks(fontsize=15)\n",
    "plt.title('Число добросовестных заемщиков по количеству детей', pad=20, fontsize=25);"
   ]
  },
  {
   "cell_type": "code",
   "execution_count": 23,
   "id": "f0bce7bc",
   "metadata": {},
   "outputs": [
    {
     "data": {
      "image/png": "[encoded data removed]",
      "text/plain": [
       "<Figure size 2000x700 with 1 Axes>"
      ]
     },
     "metadata": {},
     "output_type": "display_data"
    }
   ],
   "source": [
    "# создадим отдельную таблицу по клиентам с детьми, которые не имеют долгов по кредиту\n",
    "children_debt_1 = data[['children', 'debt']]\n",
    "children_debt_1 = children_debt_1[children_debt_1['debt'] == 1]\n",
    "children_debt_1_gb = children_debt_1.groupby('children')['debt'].count().sort_values(ascending=True)\n",
    "\n",
    "# построим график и взглянем на распределение числа плательщиков без долгов в зависимости от кол-ва детей\n",
    "plt.figure(figsize=(20, 7))\n",
    "children_debt_1_gb.plot.barh(x='debt', y='children')\n",
    "\n",
    "plt.grid(axis='x', alpha=0.3)\n",
    "plt.xlabel('Число должников заемщиков', labelpad=10, fontsize=20)\n",
    "plt.ylabel('Число детей у заемщиков', labelpad=10, fontsize=20)\n",
    "plt.xticks(fontsize=15)\n",
    "plt.yticks(fontsize=15)\n",
    "plt.title('Число должников по количеству детей', pad=20, fontsize=25);"
   ]
  },
  {
   "cell_type": "code",
   "execution_count": 24,
   "id": "f66897e2-ebac-489a-a743-8b4cbedd628b",
   "metadata": {},
   "outputs": [
    {
     "data": {
      "image/png": "[encoded data removed]",
      "text/plain": [
       "<Figure size 2000x700 with 1 Axes>"
      ]
     },
     "metadata": {},
     "output_type": "display_data"
    }
   ],
   "source": [
    "# создаем сводную таблицу и считаем кол-во просрочек по числу детей\n",
    "data_children_gb = data.groupby('children')['debt'].mean().reset_index()\n",
    "data_children_gb['debt'] *= 100\n",
    "data_children_gb = data_children_gb.sort_values(by='debt', ascending=True)\n",
    "\n",
    "# построим график распределения просрочек по числу детей в прцоентах \n",
    "data_children_gb.plot.barh(x='children', y='debt', figsize=(20, 7), legend=False)\n",
    "\n",
    "plt.grid(axis='x', alpha=0.3)\n",
    "plt.xlabel('Процент должников (%)', labelpad=10, fontsize=20)\n",
    "plt.ylabel('Число детей у заемщиков', labelpad=10, fontsize=20)\n",
    "plt.xticks(fontsize=15)\n",
    "plt.yticks(fontsize=15)\n",
    "plt.title('Процент заемщиков с просрочкой по количеству детей', pad=20, fontsize=25);"
   ]
  },
  {
   "cell_type": "code",
   "execution_count": 25,
   "id": "6f1c93f8",
   "metadata": {},
   "outputs": [
    {
     "data": {
      "text/html": [
       "<div>\n",
       "<style scoped>\n",
       "    .dataframe tbody tr th:only-of-type {\n",
       "        vertical-align: middle;\n",
       "    }\n",
       "\n",
       "    .dataframe tbody tr th {\n",
       "        vertical-align: top;\n",
       "    }\n",
       "\n",
       "    .dataframe thead th {\n",
       "        text-align: right;\n",
       "    }\n",
       "</style>\n",
       "<table border=\"1\" class=\"dataframe\">\n",
       "  <thead>\n",
       "    <tr style=\"text-align: right;\">\n",
       "      <th></th>\n",
       "      <th>children</th>\n",
       "      <th>sum</th>\n",
       "      <th>count</th>\n",
       "      <th>mean</th>\n",
       "    </tr>\n",
       "  </thead>\n",
       "  <tbody>\n",
       "    <tr>\n",
       "      <th>0</th>\n",
       "      <td>0</td>\n",
       "      <td>1063</td>\n",
       "      <td>14091</td>\n",
       "      <td>7.543822</td>\n",
       "    </tr>\n",
       "    <tr>\n",
       "      <th>1</th>\n",
       "      <td>1</td>\n",
       "      <td>444</td>\n",
       "      <td>4808</td>\n",
       "      <td>9.234609</td>\n",
       "    </tr>\n",
       "    <tr>\n",
       "      <th>2</th>\n",
       "      <td>2</td>\n",
       "      <td>194</td>\n",
       "      <td>2052</td>\n",
       "      <td>9.454191</td>\n",
       "    </tr>\n",
       "    <tr>\n",
       "      <th>3</th>\n",
       "      <td>3</td>\n",
       "      <td>27</td>\n",
       "      <td>330</td>\n",
       "      <td>8.181818</td>\n",
       "    </tr>\n",
       "    <tr>\n",
       "      <th>4</th>\n",
       "      <td>4</td>\n",
       "      <td>4</td>\n",
       "      <td>41</td>\n",
       "      <td>9.756098</td>\n",
       "    </tr>\n",
       "    <tr>\n",
       "      <th>5</th>\n",
       "      <td>5</td>\n",
       "      <td>0</td>\n",
       "      <td>9</td>\n",
       "      <td>0.000000</td>\n",
       "    </tr>\n",
       "  </tbody>\n",
       "</table>\n",
       "</div>"
      ],
      "text/plain": [
       "   children   sum  count      mean\n",
       "0         0  1063  14091  7.543822\n",
       "1         1   444   4808  9.234609\n",
       "2         2   194   2052  9.454191\n",
       "3         3    27    330  8.181818\n",
       "4         4     4     41  9.756098\n",
       "5         5     0      9  0.000000"
      ]
     },
     "execution_count": 25,
     "metadata": {},
     "output_type": "execute_result"
    }
   ],
   "source": [
    "# создаем сводную таблицу и считаем кол-во просрочек по числу детей\n",
    "data_children_pivot = data.pivot_table(index='children', values='debt', aggfunc=['sum', 'count', 'mean'])\n",
    "data_children_pivot['mean'] *= 100\n",
    "data_children_pivot.reset_index().droplevel(1, axis=1)"
   ]
  },
  {
   "cell_type": "markdown",
   "id": "2eb9088e",
   "metadata": {
    "deletable": false,
    "id": "2eb9088e"
   },
   "source": [
    "**Вывод:** \n",
    "\n",
    "Процент должников составляет 8.11% от общего числа заемщиков. При анализе зависимости уровня задолженности от количества детей выявлены следующие тенденции:\n",
    "\n",
    "    Среди клиентов без детей процент должников составляет 7.54%.\n",
    "    Клиенты с 3 детьми имеют процент должников на уровне 8.18%.\n",
    "    Процент должников среди клиентов с 1 ребенком составляет 9.23%.\n",
    "    Для клиентов с 2 детьми этот показатель равен 9.45%.\n",
    "    Наибольший процент должников наблюдается среди клиентов с 4 детьми и составляет 9.75%.\n",
    "    Для клиентов с 5 детьми данных недостаточно для определения процента должников.\n",
    "\n",
    "Таким образом, можно заметить, что наличие детей коррелирует с более высоким процентом должников, причем чем больше детей у клиента, тем выше вероятность задолженности по кредиту."
   ]
  },
  {
   "cell_type": "markdown",
   "id": "74c9b3a7",
   "metadata": {
    "deletable": true,
    "id": "74c9b3a7"
   },
   "source": [
    "### Рассмотрим зависимость между семейным положением и возвратом кредита в срок"
   ]
  },
  {
   "cell_type": "code",
   "execution_count": 26,
   "id": "8098ab3b",
   "metadata": {
    "deletable": false,
    "id": "8098ab3b"
   },
   "outputs": [
    {
     "data": {
      "text/plain": [
       "женат / замужем          12261\n",
       "гражданский брак          4134\n",
       "не женат / не замужем     2796\n",
       "в разводе                 1189\n",
       "вдовец / вдова             951\n",
       "Name: family_status, dtype: int64"
      ]
     },
     "execution_count": 26,
     "metadata": {},
     "output_type": "execute_result"
    }
   ],
   "source": [
    "# посмотрим на общее распределение клиентов по семейному положению\n",
    "data['family_status'].value_counts()"
   ]
  },
  {
   "cell_type": "code",
   "execution_count": 27,
   "id": "db019397",
   "metadata": {},
   "outputs": [
    {
     "data": {
      "image/png": "[encoded data removed]",
      "text/plain": [
       "<Figure size 1500x600 with 1 Axes>"
      ]
     },
     "metadata": {},
     "output_type": "display_data"
    }
   ],
   "source": [
    "# создадим отдельную таблицу по клиентам разного семейного положения, которые не имеют долгов по кредиту\n",
    "family_debt_0 = data[['family_status', 'debt']]\n",
    "family_debt_0 = family_debt_0[family_debt_0['debt'] == 0]\n",
    "family_debt_0_gb = family_debt_0.groupby('family_status')['debt'].count().sort_values(ascending=True)\n",
    "\n",
    "# построим график и взглянем на распределение числа плательщиков без долгов в зависимости от семейного положения\n",
    "plt.figure(figsize=(15, 6))\n",
    "family_debt_0_gb.plot.barh(x='debt', y='family_status')\n",
    "\n",
    "plt.grid(axis='x', alpha=0.3)\n",
    "plt.xlabel('Добросовестные заемщики', labelpad=10, fontsize=20)\n",
    "plt.ylabel('Семейное положение', labelpad=10, fontsize=20)\n",
    "plt.xticks(fontsize=15)\n",
    "plt.yticks(fontsize=15)\n",
    "plt.title('Число плательщиков без долгов в зависимости от семейного положения', pad=20, fontsize=25);"
   ]
  },
  {
   "cell_type": "code",
   "execution_count": 28,
   "id": "7f2e4756",
   "metadata": {},
   "outputs": [
    {
     "data": {
      "image/png": "[encoded data removed]",
      "text/plain": [
       "<Figure size 1500x600 with 1 Axes>"
      ]
     },
     "metadata": {},
     "output_type": "display_data"
    }
   ],
   "source": [
    "# создадим отдельную таблицу по клиентам разного семейного положения, которые имеют просрочки\n",
    "family_debt_1 = data[['family_status', 'debt']]\n",
    "family_debt_1 = family_debt_1[family_debt_1['debt'] == 1]\n",
    "family_debt_1_gb = family_debt_1.groupby('family_status')['debt'].count().sort_values(ascending=True)\n",
    "\n",
    "# построим график и взглянем на распределение числа должников в зависимости от семейного положения\n",
    "plt.figure(figsize=(15, 6))\n",
    "family_debt_1_gb.plot.barh(x='debt', y='family_status')\n",
    "\n",
    "plt.grid(axis='x', alpha=0.3)\n",
    "plt.xlabel('Должники', labelpad=10, fontsize=20)\n",
    "plt.ylabel('Семейное положение', labelpad=10, fontsize=20)\n",
    "plt.xticks(fontsize=15)\n",
    "plt.yticks(fontsize=15)\n",
    "plt.title('Число должников в зависимости от семейного положения', pad=20, fontsize=25);"
   ]
  },
  {
   "cell_type": "code",
   "execution_count": 29,
   "id": "3276d1b5-fc5b-4d7a-8460-682f07b126bf",
   "metadata": {},
   "outputs": [
    {
     "data": {
      "image/png": "[encoded data removed]",
      "text/plain": [
       "<Figure size 2000x700 with 1 Axes>"
      ]
     },
     "metadata": {},
     "output_type": "display_data"
    }
   ],
   "source": [
    "# создаем сводную таблицу и считаем процент ненадежных заемщиков от надежных в зависимости от семейного положения\n",
    "data_family_gb = data.groupby('family_status')['debt'].mean().reset_index()\n",
    "data_family_gb['debt'] *= 100\n",
    "data_family_gb = data_family_gb.sort_values(by='debt', ascending=True)\n",
    "\n",
    "# построим график распределения просрочек по семейному положению в прцоентах \n",
    "data_family_gb.plot.barh(x='family_status', y='debt', figsize=(20, 7), legend=False)\n",
    "\n",
    "plt.grid(axis='x', alpha=0.3)\n",
    "plt.xlabel('Процент должников (%)', labelpad=10, fontsize=20)\n",
    "plt.ylabel('Семейное положение', labelpad=10, fontsize=20)\n",
    "plt.xticks(fontsize=15)\n",
    "plt.yticks(fontsize=15)\n",
    "plt.title('Процент заемщиков с просрочкой по семейному положению', pad=20, fontsize=25);"
   ]
  },
  {
   "cell_type": "code",
   "execution_count": 30,
   "id": "7e80d129",
   "metadata": {},
   "outputs": [
    {
     "data": {
      "text/html": [
       "<div>\n",
       "<style scoped>\n",
       "    .dataframe tbody tr th:only-of-type {\n",
       "        vertical-align: middle;\n",
       "    }\n",
       "\n",
       "    .dataframe tbody tr th {\n",
       "        vertical-align: top;\n",
       "    }\n",
       "\n",
       "    .dataframe thead th {\n",
       "        text-align: right;\n",
       "    }\n",
       "</style>\n",
       "<table border=\"1\" class=\"dataframe\">\n",
       "  <thead>\n",
       "    <tr style=\"text-align: right;\">\n",
       "      <th></th>\n",
       "      <th>family_status</th>\n",
       "      <th>sum</th>\n",
       "      <th>count</th>\n",
       "      <th>mean</th>\n",
       "    </tr>\n",
       "  </thead>\n",
       "  <tbody>\n",
       "    <tr>\n",
       "      <th>0</th>\n",
       "      <td>не женат / не замужем</td>\n",
       "      <td>273</td>\n",
       "      <td>2796</td>\n",
       "      <td>9.763948</td>\n",
       "    </tr>\n",
       "    <tr>\n",
       "      <th>1</th>\n",
       "      <td>гражданский брак</td>\n",
       "      <td>385</td>\n",
       "      <td>4134</td>\n",
       "      <td>9.313014</td>\n",
       "    </tr>\n",
       "    <tr>\n",
       "      <th>2</th>\n",
       "      <td>женат / замужем</td>\n",
       "      <td>927</td>\n",
       "      <td>12261</td>\n",
       "      <td>7.560558</td>\n",
       "    </tr>\n",
       "    <tr>\n",
       "      <th>3</th>\n",
       "      <td>в разводе</td>\n",
       "      <td>84</td>\n",
       "      <td>1189</td>\n",
       "      <td>7.064760</td>\n",
       "    </tr>\n",
       "    <tr>\n",
       "      <th>4</th>\n",
       "      <td>вдовец / вдова</td>\n",
       "      <td>63</td>\n",
       "      <td>951</td>\n",
       "      <td>6.624606</td>\n",
       "    </tr>\n",
       "  </tbody>\n",
       "</table>\n",
       "</div>"
      ],
      "text/plain": [
       "           family_status  sum  count      mean\n",
       "0  не женат / не замужем  273   2796  9.763948\n",
       "1       гражданский брак  385   4134  9.313014\n",
       "2        женат / замужем  927  12261  7.560558\n",
       "3              в разводе   84   1189  7.064760\n",
       "4         вдовец / вдова   63    951  6.624606"
      ]
     },
     "execution_count": 30,
     "metadata": {},
     "output_type": "execute_result"
    }
   ],
   "source": [
    "# создаем сводную таблицу и считаем процент ненадежных заемщиков от надежных в зависимости от семейного положения\n",
    "data_family_pivot = data.pivot_table(index='family_status', values='debt', aggfunc=['sum','count', 'mean'])\n",
    "data_family_pivot['mean'] *= 100\n",
    "\n",
    "# выводим на экран \n",
    "data_family_pivot.droplevel(1, axis=1).sort_values(by='mean', ascending=False).reset_index()"
   ]
  },
  {
   "cell_type": "markdown",
   "id": "c389ca63",
   "metadata": {
    "deletable": false,
    "id": "c389ca63"
   },
   "source": [
    "**Вывод:** \n",
    "\n",
    "Процент должников составляет 8.11% от общего числа заемщиков. При анализе зависимости уровня задолженности от семейного положения выявлены следующие тенденции:\n",
    "\n",
    "    Наименьший процент должников среди вдовцов/вдов составляет 6.62%.\n",
    "    Клиенты, находящиеся в разводе, имеют процент должников на уровне 7.06%.\n",
    "    Среди клиентов, состоящих в браке, процент должников составляет 7.56%.\n",
    "    В гражданском браке процент должников выше и составляет 9.31%.\n",
    "    Наибольший процент должников наблюдается среди неженатых/незамужних клиентов и составляет 9.76%.\n",
    "\n",
    "Таким образом, можно заметить, что семейное положение влияет на вероятность задолженности по кредиту: наименьший процент должников среди вдовцов/вдов и разведенных, в то время как самый высокий процент наблюдается среди клиентов, не состоящих в официальном браке."
   ]
  },
  {
   "cell_type": "markdown",
   "id": "9529de68",
   "metadata": {
    "deletable": true,
    "id": "9529de68"
   },
   "source": [
    "### Рассмотрим зависимость между уровнем дохода и возвратом кредита в срок"
   ]
  },
  {
   "cell_type": "code",
   "execution_count": 31,
   "id": "e9624a34",
   "metadata": {},
   "outputs": [
    {
     "data": {
      "image/png": "[encoded data removed]",
      "text/plain": [
       "<Figure size 1500x600 with 1 Axes>"
      ]
     },
     "metadata": {},
     "output_type": "display_data"
    }
   ],
   "source": [
    "# создадим отдельную таблицу по клиентам с разным уровнем дохода, которые не имеют долгов по кредиту\n",
    "income_debt_0 = data[['total_income_category', 'debt']]\n",
    "income_debt_0 = income_debt_0[income_debt_0['debt'] == 0]\n",
    "income_debt_0_gb = income_debt_0.groupby('total_income_category')['debt'].count().sort_values(ascending=True)\n",
    "\n",
    "# построим график и взглянем на распределение числа плательщиков без долгов в зависимости от уровня дохода\n",
    "plt.figure(figsize=(15, 6))\n",
    "income_debt_0_gb.plot.barh(x='debt', y='total_income_category')\n",
    "\n",
    "plt.grid(axis='x', alpha=0.3)\n",
    "plt.xlabel('Добросовестные заемщики', labelpad=10, fontsize=20)\n",
    "plt.ylabel('Категория дохода', labelpad=10, fontsize=20)\n",
    "plt.xticks(fontsize=15)\n",
    "plt.yticks(fontsize=15)\n",
    "plt.title('Число плательщиков без долгов в зависимости от уровня дохода', pad=20, fontsize=25);"
   ]
  },
  {
   "cell_type": "code",
   "execution_count": 32,
   "id": "8787f44a",
   "metadata": {
    "deletable": false,
    "id": "8787f44a"
   },
   "outputs": [
    {
     "data": {
      "image/png": "[encoded data removed]",
      "text/plain": [
       "<Figure size 1500x600 with 1 Axes>"
      ]
     },
     "metadata": {},
     "output_type": "display_data"
    }
   ],
   "source": [
    "# создадим отдельную таблицу по клиентам с разным уровнем дохода, которые не имеют долгов по кредиту\n",
    "income_debt_1 = data[['total_income_category', 'debt']]\n",
    "income_debt_1 = income_debt_1[income_debt_1['debt'] == 1]\n",
    "income_debt_1_gb = income_debt_1.groupby('total_income_category')['debt'].count().sort_values(ascending=True)\n",
    "\n",
    "# построим график и взглянем на распределение числа плательщиков без долгов в зависимости от уровня дохода\n",
    "plt.figure(figsize=(15, 6))\n",
    "income_debt_1_gb.plot.barh(x='debt', y='total_income_category')\n",
    "\n",
    "plt.grid(axis='x', alpha=0.3)\n",
    "plt.xlabel('Число должников', labelpad=10, fontsize=20)\n",
    "plt.ylabel('Категория дохода', labelpad=10, fontsize=20)\n",
    "plt.xticks(fontsize=15)\n",
    "plt.yticks(fontsize=15)\n",
    "plt.title('Число должников в зависимости от уровня дохода', pad=20, fontsize=25);"
   ]
  },
  {
   "cell_type": "code",
   "execution_count": 33,
   "id": "6575a1e6-f73f-4508-9c9e-b1f1f288a6a3",
   "metadata": {},
   "outputs": [
    {
     "data": {
      "image/png": "[encoded data removed]",
      "text/plain": [
       "<Figure size 2000x700 with 1 Axes>"
      ]
     },
     "metadata": {},
     "output_type": "display_data"
    }
   ],
   "source": [
    "# создаем сводную таблицу и считаем процент просрочек по категории дохода\n",
    "data_income_debt_gb = data.groupby('total_income_category')['debt'].mean().reset_index()\n",
    "data_income_debt_gb['debt'] *= 100\n",
    "data_income_debt_gb = data_income_debt_gb.sort_values(by='total_income_category', ascending=False)\n",
    "\n",
    "# построим график распределения просрочек по категории дохода в прцоентах \n",
    "data_income_debt_gb.plot.barh(x='total_income_category', y='debt', figsize=(20, 7), legend=False)\n",
    "\n",
    "plt.grid(axis='x', alpha=0.3)\n",
    "plt.xlabel('Процент должников (%)', labelpad=10, fontsize=20)\n",
    "plt.ylabel('Категория дохода', labelpad=10, fontsize=20)\n",
    "plt.xticks(fontsize=15)\n",
    "plt.yticks(fontsize=15)\n",
    "plt.title('Процент заемщиков с просрочкой по категории дохода', pad=20, fontsize=25);"
   ]
  },
  {
   "cell_type": "code",
   "execution_count": 34,
   "id": "4017773a",
   "metadata": {},
   "outputs": [
    {
     "data": {
      "text/html": [
       "<div>\n",
       "<style scoped>\n",
       "    .dataframe tbody tr th:only-of-type {\n",
       "        vertical-align: middle;\n",
       "    }\n",
       "\n",
       "    .dataframe tbody tr th {\n",
       "        vertical-align: top;\n",
       "    }\n",
       "\n",
       "    .dataframe thead th {\n",
       "        text-align: right;\n",
       "    }\n",
       "</style>\n",
       "<table border=\"1\" class=\"dataframe\">\n",
       "  <thead>\n",
       "    <tr style=\"text-align: right;\">\n",
       "      <th></th>\n",
       "      <th>total_income_category</th>\n",
       "      <th>sum</th>\n",
       "      <th>count</th>\n",
       "      <th>mean</th>\n",
       "    </tr>\n",
       "  </thead>\n",
       "  <tbody>\n",
       "    <tr>\n",
       "      <th>0</th>\n",
       "      <td>A</td>\n",
       "      <td>2</td>\n",
       "      <td>25</td>\n",
       "      <td>8.000000</td>\n",
       "    </tr>\n",
       "    <tr>\n",
       "      <th>1</th>\n",
       "      <td>B</td>\n",
       "      <td>354</td>\n",
       "      <td>5014</td>\n",
       "      <td>7.060231</td>\n",
       "    </tr>\n",
       "    <tr>\n",
       "      <th>2</th>\n",
       "      <td>C</td>\n",
       "      <td>1353</td>\n",
       "      <td>15921</td>\n",
       "      <td>8.498210</td>\n",
       "    </tr>\n",
       "    <tr>\n",
       "      <th>3</th>\n",
       "      <td>D</td>\n",
       "      <td>21</td>\n",
       "      <td>349</td>\n",
       "      <td>6.017192</td>\n",
       "    </tr>\n",
       "    <tr>\n",
       "      <th>4</th>\n",
       "      <td>E</td>\n",
       "      <td>2</td>\n",
       "      <td>22</td>\n",
       "      <td>9.090909</td>\n",
       "    </tr>\n",
       "  </tbody>\n",
       "</table>\n",
       "</div>"
      ],
      "text/plain": [
       "  total_income_category   sum  count      mean\n",
       "0                     A     2     25  8.000000\n",
       "1                     B   354   5014  7.060231\n",
       "2                     C  1353  15921  8.498210\n",
       "3                     D    21    349  6.017192\n",
       "4                     E     2     22  9.090909"
      ]
     },
     "execution_count": 34,
     "metadata": {},
     "output_type": "execute_result"
    }
   ],
   "source": [
    "# сводная таблица\n",
    "data_income_debt_pivot = data.pivot_table(index='total_income_category', values='debt', aggfunc=['sum', 'count', 'mean'])\n",
    "data_income_debt_pivot['mean'] *= 100\n",
    "data_income_debt_pivot.droplevel(1, axis=1).reset_index().sort_values(by='total_income_category')"
   ]
  },
  {
   "cell_type": "markdown",
   "id": "6dd14b57",
   "metadata": {
    "deletable": false,
    "id": "6dd14b57"
   },
   "source": [
    "**Вывод:** \n",
    "\n",
    "Процент должников составляет 8.11% от общего числа заемщиков. При анализе категорий дохода выявлены следующие тенденции:\n",
    "\n",
    "    Самый низкий процент должников среди категорий дохода наблюдается в категории D (доход 30,001–50,000) и составляет 6.01%.\n",
    "    Категория B (доход 200,001–1,000,000) имеет процент должников на уровне 7.06%.\n",
    "    В категории A (доход свыше 1,000,001) процент должников составляет 8.00%.\n",
    "    Категория C (доход 50,001–200,000) показывает процент должников 8.49%.\n",
    "    Самый высокий процент должников зафиксирован в категории E (доход до 30,000) и составляет 9.09%.\n",
    "\n",
    "Таким образом, видно, что с увеличением дохода процент должников уменьшается, за исключением категории A, где процент должников несколько выше, чем в категориях B и D, но все же ниже, чем в категориях C и E."
   ]
  },
  {
   "cell_type": "markdown",
   "id": "1dcc9b12",
   "metadata": {
    "deletable": true,
    "id": "1dcc9b12"
   },
   "source": [
    "### Рассмотрим связь цели кредита и его возврата в срок"
   ]
  },
  {
   "cell_type": "code",
   "execution_count": 35,
   "id": "0608b2dd",
   "metadata": {},
   "outputs": [
    {
     "data": {
      "image/png": "[encoded data removed]",
      "text/plain": [
       "<Figure size 1500x600 with 1 Axes>"
      ]
     },
     "metadata": {},
     "output_type": "display_data"
    }
   ],
   "source": [
    "# создадим отдельную таблицу по клиентам с разным целями кредита, которые не имеют долгов по кредиту\n",
    "purpose_debt_0 = data[['purpose_category', 'debt']]\n",
    "purpose_debt_0 = purpose_debt_0[purpose_debt_0['debt'] == 0]\n",
    "purpose_debt_0_gb = purpose_debt_0.groupby('purpose_category')['debt'].count().sort_values(ascending=True)\n",
    "\n",
    "# построим график и взглянем на распределение числа плательщиков без долгов в зависимости от цели кредита\n",
    "plt.figure(figsize=(15, 6))\n",
    "purpose_debt_0_gb.plot.barh(x='debt', y='purpose_category')\n",
    "\n",
    "plt.grid(axis='x', alpha=0.3)\n",
    "plt.xlabel('Добросовестные заемщики', labelpad=10, fontsize=20)\n",
    "plt.ylabel('Цель кредита', labelpad=10, fontsize=20)\n",
    "plt.xticks(fontsize=15)\n",
    "plt.yticks(fontsize=15)\n",
    "plt.title('Число плательщиков без долгов в зависимости от цели кредита', pad=20, fontsize=25);"
   ]
  },
  {
   "cell_type": "code",
   "execution_count": 36,
   "id": "de73b8fe",
   "metadata": {},
   "outputs": [
    {
     "data": {
      "image/png": "[encoded data removed]",
      "text/plain": [
       "<Figure size 1500x600 with 1 Axes>"
      ]
     },
     "metadata": {},
     "output_type": "display_data"
    }
   ],
   "source": [
    "# создадим отдельную таблицу по клиентам с разным целями кредита, которые имеют долги по кредиту\n",
    "purpose_debt_1 = data[['purpose_category', 'debt']]\n",
    "purpose_debt_1 = purpose_debt_1[purpose_debt_1['debt'] == 1]\n",
    "purpose_debt_1_gb = purpose_debt_1.groupby('purpose_category')['debt'].count().sort_values(ascending=True)\n",
    "\n",
    "# построим график и взглянем на распределение числа плательщиков без долгов в зависимости от цели кредита\n",
    "plt.figure(figsize=(15, 6))\n",
    "purpose_debt_1_gb.plot.barh(x='debt', y='purpose_category')\n",
    "\n",
    "plt.grid(axis='x', alpha=0.3)\n",
    "plt.xlabel('Число должников', labelpad=10, fontsize=20)\n",
    "plt.ylabel('Цель кредита', labelpad=10, fontsize=20)\n",
    "plt.xticks(fontsize=15)\n",
    "plt.yticks(fontsize=15)\n",
    "plt.title('Число должников в зависимости от цели кредита', pad=20, fontsize=25);"
   ]
  },
  {
   "cell_type": "code",
   "execution_count": 37,
   "id": "6a1bb4a9-f601-425c-8ccc-201a6c11ac0c",
   "metadata": {},
   "outputs": [
    {
     "data": {
      "image/png": "[encoded data removed]",
      "text/plain": [
       "<Figure size 2000x700 with 1 Axes>"
      ]
     },
     "metadata": {},
     "output_type": "display_data"
    }
   ],
   "source": [
    "# создаем сводную таблицу и считаем процент просрочек по цели кредита\n",
    "purpose_category_debt_gb = data.groupby('purpose_category')['debt'].mean().reset_index()\n",
    "purpose_category_debt_gb['debt'] *= 100\n",
    "purpose_category_debt_gb = purpose_category_debt_gb.sort_values(by='debt', ascending=True)\n",
    "\n",
    "# построим график распределения просрочек по цели кредита в прцоентах \n",
    "purpose_category_debt_gb.plot.barh(x='purpose_category', y='debt', figsize=(20, 7), legend=False)\n",
    "\n",
    "plt.grid(axis='x', alpha=0.3)\n",
    "plt.xlabel('Процент должников (%)', labelpad=10, fontsize=20)\n",
    "plt.ylabel('Цель кредита', labelpad=10, fontsize=20)\n",
    "plt.xticks(fontsize=15)\n",
    "plt.yticks(fontsize=15)\n",
    "plt.title('Процент заемщиков с просрочкой по цели кредита', pad=20, fontsize=25);"
   ]
  },
  {
   "cell_type": "code",
   "execution_count": 38,
   "id": "6b4775be",
   "metadata": {},
   "outputs": [
    {
     "data": {
      "text/html": [
       "<div>\n",
       "<style scoped>\n",
       "    .dataframe tbody tr th:only-of-type {\n",
       "        vertical-align: middle;\n",
       "    }\n",
       "\n",
       "    .dataframe tbody tr th {\n",
       "        vertical-align: top;\n",
       "    }\n",
       "\n",
       "    .dataframe thead th {\n",
       "        text-align: right;\n",
       "    }\n",
       "</style>\n",
       "<table border=\"1\" class=\"dataframe\">\n",
       "  <thead>\n",
       "    <tr style=\"text-align: right;\">\n",
       "      <th></th>\n",
       "      <th>purpose_category</th>\n",
       "      <th>sum</th>\n",
       "      <th>count</th>\n",
       "      <th>mean</th>\n",
       "    </tr>\n",
       "  </thead>\n",
       "  <tbody>\n",
       "    <tr>\n",
       "      <th>0</th>\n",
       "      <td>операции с автомобилем</td>\n",
       "      <td>400</td>\n",
       "      <td>4279</td>\n",
       "      <td>9.347978</td>\n",
       "    </tr>\n",
       "    <tr>\n",
       "      <th>2</th>\n",
       "      <td>получение образования</td>\n",
       "      <td>369</td>\n",
       "      <td>3988</td>\n",
       "      <td>9.252758</td>\n",
       "    </tr>\n",
       "    <tr>\n",
       "      <th>3</th>\n",
       "      <td>проведение свадьбы</td>\n",
       "      <td>183</td>\n",
       "      <td>2313</td>\n",
       "      <td>7.911803</td>\n",
       "    </tr>\n",
       "    <tr>\n",
       "      <th>1</th>\n",
       "      <td>операции с недвижимостью</td>\n",
       "      <td>780</td>\n",
       "      <td>10751</td>\n",
       "      <td>7.255139</td>\n",
       "    </tr>\n",
       "  </tbody>\n",
       "</table>\n",
       "</div>"
      ],
      "text/plain": [
       "           purpose_category  sum  count      mean\n",
       "0    операции с автомобилем  400   4279  9.347978\n",
       "2     получение образования  369   3988  9.252758\n",
       "3        проведение свадьбы  183   2313  7.911803\n",
       "1  операции с недвижимостью  780  10751  7.255139"
      ]
     },
     "execution_count": 38,
     "metadata": {},
     "output_type": "execute_result"
    }
   ],
   "source": [
    "# сводная таблица\n",
    "purpose_category_debt_pivot = data.pivot_table(index='purpose_category', values='debt', aggfunc=['sum', 'count', 'mean'])\n",
    "purpose_category_debt_pivot['mean'] *= 100\n",
    "purpose_category_debt_pivot.droplevel(1, axis=1).reset_index().sort_values(by='mean', ascending=False)"
   ]
  },
  {
   "cell_type": "markdown",
   "id": "cf05ed63",
   "metadata": {
    "deletable": false,
    "id": "cf05ed63"
   },
   "source": [
    "**Вывод:** \n",
    "\n",
    "Процент должников составляет 8.11% от общего числа заемщиков. При анализе зависимости уровня задолженности от цели кредита выявлены следующие тенденции:\n",
    "\n",
    "    Наименьший процент должников наблюдается среди клиентов, взявших кредит на операции с недвижимостью, и составляет 7.25%.\n",
    "    Клиенты, взявшие кредит на проведение свадьбы, имеют процент должников на уровне 7.91%.\n",
    "    Процент должников среди клиентов, взявших кредит на получение образования, составляет 9.25%.\n",
    "    Наибольший процент должников наблюдается среди клиентов, взявших кредит на операции с автомобилем, и составляет 9.34%.\n",
    "\n",
    "Таким образом, можно заметить, что цель кредита влияет на вероятность задолженности: наименьший процент должников среди клиентов с кредитами на недвижимость и свадьбу, в то время как кредиты на образование и автомобили имеют более высокий процент должников."
   ]
  },
  {
   "cell_type": "markdown",
   "id": "46c1f10b",
   "metadata": {
    "deletable": true,
    "id": "46c1f10b"
   },
   "source": [
    "#### Возможные причины появления пропусков в исходных данных."
   ]
  },
  {
   "cell_type": "markdown",
   "id": "3697d2a9",
   "metadata": {
    "deletable": false,
    "id": "3697d2a9"
   },
   "source": [
    "1. Технические ошибки: Пропуски могут возникнуть в процессе внесения или вигрузки данных.\n",
    "\n",
    "\n",
    "2. Человеческий фактор: сотрудник может случайно исказить данные. \n",
    "\n",
    "\n",
    "3. Логический пропуск: иногда отсутствие данных может означать отсутствие наличия какого-то признака."
   ]
  },
  {
   "cell_type": "markdown",
   "id": "3137d257",
   "metadata": {
    "deletable": true,
    "id": "3137d257"
   },
   "source": [
    "#### Заполнить пропуски медианным значением — лучшее решение для количественных переменных."
   ]
  },
  {
   "cell_type": "markdown",
   "id": "cf40012a",
   "metadata": {
    "deletable": false,
    "id": "cf40012a"
   },
   "source": [
    "Медиана менее чувствительна к выбросам в данных по сравнению со средним значением. "
   ]
  },
  {
   "cell_type": "markdown",
   "id": "57bc304e",
   "metadata": {
    "deletable": true,
    "id": "57bc304e"
   },
   "source": [
    "### Общий вывод."
   ]
  },
  {
   "cell_type": "markdown",
   "id": "1ab75d1c",
   "metadata": {
    "deletable": false,
    "id": "1ab75d1c"
   },
   "source": [
    "Анализ данных показал важные закономерности в контексте различных категорий клиентов и их поведения относительно кредитных задолженностей:\n",
    "\n",
    "1. **Дети**: Наличие детей увеличивает вероятность задолженности. Наименьший процент должников среди клиентов без детей (7.54%), а наибольший — среди клиентов с четырьмя детьми (9.75%).\n",
    "\n",
    "\n",
    "2. **Семейное положение**: Семейное положение также влияет на вероятность задолженности. Наименьший процент должников наблюдается среди вдовцов/вдов (6.62%) и разведенных (7.06%), а наибольший — среди неженатых/незамужних (9.76%).\n",
    "\n",
    "\n",
    "3. **Уровень дохода**: Уровень дохода также влияет на вероятность задолженности. Самый низкий процент должников наблюдается среди клиентов с доходом 30,001–50,000 (категория D) — 6.01%, а самый высокий — среди клиентов с доходом до 30,000 (категория E) — 9.09%.\n",
    "\n",
    "\n",
    "4. **Цель кредита**: Цель кредита имеет значение для уровня задолженности. Наименьший процент должников среди клиентов, взявших кредиты на операции с недвижимостью (7.25%), и наибольший — среди клиентов, взявших кредиты на операции с автомобилями (9.34%)."
   ]
  }
 ],
 "metadata": {
  "ExecuteTimeLog": [
   {
    "duration": 1393,
    "start_time": "2024-07-23T22:56:25.880Z"
   },
   {
    "duration": 1167,
    "start_time": "2024-07-23T22:56:34.352Z"
   },
   {
    "duration": 33,
    "start_time": "2024-07-23T22:56:35.521Z"
   },
   {
    "duration": 18,
    "start_time": "2024-07-23T22:56:35.556Z"
   },
   {
    "duration": 11,
    "start_time": "2024-07-23T22:56:35.576Z"
   },
   {
    "duration": 60,
    "start_time": "2024-07-23T22:56:35.589Z"
   },
   {
    "duration": 4,
    "start_time": "2024-07-23T22:56:35.650Z"
   },
   {
    "duration": 16,
    "start_time": "2024-07-23T22:56:35.655Z"
   },
   {
    "duration": 10,
    "start_time": "2024-07-23T22:56:35.672Z"
   },
   {
    "duration": 10,
    "start_time": "2024-07-23T22:56:35.683Z"
   },
   {
    "duration": 8,
    "start_time": "2024-07-23T22:56:35.694Z"
   },
   {
    "duration": 45,
    "start_time": "2024-07-23T22:56:35.703Z"
   },
   {
    "duration": 10,
    "start_time": "2024-07-23T22:56:35.750Z"
   },
   {
    "duration": 5,
    "start_time": "2024-07-23T22:56:35.761Z"
   },
   {
    "duration": 14,
    "start_time": "2024-07-23T22:56:35.769Z"
   },
   {
    "duration": 25,
    "start_time": "2024-07-23T22:56:35.784Z"
   },
   {
    "duration": 31,
    "start_time": "2024-07-23T22:56:35.811Z"
   },
   {
    "duration": 3,
    "start_time": "2024-07-23T22:56:35.844Z"
   },
   {
    "duration": 28,
    "start_time": "2024-07-23T22:56:35.849Z"
   },
   {
    "duration": 17,
    "start_time": "2024-07-23T22:56:35.879Z"
   },
   {
    "duration": 25,
    "start_time": "2024-07-23T22:56:35.898Z"
   },
   {
    "duration": 11,
    "start_time": "2024-07-23T22:56:35.925Z"
   },
   {
    "duration": 10,
    "start_time": "2024-07-23T22:56:35.937Z"
   },
   {
    "duration": 9,
    "start_time": "2024-07-23T22:56:35.949Z"
   },
   {
    "duration": 4,
    "start_time": "2024-07-23T22:56:35.960Z"
   },
   {
    "duration": 4,
    "start_time": "2024-07-23T22:56:35.965Z"
   },
   {
    "duration": 1140,
    "start_time": "2024-07-23T22:57:49.566Z"
   },
   {
    "duration": 5,
    "start_time": "2024-07-23T22:58:01.829Z"
   },
   {
    "duration": 5,
    "start_time": "2024-07-23T22:58:26.339Z"
   },
   {
    "duration": 5,
    "start_time": "2024-07-23T22:58:29.845Z"
   },
   {
    "duration": 10,
    "start_time": "2024-07-23T23:00:00.269Z"
   },
   {
    "duration": 183,
    "start_time": "2024-07-23T23:01:04.839Z"
   },
   {
    "duration": 157,
    "start_time": "2024-07-23T23:01:44.360Z"
   },
   {
    "duration": 162,
    "start_time": "2024-07-23T23:03:36.563Z"
   },
   {
    "duration": 219,
    "start_time": "2024-07-23T23:04:15.467Z"
   },
   {
    "duration": 243,
    "start_time": "2024-07-23T23:04:19.685Z"
   },
   {
    "duration": 344,
    "start_time": "2024-07-23T23:04:31.096Z"
   },
   {
    "duration": 14,
    "start_time": "2024-07-23T23:07:38.613Z"
   },
   {
    "duration": 10,
    "start_time": "2024-07-23T23:08:22.407Z"
   },
   {
    "duration": 10,
    "start_time": "2024-07-23T23:08:26.064Z"
   },
   {
    "duration": 324,
    "start_time": "2024-07-23T23:08:52.839Z"
   },
   {
    "duration": 215,
    "start_time": "2024-07-23T23:09:01.936Z"
   },
   {
    "duration": 10,
    "start_time": "2024-07-23T23:09:11.627Z"
   },
   {
    "duration": 10,
    "start_time": "2024-07-23T23:09:17.227Z"
   },
   {
    "duration": 218,
    "start_time": "2024-07-23T23:09:24.763Z"
   },
   {
    "duration": 136,
    "start_time": "2024-07-23T23:09:48.674Z"
   },
   {
    "duration": 149,
    "start_time": "2024-07-23T23:11:06.560Z"
   },
   {
    "duration": 162,
    "start_time": "2024-07-23T23:12:36.593Z"
   },
   {
    "duration": 187,
    "start_time": "2024-07-23T23:12:44.220Z"
   },
   {
    "duration": 199,
    "start_time": "2024-07-23T23:15:03.885Z"
   },
   {
    "duration": 227,
    "start_time": "2024-07-23T23:15:17.547Z"
   },
   {
    "duration": 204,
    "start_time": "2024-07-23T23:15:30.860Z"
   },
   {
    "duration": 284,
    "start_time": "2024-07-23T23:16:04.289Z"
   },
   {
    "duration": 234,
    "start_time": "2024-07-23T23:16:28.928Z"
   },
   {
    "duration": 209,
    "start_time": "2024-07-23T23:16:31.131Z"
   },
   {
    "duration": 206,
    "start_time": "2024-07-23T23:16:41.877Z"
   },
   {
    "duration": 256,
    "start_time": "2024-07-23T23:16:50.793Z"
   },
   {
    "duration": 136,
    "start_time": "2024-07-23T23:18:49.073Z"
   },
   {
    "duration": 317,
    "start_time": "2024-07-23T23:19:06.922Z"
   },
   {
    "duration": 135,
    "start_time": "2024-07-23T23:19:12.846Z"
   },
   {
    "duration": 148,
    "start_time": "2024-07-23T23:19:16.791Z"
   },
   {
    "duration": 369,
    "start_time": "2024-07-23T23:20:07.487Z"
   },
   {
    "duration": 362,
    "start_time": "2024-07-23T23:20:21.161Z"
   },
   {
    "duration": 5,
    "start_time": "2024-07-23T23:21:33.967Z"
   },
   {
    "duration": 8,
    "start_time": "2024-07-23T23:21:37.724Z"
   },
   {
    "duration": 7,
    "start_time": "2024-07-23T23:21:49.255Z"
   },
   {
    "duration": 6,
    "start_time": "2024-07-23T23:21:53.955Z"
   },
   {
    "duration": 6,
    "start_time": "2024-07-23T23:22:52.143Z"
   },
   {
    "duration": 7,
    "start_time": "2024-07-23T23:23:07.653Z"
   },
   {
    "duration": 1006,
    "start_time": "2024-07-23T23:24:29.477Z"
   },
   {
    "duration": 21,
    "start_time": "2024-07-23T23:24:54.024Z"
   },
   {
    "duration": 487,
    "start_time": "2024-07-23T23:25:10.212Z"
   },
   {
    "duration": 464,
    "start_time": "2024-07-23T23:26:25.330Z"
   },
   {
    "duration": 9,
    "start_time": "2024-07-23T23:27:16.691Z"
   },
   {
    "duration": 12,
    "start_time": "2024-07-23T23:31:47.520Z"
   },
   {
    "duration": 503,
    "start_time": "2024-07-23T23:31:57.214Z"
   },
   {
    "duration": 470,
    "start_time": "2024-07-23T23:32:16.556Z"
   },
   {
    "duration": 610,
    "start_time": "2024-07-23T23:32:24.339Z"
   },
   {
    "duration": 7,
    "start_time": "2024-07-23T23:34:51.876Z"
   },
   {
    "duration": 9,
    "start_time": "2024-07-23T23:35:56.923Z"
   },
   {
    "duration": 10,
    "start_time": "2024-07-23T23:36:11.004Z"
   },
   {
    "duration": 168,
    "start_time": "2024-07-23T23:36:20.198Z"
   },
   {
    "duration": 12,
    "start_time": "2024-07-23T23:37:00.312Z"
   },
   {
    "duration": 152,
    "start_time": "2024-07-23T23:37:03.310Z"
   },
   {
    "duration": 15,
    "start_time": "2024-07-23T23:47:28.703Z"
   },
   {
    "duration": 10,
    "start_time": "2024-07-23T23:47:32.029Z"
   },
   {
    "duration": 7,
    "start_time": "2024-07-23T23:47:40.742Z"
   },
   {
    "duration": 19,
    "start_time": "2024-07-23T23:48:42.401Z"
   },
   {
    "duration": 5,
    "start_time": "2024-07-23T23:48:53.400Z"
   },
   {
    "duration": 11,
    "start_time": "2024-07-23T23:49:01.648Z"
   },
   {
    "duration": 7,
    "start_time": "2024-07-23T23:49:03.861Z"
   },
   {
    "duration": 2,
    "start_time": "2024-07-23T23:50:03.448Z"
   },
   {
    "duration": 31,
    "start_time": "2024-07-23T23:50:21.957Z"
   },
   {
    "duration": 4,
    "start_time": "2024-07-23T23:52:21.761Z"
   },
   {
    "duration": 26,
    "start_time": "2024-07-23T23:52:23.270Z"
   },
   {
    "duration": 11,
    "start_time": "2024-07-23T23:53:45.189Z"
   },
   {
    "duration": 3,
    "start_time": "2024-07-23T23:53:49.447Z"
   },
   {
    "duration": 169,
    "start_time": "2024-07-23T23:53:50.525Z"
   },
   {
    "duration": 25,
    "start_time": "2024-07-23T23:54:24.335Z"
   },
   {
    "duration": 2,
    "start_time": "2024-07-23T23:54:48.680Z"
   },
   {
    "duration": 168,
    "start_time": "2024-07-23T23:54:52.743Z"
   },
   {
    "duration": 26,
    "start_time": "2024-07-23T23:55:00.099Z"
   },
   {
    "duration": 11,
    "start_time": "2024-07-23T23:55:03.673Z"
   },
   {
    "duration": 159,
    "start_time": "2024-07-23T23:55:04.305Z"
   },
   {
    "duration": 12,
    "start_time": "2024-07-23T23:57:17.669Z"
   },
   {
    "duration": 7,
    "start_time": "2024-07-23T23:57:22.629Z"
   },
   {
    "duration": 204,
    "start_time": "2024-07-23T23:57:26.462Z"
   },
   {
    "duration": 11,
    "start_time": "2024-07-23T23:58:09.073Z"
   },
   {
    "duration": 214,
    "start_time": "2024-07-23T23:59:42.752Z"
   },
   {
    "duration": 204,
    "start_time": "2024-07-23T23:59:54.266Z"
   },
   {
    "duration": 180,
    "start_time": "2024-07-24T00:00:01.888Z"
   },
   {
    "duration": 165,
    "start_time": "2024-07-24T00:00:04.751Z"
   },
   {
    "duration": 337,
    "start_time": "2024-07-24T00:02:11.842Z"
   },
   {
    "duration": 330,
    "start_time": "2024-07-24T00:02:54.950Z"
   },
   {
    "duration": 329,
    "start_time": "2024-07-24T00:03:02.031Z"
   },
   {
    "duration": 7,
    "start_time": "2024-07-24T00:04:48.538Z"
   },
   {
    "duration": 6,
    "start_time": "2024-07-24T00:04:49.335Z"
   },
   {
    "duration": 5,
    "start_time": "2024-07-24T00:04:53.851Z"
   },
   {
    "duration": 9,
    "start_time": "2024-07-24T00:06:50.080Z"
   },
   {
    "duration": 12,
    "start_time": "2024-07-24T00:06:51.359Z"
   },
   {
    "duration": 22435,
    "start_time": "2024-07-24T00:06:56.403Z"
   },
   {
    "duration": 60146,
    "start_time": "2024-07-24T00:07:31.454Z"
   },
   {
    "duration": 0,
    "start_time": "2024-07-24T00:10:19.303Z"
   },
   {
    "duration": 11,
    "start_time": "2024-07-24T00:12:05.744Z"
   },
   {
    "duration": 11,
    "start_time": "2024-07-24T00:12:36.444Z"
   },
   {
    "duration": 11,
    "start_time": "2024-07-24T00:12:37.323Z"
   },
   {
    "duration": 474,
    "start_time": "2024-07-24T00:12:38.115Z"
   },
   {
    "duration": 152,
    "start_time": "2024-07-24T00:12:39.768Z"
   },
   {
    "duration": 2682,
    "start_time": "2024-07-24T00:12:49.624Z"
   },
   {
    "duration": 11,
    "start_time": "2024-07-24T00:13:40.069Z"
   },
   {
    "duration": 412,
    "start_time": "2024-07-24T00:13:45.753Z"
   },
   {
    "duration": 11,
    "start_time": "2024-07-24T00:13:57.387Z"
   },
   {
    "duration": 456,
    "start_time": "2024-07-24T00:14:08.271Z"
   },
   {
    "duration": 179,
    "start_time": "2024-07-24T00:14:12.720Z"
   },
   {
    "duration": 11,
    "start_time": "2024-07-24T00:14:41.686Z"
   },
   {
    "duration": 165,
    "start_time": "2024-07-24T00:14:44.788Z"
   },
   {
    "duration": 9,
    "start_time": "2024-07-24T00:17:13.685Z"
   },
   {
    "duration": 4,
    "start_time": "2024-07-24T00:17:26.646Z"
   },
   {
    "duration": 24,
    "start_time": "2024-07-24T00:17:43.499Z"
   },
   {
    "duration": 81,
    "start_time": "2024-07-24T00:18:52.026Z"
   },
   {
    "duration": 5,
    "start_time": "2024-07-24T00:19:15.936Z"
   },
   {
    "duration": 3,
    "start_time": "2024-07-24T00:19:54.380Z"
   },
   {
    "duration": 3,
    "start_time": "2024-07-24T00:19:58.852Z"
   },
   {
    "duration": 180,
    "start_time": "2024-07-24T00:19:59.459Z"
   },
   {
    "duration": 164,
    "start_time": "2024-07-24T00:20:01.080Z"
   },
   {
    "duration": 8,
    "start_time": "2024-07-24T00:21:04.425Z"
   },
   {
    "duration": 6,
    "start_time": "2024-07-24T00:21:05.081Z"
   },
   {
    "duration": 6,
    "start_time": "2024-07-24T00:22:01.431Z"
   },
   {
    "duration": 6,
    "start_time": "2024-07-24T00:26:16.724Z"
   },
   {
    "duration": 12,
    "start_time": "2024-07-24T00:26:42.908Z"
   },
   {
    "duration": 11,
    "start_time": "2024-07-24T00:26:43.204Z"
   },
   {
    "duration": 5,
    "start_time": "2024-07-24T00:26:43.685Z"
   },
   {
    "duration": 3,
    "start_time": "2024-07-24T00:26:44.497Z"
   },
   {
    "duration": 181,
    "start_time": "2024-07-24T00:26:45.644Z"
   },
   {
    "duration": 16,
    "start_time": "2024-07-24T00:26:46.345Z"
   },
   {
    "duration": 174,
    "start_time": "2024-07-24T00:26:54.190Z"
   },
   {
    "duration": 8,
    "start_time": "2024-07-24T00:26:55.153Z"
   },
   {
    "duration": 6,
    "start_time": "2024-07-24T00:26:56.513Z"
   },
   {
    "duration": 7,
    "start_time": "2024-07-24T00:26:56.842Z"
   },
   {
    "duration": 62,
    "start_time": "2024-07-24T02:54:41.294Z"
   },
   {
    "duration": 137,
    "start_time": "2024-07-24T02:59:43.656Z"
   },
   {
    "duration": 213,
    "start_time": "2024-07-24T03:02:14.838Z"
   },
   {
    "duration": 307,
    "start_time": "2024-07-24T03:02:33.044Z"
   },
   {
    "duration": 214,
    "start_time": "2024-07-24T03:02:38.104Z"
   },
   {
    "duration": 160,
    "start_time": "2024-07-24T03:03:32.098Z"
   },
   {
    "duration": 11,
    "start_time": "2024-07-24T03:04:15.490Z"
   },
   {
    "duration": 215,
    "start_time": "2024-07-24T03:12:17.477Z"
   },
   {
    "duration": 195,
    "start_time": "2024-07-24T03:12:19.271Z"
   },
   {
    "duration": 188,
    "start_time": "2024-07-24T03:12:42.280Z"
   },
   {
    "duration": 13,
    "start_time": "2024-07-24T03:16:20.276Z"
   },
   {
    "duration": 9,
    "start_time": "2024-07-24T03:16:34.940Z"
   },
   {
    "duration": 201,
    "start_time": "2024-07-24T03:16:35.665Z"
   },
   {
    "duration": 189,
    "start_time": "2024-07-24T03:16:36.667Z"
   },
   {
    "duration": 11,
    "start_time": "2024-07-24T03:16:51.569Z"
   },
   {
    "duration": 11,
    "start_time": "2024-07-24T03:17:17.037Z"
   },
   {
    "duration": 14,
    "start_time": "2024-07-24T03:17:25.740Z"
   },
   {
    "duration": 13,
    "start_time": "2024-07-24T03:17:28.825Z"
   },
   {
    "duration": 9,
    "start_time": "2024-07-24T03:17:36.048Z"
   },
   {
    "duration": 11,
    "start_time": "2024-07-24T03:18:02.869Z"
   },
   {
    "duration": 164,
    "start_time": "2024-07-24T03:20:54.440Z"
   },
   {
    "duration": 192,
    "start_time": "2024-07-24T03:21:28.413Z"
   },
   {
    "duration": 162,
    "start_time": "2024-07-24T03:21:48.675Z"
   },
   {
    "duration": 187,
    "start_time": "2024-07-24T03:29:52.590Z"
   },
   {
    "duration": 171,
    "start_time": "2024-07-24T03:31:33.564Z"
   },
   {
    "duration": 180,
    "start_time": "2024-07-24T03:31:47.734Z"
   },
   {
    "duration": 61,
    "start_time": "2024-07-24T03:32:48.712Z"
   },
   {
    "duration": 10,
    "start_time": "2024-07-24T03:34:47.452Z"
   },
   {
    "duration": 199,
    "start_time": "2024-07-24T03:36:23.838Z"
   },
   {
    "duration": 177,
    "start_time": "2024-07-24T03:36:27.032Z"
   },
   {
    "duration": 167,
    "start_time": "2024-07-24T03:36:42.817Z"
   },
   {
    "duration": 198,
    "start_time": "2024-07-24T03:40:14.051Z"
   },
   {
    "duration": 19,
    "start_time": "2024-07-24T03:42:03.299Z"
   },
   {
    "duration": 23,
    "start_time": "2024-07-24T03:42:28.447Z"
   },
   {
    "duration": 16,
    "start_time": "2024-07-24T03:43:31.587Z"
   },
   {
    "duration": 17,
    "start_time": "2024-07-24T03:43:57.714Z"
   },
   {
    "duration": 175,
    "start_time": "2024-07-24T03:45:41.771Z"
   },
   {
    "duration": 8,
    "start_time": "2024-07-24T03:47:57.599Z"
   },
   {
    "duration": 3,
    "start_time": "2024-07-24T03:48:30.066Z"
   },
   {
    "duration": 1116,
    "start_time": "2024-07-24T03:49:23.167Z"
   },
   {
    "duration": 18,
    "start_time": "2024-07-24T03:49:24.284Z"
   },
   {
    "duration": 97,
    "start_time": "2024-07-24T03:49:24.303Z"
   },
   {
    "duration": 34,
    "start_time": "2024-07-24T03:49:24.403Z"
   },
   {
    "duration": 56,
    "start_time": "2024-07-24T03:49:24.439Z"
   },
   {
    "duration": 4,
    "start_time": "2024-07-24T03:49:24.497Z"
   },
   {
    "duration": 18,
    "start_time": "2024-07-24T03:49:24.503Z"
   },
   {
    "duration": 6,
    "start_time": "2024-07-24T03:49:24.522Z"
   },
   {
    "duration": 12,
    "start_time": "2024-07-24T03:49:24.529Z"
   },
   {
    "duration": 10,
    "start_time": "2024-07-24T03:49:24.543Z"
   },
   {
    "duration": 43,
    "start_time": "2024-07-24T03:49:24.555Z"
   },
   {
    "duration": 10,
    "start_time": "2024-07-24T03:49:24.599Z"
   },
   {
    "duration": 6,
    "start_time": "2024-07-24T03:49:24.610Z"
   },
   {
    "duration": 30,
    "start_time": "2024-07-24T03:49:24.617Z"
   },
   {
    "duration": 29,
    "start_time": "2024-07-24T03:49:24.648Z"
   },
   {
    "duration": 21,
    "start_time": "2024-07-24T03:49:24.678Z"
   },
   {
    "duration": 15,
    "start_time": "2024-07-24T03:49:24.701Z"
   },
   {
    "duration": 3,
    "start_time": "2024-07-24T03:49:24.718Z"
   },
   {
    "duration": 10,
    "start_time": "2024-07-24T03:49:24.737Z"
   },
   {
    "duration": 11,
    "start_time": "2024-07-24T03:49:24.749Z"
   },
   {
    "duration": 16,
    "start_time": "2024-07-24T03:49:24.762Z"
   },
   {
    "duration": 26,
    "start_time": "2024-07-24T03:49:24.780Z"
   },
   {
    "duration": 16,
    "start_time": "2024-07-24T03:49:24.808Z"
   },
   {
    "duration": 14,
    "start_time": "2024-07-24T03:49:24.826Z"
   },
   {
    "duration": 5,
    "start_time": "2024-07-24T03:49:24.842Z"
   },
   {
    "duration": 214,
    "start_time": "2024-07-24T03:49:24.849Z"
   },
   {
    "duration": 169,
    "start_time": "2024-07-24T03:49:25.065Z"
   },
   {
    "duration": 8,
    "start_time": "2024-07-24T03:49:25.237Z"
   },
   {
    "duration": 36,
    "start_time": "2024-07-24T03:49:25.246Z"
   },
   {
    "duration": 201,
    "start_time": "2024-07-24T03:49:25.283Z"
   },
   {
    "duration": 186,
    "start_time": "2024-07-24T03:49:25.485Z"
   },
   {
    "duration": 10,
    "start_time": "2024-07-24T03:49:25.672Z"
   },
   {
    "duration": 213,
    "start_time": "2024-07-24T03:49:25.683Z"
   },
   {
    "duration": 177,
    "start_time": "2024-07-24T03:49:25.898Z"
   },
   {
    "duration": 9,
    "start_time": "2024-07-24T03:49:26.077Z"
   },
   {
    "duration": 203,
    "start_time": "2024-07-24T03:49:26.087Z"
   },
   {
    "duration": 183,
    "start_time": "2024-07-24T03:49:26.291Z"
   },
   {
    "duration": 10,
    "start_time": "2024-07-24T03:49:26.476Z"
   },
   {
    "duration": 1189,
    "start_time": "2024-07-24T04:19:51.823Z"
   },
   {
    "duration": 18,
    "start_time": "2024-07-24T04:19:53.014Z"
   },
   {
    "duration": 30,
    "start_time": "2024-07-24T04:19:53.034Z"
   },
   {
    "duration": 15,
    "start_time": "2024-07-24T04:19:53.066Z"
   },
   {
    "duration": 68,
    "start_time": "2024-07-24T04:19:53.083Z"
   },
   {
    "duration": 3,
    "start_time": "2024-07-24T04:19:53.153Z"
   },
   {
    "duration": 32,
    "start_time": "2024-07-24T04:19:53.158Z"
   },
   {
    "duration": 39,
    "start_time": "2024-07-24T04:19:53.192Z"
   },
   {
    "duration": 28,
    "start_time": "2024-07-24T04:19:53.233Z"
   },
   {
    "duration": 5,
    "start_time": "2024-07-24T04:19:53.263Z"
   },
   {
    "duration": 39,
    "start_time": "2024-07-24T04:19:53.270Z"
   },
   {
    "duration": 15,
    "start_time": "2024-07-24T04:19:53.310Z"
   },
   {
    "duration": 18,
    "start_time": "2024-07-24T04:19:53.327Z"
   },
   {
    "duration": 25,
    "start_time": "2024-07-24T04:19:53.349Z"
   },
   {
    "duration": 55,
    "start_time": "2024-07-24T04:19:53.375Z"
   },
   {
    "duration": 53,
    "start_time": "2024-07-24T04:19:53.432Z"
   },
   {
    "duration": 18,
    "start_time": "2024-07-24T04:19:53.487Z"
   },
   {
    "duration": 25,
    "start_time": "2024-07-24T04:19:53.506Z"
   },
   {
    "duration": 23,
    "start_time": "2024-07-24T04:19:53.533Z"
   },
   {
    "duration": 18,
    "start_time": "2024-07-24T04:19:53.558Z"
   },
   {
    "duration": 21,
    "start_time": "2024-07-24T04:19:53.578Z"
   },
   {
    "duration": 36,
    "start_time": "2024-07-24T04:19:53.601Z"
   },
   {
    "duration": 20,
    "start_time": "2024-07-24T04:19:53.639Z"
   },
   {
    "duration": 21,
    "start_time": "2024-07-24T04:19:53.660Z"
   },
   {
    "duration": 6,
    "start_time": "2024-07-24T04:19:53.683Z"
   },
   {
    "duration": 191,
    "start_time": "2024-07-24T04:19:53.690Z"
   },
   {
    "duration": 165,
    "start_time": "2024-07-24T04:19:53.883Z"
   },
   {
    "duration": 8,
    "start_time": "2024-07-24T04:19:54.049Z"
   },
   {
    "duration": 23,
    "start_time": "2024-07-24T04:19:54.059Z"
   },
   {
    "duration": 184,
    "start_time": "2024-07-24T04:19:54.084Z"
   },
   {
    "duration": 182,
    "start_time": "2024-07-24T04:19:54.270Z"
   },
   {
    "duration": 10,
    "start_time": "2024-07-24T04:19:54.454Z"
   },
   {
    "duration": 220,
    "start_time": "2024-07-24T04:19:54.466Z"
   },
   {
    "duration": 190,
    "start_time": "2024-07-24T04:19:54.687Z"
   },
   {
    "duration": 12,
    "start_time": "2024-07-24T04:19:54.879Z"
   },
   {
    "duration": 185,
    "start_time": "2024-07-24T04:19:54.892Z"
   },
   {
    "duration": 197,
    "start_time": "2024-07-24T04:19:55.079Z"
   },
   {
    "duration": 9,
    "start_time": "2024-07-24T04:19:55.278Z"
   },
   {
    "duration": 1547,
    "start_time": "2024-07-24T13:28:09.589Z"
   },
   {
    "duration": 21,
    "start_time": "2024-07-24T13:28:11.138Z"
   },
   {
    "duration": 17,
    "start_time": "2024-07-24T13:28:11.161Z"
   },
   {
    "duration": 11,
    "start_time": "2024-07-24T13:28:11.180Z"
   },
   {
    "duration": 64,
    "start_time": "2024-07-24T13:28:11.193Z"
   },
   {
    "duration": 4,
    "start_time": "2024-07-24T13:28:11.259Z"
   },
   {
    "duration": 15,
    "start_time": "2024-07-24T13:28:11.264Z"
   },
   {
    "duration": 5,
    "start_time": "2024-07-24T13:28:11.281Z"
   },
   {
    "duration": 18,
    "start_time": "2024-07-24T13:28:11.288Z"
   },
   {
    "duration": 10,
    "start_time": "2024-07-24T13:28:11.308Z"
   },
   {
    "duration": 49,
    "start_time": "2024-07-24T13:28:11.320Z"
   },
   {
    "duration": 11,
    "start_time": "2024-07-24T13:28:11.371Z"
   },
   {
    "duration": 4,
    "start_time": "2024-07-24T13:28:11.384Z"
   },
   {
    "duration": 13,
    "start_time": "2024-07-24T13:28:11.392Z"
   },
   {
    "duration": 18,
    "start_time": "2024-07-24T13:28:11.408Z"
   },
   {
    "duration": 47,
    "start_time": "2024-07-24T13:28:11.428Z"
   },
   {
    "duration": 21,
    "start_time": "2024-07-24T13:28:11.476Z"
   },
   {
    "duration": 5,
    "start_time": "2024-07-24T13:28:11.498Z"
   },
   {
    "duration": 40,
    "start_time": "2024-07-24T13:28:11.504Z"
   },
   {
    "duration": 6,
    "start_time": "2024-07-24T13:28:11.545Z"
   },
   {
    "duration": 91,
    "start_time": "2024-07-24T13:28:11.556Z"
   },
   {
    "duration": 22,
    "start_time": "2024-07-24T13:28:11.649Z"
   },
   {
    "duration": 14,
    "start_time": "2024-07-24T13:28:11.673Z"
   },
   {
    "duration": 17,
    "start_time": "2024-07-24T13:28:11.689Z"
   },
   {
    "duration": 9,
    "start_time": "2024-07-24T13:28:11.708Z"
   },
   {
    "duration": 211,
    "start_time": "2024-07-24T13:28:11.719Z"
   },
   {
    "duration": 184,
    "start_time": "2024-07-24T13:28:11.932Z"
   },
   {
    "duration": 9,
    "start_time": "2024-07-24T13:28:12.118Z"
   },
   {
    "duration": 14,
    "start_time": "2024-07-24T13:28:12.128Z"
   },
   {
    "duration": 222,
    "start_time": "2024-07-24T13:28:12.144Z"
   },
   {
    "duration": 195,
    "start_time": "2024-07-24T13:28:12.368Z"
   },
   {
    "duration": 12,
    "start_time": "2024-07-24T13:28:12.565Z"
   },
   {
    "duration": 231,
    "start_time": "2024-07-24T13:28:12.578Z"
   },
   {
    "duration": 201,
    "start_time": "2024-07-24T13:28:12.811Z"
   },
   {
    "duration": 10,
    "start_time": "2024-07-24T13:28:13.013Z"
   },
   {
    "duration": 221,
    "start_time": "2024-07-24T13:28:13.024Z"
   },
   {
    "duration": 207,
    "start_time": "2024-07-24T13:28:13.247Z"
   },
   {
    "duration": 9,
    "start_time": "2024-07-24T13:28:13.456Z"
   },
   {
    "duration": 1290,
    "start_time": "2024-07-24T14:29:15.110Z"
   },
   {
    "duration": 20,
    "start_time": "2024-07-24T14:29:16.402Z"
   },
   {
    "duration": 17,
    "start_time": "2024-07-24T14:29:16.424Z"
   },
   {
    "duration": 14,
    "start_time": "2024-07-24T14:29:16.455Z"
   },
   {
    "duration": 49,
    "start_time": "2024-07-24T14:29:16.471Z"
   },
   {
    "duration": 4,
    "start_time": "2024-07-24T14:29:16.522Z"
   },
   {
    "duration": 15,
    "start_time": "2024-07-24T14:29:16.527Z"
   },
   {
    "duration": 14,
    "start_time": "2024-07-24T14:29:16.544Z"
   },
   {
    "duration": 9,
    "start_time": "2024-07-24T14:29:16.559Z"
   },
   {
    "duration": 5,
    "start_time": "2024-07-24T14:29:16.571Z"
   },
   {
    "duration": 44,
    "start_time": "2024-07-24T14:29:16.577Z"
   },
   {
    "duration": 32,
    "start_time": "2024-07-24T14:29:16.623Z"
   },
   {
    "duration": 5,
    "start_time": "2024-07-24T14:29:16.657Z"
   },
   {
    "duration": 29,
    "start_time": "2024-07-24T14:29:16.663Z"
   },
   {
    "duration": 23,
    "start_time": "2024-07-24T14:29:16.694Z"
   },
   {
    "duration": 38,
    "start_time": "2024-07-24T14:29:16.718Z"
   },
   {
    "duration": 19,
    "start_time": "2024-07-24T14:29:16.758Z"
   },
   {
    "duration": 25,
    "start_time": "2024-07-24T14:29:16.779Z"
   },
   {
    "duration": 31,
    "start_time": "2024-07-24T14:29:16.805Z"
   },
   {
    "duration": 23,
    "start_time": "2024-07-24T14:29:16.838Z"
   },
   {
    "duration": 21,
    "start_time": "2024-07-24T14:29:16.863Z"
   },
   {
    "duration": 22,
    "start_time": "2024-07-24T14:29:16.887Z"
   },
   {
    "duration": 8,
    "start_time": "2024-07-24T14:29:16.910Z"
   },
   {
    "duration": 16,
    "start_time": "2024-07-24T14:29:16.919Z"
   },
   {
    "duration": 6,
    "start_time": "2024-07-24T14:29:16.937Z"
   },
   {
    "duration": 238,
    "start_time": "2024-07-24T14:29:16.945Z"
   },
   {
    "duration": 229,
    "start_time": "2024-07-24T14:29:17.186Z"
   },
   {
    "duration": 10,
    "start_time": "2024-07-24T14:29:17.418Z"
   },
   {
    "duration": 26,
    "start_time": "2024-07-24T14:29:17.430Z"
   },
   {
    "duration": 275,
    "start_time": "2024-07-24T14:29:17.459Z"
   },
   {
    "duration": 211,
    "start_time": "2024-07-24T14:29:17.736Z"
   },
   {
    "duration": 13,
    "start_time": "2024-07-24T14:29:17.949Z"
   },
   {
    "duration": 230,
    "start_time": "2024-07-24T14:29:17.964Z"
   },
   {
    "duration": 201,
    "start_time": "2024-07-24T14:29:18.196Z"
   },
   {
    "duration": 11,
    "start_time": "2024-07-24T14:29:18.399Z"
   },
   {
    "duration": 228,
    "start_time": "2024-07-24T14:29:18.412Z"
   },
   {
    "duration": 230,
    "start_time": "2024-07-24T14:29:18.643Z"
   },
   {
    "duration": 10,
    "start_time": "2024-07-24T14:29:18.875Z"
   },
   {
    "duration": 49,
    "start_time": "2024-07-25T00:52:46.157Z"
   },
   {
    "duration": 1587,
    "start_time": "2024-07-25T00:52:54.960Z"
   },
   {
    "duration": 20,
    "start_time": "2024-07-25T00:52:56.549Z"
   },
   {
    "duration": 16,
    "start_time": "2024-07-25T00:52:56.570Z"
   },
   {
    "duration": 11,
    "start_time": "2024-07-25T00:52:56.588Z"
   },
   {
    "duration": 36,
    "start_time": "2024-07-25T00:52:56.600Z"
   },
   {
    "duration": 3,
    "start_time": "2024-07-25T00:52:56.638Z"
   },
   {
    "duration": 9,
    "start_time": "2024-07-25T00:52:56.642Z"
   },
   {
    "duration": 9,
    "start_time": "2024-07-25T00:52:56.653Z"
   },
   {
    "duration": 16,
    "start_time": "2024-07-25T00:52:56.664Z"
   },
   {
    "duration": 3,
    "start_time": "2024-07-25T00:52:56.683Z"
   },
   {
    "duration": 49,
    "start_time": "2024-07-25T00:52:56.687Z"
   },
   {
    "duration": 11,
    "start_time": "2024-07-25T00:52:56.737Z"
   },
   {
    "duration": 4,
    "start_time": "2024-07-25T00:52:56.749Z"
   },
   {
    "duration": 20,
    "start_time": "2024-07-25T00:52:56.755Z"
   },
   {
    "duration": 32,
    "start_time": "2024-07-25T00:52:56.777Z"
   },
   {
    "duration": 28,
    "start_time": "2024-07-25T00:52:56.810Z"
   },
   {
    "duration": 19,
    "start_time": "2024-07-25T00:52:56.839Z"
   },
   {
    "duration": 5,
    "start_time": "2024-07-25T00:52:56.859Z"
   },
   {
    "duration": 20,
    "start_time": "2024-07-25T00:52:56.865Z"
   },
   {
    "duration": 23,
    "start_time": "2024-07-25T00:52:56.886Z"
   },
   {
    "duration": 4,
    "start_time": "2024-07-25T00:52:56.910Z"
   },
   {
    "duration": 26,
    "start_time": "2024-07-25T00:52:56.915Z"
   },
   {
    "duration": 5,
    "start_time": "2024-07-25T00:52:56.943Z"
   },
   {
    "duration": 13,
    "start_time": "2024-07-25T00:52:56.949Z"
   },
   {
    "duration": 5,
    "start_time": "2024-07-25T00:52:56.963Z"
   },
   {
    "duration": 216,
    "start_time": "2024-07-25T00:52:56.969Z"
   },
   {
    "duration": 207,
    "start_time": "2024-07-25T00:52:57.186Z"
   },
   {
    "duration": 16,
    "start_time": "2024-07-25T00:52:57.396Z"
   },
   {
    "duration": 25,
    "start_time": "2024-07-25T00:52:57.414Z"
   },
   {
    "duration": 7,
    "start_time": "2024-07-25T00:52:57.441Z"
   },
   {
    "duration": 234,
    "start_time": "2024-07-25T00:52:57.450Z"
   },
   {
    "duration": 196,
    "start_time": "2024-07-25T00:52:57.686Z"
   },
   {
    "duration": 11,
    "start_time": "2024-07-25T00:52:57.883Z"
   },
   {
    "duration": 205,
    "start_time": "2024-07-25T00:52:57.907Z"
   },
   {
    "duration": 199,
    "start_time": "2024-07-25T00:52:58.113Z"
   },
   {
    "duration": 11,
    "start_time": "2024-07-25T00:52:58.313Z"
   },
   {
    "duration": 211,
    "start_time": "2024-07-25T00:52:58.325Z"
   },
   {
    "duration": 203,
    "start_time": "2024-07-25T00:52:58.537Z"
   },
   {
    "duration": 10,
    "start_time": "2024-07-25T00:52:58.741Z"
   },
   {
    "duration": 4,
    "start_time": "2024-07-25T00:56:43.673Z"
   },
   {
    "duration": 20,
    "start_time": "2024-07-25T00:56:49.968Z"
   },
   {
    "duration": 4,
    "start_time": "2024-07-25T00:56:58.091Z"
   },
   {
    "duration": 4,
    "start_time": "2024-07-25T00:57:22.665Z"
   },
   {
    "duration": 5,
    "start_time": "2024-07-25T00:57:49.827Z"
   },
   {
    "duration": 3,
    "start_time": "2024-07-25T00:57:54.007Z"
   },
   {
    "duration": 7,
    "start_time": "2024-07-25T00:58:23.982Z"
   },
   {
    "duration": 36,
    "start_time": "2024-07-25T01:05:12.443Z"
   },
   {
    "duration": 10,
    "start_time": "2024-07-25T01:06:41.613Z"
   },
   {
    "duration": 103,
    "start_time": "2024-07-25T01:06:43.093Z"
   },
   {
    "duration": 6,
    "start_time": "2024-07-25T01:07:15.447Z"
   },
   {
    "duration": 25,
    "start_time": "2024-07-25T01:13:55.507Z"
   },
   {
    "duration": 30,
    "start_time": "2024-07-25T01:14:05.257Z"
   },
   {
    "duration": 123,
    "start_time": "2024-07-25T01:14:21.201Z"
   },
   {
    "duration": 32,
    "start_time": "2024-07-25T01:14:28.219Z"
   },
   {
    "duration": 33,
    "start_time": "2024-07-25T01:15:00.443Z"
   },
   {
    "duration": 31,
    "start_time": "2024-07-25T01:15:05.981Z"
   },
   {
    "duration": 30,
    "start_time": "2024-07-25T01:15:18.414Z"
   },
   {
    "duration": 34,
    "start_time": "2024-07-25T01:17:00.749Z"
   },
   {
    "duration": 27,
    "start_time": "2024-07-25T01:19:19.645Z"
   },
   {
    "duration": 1277,
    "start_time": "2024-07-25T01:35:36.875Z"
   },
   {
    "duration": 25,
    "start_time": "2024-07-25T01:35:38.154Z"
   },
   {
    "duration": 16,
    "start_time": "2024-07-25T01:35:38.181Z"
   },
   {
    "duration": 13,
    "start_time": "2024-07-25T01:35:38.207Z"
   },
   {
    "duration": 57,
    "start_time": "2024-07-25T01:35:38.222Z"
   },
   {
    "duration": 4,
    "start_time": "2024-07-25T01:35:38.280Z"
   },
   {
    "duration": 24,
    "start_time": "2024-07-25T01:35:38.285Z"
   },
   {
    "duration": 16,
    "start_time": "2024-07-25T01:35:38.311Z"
   },
   {
    "duration": 16,
    "start_time": "2024-07-25T01:35:38.328Z"
   },
   {
    "duration": 33,
    "start_time": "2024-07-25T01:35:38.346Z"
   },
   {
    "duration": 87,
    "start_time": "2024-07-25T01:35:38.380Z"
   },
   {
    "duration": 10,
    "start_time": "2024-07-25T01:35:38.468Z"
   },
   {
    "duration": 12,
    "start_time": "2024-07-25T01:35:38.480Z"
   },
   {
    "duration": 17,
    "start_time": "2024-07-25T01:35:38.493Z"
   },
   {
    "duration": 14,
    "start_time": "2024-07-25T01:35:38.512Z"
   },
   {
    "duration": 25,
    "start_time": "2024-07-25T01:35:38.528Z"
   },
   {
    "duration": 18,
    "start_time": "2024-07-25T01:35:38.554Z"
   },
   {
    "duration": 4,
    "start_time": "2024-07-25T01:35:38.573Z"
   },
   {
    "duration": 13,
    "start_time": "2024-07-25T01:35:38.578Z"
   },
   {
    "duration": 5,
    "start_time": "2024-07-25T01:35:38.608Z"
   },
   {
    "duration": 10,
    "start_time": "2024-07-25T01:35:38.614Z"
   },
   {
    "duration": 12,
    "start_time": "2024-07-25T01:35:38.625Z"
   },
   {
    "duration": 6,
    "start_time": "2024-07-25T01:35:38.639Z"
   },
   {
    "duration": 17,
    "start_time": "2024-07-25T01:35:38.646Z"
   },
   {
    "duration": 5,
    "start_time": "2024-07-25T01:35:38.665Z"
   },
   {
    "duration": 29,
    "start_time": "2024-07-25T01:35:38.672Z"
   },
   {
    "duration": 216,
    "start_time": "2024-07-25T01:35:38.702Z"
   },
   {
    "duration": 186,
    "start_time": "2024-07-25T01:35:38.921Z"
   },
   {
    "duration": 28,
    "start_time": "2024-07-25T01:35:39.109Z"
   },
   {
    "duration": 8,
    "start_time": "2024-07-25T01:35:39.138Z"
   },
   {
    "duration": 219,
    "start_time": "2024-07-25T01:35:39.147Z"
   },
   {
    "duration": 197,
    "start_time": "2024-07-25T01:35:39.367Z"
   },
   {
    "duration": 42,
    "start_time": "2024-07-25T01:35:39.566Z"
   },
   {
    "duration": 205,
    "start_time": "2024-07-25T01:35:39.609Z"
   },
   {
    "duration": 196,
    "start_time": "2024-07-25T01:35:39.816Z"
   },
   {
    "duration": 32,
    "start_time": "2024-07-25T01:35:40.014Z"
   },
   {
    "duration": 214,
    "start_time": "2024-07-25T01:35:40.048Z"
   },
   {
    "duration": 202,
    "start_time": "2024-07-25T01:35:40.264Z"
   },
   {
    "duration": 42,
    "start_time": "2024-07-25T01:35:40.468Z"
   },
   {
    "duration": 1586,
    "start_time": "2024-07-25T06:21:49.358Z"
   },
   {
    "duration": 20,
    "start_time": "2024-07-25T06:21:50.946Z"
   },
   {
    "duration": 28,
    "start_time": "2024-07-25T06:21:50.968Z"
   },
   {
    "duration": 24,
    "start_time": "2024-07-25T06:21:50.998Z"
   },
   {
    "duration": 72,
    "start_time": "2024-07-25T06:21:51.025Z"
   },
   {
    "duration": 4,
    "start_time": "2024-07-25T06:21:51.098Z"
   },
   {
    "duration": 43,
    "start_time": "2024-07-25T06:21:51.112Z"
   },
   {
    "duration": 4,
    "start_time": "2024-07-25T06:21:51.157Z"
   },
   {
    "duration": 7,
    "start_time": "2024-07-25T06:21:51.163Z"
   },
   {
    "duration": 5,
    "start_time": "2024-07-25T06:21:51.171Z"
   },
   {
    "duration": 48,
    "start_time": "2024-07-25T06:21:51.178Z"
   },
   {
    "duration": 31,
    "start_time": "2024-07-25T06:21:51.228Z"
   },
   {
    "duration": 60,
    "start_time": "2024-07-25T06:21:51.261Z"
   },
   {
    "duration": 13,
    "start_time": "2024-07-25T06:21:51.324Z"
   },
   {
    "duration": 15,
    "start_time": "2024-07-25T06:21:51.339Z"
   },
   {
    "duration": 29,
    "start_time": "2024-07-25T06:21:51.355Z"
   },
   {
    "duration": 19,
    "start_time": "2024-07-25T06:21:51.385Z"
   },
   {
    "duration": 3,
    "start_time": "2024-07-25T06:21:51.406Z"
   },
   {
    "duration": 20,
    "start_time": "2024-07-25T06:21:51.411Z"
   },
   {
    "duration": 19,
    "start_time": "2024-07-25T06:21:51.432Z"
   },
   {
    "duration": 10,
    "start_time": "2024-07-25T06:21:51.455Z"
   },
   {
    "duration": 46,
    "start_time": "2024-07-25T06:21:51.466Z"
   },
   {
    "duration": 47,
    "start_time": "2024-07-25T06:21:51.514Z"
   },
   {
    "duration": 103,
    "start_time": "2024-07-25T06:21:51.563Z"
   },
   {
    "duration": 6,
    "start_time": "2024-07-25T06:21:51.668Z"
   },
   {
    "duration": 12,
    "start_time": "2024-07-25T06:21:51.675Z"
   },
   {
    "duration": 226,
    "start_time": "2024-07-25T06:21:51.688Z"
   },
   {
    "duration": 188,
    "start_time": "2024-07-25T06:21:51.915Z"
   },
   {
    "duration": 28,
    "start_time": "2024-07-25T06:21:52.104Z"
   },
   {
    "duration": 23,
    "start_time": "2024-07-25T06:21:52.133Z"
   },
   {
    "duration": 216,
    "start_time": "2024-07-25T06:21:52.158Z"
   },
   {
    "duration": 207,
    "start_time": "2024-07-25T06:21:52.375Z"
   },
   {
    "duration": 37,
    "start_time": "2024-07-25T06:21:52.584Z"
   },
   {
    "duration": 229,
    "start_time": "2024-07-25T06:21:52.623Z"
   },
   {
    "duration": 202,
    "start_time": "2024-07-25T06:21:52.855Z"
   },
   {
    "duration": 34,
    "start_time": "2024-07-25T06:21:53.059Z"
   },
   {
    "duration": 222,
    "start_time": "2024-07-25T06:21:53.095Z"
   },
   {
    "duration": 215,
    "start_time": "2024-07-25T06:21:53.319Z"
   },
   {
    "duration": 43,
    "start_time": "2024-07-25T06:21:53.536Z"
   },
   {
    "duration": 1563,
    "start_time": "2025-06-20T13:46:11.277Z"
   },
   {
    "duration": 21,
    "start_time": "2025-06-20T13:46:12.842Z"
   },
   {
    "duration": 18,
    "start_time": "2025-06-20T13:46:12.870Z"
   },
   {
    "duration": 30,
    "start_time": "2025-06-20T13:46:12.890Z"
   },
   {
    "duration": 52,
    "start_time": "2025-06-20T13:46:12.921Z"
   },
   {
    "duration": 4,
    "start_time": "2025-06-20T13:46:12.975Z"
   },
   {
    "duration": 26,
    "start_time": "2025-06-20T13:46:12.981Z"
   },
   {
    "duration": 54,
    "start_time": "2025-06-20T13:46:13.009Z"
   },
   {
    "duration": 8,
    "start_time": "2025-06-20T13:46:13.064Z"
   },
   {
    "duration": 18,
    "start_time": "2025-06-20T13:46:13.075Z"
   },
   {
    "duration": 40,
    "start_time": "2025-06-20T13:46:13.095Z"
   },
   {
    "duration": 11,
    "start_time": "2025-06-20T13:46:13.137Z"
   },
   {
    "duration": 52,
    "start_time": "2025-06-20T13:46:13.150Z"
   },
   {
    "duration": 16,
    "start_time": "2025-06-20T13:46:13.204Z"
   },
   {
    "duration": 16,
    "start_time": "2025-06-20T13:46:13.222Z"
   },
   {
    "duration": 27,
    "start_time": "2025-06-20T13:46:13.240Z"
   },
   {
    "duration": 20,
    "start_time": "2025-06-20T13:46:13.269Z"
   },
   {
    "duration": 4,
    "start_time": "2025-06-20T13:46:13.291Z"
   },
   {
    "duration": 17,
    "start_time": "2025-06-20T13:46:13.297Z"
   },
   {
    "duration": 6,
    "start_time": "2025-06-20T13:46:13.316Z"
   },
   {
    "duration": 18,
    "start_time": "2025-06-20T13:46:13.324Z"
   },
   {
    "duration": 22,
    "start_time": "2025-06-20T13:46:13.344Z"
   },
   {
    "duration": 10,
    "start_time": "2025-06-20T13:46:13.368Z"
   },
   {
    "duration": 21,
    "start_time": "2025-06-20T13:46:13.380Z"
   },
   {
    "duration": 8,
    "start_time": "2025-06-20T13:46:13.403Z"
   },
   {
    "duration": 15,
    "start_time": "2025-06-20T13:46:13.412Z"
   },
   {
    "duration": 250,
    "start_time": "2025-06-20T13:46:13.430Z"
   },
   {
    "duration": 216,
    "start_time": "2025-06-20T13:46:13.685Z"
   },
   {
    "duration": 32,
    "start_time": "2025-06-20T13:46:13.903Z"
   },
   {
    "duration": 10,
    "start_time": "2025-06-20T13:46:13.937Z"
   },
   {
    "duration": 225,
    "start_time": "2025-06-20T13:46:13.972Z"
   },
   {
    "duration": 209,
    "start_time": "2025-06-20T13:46:14.199Z"
   },
   {
    "duration": 37,
    "start_time": "2025-06-20T13:46:14.410Z"
   },
   {
    "duration": 241,
    "start_time": "2025-06-20T13:46:14.449Z"
   },
   {
    "duration": 202,
    "start_time": "2025-06-20T13:46:14.692Z"
   },
   {
    "duration": 35,
    "start_time": "2025-06-20T13:46:14.896Z"
   },
   {
    "duration": 220,
    "start_time": "2025-06-20T13:46:14.933Z"
   },
   {
    "duration": 216,
    "start_time": "2025-06-20T13:46:15.155Z"
   },
   {
    "duration": 35,
    "start_time": "2025-06-20T13:46:15.373Z"
   },
   {
    "duration": 5,
    "start_time": "2025-06-20T15:22:27.286Z"
   },
   {
    "duration": 280,
    "start_time": "2025-06-20T15:22:27.432Z"
   },
   {
    "duration": 9,
    "start_time": "2025-06-20T15:24:14.264Z"
   },
   {
    "duration": 114,
    "start_time": "2025-06-20T15:29:52.998Z"
   },
   {
    "duration": 148,
    "start_time": "2025-06-20T15:30:13.083Z"
   },
   {
    "duration": 145,
    "start_time": "2025-06-20T15:30:37.903Z"
   },
   {
    "duration": 118,
    "start_time": "2025-06-20T15:30:55.744Z"
   },
   {
    "duration": 142,
    "start_time": "2025-06-20T15:31:30.133Z"
   },
   {
    "duration": 162,
    "start_time": "2025-06-20T15:32:15.938Z"
   },
   {
    "duration": 17,
    "start_time": "2025-06-20T15:32:31.344Z"
   },
   {
    "duration": 147,
    "start_time": "2025-06-20T15:33:20.542Z"
   },
   {
    "duration": 145,
    "start_time": "2025-06-20T15:33:24.263Z"
   },
   {
    "duration": 147,
    "start_time": "2025-06-20T15:33:41.407Z"
   },
   {
    "duration": 164,
    "start_time": "2025-06-20T15:34:53.754Z"
   },
   {
    "duration": 172,
    "start_time": "2025-06-20T15:35:27.491Z"
   },
   {
    "duration": 169,
    "start_time": "2025-06-20T15:35:33.360Z"
   },
   {
    "duration": 303,
    "start_time": "2025-06-20T15:36:09.615Z"
   },
   {
    "duration": 180,
    "start_time": "2025-06-20T15:36:14.908Z"
   },
   {
    "duration": 167,
    "start_time": "2025-06-20T15:36:19.048Z"
   },
   {
    "duration": 183,
    "start_time": "2025-06-20T15:36:26.119Z"
   },
   {
    "duration": 173,
    "start_time": "2025-06-20T15:36:30.867Z"
   },
   {
    "duration": 165,
    "start_time": "2025-06-20T15:36:34.302Z"
   },
   {
    "duration": 182,
    "start_time": "2025-06-20T15:36:37.229Z"
   },
   {
    "duration": 174,
    "start_time": "2025-06-20T15:36:40.309Z"
   },
   {
    "duration": 175,
    "start_time": "2025-06-20T15:36:43.097Z"
   },
   {
    "duration": 188,
    "start_time": "2025-06-20T15:37:04.783Z"
   },
   {
    "duration": 175,
    "start_time": "2025-06-20T15:37:57.619Z"
   },
   {
    "duration": 191,
    "start_time": "2025-06-20T15:39:43.661Z"
   },
   {
    "duration": 194,
    "start_time": "2025-06-20T15:40:36.211Z"
   },
   {
    "duration": 187,
    "start_time": "2025-06-20T15:40:40.221Z"
   },
   {
    "duration": 292,
    "start_time": "2025-06-20T15:41:12.414Z"
   },
   {
    "duration": 173,
    "start_time": "2025-06-20T15:41:21.625Z"
   },
   {
    "duration": 180,
    "start_time": "2025-06-20T15:41:27.364Z"
   },
   {
    "duration": 196,
    "start_time": "2025-06-20T15:41:32.094Z"
   },
   {
    "duration": 193,
    "start_time": "2025-06-20T15:41:43.774Z"
   },
   {
    "duration": 107,
    "start_time": "2025-06-20T15:44:47.250Z"
   },
   {
    "duration": 1057,
    "start_time": "2025-06-20T15:45:02.709Z"
   },
   {
    "duration": 1062,
    "start_time": "2025-06-20T15:45:24.422Z"
   },
   {
    "duration": 17,
    "start_time": "2025-06-20T15:46:05.113Z"
   },
   {
    "duration": 19,
    "start_time": "2025-06-20T15:46:11.809Z"
   },
   {
    "duration": 178,
    "start_time": "2025-06-20T15:46:26.689Z"
   },
   {
    "duration": 185,
    "start_time": "2025-06-20T15:46:37.369Z"
   },
   {
    "duration": 187,
    "start_time": "2025-06-20T15:47:15.654Z"
   },
   {
    "duration": 180,
    "start_time": "2025-06-20T15:47:21.837Z"
   },
   {
    "duration": 186,
    "start_time": "2025-06-20T15:47:24.778Z"
   },
   {
    "duration": 181,
    "start_time": "2025-06-20T15:48:07.740Z"
   },
   {
    "duration": 180,
    "start_time": "2025-06-20T15:48:20.340Z"
   },
   {
    "duration": 188,
    "start_time": "2025-06-20T15:48:32.694Z"
   },
   {
    "duration": 191,
    "start_time": "2025-06-20T15:49:58.075Z"
   },
   {
    "duration": 336,
    "start_time": "2025-06-20T15:54:42.247Z"
   },
   {
    "duration": 176,
    "start_time": "2025-06-20T15:55:22.796Z"
   },
   {
    "duration": 181,
    "start_time": "2025-06-20T15:55:25.417Z"
   },
   {
    "duration": 189,
    "start_time": "2025-06-20T15:57:21.059Z"
   },
   {
    "duration": 285,
    "start_time": "2025-06-20T15:58:44.713Z"
   },
   {
    "duration": 180,
    "start_time": "2025-06-20T15:58:49.591Z"
   },
   {
    "duration": 180,
    "start_time": "2025-06-20T15:59:19.221Z"
   },
   {
    "duration": 166,
    "start_time": "2025-06-20T16:01:26.956Z"
   },
   {
    "duration": 127,
    "start_time": "2025-06-20T16:04:26.768Z"
   },
   {
    "duration": 6,
    "start_time": "2025-06-20T16:05:07.791Z"
   },
   {
    "duration": 128,
    "start_time": "2025-06-20T16:05:13.697Z"
   },
   {
    "duration": 191,
    "start_time": "2025-06-20T16:06:32.123Z"
   },
   {
    "duration": 187,
    "start_time": "2025-06-20T16:07:00.863Z"
   },
   {
    "duration": 198,
    "start_time": "2025-06-20T16:07:32.062Z"
   },
   {
    "duration": 173,
    "start_time": "2025-06-20T16:07:37.242Z"
   },
   {
    "duration": 169,
    "start_time": "2025-06-20T16:07:40.695Z"
   },
   {
    "duration": 278,
    "start_time": "2025-06-20T16:09:24.185Z"
   },
   {
    "duration": 169,
    "start_time": "2025-06-20T16:09:56.341Z"
   },
   {
    "duration": 169,
    "start_time": "2025-06-20T16:10:01.121Z"
   },
   {
    "duration": 175,
    "start_time": "2025-06-20T16:10:40.908Z"
   },
   {
    "duration": 171,
    "start_time": "2025-06-20T16:10:48.997Z"
   },
   {
    "duration": 168,
    "start_time": "2025-06-20T16:11:12.590Z"
   },
   {
    "duration": 173,
    "start_time": "2025-06-20T16:13:08.188Z"
   },
   {
    "duration": 160,
    "start_time": "2025-06-20T16:13:13.944Z"
   },
   {
    "duration": 176,
    "start_time": "2025-06-20T16:38:11.728Z"
   },
   {
    "duration": 171,
    "start_time": "2025-06-20T16:39:50.290Z"
   },
   {
    "duration": 193,
    "start_time": "2025-06-20T16:40:01.984Z"
   },
   {
    "duration": 187,
    "start_time": "2025-06-20T16:40:08.148Z"
   },
   {
    "duration": 193,
    "start_time": "2025-06-20T16:40:18.092Z"
   },
   {
    "duration": 173,
    "start_time": "2025-06-20T16:40:31.368Z"
   },
   {
    "duration": 174,
    "start_time": "2025-06-20T16:42:28.211Z"
   },
   {
    "duration": 169,
    "start_time": "2025-06-20T16:42:39.168Z"
   },
   {
    "duration": 180,
    "start_time": "2025-06-20T16:42:43.788Z"
   },
   {
    "duration": 324,
    "start_time": "2025-06-20T16:42:55.643Z"
   },
   {
    "duration": 184,
    "start_time": "2025-06-20T16:43:42.649Z"
   },
   {
    "duration": 163,
    "start_time": "2025-06-20T16:44:35.954Z"
   },
   {
    "duration": 165,
    "start_time": "2025-06-20T16:44:39.036Z"
   },
   {
    "duration": 173,
    "start_time": "2025-06-20T16:44:51.900Z"
   },
   {
    "duration": 176,
    "start_time": "2025-06-20T16:45:15.276Z"
   },
   {
    "duration": 175,
    "start_time": "2025-06-20T16:46:36.182Z"
   },
   {
    "duration": 181,
    "start_time": "2025-06-20T16:47:18.249Z"
   },
   {
    "duration": 175,
    "start_time": "2025-06-20T16:48:15.539Z"
   },
   {
    "duration": 188,
    "start_time": "2025-06-20T17:04:55.248Z"
   },
   {
    "duration": 1289,
    "start_time": "2025-06-20T17:08:08.081Z"
   },
   {
    "duration": 19,
    "start_time": "2025-06-20T17:08:09.373Z"
   },
   {
    "duration": 22,
    "start_time": "2025-06-20T17:08:09.394Z"
   },
   {
    "duration": 11,
    "start_time": "2025-06-20T17:08:09.418Z"
   },
   {
    "duration": 53,
    "start_time": "2025-06-20T17:08:09.431Z"
   },
   {
    "duration": 3,
    "start_time": "2025-06-20T17:08:09.486Z"
   },
   {
    "duration": 16,
    "start_time": "2025-06-20T17:08:09.491Z"
   },
   {
    "duration": 8,
    "start_time": "2025-06-20T17:08:09.508Z"
   },
   {
    "duration": 8,
    "start_time": "2025-06-20T17:08:09.517Z"
   },
   {
    "duration": 5,
    "start_time": "2025-06-20T17:08:09.526Z"
   },
   {
    "duration": 62,
    "start_time": "2025-06-20T17:08:09.532Z"
   },
   {
    "duration": 10,
    "start_time": "2025-06-20T17:08:09.596Z"
   },
   {
    "duration": 5,
    "start_time": "2025-06-20T17:08:09.608Z"
   },
   {
    "duration": 12,
    "start_time": "2025-06-20T17:08:09.616Z"
   },
   {
    "duration": 13,
    "start_time": "2025-06-20T17:08:09.630Z"
   },
   {
    "duration": 42,
    "start_time": "2025-06-20T17:08:09.645Z"
   },
   {
    "duration": 17,
    "start_time": "2025-06-20T17:08:09.689Z"
   },
   {
    "duration": 8,
    "start_time": "2025-06-20T17:08:09.708Z"
   },
   {
    "duration": 12,
    "start_time": "2025-06-20T17:08:09.717Z"
   },
   {
    "duration": 6,
    "start_time": "2025-06-20T17:08:09.730Z"
   },
   {
    "duration": 4,
    "start_time": "2025-06-20T17:08:09.737Z"
   },
   {
    "duration": 9,
    "start_time": "2025-06-20T17:08:09.771Z"
   },
   {
    "duration": 17,
    "start_time": "2025-06-20T17:08:09.782Z"
   },
   {
    "duration": 23,
    "start_time": "2025-06-20T17:08:09.801Z"
   },
   {
    "duration": 7,
    "start_time": "2025-06-20T17:08:09.825Z"
   },
   {
    "duration": 201,
    "start_time": "2025-06-20T17:08:09.833Z"
   },
   {
    "duration": 185,
    "start_time": "2025-06-20T17:08:10.036Z"
   },
   {
    "duration": 192,
    "start_time": "2025-06-20T17:08:10.222Z"
   },
   {
    "duration": 29,
    "start_time": "2025-06-20T17:08:10.415Z"
   },
   {
    "duration": 9,
    "start_time": "2025-06-20T17:08:10.445Z"
   },
   {
    "duration": 222,
    "start_time": "2025-06-20T17:08:10.455Z"
   },
   {
    "duration": 185,
    "start_time": "2025-06-20T17:08:10.679Z"
   },
   {
    "duration": 44,
    "start_time": "2025-06-20T17:08:10.865Z"
   },
   {
    "duration": 197,
    "start_time": "2025-06-20T17:08:10.911Z"
   },
   {
    "duration": 124,
    "start_time": "2025-06-20T17:08:11.109Z"
   },
   {
    "duration": 0,
    "start_time": "2025-06-20T17:08:11.234Z"
   },
   {
    "duration": 0,
    "start_time": "2025-06-20T17:08:11.235Z"
   },
   {
    "duration": 0,
    "start_time": "2025-06-20T17:08:11.236Z"
   },
   {
    "duration": 0,
    "start_time": "2025-06-20T17:08:11.237Z"
   },
   {
    "duration": 0,
    "start_time": "2025-06-20T17:08:11.238Z"
   },
   {
    "duration": 169,
    "start_time": "2025-06-20T17:09:42.533Z"
   },
   {
    "duration": 103,
    "start_time": "2025-06-20T17:10:16.408Z"
   },
   {
    "duration": 46,
    "start_time": "2025-06-20T17:10:22.204Z"
   },
   {
    "duration": 263,
    "start_time": "2025-06-20T17:10:34.162Z"
   },
   {
    "duration": 174,
    "start_time": "2025-06-20T17:13:05.246Z"
   },
   {
    "duration": 187,
    "start_time": "2025-06-20T17:14:09.707Z"
   },
   {
    "duration": 33,
    "start_time": "2025-06-20T17:14:18.351Z"
   },
   {
    "duration": 1284,
    "start_time": "2025-06-20T17:15:03.579Z"
   },
   {
    "duration": 19,
    "start_time": "2025-06-20T17:15:04.865Z"
   },
   {
    "duration": 22,
    "start_time": "2025-06-20T17:15:04.886Z"
   },
   {
    "duration": 10,
    "start_time": "2025-06-20T17:15:04.910Z"
   },
   {
    "duration": 39,
    "start_time": "2025-06-20T17:15:04.922Z"
   },
   {
    "duration": 12,
    "start_time": "2025-06-20T17:15:04.962Z"
   },
   {
    "duration": 46,
    "start_time": "2025-06-20T17:15:04.975Z"
   },
   {
    "duration": 5,
    "start_time": "2025-06-20T17:15:05.023Z"
   },
   {
    "duration": 11,
    "start_time": "2025-06-20T17:15:05.030Z"
   },
   {
    "duration": 18,
    "start_time": "2025-06-20T17:15:05.043Z"
   },
   {
    "duration": 36,
    "start_time": "2025-06-20T17:15:05.063Z"
   },
   {
    "duration": 11,
    "start_time": "2025-06-20T17:15:05.101Z"
   },
   {
    "duration": 5,
    "start_time": "2025-06-20T17:15:05.114Z"
   },
   {
    "duration": 12,
    "start_time": "2025-06-20T17:15:05.122Z"
   },
   {
    "duration": 37,
    "start_time": "2025-06-20T17:15:05.136Z"
   },
   {
    "duration": 20,
    "start_time": "2025-06-20T17:15:05.175Z"
   },
   {
    "duration": 18,
    "start_time": "2025-06-20T17:15:05.197Z"
   },
   {
    "duration": 3,
    "start_time": "2025-06-20T17:15:05.217Z"
   },
   {
    "duration": 13,
    "start_time": "2025-06-20T17:15:05.221Z"
   },
   {
    "duration": 9,
    "start_time": "2025-06-20T17:15:05.236Z"
   },
   {
    "duration": 26,
    "start_time": "2025-06-20T17:15:05.246Z"
   },
   {
    "duration": 11,
    "start_time": "2025-06-20T17:15:05.274Z"
   },
   {
    "duration": 13,
    "start_time": "2025-06-20T17:15:05.287Z"
   },
   {
    "duration": 54,
    "start_time": "2025-06-20T17:15:05.302Z"
   },
   {
    "duration": 7,
    "start_time": "2025-06-20T17:15:05.358Z"
   },
   {
    "duration": 196,
    "start_time": "2025-06-20T17:15:05.367Z"
   },
   {
    "duration": 173,
    "start_time": "2025-06-20T17:15:05.565Z"
   },
   {
    "duration": 185,
    "start_time": "2025-06-20T17:15:05.740Z"
   },
   {
    "duration": 29,
    "start_time": "2025-06-20T17:15:05.927Z"
   },
   {
    "duration": 72,
    "start_time": "2025-06-20T17:15:05.957Z"
   },
   {
    "duration": 212,
    "start_time": "2025-06-20T17:15:06.031Z"
   },
   {
    "duration": 171,
    "start_time": "2025-06-20T17:15:06.245Z"
   },
   {
    "duration": 37,
    "start_time": "2025-06-20T17:15:06.418Z"
   },
   {
    "duration": 193,
    "start_time": "2025-06-20T17:15:06.457Z"
   },
   {
    "duration": 178,
    "start_time": "2025-06-20T17:15:06.652Z"
   },
   {
    "duration": 41,
    "start_time": "2025-06-20T17:15:06.832Z"
   },
   {
    "duration": 191,
    "start_time": "2025-06-20T17:15:06.874Z"
   },
   {
    "duration": 267,
    "start_time": "2025-06-20T17:15:07.070Z"
   },
   {
    "duration": 41,
    "start_time": "2025-06-20T17:15:07.339Z"
   }
  ],
  "colab": {
   "provenance": []
  },
  "kernelspec": {
   "display_name": "Python 3 (ipykernel)",
   "language": "python",
   "name": "python3"
  },
  "language_info": {
   "codemirror_mode": {
    "name": "ipython",
    "version": 3
   },
   "file_extension": ".py",
   "mimetype": "text/x-python",
   "name": "python",
   "nbconvert_exporter": "python",
   "pygments_lexer": "ipython3",
   "version": "3.9.23"
  },
  "toc": {
   "base_numbering": 1,
   "nav_menu": {},
   "number_sections": true,
   "sideBar": true,
   "skip_h1_title": true,
   "title_cell": "Table of Contents",
   "title_sidebar": "Contents",
   "toc_cell": false,
   "toc_position": {},
   "toc_section_display": true,
   "toc_window_display": false
  }
 },
 "nbformat": 4,
 "nbformat_minor": 5
}
