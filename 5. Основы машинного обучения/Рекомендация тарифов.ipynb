{
 "cells": [
  {
   "cell_type": "markdown",
   "metadata": {},
   "source": [
    "# Рекомендация тарифов"
   ]
  },
  {
   "cell_type": "markdown",
   "metadata": {},
   "source": [
    "<span style=\"font-size: 20px;\">Описание проекта</span> \n",
    "\n",
    "Оператор мобильной связи **«Мегалайн»** обнаружил, что многие клиенты продолжают использовать архивные тарифы.  \n",
    "Задача — построить систему, которая проанализирует поведение пользователей и порекомендует им один из актуальных тарифов: **«Смарт»** или **«Ультра»**.\n",
    "\n",
    "В распоряжении имеются данные о клиентах, которые уже перешли на один из этих тарифов.  \n",
    "Необходимо построить **модель классификации**, способную на основе поведения пользователя определить, какой тариф ему подходит.\n",
    "\n",
    "Предобработка данных уже выполнена.  \n",
    "Качество модели оценивается по метрике **accuracy**. Необходимо, чтобы точность модели на тестовой выборке была не менее **0.75**.\n"
   ]
  },
  {
   "cell_type": "markdown",
   "metadata": {},
   "source": [
    "<span style=\"font-size: 20px;\">Описание данных</span> \n",
    "\n",
    "Каждый объект в наборе данных — это информация о поведении одного пользователя за месяц. Известно:\n",
    "\n",
    "- `сalls` — количество звонков,\n",
    "- `minutes` — суммарная длительность звонков в минутах,\n",
    "- `messages` — количество sms-сообщений,\n",
    "- `mb_used` — израсходованный интернет-трафик в Мб,\n",
    "- `сais_ultralls` — каким тарифом пользовался в течение месяца («Ультра» — 1, «Смарт» — 0)."
   ]
  },
  {
   "cell_type": "markdown",
   "metadata": {},
   "source": [
    "## Познакомимся с данными"
   ]
  },
  {
   "cell_type": "code",
   "execution_count": 1,
   "metadata": {},
   "outputs": [],
   "source": [
    "import pandas as pd\n",
    "\n",
    "from sklearn.tree import DecisionTreeClassifier\n",
    "from sklearn.ensemble import RandomForestClassifier\n",
    "from sklearn.linear_model import LogisticRegression \n",
    "\n",
    "from sklearn.model_selection import train_test_split\n",
    "from sklearn.metrics import accuracy_score "
   ]
  },
  {
   "cell_type": "code",
   "execution_count": 2,
   "metadata": {},
   "outputs": [],
   "source": [
    "df = pd.read_csv('/datasets/users_behavior.csv')"
   ]
  },
  {
   "cell_type": "code",
   "execution_count": 3,
   "metadata": {
    "scrolled": true
   },
   "outputs": [
    {
     "data": {
      "text/html": [
       "<div>\n",
       "<style scoped>\n",
       "    .dataframe tbody tr th:only-of-type {\n",
       "        vertical-align: middle;\n",
       "    }\n",
       "\n",
       "    .dataframe tbody tr th {\n",
       "        vertical-align: top;\n",
       "    }\n",
       "\n",
       "    .dataframe thead th {\n",
       "        text-align: right;\n",
       "    }\n",
       "</style>\n",
       "<table border=\"1\" class=\"dataframe\">\n",
       "  <thead>\n",
       "    <tr style=\"text-align: right;\">\n",
       "      <th></th>\n",
       "      <th>calls</th>\n",
       "      <th>minutes</th>\n",
       "      <th>messages</th>\n",
       "      <th>mb_used</th>\n",
       "      <th>is_ultra</th>\n",
       "    </tr>\n",
       "  </thead>\n",
       "  <tbody>\n",
       "    <tr>\n",
       "      <th>0</th>\n",
       "      <td>40.0</td>\n",
       "      <td>311.90</td>\n",
       "      <td>83.0</td>\n",
       "      <td>19915.42</td>\n",
       "      <td>0</td>\n",
       "    </tr>\n",
       "    <tr>\n",
       "      <th>1</th>\n",
       "      <td>85.0</td>\n",
       "      <td>516.75</td>\n",
       "      <td>56.0</td>\n",
       "      <td>22696.96</td>\n",
       "      <td>0</td>\n",
       "    </tr>\n",
       "    <tr>\n",
       "      <th>2</th>\n",
       "      <td>77.0</td>\n",
       "      <td>467.66</td>\n",
       "      <td>86.0</td>\n",
       "      <td>21060.45</td>\n",
       "      <td>0</td>\n",
       "    </tr>\n",
       "    <tr>\n",
       "      <th>3</th>\n",
       "      <td>106.0</td>\n",
       "      <td>745.53</td>\n",
       "      <td>81.0</td>\n",
       "      <td>8437.39</td>\n",
       "      <td>1</td>\n",
       "    </tr>\n",
       "    <tr>\n",
       "      <th>4</th>\n",
       "      <td>66.0</td>\n",
       "      <td>418.74</td>\n",
       "      <td>1.0</td>\n",
       "      <td>14502.75</td>\n",
       "      <td>0</td>\n",
       "    </tr>\n",
       "  </tbody>\n",
       "</table>\n",
       "</div>"
      ],
      "text/plain": [
       "   calls  minutes  messages   mb_used  is_ultra\n",
       "0   40.0   311.90      83.0  19915.42         0\n",
       "1   85.0   516.75      56.0  22696.96         0\n",
       "2   77.0   467.66      86.0  21060.45         0\n",
       "3  106.0   745.53      81.0   8437.39         1\n",
       "4   66.0   418.74       1.0  14502.75         0"
      ]
     },
     "execution_count": 3,
     "metadata": {},
     "output_type": "execute_result"
    }
   ],
   "source": [
    "# познакомимся с таблицей\n",
    "df.head()"
   ]
  },
  {
   "cell_type": "code",
   "execution_count": 4,
   "metadata": {},
   "outputs": [
    {
     "name": "stdout",
     "output_type": "stream",
     "text": [
      "<class 'pandas.core.frame.DataFrame'>\n",
      "RangeIndex: 3214 entries, 0 to 3213\n",
      "Data columns (total 5 columns):\n",
      " #   Column    Non-Null Count  Dtype  \n",
      "---  ------    --------------  -----  \n",
      " 0   calls     3214 non-null   float64\n",
      " 1   minutes   3214 non-null   float64\n",
      " 2   messages  3214 non-null   float64\n",
      " 3   mb_used   3214 non-null   float64\n",
      " 4   is_ultra  3214 non-null   int64  \n",
      "dtypes: float64(4), int64(1)\n",
      "memory usage: 125.7 KB\n"
     ]
    }
   ],
   "source": [
    "# посмотрим общую информацию\n",
    "df.info()"
   ]
  },
  {
   "cell_type": "markdown",
   "metadata": {},
   "source": [
    "## Разобьем данные на выборки"
   ]
  },
  {
   "cell_type": "code",
   "execution_count": 5,
   "metadata": {},
   "outputs": [],
   "source": [
    "# разделим признаки\n",
    "features = df.drop('is_ultra', axis=1)\n",
    "target = df['is_ultra']"
   ]
  },
  {
   "cell_type": "code",
   "execution_count": 6,
   "metadata": {},
   "outputs": [],
   "source": [
    "# разобьем на обучающую и временную\n",
    "features_train, features_temp, target_train, target_temp = train_test_split(\n",
    "    features, target, test_size=0.25, random_state=12345)\n",
    "\n",
    "# разобьем на валидационную и тестовую\n",
    "features_valid, features_test, target_valid, target_test = train_test_split(\n",
    "    features, target, test_size=0.25, random_state=12345)"
   ]
  },
  {
   "cell_type": "markdown",
   "metadata": {},
   "source": [
    "## Рассмотрим и протестируем модели"
   ]
  },
  {
   "cell_type": "markdown",
   "metadata": {},
   "source": [
    "### Дерево решений"
   ]
  },
  {
   "cell_type": "code",
   "execution_count": 7,
   "metadata": {},
   "outputs": [
    {
     "name": "stdout",
     "output_type": "stream",
     "text": [
      "Лучий результат на валидационной выборке: 1.0, при глубине: 25\n"
     ]
    }
   ],
   "source": [
    "# лучшая глубина для разных выборок \n",
    "best_depth_tree_valid = 0\n",
    "\n",
    "# лучший accurancy для разных выборок \n",
    "best_accurancy_tree_valid = 0\n",
    "\n",
    "# лучшая модель по валидационной выборке \n",
    "best_model_tree_valid = None\n",
    "\n",
    "for depth in range(1, 26):\n",
    "    \n",
    "    model = DecisionTreeClassifier(max_depth=depth, random_state=12345)\n",
    "    model.fit(features_train, target_train)\n",
    "    \n",
    "    prediction = model.predict(features_valid)\n",
    "    accurancy_valid = accuracy_score(prediction, target_valid)\n",
    "    \n",
    "    if accurancy_valid > best_accurancy_tree_valid:\n",
    "        \n",
    "        best_depth_tree_valid = depth\n",
    "        best_accurancy_tree_valid = accurancy_valid\n",
    "        best_model_tree_valid = model\n",
    "\n",
    "print(f'Лучий результат на валидационной выборке: {best_accurancy_tree_valid}, \\\n",
    "при глубине: {best_depth_tree_valid}')"
   ]
  },
  {
   "cell_type": "markdown",
   "metadata": {},
   "source": [
    "Как мы видим, результаты для разных выборок различаются, что может говорить о более сложных данных в тестовой выборке.\n",
    "\n",
    "- На валидационной выборке модель демонстрирует отличные результаты, достигая 100% точности. \n",
    "- Однако на тестовой выборке, начиная с 7-го шага, наблюдается снижение точности модели, что может говорить о переобучении."
   ]
  },
  {
   "cell_type": "markdown",
   "metadata": {},
   "source": [
    "### Случайный лес"
   ]
  },
  {
   "cell_type": "code",
   "execution_count": 8,
   "metadata": {},
   "outputs": [
    {
     "name": "stdout",
     "output_type": "stream",
     "text": [
      "Лучий результат на валидационной выборке: 1.0, при числе деревьев: 60 и глубине: 25\n"
     ]
    }
   ],
   "source": [
    "# лучшая глубина для разных выборок \n",
    "best_depth_forest_valid = 0\n",
    "\n",
    "# лучший accurancy для разных выборок \n",
    "best_accurancy_forest_valid = 0\n",
    "\n",
    "# лучшее число деревьев для разных выборок \n",
    "best_est_forest_valid = 0\n",
    "\n",
    "# лучшая модель по валидационной выборке \n",
    "best_model_forest_valid = None\n",
    "\n",
    "for n in range(10, 101, 10):\n",
    "    \n",
    "    for depth in range(1, 31):\n",
    "    \n",
    "        model = RandomForestClassifier(max_depth=depth, random_state=12345, n_estimators=n)\n",
    "        model.fit(features_train, target_train)\n",
    "    \n",
    "        prediction = model.predict(features_valid)\n",
    "        accurancy_valid = accuracy_score(prediction, target_valid)\n",
    "        \n",
    "        if accurancy_valid > best_accurancy_forest_valid:\n",
    "            \n",
    "            best_accurancy_forest_valid = accurancy_valid\n",
    "            \n",
    "            best_depth_forest_valid = depth\n",
    "            best_est_forest_valid = n\n",
    "            best_model_forest_valid = model\n",
    "            \n",
    "print(f'Лучий результат на валидационной выборке: {best_accurancy_forest_valid}, \\\n",
    "при числе деревьев: {best_est_forest_valid} и глубине: {best_depth_tree_valid}')"
   ]
  },
  {
   "cell_type": "markdown",
   "metadata": {},
   "source": [
    "С деревом решений ситуация аналогичная. Гиперпараметры, при которых достигаются наилучшие результаты, для разных выборок не совпадают:\n",
    "- На валидационной выборке с увеличением числа деревьев и глубины точность достигает максимума при 60 деревьях и глубине 23.\n",
    "- На тестовой выборке модель достигает пика точности при 20 деревьях и глубине 9, после чего точность начинает снижаться, что свидетельствует о переобучении."
   ]
  },
  {
   "cell_type": "markdown",
   "metadata": {},
   "source": [
    "### Логистическая регрессия"
   ]
  },
  {
   "cell_type": "code",
   "execution_count": 9,
   "metadata": {},
   "outputs": [
    {
     "name": "stdout",
     "output_type": "stream",
     "text": [
      "Лучий результат на валидационной выборке: 0.7024896265560165, при числе повторений: 100\n"
     ]
    }
   ],
   "source": [
    "# лучший accurancy для разных выборок \n",
    "best_accurancy_line_valid = 0\n",
    "\n",
    "# лучшее число повторений для разных выборок\n",
    "max_iter_valid = 0\n",
    "\n",
    "# лучшая модель по валидационной выборке \n",
    "best_model_line_valid = None\n",
    "\n",
    "for i in range(100, 10001, 100):\n",
    "    \n",
    "    model = LogisticRegression(random_state=12345, solver='lbfgs', max_iter=i)\n",
    "    model.fit(features_train, target_train)\n",
    "    \n",
    "    accurancy_valid = model.score(features_valid, target_valid)\n",
    "    \n",
    "    if accurancy_valid > best_accurancy_line_valid:\n",
    "        \n",
    "        best_accurancy_line_valid = accurancy_valid\n",
    "        max_iter_valid = i\n",
    "        best_model_line_valid = model\n",
    "\n",
    "print(f'Лучий результат на валидационной выборке: {best_accurancy_line_valid}, \\\n",
    "при числе повторений: {max_iter_valid}')"
   ]
  },
  {
   "cell_type": "markdown",
   "metadata": {},
   "source": [
    "При логистической регрессии наилучшие результаты для обеих выборок были достигнуты при наименьшем числе итераций. Это может говорить о том, что модель быстро учится и дальнейшее увеличение числа итераций может приводить к переобучению."
   ]
  },
  {
   "cell_type": "markdown",
   "metadata": {},
   "source": [
    "#### Проверка лучшей модели"
   ]
  },
  {
   "cell_type": "markdown",
   "metadata": {},
   "source": [
    "Проверим модель случайного леса, которая показала лучший результат на валидационной выборке, на тестовых данных."
   ]
  },
  {
   "cell_type": "code",
   "execution_count": 10,
   "metadata": {},
   "outputs": [
    {
     "data": {
      "text/plain": [
       "0.7935323383084577"
      ]
     },
     "execution_count": 10,
     "metadata": {},
     "output_type": "execute_result"
    }
   ],
   "source": [
    "best_model_forest_valid.score(features_test, target_test)"
   ]
  },
  {
   "cell_type": "markdown",
   "metadata": {},
   "source": [
    "На тестовых данных точность снизилась до **79%**, что всё еще соответствует целевому показателю. "
   ]
  },
  {
   "cell_type": "markdown",
   "metadata": {},
   "source": [
    "## Проверим модели на адекватность"
   ]
  },
  {
   "cell_type": "code",
   "execution_count": 11,
   "metadata": {},
   "outputs": [
    {
     "data": {
      "text/plain": [
       "0    0.693528\n",
       "1    0.306472\n",
       "Name: is_ultra, dtype: float64"
      ]
     },
     "execution_count": 11,
     "metadata": {},
     "output_type": "execute_result"
    }
   ],
   "source": [
    "# gосмотрим на распределение целевого признака по исходным данным\n",
    "df['is_ultra'].value_counts(normalize=True)"
   ]
  },
  {
   "cell_type": "markdown",
   "metadata": {},
   "source": [
    "В исходном наборе данных значение 0 целевого признака, предсказываемого нашей моделью, встречается в 69.35% случаев. Если модель будет предсказывать всегда 0, то она будет права с вероятностью 69.35%. Значит, accuracy нашей модели должно быть выше этого показателя, чтобы считаться адекватной."
   ]
  },
  {
   "cell_type": "markdown",
   "metadata": {},
   "source": [
    "**Случайный лес**\n",
    "\n",
    "Лучий результат на тестовой выборке: 0.7935323383084577, при числе деревьев: 60 и глубине: 23  \n",
    " \n",
    " - **accuracy** случайного леса на тестовой выборке **79%**, что выше 69.35% — модель адекватна.\n"
   ]
  },
  {
   "cell_type": "markdown",
   "metadata": {},
   "source": [
    "## Вывод"
   ]
  },
  {
   "cell_type": "markdown",
   "metadata": {},
   "source": [
    "Лучший результат на тестовой выборке показала модель **\"Случайный лес\"** с точностью **79%**, что соответствует:\n",
    "\n",
    "- целевому показателю\n",
    "- более высокой точности, чем наивное предсказание.\n",
    "\n",
    "Она лучше всего подходит для предсказания целевого признака в этой задаче. "
   ]
  }
 ],
 "metadata": {
  "ExecuteTimeLog": [
   {
    "duration": 411,
    "start_time": "2024-09-26T02:42:25.265Z"
   },
   {
    "duration": 73,
    "start_time": "2024-09-26T02:44:14.660Z"
   },
   {
    "duration": 79,
    "start_time": "2024-09-26T02:44:21.666Z"
   },
   {
    "duration": 17,
    "start_time": "2024-09-26T02:44:24.877Z"
   },
   {
    "duration": 865,
    "start_time": "2024-09-26T02:45:18.937Z"
   },
   {
    "duration": 658,
    "start_time": "2024-09-26T02:45:30.007Z"
   },
   {
    "duration": 643,
    "start_time": "2024-09-26T02:45:38.117Z"
   },
   {
    "duration": 10,
    "start_time": "2024-09-26T02:46:39.856Z"
   },
   {
    "duration": 13,
    "start_time": "2024-09-26T02:46:42.995Z"
   },
   {
    "duration": 821,
    "start_time": "2024-09-26T02:56:10.931Z"
   },
   {
    "duration": 5,
    "start_time": "2024-09-26T02:57:19.179Z"
   },
   {
    "duration": 21,
    "start_time": "2024-09-26T02:57:20.083Z"
   },
   {
    "duration": 61,
    "start_time": "2024-09-26T02:59:29.545Z"
   },
   {
    "duration": 3,
    "start_time": "2024-09-26T02:59:40.193Z"
   },
   {
    "duration": 57,
    "start_time": "2024-09-26T03:02:08.679Z"
   },
   {
    "duration": 6,
    "start_time": "2024-09-26T03:04:00.749Z"
   },
   {
    "duration": 4,
    "start_time": "2024-09-26T03:04:02.969Z"
   },
   {
    "duration": 6,
    "start_time": "2024-09-26T03:04:03.120Z"
   },
   {
    "duration": 3,
    "start_time": "2024-09-26T03:06:28.512Z"
   },
   {
    "duration": 4,
    "start_time": "2024-09-26T03:09:08.986Z"
   },
   {
    "duration": 5,
    "start_time": "2024-09-26T03:09:09.172Z"
   },
   {
    "duration": 17,
    "start_time": "2024-09-26T03:09:09.319Z"
   },
   {
    "duration": 9,
    "start_time": "2024-09-26T03:11:02.998Z"
   },
   {
    "duration": 9,
    "start_time": "2024-09-26T03:11:07.691Z"
   },
   {
    "duration": 44,
    "start_time": "2024-10-02T12:34:08.171Z"
   },
   {
    "duration": 1070,
    "start_time": "2024-10-02T12:34:10.589Z"
   },
   {
    "duration": 71,
    "start_time": "2024-10-02T12:34:11.661Z"
   },
   {
    "duration": 15,
    "start_time": "2024-10-02T12:34:11.734Z"
   },
   {
    "duration": 61,
    "start_time": "2024-10-02T12:34:12.933Z"
   },
   {
    "duration": 5,
    "start_time": "2024-10-02T12:34:19.042Z"
   },
   {
    "duration": 3,
    "start_time": "2024-10-02T12:35:01.391Z"
   },
   {
    "duration": 8,
    "start_time": "2024-10-02T12:46:54.741Z"
   },
   {
    "duration": 4,
    "start_time": "2024-10-02T12:47:00.496Z"
   },
   {
    "duration": 32,
    "start_time": "2024-10-02T12:47:01.283Z"
   },
   {
    "duration": 7,
    "start_time": "2024-10-02T12:50:08.462Z"
   },
   {
    "duration": 31,
    "start_time": "2024-10-02T12:50:16.411Z"
   },
   {
    "duration": 3,
    "start_time": "2024-10-02T12:50:18.512Z"
   },
   {
    "duration": 3,
    "start_time": "2024-10-02T12:50:26.453Z"
   },
   {
    "duration": 3,
    "start_time": "2024-10-02T12:50:27.045Z"
   },
   {
    "duration": 6,
    "start_time": "2024-10-02T13:03:40.772Z"
   },
   {
    "duration": 21,
    "start_time": "2024-10-02T13:04:20.398Z"
   },
   {
    "duration": 7,
    "start_time": "2024-10-02T13:04:24.070Z"
   },
   {
    "duration": 6,
    "start_time": "2024-10-02T13:04:37.591Z"
   },
   {
    "duration": 39,
    "start_time": "2024-10-02T13:04:38.438Z"
   },
   {
    "duration": 4,
    "start_time": "2024-10-02T13:05:10.426Z"
   },
   {
    "duration": 78,
    "start_time": "2024-10-02T13:05:15.737Z"
   },
   {
    "duration": 215,
    "start_time": "2024-10-02T13:05:22.658Z"
   },
   {
    "duration": 389,
    "start_time": "2024-10-02T13:05:30.188Z"
   },
   {
    "duration": 320,
    "start_time": "2024-10-02T13:05:39.069Z"
   },
   {
    "duration": 331,
    "start_time": "2024-10-02T13:05:44.547Z"
   },
   {
    "duration": 2,
    "start_time": "2024-10-02T13:05:53.865Z"
   },
   {
    "duration": 6,
    "start_time": "2024-10-02T13:09:16.280Z"
   },
   {
    "duration": 16,
    "start_time": "2024-10-02T13:10:00.534Z"
   },
   {
    "duration": 34,
    "start_time": "2024-10-02T13:10:06.677Z"
   },
   {
    "duration": 7,
    "start_time": "2024-10-02T13:10:11.158Z"
   },
   {
    "duration": 420,
    "start_time": "2024-10-02T13:11:48.934Z"
   },
   {
    "duration": 405,
    "start_time": "2024-10-02T13:12:32.397Z"
   },
   {
    "duration": 4,
    "start_time": "2024-10-02T13:12:44.488Z"
   },
   {
    "duration": 397,
    "start_time": "2024-10-02T13:14:02.211Z"
   },
   {
    "duration": 417,
    "start_time": "2024-10-02T13:14:12.861Z"
   },
   {
    "duration": 412,
    "start_time": "2024-10-02T13:15:22.974Z"
   },
   {
    "duration": 4,
    "start_time": "2024-10-02T13:15:38.542Z"
   },
   {
    "duration": 409,
    "start_time": "2024-10-02T13:16:14.866Z"
   },
   {
    "duration": 3,
    "start_time": "2024-10-02T13:16:19.194Z"
   },
   {
    "duration": 421,
    "start_time": "2024-10-02T13:17:23.505Z"
   },
   {
    "duration": 9,
    "start_time": "2024-10-02T13:17:24.653Z"
   },
   {
    "duration": 4,
    "start_time": "2024-10-02T13:17:25.802Z"
   },
   {
    "duration": 6,
    "start_time": "2024-10-02T13:17:42.610Z"
   },
   {
    "duration": 3,
    "start_time": "2024-10-02T13:17:43.451Z"
   },
   {
    "duration": 1119,
    "start_time": "2024-10-02T13:18:12.559Z"
   },
   {
    "duration": 29,
    "start_time": "2024-10-02T13:18:13.679Z"
   },
   {
    "duration": 15,
    "start_time": "2024-10-02T13:18:13.710Z"
   },
   {
    "duration": 4,
    "start_time": "2024-10-02T13:18:13.727Z"
   },
   {
    "duration": 15,
    "start_time": "2024-10-02T13:18:13.733Z"
   },
   {
    "duration": 182,
    "start_time": "2024-10-02T13:18:13.749Z"
   },
   {
    "duration": 0,
    "start_time": "2024-10-02T13:18:13.933Z"
   },
   {
    "duration": 0,
    "start_time": "2024-10-02T13:18:13.934Z"
   },
   {
    "duration": 430,
    "start_time": "2024-10-02T13:19:23.105Z"
   },
   {
    "duration": 4,
    "start_time": "2024-10-02T13:19:26.846Z"
   },
   {
    "duration": 4,
    "start_time": "2024-10-02T13:19:26.994Z"
   },
   {
    "duration": 326,
    "start_time": "2024-10-02T13:20:28.289Z"
   },
   {
    "duration": 322,
    "start_time": "2024-10-02T13:20:37.698Z"
   },
   {
    "duration": 3,
    "start_time": "2024-10-02T13:21:29.892Z"
   },
   {
    "duration": 1084,
    "start_time": "2024-10-02T13:25:32.793Z"
   },
   {
    "duration": 28,
    "start_time": "2024-10-02T13:25:33.879Z"
   },
   {
    "duration": 53,
    "start_time": "2024-10-02T13:25:33.909Z"
   },
   {
    "duration": 44,
    "start_time": "2024-10-02T13:25:33.964Z"
   },
   {
    "duration": 61,
    "start_time": "2024-10-02T13:25:34.010Z"
   },
   {
    "duration": 367,
    "start_time": "2024-10-02T13:25:34.073Z"
   },
   {
    "duration": 3,
    "start_time": "2024-10-02T13:25:34.442Z"
   },
   {
    "duration": 386,
    "start_time": "2024-10-02T13:25:34.447Z"
   },
   {
    "duration": 3,
    "start_time": "2024-10-02T13:25:44.832Z"
   },
   {
    "duration": 1032,
    "start_time": "2024-10-02T13:28:01.540Z"
   },
   {
    "duration": 30,
    "start_time": "2024-10-02T13:28:02.574Z"
   },
   {
    "duration": 17,
    "start_time": "2024-10-02T13:28:02.606Z"
   },
   {
    "duration": 28,
    "start_time": "2024-10-02T13:28:02.624Z"
   },
   {
    "duration": 35,
    "start_time": "2024-10-02T13:28:02.653Z"
   },
   {
    "duration": 375,
    "start_time": "2024-10-02T13:28:02.690Z"
   },
   {
    "duration": 3,
    "start_time": "2024-10-02T13:28:03.066Z"
   },
   {
    "duration": 13,
    "start_time": "2024-10-02T13:28:03.070Z"
   },
   {
    "duration": 1098,
    "start_time": "2024-10-02T13:40:49.475Z"
   },
   {
    "duration": 29,
    "start_time": "2024-10-02T13:40:50.575Z"
   },
   {
    "duration": 24,
    "start_time": "2024-10-02T13:40:50.606Z"
   },
   {
    "duration": 4,
    "start_time": "2024-10-02T13:40:50.632Z"
   },
   {
    "duration": 12,
    "start_time": "2024-10-02T13:40:50.638Z"
   },
   {
    "duration": 363,
    "start_time": "2024-10-02T13:40:50.652Z"
   },
   {
    "duration": 4,
    "start_time": "2024-10-02T13:40:51.024Z"
   },
   {
    "duration": 29,
    "start_time": "2024-10-02T13:40:51.029Z"
   },
   {
    "duration": 1040,
    "start_time": "2024-10-02T13:42:14.539Z"
   },
   {
    "duration": 29,
    "start_time": "2024-10-02T13:42:15.581Z"
   },
   {
    "duration": 16,
    "start_time": "2024-10-02T13:42:15.611Z"
   },
   {
    "duration": 7,
    "start_time": "2024-10-02T13:42:15.629Z"
   },
   {
    "duration": 12,
    "start_time": "2024-10-02T13:42:15.637Z"
   },
   {
    "duration": 131,
    "start_time": "2024-10-02T13:42:15.651Z"
   },
   {
    "duration": 0,
    "start_time": "2024-10-02T13:42:15.784Z"
   },
   {
    "duration": 0,
    "start_time": "2024-10-02T13:42:15.785Z"
   },
   {
    "duration": 15,
    "start_time": "2024-10-02T13:42:32.113Z"
   },
   {
    "duration": 337,
    "start_time": "2024-10-02T13:42:50.335Z"
   },
   {
    "duration": 4,
    "start_time": "2024-10-02T13:43:03.721Z"
   },
   {
    "duration": 3,
    "start_time": "2024-10-02T13:43:03.907Z"
   },
   {
    "duration": 1051,
    "start_time": "2024-10-02T13:43:17.417Z"
   },
   {
    "duration": 29,
    "start_time": "2024-10-02T13:43:18.469Z"
   },
   {
    "duration": 19,
    "start_time": "2024-10-02T13:43:18.499Z"
   },
   {
    "duration": 5,
    "start_time": "2024-10-02T13:43:18.525Z"
   },
   {
    "duration": 20,
    "start_time": "2024-10-02T13:43:18.531Z"
   },
   {
    "duration": 372,
    "start_time": "2024-10-02T13:43:18.553Z"
   },
   {
    "duration": 4,
    "start_time": "2024-10-02T13:43:18.926Z"
   },
   {
    "duration": 18,
    "start_time": "2024-10-02T13:43:18.931Z"
   },
   {
    "duration": 997,
    "start_time": "2024-10-02T14:19:35.750Z"
   },
   {
    "duration": 29,
    "start_time": "2024-10-02T14:19:36.749Z"
   },
   {
    "duration": 16,
    "start_time": "2024-10-02T14:19:36.780Z"
   },
   {
    "duration": 11,
    "start_time": "2024-10-02T14:19:36.797Z"
   },
   {
    "duration": 16,
    "start_time": "2024-10-02T14:19:36.810Z"
   },
   {
    "duration": 323,
    "start_time": "2024-10-02T14:19:36.827Z"
   },
   {
    "duration": 4,
    "start_time": "2024-10-02T14:19:37.152Z"
   },
   {
    "duration": 14,
    "start_time": "2024-10-02T14:19:37.157Z"
   },
   {
    "duration": 106,
    "start_time": "2024-10-02T14:20:53.243Z"
   },
   {
    "duration": 3,
    "start_time": "2024-10-02T14:21:09.096Z"
   },
   {
    "duration": 7,
    "start_time": "2024-10-02T14:21:14.449Z"
   },
   {
    "duration": 629,
    "start_time": "2024-10-02T14:24:31.239Z"
   },
   {
    "duration": 176,
    "start_time": "2024-10-02T14:25:20.259Z"
   },
   {
    "duration": 180,
    "start_time": "2024-10-02T14:25:25.371Z"
   },
   {
    "duration": 181,
    "start_time": "2024-10-02T14:27:45.515Z"
   },
   {
    "duration": 9,
    "start_time": "2024-10-02T14:28:12.271Z"
   },
   {
    "duration": 2,
    "start_time": "2024-10-02T14:28:17.964Z"
   },
   {
    "duration": 194,
    "start_time": "2024-10-02T14:28:23.044Z"
   },
   {
    "duration": 1211,
    "start_time": "2024-10-02T14:30:19.757Z"
   },
   {
    "duration": 30,
    "start_time": "2024-10-02T14:30:20.970Z"
   },
   {
    "duration": 15,
    "start_time": "2024-10-02T14:30:21.001Z"
   },
   {
    "duration": 54,
    "start_time": "2024-10-02T14:30:21.019Z"
   },
   {
    "duration": 26,
    "start_time": "2024-10-02T14:30:21.074Z"
   },
   {
    "duration": 118,
    "start_time": "2024-10-02T14:30:21.101Z"
   },
   {
    "duration": 0,
    "start_time": "2024-10-02T14:30:21.221Z"
   },
   {
    "duration": 0,
    "start_time": "2024-10-02T14:30:21.222Z"
   },
   {
    "duration": 0,
    "start_time": "2024-10-02T14:30:21.223Z"
   },
   {
    "duration": 0,
    "start_time": "2024-10-02T14:30:21.224Z"
   },
   {
    "duration": 0,
    "start_time": "2024-10-02T14:30:21.225Z"
   },
   {
    "duration": 389,
    "start_time": "2024-10-02T14:30:54.442Z"
   },
   {
    "duration": 3,
    "start_time": "2024-10-02T14:30:57.214Z"
   },
   {
    "duration": 7,
    "start_time": "2024-10-02T14:31:05.434Z"
   },
   {
    "duration": 189,
    "start_time": "2024-10-02T14:31:12.813Z"
   },
   {
    "duration": 1415,
    "start_time": "2024-10-02T14:32:00.001Z"
   },
   {
    "duration": 29,
    "start_time": "2024-10-02T14:32:01.418Z"
   },
   {
    "duration": 43,
    "start_time": "2024-10-02T14:32:01.448Z"
   },
   {
    "duration": 60,
    "start_time": "2024-10-02T14:32:01.493Z"
   },
   {
    "duration": 44,
    "start_time": "2024-10-02T14:32:01.555Z"
   },
   {
    "duration": 1484,
    "start_time": "2024-10-02T14:32:01.600Z"
   },
   {
    "duration": 3,
    "start_time": "2024-10-02T14:32:03.086Z"
   },
   {
    "duration": 223,
    "start_time": "2024-10-02T14:32:03.091Z"
   },
   {
    "duration": 8,
    "start_time": "2024-10-02T14:32:03.315Z"
   },
   {
    "duration": 74,
    "start_time": "2024-10-02T14:32:03.325Z"
   },
   {
    "duration": 6,
    "start_time": "2024-10-02T14:32:03.401Z"
   },
   {
    "duration": 1294,
    "start_time": "2024-10-02T14:32:19.178Z"
   },
   {
    "duration": 29,
    "start_time": "2024-10-02T14:32:20.474Z"
   },
   {
    "duration": 75,
    "start_time": "2024-10-02T14:32:20.505Z"
   },
   {
    "duration": 6,
    "start_time": "2024-10-02T14:32:20.581Z"
   },
   {
    "duration": 13,
    "start_time": "2024-10-02T14:32:20.589Z"
   },
   {
    "duration": 405,
    "start_time": "2024-10-02T14:32:20.604Z"
   },
   {
    "duration": 3,
    "start_time": "2024-10-02T14:32:21.011Z"
   },
   {
    "duration": 275,
    "start_time": "2024-10-02T14:32:21.016Z"
   },
   {
    "duration": 18,
    "start_time": "2024-10-02T14:32:21.293Z"
   },
   {
    "duration": 133,
    "start_time": "2024-10-02T14:32:21.313Z"
   },
   {
    "duration": 30,
    "start_time": "2024-10-02T14:32:21.448Z"
   },
   {
    "duration": 11,
    "start_time": "2024-10-02T14:35:16.782Z"
   },
   {
    "duration": 1293,
    "start_time": "2024-10-02T14:41:10.084Z"
   },
   {
    "duration": 28,
    "start_time": "2024-10-02T14:41:11.379Z"
   },
   {
    "duration": 52,
    "start_time": "2024-10-02T14:41:11.408Z"
   },
   {
    "duration": 15,
    "start_time": "2024-10-02T14:41:11.462Z"
   },
   {
    "duration": 25,
    "start_time": "2024-10-02T14:41:11.478Z"
   },
   {
    "duration": 314,
    "start_time": "2024-10-02T14:41:11.504Z"
   },
   {
    "duration": 4,
    "start_time": "2024-10-02T14:41:11.819Z"
   },
   {
    "duration": 194,
    "start_time": "2024-10-02T14:41:11.824Z"
   },
   {
    "duration": 7,
    "start_time": "2024-10-02T14:41:12.019Z"
   },
   {
    "duration": 142,
    "start_time": "2024-10-02T14:41:12.028Z"
   },
   {
    "duration": 18,
    "start_time": "2024-10-02T14:41:12.171Z"
   },
   {
    "duration": 12654,
    "start_time": "2024-10-02T14:41:12.191Z"
   },
   {
    "duration": 105,
    "start_time": "2024-10-02T14:53:55.874Z"
   },
   {
    "duration": 33,
    "start_time": "2024-10-02T14:54:27.599Z"
   },
   {
    "duration": 71654,
    "start_time": "2024-10-02T14:54:51.683Z"
   },
   {
    "duration": 5,
    "start_time": "2024-10-02T14:58:21.255Z"
   },
   {
    "duration": 10,
    "start_time": "2024-10-02T14:58:28.120Z"
   },
   {
    "duration": 50,
    "start_time": "2024-10-02T14:59:33.936Z"
   },
   {
    "duration": 3,
    "start_time": "2024-10-02T14:59:37.078Z"
   },
   {
    "duration": 426,
    "start_time": "2024-10-02T15:00:54.046Z"
   },
   {
    "duration": 411,
    "start_time": "2024-10-02T15:01:16.382Z"
   },
   {
    "duration": 383,
    "start_time": "2024-10-02T15:01:26.177Z"
   },
   {
    "duration": 14,
    "start_time": "2024-10-02T15:01:56.222Z"
   },
   {
    "duration": 5,
    "start_time": "2024-10-02T15:02:01.223Z"
   },
   {
    "duration": 395,
    "start_time": "2024-10-02T15:12:05.928Z"
   },
   {
    "duration": 202,
    "start_time": "2024-10-02T15:15:01.865Z"
   },
   {
    "duration": 348,
    "start_time": "2024-10-02T15:18:00.315Z"
   },
   {
    "duration": 71949,
    "start_time": "2024-10-02T15:21:02.483Z"
   },
   {
    "duration": 8,
    "start_time": "2024-10-02T15:22:46.264Z"
   },
   {
    "duration": 12,
    "start_time": "2024-10-02T15:22:52.902Z"
   },
   {
    "duration": 14,
    "start_time": "2024-10-02T15:23:18.303Z"
   },
   {
    "duration": 13,
    "start_time": "2024-10-02T15:23:24.080Z"
   },
   {
    "duration": 12,
    "start_time": "2024-10-02T15:23:34.894Z"
   },
   {
    "duration": 13,
    "start_time": "2024-10-02T15:23:41.611Z"
   },
   {
    "duration": 12,
    "start_time": "2024-10-02T15:23:49.085Z"
   },
   {
    "duration": 12,
    "start_time": "2024-10-02T15:24:20.411Z"
   },
   {
    "duration": 13,
    "start_time": "2024-10-02T15:24:26.423Z"
   },
   {
    "duration": 123,
    "start_time": "2024-10-02T15:25:15.612Z"
   },
   {
    "duration": 127,
    "start_time": "2024-10-02T15:25:31.399Z"
   },
   {
    "duration": 104,
    "start_time": "2024-10-02T15:25:45.559Z"
   },
   {
    "duration": 16,
    "start_time": "2024-10-02T15:26:02.359Z"
   },
   {
    "duration": 117,
    "start_time": "2024-10-02T15:26:06.378Z"
   },
   {
    "duration": 126,
    "start_time": "2024-10-02T15:26:24.410Z"
   },
   {
    "duration": 122,
    "start_time": "2024-10-02T15:26:49.747Z"
   },
   {
    "duration": 101,
    "start_time": "2024-10-02T15:30:42.082Z"
   },
   {
    "duration": 121,
    "start_time": "2024-10-02T15:32:07.826Z"
   },
   {
    "duration": 129,
    "start_time": "2024-10-02T15:32:16.582Z"
   },
   {
    "duration": 115,
    "start_time": "2024-10-02T15:32:34.708Z"
   },
   {
    "duration": 16,
    "start_time": "2024-10-02T15:33:05.194Z"
   },
   {
    "duration": 70,
    "start_time": "2024-10-02T15:42:29.641Z"
   },
   {
    "duration": 66,
    "start_time": "2024-10-02T15:42:56.219Z"
   },
   {
    "duration": 70860,
    "start_time": "2024-10-02T15:43:15.219Z"
   },
   {
    "duration": 1304,
    "start_time": "2024-10-02T17:20:17.699Z"
   },
   {
    "duration": 28,
    "start_time": "2024-10-02T17:20:19.005Z"
   },
   {
    "duration": 11,
    "start_time": "2024-10-02T17:20:19.034Z"
   },
   {
    "duration": 12,
    "start_time": "2024-10-02T17:20:19.046Z"
   },
   {
    "duration": 6,
    "start_time": "2024-10-02T17:20:19.060Z"
   },
   {
    "duration": 313,
    "start_time": "2024-10-02T17:20:19.067Z"
   },
   {
    "duration": 3,
    "start_time": "2024-10-02T17:20:19.381Z"
   },
   {
    "duration": 192,
    "start_time": "2024-10-02T17:20:19.385Z"
   },
   {
    "duration": 7,
    "start_time": "2024-10-02T17:20:19.579Z"
   },
   {
    "duration": 7,
    "start_time": "2024-10-02T17:20:19.587Z"
   },
   {
    "duration": 14,
    "start_time": "2024-10-02T17:20:19.595Z"
   },
   {
    "duration": 70599,
    "start_time": "2024-10-02T17:20:19.610Z"
   },
   {
    "duration": 0,
    "start_time": "2024-10-02T17:21:30.211Z"
   },
   {
    "duration": 0,
    "start_time": "2024-10-02T17:21:30.211Z"
   },
   {
    "duration": 70654,
    "start_time": "2024-10-02T17:24:56.368Z"
   },
   {
    "duration": 1260,
    "start_time": "2024-10-02T17:30:20.062Z"
   },
   {
    "duration": 29,
    "start_time": "2024-10-02T17:30:21.323Z"
   },
   {
    "duration": 18,
    "start_time": "2024-10-02T17:30:21.353Z"
   },
   {
    "duration": 13,
    "start_time": "2024-10-02T17:30:21.373Z"
   },
   {
    "duration": 36,
    "start_time": "2024-10-02T17:30:21.388Z"
   },
   {
    "duration": 345,
    "start_time": "2024-10-02T17:30:21.426Z"
   },
   {
    "duration": 4,
    "start_time": "2024-10-02T17:30:21.772Z"
   },
   {
    "duration": 264,
    "start_time": "2024-10-02T17:30:21.777Z"
   },
   {
    "duration": 7,
    "start_time": "2024-10-02T17:30:22.043Z"
   },
   {
    "duration": 18,
    "start_time": "2024-10-02T17:30:22.053Z"
   },
   {
    "duration": 11,
    "start_time": "2024-10-02T17:30:22.073Z"
   },
   {
    "duration": 70298,
    "start_time": "2024-10-02T17:30:22.086Z"
   },
   {
    "duration": 0,
    "start_time": "2024-10-02T17:31:32.386Z"
   },
   {
    "duration": 0,
    "start_time": "2024-10-02T17:31:32.387Z"
   },
   {
    "duration": 70400,
    "start_time": "2024-10-02T17:32:14.714Z"
   },
   {
    "duration": 380,
    "start_time": "2024-10-02T17:42:02.405Z"
   },
   {
    "duration": 318,
    "start_time": "2024-10-02T17:44:17.876Z"
   },
   {
    "duration": 10,
    "start_time": "2024-10-02T18:22:16.518Z"
   },
   {
    "duration": 3,
    "start_time": "2024-10-02T18:22:21.236Z"
   },
   {
    "duration": 18471,
    "start_time": "2024-10-02T18:22:24.640Z"
   },
   {
    "duration": 5,
    "start_time": "2024-10-02T18:26:46.325Z"
   },
   {
    "duration": 18270,
    "start_time": "2024-10-02T18:53:41.042Z"
   },
   {
    "duration": 6,
    "start_time": "2024-10-02T18:58:21.832Z"
   },
   {
    "duration": 9,
    "start_time": "2024-10-02T19:23:17.726Z"
   },
   {
    "duration": 1026,
    "start_time": "2024-10-02T19:23:40.439Z"
   },
   {
    "duration": 31,
    "start_time": "2024-10-02T19:23:41.466Z"
   },
   {
    "duration": 18,
    "start_time": "2024-10-02T19:23:41.499Z"
   },
   {
    "duration": 9,
    "start_time": "2024-10-02T19:23:41.519Z"
   },
   {
    "duration": 6,
    "start_time": "2024-10-02T19:23:41.530Z"
   },
   {
    "duration": 8,
    "start_time": "2024-10-02T19:23:41.538Z"
   },
   {
    "duration": 320,
    "start_time": "2024-10-02T19:23:41.547Z"
   },
   {
    "duration": 70083,
    "start_time": "2024-10-02T19:23:41.868Z"
   },
   {
    "duration": 18061,
    "start_time": "2024-10-02T19:24:51.952Z"
   },
   {
    "duration": 95,
    "start_time": "2024-10-02T19:25:10.015Z"
   },
   {
    "duration": 293,
    "start_time": "2024-10-02T19:28:20.575Z"
   },
   {
    "duration": 1078,
    "start_time": "2024-10-02T19:28:30.608Z"
   },
   {
    "duration": 30,
    "start_time": "2024-10-02T19:28:31.687Z"
   },
   {
    "duration": 15,
    "start_time": "2024-10-02T19:28:31.718Z"
   },
   {
    "duration": 21,
    "start_time": "2024-10-02T19:28:31.734Z"
   },
   {
    "duration": 39,
    "start_time": "2024-10-02T19:28:31.756Z"
   },
   {
    "duration": 42,
    "start_time": "2024-10-02T19:28:31.796Z"
   },
   {
    "duration": 364,
    "start_time": "2024-10-02T19:28:31.840Z"
   },
   {
    "duration": 69304,
    "start_time": "2024-10-02T19:28:32.207Z"
   },
   {
    "duration": 16999,
    "start_time": "2024-10-02T19:29:41.512Z"
   },
   {
    "duration": 96,
    "start_time": "2024-10-02T19:29:58.512Z"
   },
   {
    "duration": 50,
    "start_time": "2024-10-03T14:38:10.461Z"
   },
   {
    "duration": 1261,
    "start_time": "2024-10-03T14:38:16.602Z"
   },
   {
    "duration": 74,
    "start_time": "2024-10-03T14:38:17.865Z"
   },
   {
    "duration": 16,
    "start_time": "2024-10-03T14:38:17.941Z"
   },
   {
    "duration": 12,
    "start_time": "2024-10-03T14:38:17.959Z"
   },
   {
    "duration": 28,
    "start_time": "2024-10-03T14:38:17.973Z"
   },
   {
    "duration": 12,
    "start_time": "2024-10-03T14:38:18.003Z"
   },
   {
    "duration": 308,
    "start_time": "2024-10-03T14:38:18.017Z"
   },
   {
    "duration": 71821,
    "start_time": "2024-10-03T14:38:18.327Z"
   },
   {
    "duration": 29361,
    "start_time": "2024-10-03T14:39:30.150Z"
   },
   {
    "duration": 101,
    "start_time": "2024-10-03T14:39:59.513Z"
   },
   {
    "duration": 31,
    "start_time": "2024-10-03T14:39:59.706Z"
   },
   {
    "duration": 23,
    "start_time": "2024-10-03T14:43:05.691Z"
   },
   {
    "duration": 1154,
    "start_time": "2024-10-03T14:52:42.932Z"
   },
   {
    "duration": 30,
    "start_time": "2024-10-03T14:52:44.088Z"
   },
   {
    "duration": 17,
    "start_time": "2024-10-03T14:52:44.120Z"
   },
   {
    "duration": 14,
    "start_time": "2024-10-03T14:52:44.139Z"
   },
   {
    "duration": 4,
    "start_time": "2024-10-03T14:52:44.155Z"
   },
   {
    "duration": 9,
    "start_time": "2024-10-03T14:52:44.160Z"
   },
   {
    "duration": 310,
    "start_time": "2024-10-03T14:52:44.170Z"
   },
   {
    "duration": 74258,
    "start_time": "2024-10-03T14:52:44.482Z"
   },
   {
    "duration": 30367,
    "start_time": "2024-10-03T14:53:58.742Z"
   },
   {
    "duration": 198,
    "start_time": "2024-10-03T14:54:29.113Z"
   },
   {
    "duration": 19,
    "start_time": "2024-10-03T14:54:29.313Z"
   }
  ],
  "kernelspec": {
   "display_name": "Python 3 (ipykernel)",
   "language": "python",
   "name": "python3"
  },
  "language_info": {
   "codemirror_mode": {
    "name": "ipython",
    "version": 3
   },
   "file_extension": ".py",
   "mimetype": "text/x-python",
   "name": "python",
   "nbconvert_exporter": "python",
   "pygments_lexer": "ipython3",
   "version": "3.9.23"
  },
  "toc": {
   "base_numbering": 1,
   "nav_menu": {},
   "number_sections": true,
   "sideBar": true,
   "skip_h1_title": true,
   "title_cell": "Table of Contents",
   "title_sidebar": "Contents",
   "toc_cell": false,
   "toc_position": {},
   "toc_section_display": true,
   "toc_window_display": false
  }
 },
 "nbformat": 4,
 "nbformat_minor": 4
}
