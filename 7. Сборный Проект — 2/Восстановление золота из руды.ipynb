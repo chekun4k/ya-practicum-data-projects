{
 "cells": [
  {
   "cell_type": "markdown",
   "metadata": {
    "toc": true
   },
   "source": [
    "<h1>Содержание<span class=\"tocSkip\"></span></h1>\n",
    "<div class=\"toc\"><ul class=\"toc-item\"><li><span><a href=\"#Подготовка-данных\" data-toc-modified-id=\"Подготовка-данных-1\"><span class=\"toc-item-num\">1&nbsp;&nbsp;</span>Подготовка данных</a></span><ul class=\"toc-item\"><li><span><a href=\"#Знакомство-с-данными-и-предобработка\" data-toc-modified-id=\"Знакомство-с-данными-и-предобработка-1.1\"><span class=\"toc-item-num\">1.1&nbsp;&nbsp;</span>Знакомство с данными и предобработка</a></span></li><li><span><a href=\"#Проверка-правильности-рассчета-эффективность-обогащения\" data-toc-modified-id=\"Проверка-правильности-рассчета-эффективность-обогащения-1.2\"><span class=\"toc-item-num\">1.2&nbsp;&nbsp;</span>Проверка правильности рассчета эффективность обогащения</a></span></li></ul></li><li><span><a href=\"#Анализ-данных\" data-toc-modified-id=\"Анализ-данных-2\"><span class=\"toc-item-num\">2&nbsp;&nbsp;</span>Анализ данных</a></span><ul class=\"toc-item\"><li><span><a href=\"#Концентрация-солей-на-различных-этапах-очистки\" data-toc-modified-id=\"Концентрация-солей-на-различных-этапах-очистки-2.1\"><span class=\"toc-item-num\">2.1&nbsp;&nbsp;</span>Концентрация солей на различных этапах очистки</a></span></li><li><span><a href=\"#Концентрация-свинца-на-различных-этапах-очистки\" data-toc-modified-id=\"Концентрация-свинца-на-различных-этапах-очистки-2.2\"><span class=\"toc-item-num\">2.2&nbsp;&nbsp;</span>Концентрация свинца на различных этапах очистки</a></span></li><li><span><a href=\"#Концентрация-серебра-на-различных-этапах-очистки\" data-toc-modified-id=\"Концентрация-серебра-на-различных-этапах-очистки-2.3\"><span class=\"toc-item-num\">2.3&nbsp;&nbsp;</span>Концентрация серебра на различных этапах очистки</a></span></li><li><span><a href=\"#Концентрация-золота-на-различных-этапах-очистки\" data-toc-modified-id=\"Концентрация-золота-на-различных-этапах-очистки-2.4\"><span class=\"toc-item-num\">2.4&nbsp;&nbsp;</span>Концентрация золота на различных этапах очистки</a></span></li><li><span><a href=\"#Распределение-размеров-гранул-сырья-на-обучающей-и-тестовой-выборках\" data-toc-modified-id=\"Распределение-размеров-гранул-сырья-на-обучающей-и-тестовой-выборках-2.5\"><span class=\"toc-item-num\">2.5&nbsp;&nbsp;</span>Распределение размеров гранул сырья на обучающей и тестовой выборках</a></span></li><li><span><a href=\"#Суммарная-концентрация-всех-веществ-на-разных-стадиях\" data-toc-modified-id=\"Суммарная-концентрация-всех-веществ-на-разных-стадиях-2.6\"><span class=\"toc-item-num\">2.6&nbsp;&nbsp;</span>Суммарная концентрация всех веществ на разных стадиях</a></span><ul class=\"toc-item\"><li><span><a href=\"#До-флотации\" data-toc-modified-id=\"До-флотации-2.6.1\"><span class=\"toc-item-num\">2.6.1&nbsp;&nbsp;</span>До флотации</a></span></li><li><span><a href=\"#После-флотации\" data-toc-modified-id=\"После-флотации-2.6.2\"><span class=\"toc-item-num\">2.6.2&nbsp;&nbsp;</span>После флотации</a></span></li><li><span><a href=\"#После-первой-фильтрации\" data-toc-modified-id=\"После-первой-фильтрации-2.6.3\"><span class=\"toc-item-num\">2.6.3&nbsp;&nbsp;</span>После первой фильтрации</a></span></li><li><span><a href=\"#После-последней-фильтрации\" data-toc-modified-id=\"После-последней-фильтрации-2.6.4\"><span class=\"toc-item-num\">2.6.4&nbsp;&nbsp;</span>После последней фильтрации</a></span></li><li><span><a href=\"#Общее-распределение\" data-toc-modified-id=\"Общее-распределение-2.6.5\"><span class=\"toc-item-num\">2.6.5&nbsp;&nbsp;</span>Общее распределение</a></span></li></ul></li></ul></li><li><span><a href=\"#Модель\" data-toc-modified-id=\"Модель-3\"><span class=\"toc-item-num\">3&nbsp;&nbsp;</span>Модель</a></span><ul class=\"toc-item\"><li><span><a href=\"#Функция-для-вычисления-sMAPE\" data-toc-modified-id=\"Функция-для-вычисления-sMAPE-3.1\"><span class=\"toc-item-num\">3.1&nbsp;&nbsp;</span>Функция для вычисления sMAPE</a></span></li><li><span><a href=\"#Подготовка-данных-к-созданию-и-обучению-моделей\" data-toc-modified-id=\"Подготовка-данных-к-созданию-и-обучению-моделей-3.2\"><span class=\"toc-item-num\">3.2&nbsp;&nbsp;</span>Подготовка данных к созданию и обучению моделей</a></span></li><li><span><a href=\"#Выделение-признаков\" data-toc-modified-id=\"Выделение-признаков-3.3\"><span class=\"toc-item-num\">3.3&nbsp;&nbsp;</span>Выделение признаков</a></span></li><li><span><a href=\"#Прогноз-эффективности-обогащения-чернового-концентрата\" data-toc-modified-id=\"Прогноз-эффективности-обогащения-чернового-концентрата-3.4\"><span class=\"toc-item-num\">3.4&nbsp;&nbsp;</span>Прогноз эффективности обогащения чернового концентрата</a></span><ul class=\"toc-item\"><li><span><a href=\"#Дерево-решений\" data-toc-modified-id=\"Дерево-решений-3.4.1\"><span class=\"toc-item-num\">3.4.1&nbsp;&nbsp;</span>Дерево решений</a></span></li><li><span><a href=\"#Случайный-лес\" data-toc-modified-id=\"Случайный-лес-3.4.2\"><span class=\"toc-item-num\">3.4.2&nbsp;&nbsp;</span>Случайный лес</a></span></li><li><span><a href=\"#Метод-ближайших-соседей\" data-toc-modified-id=\"Метод-ближайших-соседей-3.4.3\"><span class=\"toc-item-num\">3.4.3&nbsp;&nbsp;</span>Метод ближайших соседей</a></span></li><li><span><a href=\"#Лассо-регрессия\" data-toc-modified-id=\"Лассо-регрессия-3.4.4\"><span class=\"toc-item-num\">3.4.4&nbsp;&nbsp;</span>Лассо-регрессия</a></span></li><li><span><a href=\"#Лучший-прогноз-эффективности-обогащения-чернового-концентрата\" data-toc-modified-id=\"Лучший-прогноз-эффективности-обогащения-чернового-концентрата-3.4.5\"><span class=\"toc-item-num\">3.4.5&nbsp;&nbsp;</span>Лучший прогноз эффективности обогащения чернового концентрата</a></span></li><li><span><a href=\"#Финальное-тестирование-на-тестовой-выборке-лучшей-модели-черновго-концентрата\" data-toc-modified-id=\"Финальное-тестирование-на-тестовой-выборке-лучшей-модели-черновго-концентрата-3.4.6\"><span class=\"toc-item-num\">3.4.6&nbsp;&nbsp;</span>Финальное тестирование на тестовой выборке лучшей модели черновго концентрата</a></span></li></ul></li><li><span><a href=\"#Прогноз-эффективности-обогащения-финального-концентрата\" data-toc-modified-id=\"Прогноз-эффективности-обогащения-финального-концентрата-3.5\"><span class=\"toc-item-num\">3.5&nbsp;&nbsp;</span>Прогноз эффективности обогащения финального концентрата</a></span><ul class=\"toc-item\"><li><span><a href=\"#Дерево-решений\" data-toc-modified-id=\"Дерево-решений-3.5.1\"><span class=\"toc-item-num\">3.5.1&nbsp;&nbsp;</span>Дерево решений</a></span></li><li><span><a href=\"#Случайный-лес\" data-toc-modified-id=\"Случайный-лес-3.5.2\"><span class=\"toc-item-num\">3.5.2&nbsp;&nbsp;</span>Случайный лес</a></span></li><li><span><a href=\"#Метод-ближайших-соседей\" data-toc-modified-id=\"Метод-ближайших-соседей-3.5.3\"><span class=\"toc-item-num\">3.5.3&nbsp;&nbsp;</span>Метод ближайших соседей</a></span></li><li><span><a href=\"#Лассо-регрессия\" data-toc-modified-id=\"Лассо-регрессия-3.5.4\"><span class=\"toc-item-num\">3.5.4&nbsp;&nbsp;</span>Лассо-регрессия</a></span></li><li><span><a href=\"#Лучший-прогноз-эффективности-обогащения-финального-концентрата\" data-toc-modified-id=\"Лучший-прогноз-эффективности-обогащения-финального-концентрата-3.5.5\"><span class=\"toc-item-num\">3.5.5&nbsp;&nbsp;</span>Лучший прогноз эффективности обогащения финального концентрата</a></span></li><li><span><a href=\"#Финальное-тестирование-на-тестовой-выборке-лучшей-модели-финального-концентрата\" data-toc-modified-id=\"Финальное-тестирование-на-тестовой-выборке-лучшей-модели-финального-концентрата-3.5.6\"><span class=\"toc-item-num\">3.5.6&nbsp;&nbsp;</span>Финальное тестирование на тестовой выборке лучшей модели финального концентрата</a></span></li></ul></li><li><span><a href=\"#Итоговое-sMAPE\" data-toc-modified-id=\"Итоговое-sMAPE-3.6\"><span class=\"toc-item-num\">3.6&nbsp;&nbsp;</span>Итоговое sMAPE</a></span></li><li><span><a href=\"#Вывод\" data-toc-modified-id=\"Вывод-3.7\"><span class=\"toc-item-num\">3.7&nbsp;&nbsp;</span>Вывод</a></span></li></ul></li></ul></div>"
   ]
  },
  {
   "cell_type": "markdown",
   "metadata": {},
   "source": [
    "# Восстановление золота из руды"
   ]
  },
  {
   "cell_type": "markdown",
   "metadata": {},
   "source": [
    "Необходимо подготовить прототип модели машинного обучения для компании **«Цифра»**.  \n",
    "Компания разрабатывает решения для эффективной работы промышленных предприятий.\n",
    "\n",
    "Модель должна предсказать коэффициент восстановления золота из золотосодержащей руды.  \n",
    "В распоряжении имеются данные с параметрами добычи и очистки.\n",
    "\n",
    "Модель поможет оптимизировать производство, чтобы не запускать предприятие с убыточными характеристиками.\n",
    "\n",
    "## Данные\n",
    "\n",
    "- `gold_recovery_train_new.csv` — обучающая выборка  \n",
    "- `gold_recovery_test_new.csv` — тестовая выборка  \n",
    "- `gold_recovery_full_new.csv` — исходные данные"
   ]
  },
  {
   "cell_type": "markdown",
   "metadata": {},
   "source": [
    "## Подготовка данных"
   ]
  },
  {
   "cell_type": "markdown",
   "metadata": {},
   "source": [
    "### Знакомство с данными и предобработка"
   ]
  },
  {
   "cell_type": "code",
   "execution_count": 104,
   "metadata": {},
   "outputs": [],
   "source": [
    "import pandas as pd\n",
    "import numpy as np\n",
    "\n",
    "import matplotlib.pyplot as plt\n",
    "import seaborn as sns\n",
    "\n",
    "from sklearn.tree import DecisionTreeRegressor\n",
    "from sklearn.ensemble import RandomForestRegressor\n",
    "from sklearn.neighbors import KNeighborsRegressor\n",
    "from sklearn.linear_model import Lasso\n",
    "\n",
    "from sklearn.metrics import mean_absolute_error\n",
    "from sklearn.metrics import make_scorer\n",
    "from sklearn.model_selection import cross_val_score\n",
    "\n",
    "import warnings\n",
    "warnings.filterwarnings(\"ignore\", category=FutureWarning)"
   ]
  },
  {
   "cell_type": "code",
   "execution_count": 2,
   "metadata": {},
   "outputs": [],
   "source": [
    "# загружаем данные\n",
    "data_full = pd.read_csv('/datasets/gold_recovery_full_new.csv')\n",
    "data_train = pd.read_csv('/datasets/gold_recovery_train_new.csv')\n",
    "data_test = pd.read_csv('/datasets/gold_recovery_test_new.csv')"
   ]
  },
  {
   "cell_type": "code",
   "execution_count": 3,
   "metadata": {},
   "outputs": [
    {
     "data": {
      "text/html": [
       "<div>\n",
       "<style scoped>\n",
       "    .dataframe tbody tr th:only-of-type {\n",
       "        vertical-align: middle;\n",
       "    }\n",
       "\n",
       "    .dataframe tbody tr th {\n",
       "        vertical-align: top;\n",
       "    }\n",
       "\n",
       "    .dataframe thead th {\n",
       "        text-align: right;\n",
       "    }\n",
       "</style>\n",
       "<table border=\"1\" class=\"dataframe\">\n",
       "  <thead>\n",
       "    <tr style=\"text-align: right;\">\n",
       "      <th></th>\n",
       "      <th>date</th>\n",
       "      <th>final.output.concentrate_ag</th>\n",
       "      <th>final.output.concentrate_pb</th>\n",
       "      <th>final.output.concentrate_sol</th>\n",
       "      <th>final.output.concentrate_au</th>\n",
       "      <th>final.output.recovery</th>\n",
       "      <th>final.output.tail_ag</th>\n",
       "      <th>final.output.tail_pb</th>\n",
       "      <th>final.output.tail_sol</th>\n",
       "      <th>final.output.tail_au</th>\n",
       "      <th>...</th>\n",
       "      <th>secondary_cleaner.state.floatbank4_a_air</th>\n",
       "      <th>secondary_cleaner.state.floatbank4_a_level</th>\n",
       "      <th>secondary_cleaner.state.floatbank4_b_air</th>\n",
       "      <th>secondary_cleaner.state.floatbank4_b_level</th>\n",
       "      <th>secondary_cleaner.state.floatbank5_a_air</th>\n",
       "      <th>secondary_cleaner.state.floatbank5_a_level</th>\n",
       "      <th>secondary_cleaner.state.floatbank5_b_air</th>\n",
       "      <th>secondary_cleaner.state.floatbank5_b_level</th>\n",
       "      <th>secondary_cleaner.state.floatbank6_a_air</th>\n",
       "      <th>secondary_cleaner.state.floatbank6_a_level</th>\n",
       "    </tr>\n",
       "  </thead>\n",
       "  <tbody>\n",
       "    <tr>\n",
       "      <th>0</th>\n",
       "      <td>2016-01-15 00:00:00</td>\n",
       "      <td>6.055403</td>\n",
       "      <td>9.889648</td>\n",
       "      <td>5.507324</td>\n",
       "      <td>42.192020</td>\n",
       "      <td>70.541216</td>\n",
       "      <td>10.411962</td>\n",
       "      <td>0.895447</td>\n",
       "      <td>16.904297</td>\n",
       "      <td>2.143149</td>\n",
       "      <td>...</td>\n",
       "      <td>14.016835</td>\n",
       "      <td>-502.488007</td>\n",
       "      <td>12.099931</td>\n",
       "      <td>-504.715942</td>\n",
       "      <td>9.925633</td>\n",
       "      <td>-498.310211</td>\n",
       "      <td>8.079666</td>\n",
       "      <td>-500.470978</td>\n",
       "      <td>14.151341</td>\n",
       "      <td>-605.841980</td>\n",
       "    </tr>\n",
       "    <tr>\n",
       "      <th>1</th>\n",
       "      <td>2016-01-15 01:00:00</td>\n",
       "      <td>6.029369</td>\n",
       "      <td>9.968944</td>\n",
       "      <td>5.257781</td>\n",
       "      <td>42.701629</td>\n",
       "      <td>69.266198</td>\n",
       "      <td>10.462676</td>\n",
       "      <td>0.927452</td>\n",
       "      <td>16.634514</td>\n",
       "      <td>2.224930</td>\n",
       "      <td>...</td>\n",
       "      <td>13.992281</td>\n",
       "      <td>-505.503262</td>\n",
       "      <td>11.950531</td>\n",
       "      <td>-501.331529</td>\n",
       "      <td>10.039245</td>\n",
       "      <td>-500.169983</td>\n",
       "      <td>7.984757</td>\n",
       "      <td>-500.582168</td>\n",
       "      <td>13.998353</td>\n",
       "      <td>-599.787184</td>\n",
       "    </tr>\n",
       "    <tr>\n",
       "      <th>2</th>\n",
       "      <td>2016-01-15 02:00:00</td>\n",
       "      <td>6.055926</td>\n",
       "      <td>10.213995</td>\n",
       "      <td>5.383759</td>\n",
       "      <td>42.657501</td>\n",
       "      <td>68.116445</td>\n",
       "      <td>10.507046</td>\n",
       "      <td>0.953716</td>\n",
       "      <td>16.208849</td>\n",
       "      <td>2.257889</td>\n",
       "      <td>...</td>\n",
       "      <td>14.015015</td>\n",
       "      <td>-502.520901</td>\n",
       "      <td>11.912783</td>\n",
       "      <td>-501.133383</td>\n",
       "      <td>10.070913</td>\n",
       "      <td>-500.129135</td>\n",
       "      <td>8.013877</td>\n",
       "      <td>-500.517572</td>\n",
       "      <td>14.028663</td>\n",
       "      <td>-601.427363</td>\n",
       "    </tr>\n",
       "    <tr>\n",
       "      <th>3</th>\n",
       "      <td>2016-01-15 03:00:00</td>\n",
       "      <td>6.047977</td>\n",
       "      <td>9.977019</td>\n",
       "      <td>4.858634</td>\n",
       "      <td>42.689819</td>\n",
       "      <td>68.347543</td>\n",
       "      <td>10.422762</td>\n",
       "      <td>0.883763</td>\n",
       "      <td>16.532835</td>\n",
       "      <td>2.146849</td>\n",
       "      <td>...</td>\n",
       "      <td>14.036510</td>\n",
       "      <td>-500.857308</td>\n",
       "      <td>11.999550</td>\n",
       "      <td>-501.193686</td>\n",
       "      <td>9.970366</td>\n",
       "      <td>-499.201640</td>\n",
       "      <td>7.977324</td>\n",
       "      <td>-500.255908</td>\n",
       "      <td>14.005551</td>\n",
       "      <td>-599.996129</td>\n",
       "    </tr>\n",
       "    <tr>\n",
       "      <th>4</th>\n",
       "      <td>2016-01-15 04:00:00</td>\n",
       "      <td>6.148599</td>\n",
       "      <td>10.142511</td>\n",
       "      <td>4.939416</td>\n",
       "      <td>42.774141</td>\n",
       "      <td>66.927016</td>\n",
       "      <td>10.360302</td>\n",
       "      <td>0.792826</td>\n",
       "      <td>16.525686</td>\n",
       "      <td>2.055292</td>\n",
       "      <td>...</td>\n",
       "      <td>14.027298</td>\n",
       "      <td>-499.838632</td>\n",
       "      <td>11.953070</td>\n",
       "      <td>-501.053894</td>\n",
       "      <td>9.925709</td>\n",
       "      <td>-501.686727</td>\n",
       "      <td>7.894242</td>\n",
       "      <td>-500.356035</td>\n",
       "      <td>13.996647</td>\n",
       "      <td>-601.496691</td>\n",
       "    </tr>\n",
       "  </tbody>\n",
       "</table>\n",
       "<p>5 rows × 87 columns</p>\n",
       "</div>"
      ],
      "text/plain": [
       "                  date  final.output.concentrate_ag  \\\n",
       "0  2016-01-15 00:00:00                     6.055403   \n",
       "1  2016-01-15 01:00:00                     6.029369   \n",
       "2  2016-01-15 02:00:00                     6.055926   \n",
       "3  2016-01-15 03:00:00                     6.047977   \n",
       "4  2016-01-15 04:00:00                     6.148599   \n",
       "\n",
       "   final.output.concentrate_pb  final.output.concentrate_sol  \\\n",
       "0                     9.889648                      5.507324   \n",
       "1                     9.968944                      5.257781   \n",
       "2                    10.213995                      5.383759   \n",
       "3                     9.977019                      4.858634   \n",
       "4                    10.142511                      4.939416   \n",
       "\n",
       "   final.output.concentrate_au  final.output.recovery  final.output.tail_ag  \\\n",
       "0                    42.192020              70.541216             10.411962   \n",
       "1                    42.701629              69.266198             10.462676   \n",
       "2                    42.657501              68.116445             10.507046   \n",
       "3                    42.689819              68.347543             10.422762   \n",
       "4                    42.774141              66.927016             10.360302   \n",
       "\n",
       "   final.output.tail_pb  final.output.tail_sol  final.output.tail_au  ...  \\\n",
       "0              0.895447              16.904297              2.143149  ...   \n",
       "1              0.927452              16.634514              2.224930  ...   \n",
       "2              0.953716              16.208849              2.257889  ...   \n",
       "3              0.883763              16.532835              2.146849  ...   \n",
       "4              0.792826              16.525686              2.055292  ...   \n",
       "\n",
       "   secondary_cleaner.state.floatbank4_a_air  \\\n",
       "0                                 14.016835   \n",
       "1                                 13.992281   \n",
       "2                                 14.015015   \n",
       "3                                 14.036510   \n",
       "4                                 14.027298   \n",
       "\n",
       "   secondary_cleaner.state.floatbank4_a_level  \\\n",
       "0                                 -502.488007   \n",
       "1                                 -505.503262   \n",
       "2                                 -502.520901   \n",
       "3                                 -500.857308   \n",
       "4                                 -499.838632   \n",
       "\n",
       "   secondary_cleaner.state.floatbank4_b_air  \\\n",
       "0                                 12.099931   \n",
       "1                                 11.950531   \n",
       "2                                 11.912783   \n",
       "3                                 11.999550   \n",
       "4                                 11.953070   \n",
       "\n",
       "   secondary_cleaner.state.floatbank4_b_level  \\\n",
       "0                                 -504.715942   \n",
       "1                                 -501.331529   \n",
       "2                                 -501.133383   \n",
       "3                                 -501.193686   \n",
       "4                                 -501.053894   \n",
       "\n",
       "   secondary_cleaner.state.floatbank5_a_air  \\\n",
       "0                                  9.925633   \n",
       "1                                 10.039245   \n",
       "2                                 10.070913   \n",
       "3                                  9.970366   \n",
       "4                                  9.925709   \n",
       "\n",
       "   secondary_cleaner.state.floatbank5_a_level  \\\n",
       "0                                 -498.310211   \n",
       "1                                 -500.169983   \n",
       "2                                 -500.129135   \n",
       "3                                 -499.201640   \n",
       "4                                 -501.686727   \n",
       "\n",
       "   secondary_cleaner.state.floatbank5_b_air  \\\n",
       "0                                  8.079666   \n",
       "1                                  7.984757   \n",
       "2                                  8.013877   \n",
       "3                                  7.977324   \n",
       "4                                  7.894242   \n",
       "\n",
       "   secondary_cleaner.state.floatbank5_b_level  \\\n",
       "0                                 -500.470978   \n",
       "1                                 -500.582168   \n",
       "2                                 -500.517572   \n",
       "3                                 -500.255908   \n",
       "4                                 -500.356035   \n",
       "\n",
       "   secondary_cleaner.state.floatbank6_a_air  \\\n",
       "0                                 14.151341   \n",
       "1                                 13.998353   \n",
       "2                                 14.028663   \n",
       "3                                 14.005551   \n",
       "4                                 13.996647   \n",
       "\n",
       "   secondary_cleaner.state.floatbank6_a_level  \n",
       "0                                 -605.841980  \n",
       "1                                 -599.787184  \n",
       "2                                 -601.427363  \n",
       "3                                 -599.996129  \n",
       "4                                 -601.496691  \n",
       "\n",
       "[5 rows x 87 columns]"
      ]
     },
     "execution_count": 3,
     "metadata": {},
     "output_type": "execute_result"
    }
   ],
   "source": [
    "# знакомимся с данными\n",
    "data_full.head()"
   ]
  },
  {
   "cell_type": "code",
   "execution_count": 4,
   "metadata": {},
   "outputs": [
    {
     "data": {
      "text/html": [
       "<div>\n",
       "<style scoped>\n",
       "    .dataframe tbody tr th:only-of-type {\n",
       "        vertical-align: middle;\n",
       "    }\n",
       "\n",
       "    .dataframe tbody tr th {\n",
       "        vertical-align: top;\n",
       "    }\n",
       "\n",
       "    .dataframe thead th {\n",
       "        text-align: right;\n",
       "    }\n",
       "</style>\n",
       "<table border=\"1\" class=\"dataframe\">\n",
       "  <thead>\n",
       "    <tr style=\"text-align: right;\">\n",
       "      <th></th>\n",
       "      <th>date</th>\n",
       "      <th>final.output.concentrate_ag</th>\n",
       "      <th>final.output.concentrate_pb</th>\n",
       "      <th>final.output.concentrate_sol</th>\n",
       "      <th>final.output.concentrate_au</th>\n",
       "      <th>final.output.recovery</th>\n",
       "      <th>final.output.tail_ag</th>\n",
       "      <th>final.output.tail_pb</th>\n",
       "      <th>final.output.tail_sol</th>\n",
       "      <th>final.output.tail_au</th>\n",
       "      <th>...</th>\n",
       "      <th>secondary_cleaner.state.floatbank4_a_air</th>\n",
       "      <th>secondary_cleaner.state.floatbank4_a_level</th>\n",
       "      <th>secondary_cleaner.state.floatbank4_b_air</th>\n",
       "      <th>secondary_cleaner.state.floatbank4_b_level</th>\n",
       "      <th>secondary_cleaner.state.floatbank5_a_air</th>\n",
       "      <th>secondary_cleaner.state.floatbank5_a_level</th>\n",
       "      <th>secondary_cleaner.state.floatbank5_b_air</th>\n",
       "      <th>secondary_cleaner.state.floatbank5_b_level</th>\n",
       "      <th>secondary_cleaner.state.floatbank6_a_air</th>\n",
       "      <th>secondary_cleaner.state.floatbank6_a_level</th>\n",
       "    </tr>\n",
       "  </thead>\n",
       "  <tbody>\n",
       "    <tr>\n",
       "      <th>0</th>\n",
       "      <td>2016-01-15 00:00:00</td>\n",
       "      <td>6.055403</td>\n",
       "      <td>9.889648</td>\n",
       "      <td>5.507324</td>\n",
       "      <td>42.192020</td>\n",
       "      <td>70.541216</td>\n",
       "      <td>10.411962</td>\n",
       "      <td>0.895447</td>\n",
       "      <td>16.904297</td>\n",
       "      <td>2.143149</td>\n",
       "      <td>...</td>\n",
       "      <td>14.016835</td>\n",
       "      <td>-502.488007</td>\n",
       "      <td>12.099931</td>\n",
       "      <td>-504.715942</td>\n",
       "      <td>9.925633</td>\n",
       "      <td>-498.310211</td>\n",
       "      <td>8.079666</td>\n",
       "      <td>-500.470978</td>\n",
       "      <td>14.151341</td>\n",
       "      <td>-605.841980</td>\n",
       "    </tr>\n",
       "    <tr>\n",
       "      <th>1</th>\n",
       "      <td>2016-01-15 01:00:00</td>\n",
       "      <td>6.029369</td>\n",
       "      <td>9.968944</td>\n",
       "      <td>5.257781</td>\n",
       "      <td>42.701629</td>\n",
       "      <td>69.266198</td>\n",
       "      <td>10.462676</td>\n",
       "      <td>0.927452</td>\n",
       "      <td>16.634514</td>\n",
       "      <td>2.224930</td>\n",
       "      <td>...</td>\n",
       "      <td>13.992281</td>\n",
       "      <td>-505.503262</td>\n",
       "      <td>11.950531</td>\n",
       "      <td>-501.331529</td>\n",
       "      <td>10.039245</td>\n",
       "      <td>-500.169983</td>\n",
       "      <td>7.984757</td>\n",
       "      <td>-500.582168</td>\n",
       "      <td>13.998353</td>\n",
       "      <td>-599.787184</td>\n",
       "    </tr>\n",
       "    <tr>\n",
       "      <th>2</th>\n",
       "      <td>2016-01-15 02:00:00</td>\n",
       "      <td>6.055926</td>\n",
       "      <td>10.213995</td>\n",
       "      <td>5.383759</td>\n",
       "      <td>42.657501</td>\n",
       "      <td>68.116445</td>\n",
       "      <td>10.507046</td>\n",
       "      <td>0.953716</td>\n",
       "      <td>16.208849</td>\n",
       "      <td>2.257889</td>\n",
       "      <td>...</td>\n",
       "      <td>14.015015</td>\n",
       "      <td>-502.520901</td>\n",
       "      <td>11.912783</td>\n",
       "      <td>-501.133383</td>\n",
       "      <td>10.070913</td>\n",
       "      <td>-500.129135</td>\n",
       "      <td>8.013877</td>\n",
       "      <td>-500.517572</td>\n",
       "      <td>14.028663</td>\n",
       "      <td>-601.427363</td>\n",
       "    </tr>\n",
       "    <tr>\n",
       "      <th>3</th>\n",
       "      <td>2016-01-15 03:00:00</td>\n",
       "      <td>6.047977</td>\n",
       "      <td>9.977019</td>\n",
       "      <td>4.858634</td>\n",
       "      <td>42.689819</td>\n",
       "      <td>68.347543</td>\n",
       "      <td>10.422762</td>\n",
       "      <td>0.883763</td>\n",
       "      <td>16.532835</td>\n",
       "      <td>2.146849</td>\n",
       "      <td>...</td>\n",
       "      <td>14.036510</td>\n",
       "      <td>-500.857308</td>\n",
       "      <td>11.999550</td>\n",
       "      <td>-501.193686</td>\n",
       "      <td>9.970366</td>\n",
       "      <td>-499.201640</td>\n",
       "      <td>7.977324</td>\n",
       "      <td>-500.255908</td>\n",
       "      <td>14.005551</td>\n",
       "      <td>-599.996129</td>\n",
       "    </tr>\n",
       "    <tr>\n",
       "      <th>4</th>\n",
       "      <td>2016-01-15 04:00:00</td>\n",
       "      <td>6.148599</td>\n",
       "      <td>10.142511</td>\n",
       "      <td>4.939416</td>\n",
       "      <td>42.774141</td>\n",
       "      <td>66.927016</td>\n",
       "      <td>10.360302</td>\n",
       "      <td>0.792826</td>\n",
       "      <td>16.525686</td>\n",
       "      <td>2.055292</td>\n",
       "      <td>...</td>\n",
       "      <td>14.027298</td>\n",
       "      <td>-499.838632</td>\n",
       "      <td>11.953070</td>\n",
       "      <td>-501.053894</td>\n",
       "      <td>9.925709</td>\n",
       "      <td>-501.686727</td>\n",
       "      <td>7.894242</td>\n",
       "      <td>-500.356035</td>\n",
       "      <td>13.996647</td>\n",
       "      <td>-601.496691</td>\n",
       "    </tr>\n",
       "  </tbody>\n",
       "</table>\n",
       "<p>5 rows × 87 columns</p>\n",
       "</div>"
      ],
      "text/plain": [
       "                  date  final.output.concentrate_ag  \\\n",
       "0  2016-01-15 00:00:00                     6.055403   \n",
       "1  2016-01-15 01:00:00                     6.029369   \n",
       "2  2016-01-15 02:00:00                     6.055926   \n",
       "3  2016-01-15 03:00:00                     6.047977   \n",
       "4  2016-01-15 04:00:00                     6.148599   \n",
       "\n",
       "   final.output.concentrate_pb  final.output.concentrate_sol  \\\n",
       "0                     9.889648                      5.507324   \n",
       "1                     9.968944                      5.257781   \n",
       "2                    10.213995                      5.383759   \n",
       "3                     9.977019                      4.858634   \n",
       "4                    10.142511                      4.939416   \n",
       "\n",
       "   final.output.concentrate_au  final.output.recovery  final.output.tail_ag  \\\n",
       "0                    42.192020              70.541216             10.411962   \n",
       "1                    42.701629              69.266198             10.462676   \n",
       "2                    42.657501              68.116445             10.507046   \n",
       "3                    42.689819              68.347543             10.422762   \n",
       "4                    42.774141              66.927016             10.360302   \n",
       "\n",
       "   final.output.tail_pb  final.output.tail_sol  final.output.tail_au  ...  \\\n",
       "0              0.895447              16.904297              2.143149  ...   \n",
       "1              0.927452              16.634514              2.224930  ...   \n",
       "2              0.953716              16.208849              2.257889  ...   \n",
       "3              0.883763              16.532835              2.146849  ...   \n",
       "4              0.792826              16.525686              2.055292  ...   \n",
       "\n",
       "   secondary_cleaner.state.floatbank4_a_air  \\\n",
       "0                                 14.016835   \n",
       "1                                 13.992281   \n",
       "2                                 14.015015   \n",
       "3                                 14.036510   \n",
       "4                                 14.027298   \n",
       "\n",
       "   secondary_cleaner.state.floatbank4_a_level  \\\n",
       "0                                 -502.488007   \n",
       "1                                 -505.503262   \n",
       "2                                 -502.520901   \n",
       "3                                 -500.857308   \n",
       "4                                 -499.838632   \n",
       "\n",
       "   secondary_cleaner.state.floatbank4_b_air  \\\n",
       "0                                 12.099931   \n",
       "1                                 11.950531   \n",
       "2                                 11.912783   \n",
       "3                                 11.999550   \n",
       "4                                 11.953070   \n",
       "\n",
       "   secondary_cleaner.state.floatbank4_b_level  \\\n",
       "0                                 -504.715942   \n",
       "1                                 -501.331529   \n",
       "2                                 -501.133383   \n",
       "3                                 -501.193686   \n",
       "4                                 -501.053894   \n",
       "\n",
       "   secondary_cleaner.state.floatbank5_a_air  \\\n",
       "0                                  9.925633   \n",
       "1                                 10.039245   \n",
       "2                                 10.070913   \n",
       "3                                  9.970366   \n",
       "4                                  9.925709   \n",
       "\n",
       "   secondary_cleaner.state.floatbank5_a_level  \\\n",
       "0                                 -498.310211   \n",
       "1                                 -500.169983   \n",
       "2                                 -500.129135   \n",
       "3                                 -499.201640   \n",
       "4                                 -501.686727   \n",
       "\n",
       "   secondary_cleaner.state.floatbank5_b_air  \\\n",
       "0                                  8.079666   \n",
       "1                                  7.984757   \n",
       "2                                  8.013877   \n",
       "3                                  7.977324   \n",
       "4                                  7.894242   \n",
       "\n",
       "   secondary_cleaner.state.floatbank5_b_level  \\\n",
       "0                                 -500.470978   \n",
       "1                                 -500.582168   \n",
       "2                                 -500.517572   \n",
       "3                                 -500.255908   \n",
       "4                                 -500.356035   \n",
       "\n",
       "   secondary_cleaner.state.floatbank6_a_air  \\\n",
       "0                                 14.151341   \n",
       "1                                 13.998353   \n",
       "2                                 14.028663   \n",
       "3                                 14.005551   \n",
       "4                                 13.996647   \n",
       "\n",
       "   secondary_cleaner.state.floatbank6_a_level  \n",
       "0                                 -605.841980  \n",
       "1                                 -599.787184  \n",
       "2                                 -601.427363  \n",
       "3                                 -599.996129  \n",
       "4                                 -601.496691  \n",
       "\n",
       "[5 rows x 87 columns]"
      ]
     },
     "execution_count": 4,
     "metadata": {},
     "output_type": "execute_result"
    }
   ],
   "source": [
    "data_train.head()"
   ]
  },
  {
   "cell_type": "code",
   "execution_count": 5,
   "metadata": {},
   "outputs": [
    {
     "data": {
      "text/html": [
       "<div>\n",
       "<style scoped>\n",
       "    .dataframe tbody tr th:only-of-type {\n",
       "        vertical-align: middle;\n",
       "    }\n",
       "\n",
       "    .dataframe tbody tr th {\n",
       "        vertical-align: top;\n",
       "    }\n",
       "\n",
       "    .dataframe thead th {\n",
       "        text-align: right;\n",
       "    }\n",
       "</style>\n",
       "<table border=\"1\" class=\"dataframe\">\n",
       "  <thead>\n",
       "    <tr style=\"text-align: right;\">\n",
       "      <th></th>\n",
       "      <th>date</th>\n",
       "      <th>primary_cleaner.input.sulfate</th>\n",
       "      <th>primary_cleaner.input.depressant</th>\n",
       "      <th>primary_cleaner.input.feed_size</th>\n",
       "      <th>primary_cleaner.input.xanthate</th>\n",
       "      <th>primary_cleaner.state.floatbank8_a_air</th>\n",
       "      <th>primary_cleaner.state.floatbank8_a_level</th>\n",
       "      <th>primary_cleaner.state.floatbank8_b_air</th>\n",
       "      <th>primary_cleaner.state.floatbank8_b_level</th>\n",
       "      <th>primary_cleaner.state.floatbank8_c_air</th>\n",
       "      <th>...</th>\n",
       "      <th>secondary_cleaner.state.floatbank4_a_air</th>\n",
       "      <th>secondary_cleaner.state.floatbank4_a_level</th>\n",
       "      <th>secondary_cleaner.state.floatbank4_b_air</th>\n",
       "      <th>secondary_cleaner.state.floatbank4_b_level</th>\n",
       "      <th>secondary_cleaner.state.floatbank5_a_air</th>\n",
       "      <th>secondary_cleaner.state.floatbank5_a_level</th>\n",
       "      <th>secondary_cleaner.state.floatbank5_b_air</th>\n",
       "      <th>secondary_cleaner.state.floatbank5_b_level</th>\n",
       "      <th>secondary_cleaner.state.floatbank6_a_air</th>\n",
       "      <th>secondary_cleaner.state.floatbank6_a_level</th>\n",
       "    </tr>\n",
       "  </thead>\n",
       "  <tbody>\n",
       "    <tr>\n",
       "      <th>0</th>\n",
       "      <td>2016-09-01 00:59:59</td>\n",
       "      <td>210.800909</td>\n",
       "      <td>14.993118</td>\n",
       "      <td>8.080000</td>\n",
       "      <td>1.005021</td>\n",
       "      <td>1398.981301</td>\n",
       "      <td>-500.225577</td>\n",
       "      <td>1399.144926</td>\n",
       "      <td>-499.919735</td>\n",
       "      <td>1400.102998</td>\n",
       "      <td>...</td>\n",
       "      <td>12.023554</td>\n",
       "      <td>-497.795834</td>\n",
       "      <td>8.016656</td>\n",
       "      <td>-501.289139</td>\n",
       "      <td>7.946562</td>\n",
       "      <td>-432.317850</td>\n",
       "      <td>4.872511</td>\n",
       "      <td>-500.037437</td>\n",
       "      <td>26.705889</td>\n",
       "      <td>-499.709414</td>\n",
       "    </tr>\n",
       "    <tr>\n",
       "      <th>1</th>\n",
       "      <td>2016-09-01 01:59:59</td>\n",
       "      <td>215.392455</td>\n",
       "      <td>14.987471</td>\n",
       "      <td>8.080000</td>\n",
       "      <td>0.990469</td>\n",
       "      <td>1398.777912</td>\n",
       "      <td>-500.057435</td>\n",
       "      <td>1398.055362</td>\n",
       "      <td>-499.778182</td>\n",
       "      <td>1396.151033</td>\n",
       "      <td>...</td>\n",
       "      <td>12.058140</td>\n",
       "      <td>-498.695773</td>\n",
       "      <td>8.130979</td>\n",
       "      <td>-499.634209</td>\n",
       "      <td>7.958270</td>\n",
       "      <td>-525.839648</td>\n",
       "      <td>4.878850</td>\n",
       "      <td>-500.162375</td>\n",
       "      <td>25.019940</td>\n",
       "      <td>-499.819438</td>\n",
       "    </tr>\n",
       "    <tr>\n",
       "      <th>2</th>\n",
       "      <td>2016-09-01 02:59:59</td>\n",
       "      <td>215.259946</td>\n",
       "      <td>12.884934</td>\n",
       "      <td>7.786667</td>\n",
       "      <td>0.996043</td>\n",
       "      <td>1398.493666</td>\n",
       "      <td>-500.868360</td>\n",
       "      <td>1398.860436</td>\n",
       "      <td>-499.764529</td>\n",
       "      <td>1398.075709</td>\n",
       "      <td>...</td>\n",
       "      <td>11.962366</td>\n",
       "      <td>-498.767484</td>\n",
       "      <td>8.096893</td>\n",
       "      <td>-500.827423</td>\n",
       "      <td>8.071056</td>\n",
       "      <td>-500.801673</td>\n",
       "      <td>4.905125</td>\n",
       "      <td>-499.828510</td>\n",
       "      <td>24.994862</td>\n",
       "      <td>-500.622559</td>\n",
       "    </tr>\n",
       "    <tr>\n",
       "      <th>3</th>\n",
       "      <td>2016-09-01 03:59:59</td>\n",
       "      <td>215.336236</td>\n",
       "      <td>12.006805</td>\n",
       "      <td>7.640000</td>\n",
       "      <td>0.863514</td>\n",
       "      <td>1399.618111</td>\n",
       "      <td>-498.863574</td>\n",
       "      <td>1397.440120</td>\n",
       "      <td>-499.211024</td>\n",
       "      <td>1400.129303</td>\n",
       "      <td>...</td>\n",
       "      <td>12.033091</td>\n",
       "      <td>-498.350935</td>\n",
       "      <td>8.074946</td>\n",
       "      <td>-499.474407</td>\n",
       "      <td>7.897085</td>\n",
       "      <td>-500.868509</td>\n",
       "      <td>4.931400</td>\n",
       "      <td>-499.963623</td>\n",
       "      <td>24.948919</td>\n",
       "      <td>-498.709987</td>\n",
       "    </tr>\n",
       "    <tr>\n",
       "      <th>4</th>\n",
       "      <td>2016-09-01 04:59:59</td>\n",
       "      <td>199.099327</td>\n",
       "      <td>10.682530</td>\n",
       "      <td>7.530000</td>\n",
       "      <td>0.805575</td>\n",
       "      <td>1401.268123</td>\n",
       "      <td>-500.808305</td>\n",
       "      <td>1398.128818</td>\n",
       "      <td>-499.504543</td>\n",
       "      <td>1402.172226</td>\n",
       "      <td>...</td>\n",
       "      <td>12.025367</td>\n",
       "      <td>-500.786497</td>\n",
       "      <td>8.054678</td>\n",
       "      <td>-500.397500</td>\n",
       "      <td>8.107890</td>\n",
       "      <td>-509.526725</td>\n",
       "      <td>4.957674</td>\n",
       "      <td>-500.360026</td>\n",
       "      <td>25.003331</td>\n",
       "      <td>-500.856333</td>\n",
       "    </tr>\n",
       "  </tbody>\n",
       "</table>\n",
       "<p>5 rows × 53 columns</p>\n",
       "</div>"
      ],
      "text/plain": [
       "                  date  primary_cleaner.input.sulfate  \\\n",
       "0  2016-09-01 00:59:59                     210.800909   \n",
       "1  2016-09-01 01:59:59                     215.392455   \n",
       "2  2016-09-01 02:59:59                     215.259946   \n",
       "3  2016-09-01 03:59:59                     215.336236   \n",
       "4  2016-09-01 04:59:59                     199.099327   \n",
       "\n",
       "   primary_cleaner.input.depressant  primary_cleaner.input.feed_size  \\\n",
       "0                         14.993118                         8.080000   \n",
       "1                         14.987471                         8.080000   \n",
       "2                         12.884934                         7.786667   \n",
       "3                         12.006805                         7.640000   \n",
       "4                         10.682530                         7.530000   \n",
       "\n",
       "   primary_cleaner.input.xanthate  primary_cleaner.state.floatbank8_a_air  \\\n",
       "0                        1.005021                             1398.981301   \n",
       "1                        0.990469                             1398.777912   \n",
       "2                        0.996043                             1398.493666   \n",
       "3                        0.863514                             1399.618111   \n",
       "4                        0.805575                             1401.268123   \n",
       "\n",
       "   primary_cleaner.state.floatbank8_a_level  \\\n",
       "0                               -500.225577   \n",
       "1                               -500.057435   \n",
       "2                               -500.868360   \n",
       "3                               -498.863574   \n",
       "4                               -500.808305   \n",
       "\n",
       "   primary_cleaner.state.floatbank8_b_air  \\\n",
       "0                             1399.144926   \n",
       "1                             1398.055362   \n",
       "2                             1398.860436   \n",
       "3                             1397.440120   \n",
       "4                             1398.128818   \n",
       "\n",
       "   primary_cleaner.state.floatbank8_b_level  \\\n",
       "0                               -499.919735   \n",
       "1                               -499.778182   \n",
       "2                               -499.764529   \n",
       "3                               -499.211024   \n",
       "4                               -499.504543   \n",
       "\n",
       "   primary_cleaner.state.floatbank8_c_air  ...  \\\n",
       "0                             1400.102998  ...   \n",
       "1                             1396.151033  ...   \n",
       "2                             1398.075709  ...   \n",
       "3                             1400.129303  ...   \n",
       "4                             1402.172226  ...   \n",
       "\n",
       "   secondary_cleaner.state.floatbank4_a_air  \\\n",
       "0                                 12.023554   \n",
       "1                                 12.058140   \n",
       "2                                 11.962366   \n",
       "3                                 12.033091   \n",
       "4                                 12.025367   \n",
       "\n",
       "   secondary_cleaner.state.floatbank4_a_level  \\\n",
       "0                                 -497.795834   \n",
       "1                                 -498.695773   \n",
       "2                                 -498.767484   \n",
       "3                                 -498.350935   \n",
       "4                                 -500.786497   \n",
       "\n",
       "   secondary_cleaner.state.floatbank4_b_air  \\\n",
       "0                                  8.016656   \n",
       "1                                  8.130979   \n",
       "2                                  8.096893   \n",
       "3                                  8.074946   \n",
       "4                                  8.054678   \n",
       "\n",
       "   secondary_cleaner.state.floatbank4_b_level  \\\n",
       "0                                 -501.289139   \n",
       "1                                 -499.634209   \n",
       "2                                 -500.827423   \n",
       "3                                 -499.474407   \n",
       "4                                 -500.397500   \n",
       "\n",
       "   secondary_cleaner.state.floatbank5_a_air  \\\n",
       "0                                  7.946562   \n",
       "1                                  7.958270   \n",
       "2                                  8.071056   \n",
       "3                                  7.897085   \n",
       "4                                  8.107890   \n",
       "\n",
       "   secondary_cleaner.state.floatbank5_a_level  \\\n",
       "0                                 -432.317850   \n",
       "1                                 -525.839648   \n",
       "2                                 -500.801673   \n",
       "3                                 -500.868509   \n",
       "4                                 -509.526725   \n",
       "\n",
       "   secondary_cleaner.state.floatbank5_b_air  \\\n",
       "0                                  4.872511   \n",
       "1                                  4.878850   \n",
       "2                                  4.905125   \n",
       "3                                  4.931400   \n",
       "4                                  4.957674   \n",
       "\n",
       "   secondary_cleaner.state.floatbank5_b_level  \\\n",
       "0                                 -500.037437   \n",
       "1                                 -500.162375   \n",
       "2                                 -499.828510   \n",
       "3                                 -499.963623   \n",
       "4                                 -500.360026   \n",
       "\n",
       "   secondary_cleaner.state.floatbank6_a_air  \\\n",
       "0                                 26.705889   \n",
       "1                                 25.019940   \n",
       "2                                 24.994862   \n",
       "3                                 24.948919   \n",
       "4                                 25.003331   \n",
       "\n",
       "   secondary_cleaner.state.floatbank6_a_level  \n",
       "0                                 -499.709414  \n",
       "1                                 -499.819438  \n",
       "2                                 -500.622559  \n",
       "3                                 -498.709987  \n",
       "4                                 -500.856333  \n",
       "\n",
       "[5 rows x 53 columns]"
      ]
     },
     "execution_count": 5,
     "metadata": {},
     "output_type": "execute_result"
    }
   ],
   "source": [
    "data_test.head()"
   ]
  },
  {
   "cell_type": "code",
   "execution_count": 6,
   "metadata": {},
   "outputs": [
    {
     "name": "stdout",
     "output_type": "stream",
     "text": [
      "<class 'pandas.core.frame.DataFrame'>\n",
      "RangeIndex: 19439 entries, 0 to 19438\n",
      "Data columns (total 87 columns):\n",
      " #   Column                                              Non-Null Count  Dtype  \n",
      "---  ------                                              --------------  -----  \n",
      " 0   date                                                19439 non-null  object \n",
      " 1   final.output.concentrate_ag                         19438 non-null  float64\n",
      " 2   final.output.concentrate_pb                         19438 non-null  float64\n",
      " 3   final.output.concentrate_sol                        19228 non-null  float64\n",
      " 4   final.output.concentrate_au                         19439 non-null  float64\n",
      " 5   final.output.recovery                               19439 non-null  float64\n",
      " 6   final.output.tail_ag                                19438 non-null  float64\n",
      " 7   final.output.tail_pb                                19338 non-null  float64\n",
      " 8   final.output.tail_sol                               19433 non-null  float64\n",
      " 9   final.output.tail_au                                19439 non-null  float64\n",
      " 10  primary_cleaner.input.sulfate                       19415 non-null  float64\n",
      " 11  primary_cleaner.input.depressant                    19402 non-null  float64\n",
      " 12  primary_cleaner.input.feed_size                     19439 non-null  float64\n",
      " 13  primary_cleaner.input.xanthate                      19335 non-null  float64\n",
      " 14  primary_cleaner.output.concentrate_ag               19439 non-null  float64\n",
      " 15  primary_cleaner.output.concentrate_pb               19323 non-null  float64\n",
      " 16  primary_cleaner.output.concentrate_sol              19069 non-null  float64\n",
      " 17  primary_cleaner.output.concentrate_au               19439 non-null  float64\n",
      " 18  primary_cleaner.output.tail_ag                      19435 non-null  float64\n",
      " 19  primary_cleaner.output.tail_pb                      19418 non-null  float64\n",
      " 20  primary_cleaner.output.tail_sol                     19377 non-null  float64\n",
      " 21  primary_cleaner.output.tail_au                      19439 non-null  float64\n",
      " 22  primary_cleaner.state.floatbank8_a_air              19435 non-null  float64\n",
      " 23  primary_cleaner.state.floatbank8_a_level            19438 non-null  float64\n",
      " 24  primary_cleaner.state.floatbank8_b_air              19435 non-null  float64\n",
      " 25  primary_cleaner.state.floatbank8_b_level            19438 non-null  float64\n",
      " 26  primary_cleaner.state.floatbank8_c_air              19437 non-null  float64\n",
      " 27  primary_cleaner.state.floatbank8_c_level            19438 non-null  float64\n",
      " 28  primary_cleaner.state.floatbank8_d_air              19436 non-null  float64\n",
      " 29  primary_cleaner.state.floatbank8_d_level            19438 non-null  float64\n",
      " 30  rougher.calculation.sulfate_to_au_concentrate       19437 non-null  float64\n",
      " 31  rougher.calculation.floatbank10_sulfate_to_au_feed  19437 non-null  float64\n",
      " 32  rougher.calculation.floatbank11_sulfate_to_au_feed  19437 non-null  float64\n",
      " 33  rougher.calculation.au_pb_ratio                     19439 non-null  float64\n",
      " 34  rougher.input.feed_ag                               19439 non-null  float64\n",
      " 35  rougher.input.feed_pb                               19339 non-null  float64\n",
      " 36  rougher.input.feed_rate                             19428 non-null  float64\n",
      " 37  rougher.input.feed_size                             19294 non-null  float64\n",
      " 38  rougher.input.feed_sol                              19340 non-null  float64\n",
      " 39  rougher.input.feed_au                               19439 non-null  float64\n",
      " 40  rougher.input.floatbank10_sulfate                   19405 non-null  float64\n",
      " 41  rougher.input.floatbank10_xanthate                  19431 non-null  float64\n",
      " 42  rougher.input.floatbank11_sulfate                   19395 non-null  float64\n",
      " 43  rougher.input.floatbank11_xanthate                  18986 non-null  float64\n",
      " 44  rougher.output.concentrate_ag                       19439 non-null  float64\n",
      " 45  rougher.output.concentrate_pb                       19439 non-null  float64\n",
      " 46  rougher.output.concentrate_sol                      19416 non-null  float64\n",
      " 47  rougher.output.concentrate_au                       19439 non-null  float64\n",
      " 48  rougher.output.recovery                             19439 non-null  float64\n",
      " 49  rougher.output.tail_ag                              19438 non-null  float64\n",
      " 50  rougher.output.tail_pb                              19439 non-null  float64\n",
      " 51  rougher.output.tail_sol                             19439 non-null  float64\n",
      " 52  rougher.output.tail_au                              19439 non-null  float64\n",
      " 53  rougher.state.floatbank10_a_air                     19438 non-null  float64\n",
      " 54  rougher.state.floatbank10_a_level                   19438 non-null  float64\n",
      " 55  rougher.state.floatbank10_b_air                     19438 non-null  float64\n",
      " 56  rougher.state.floatbank10_b_level                   19438 non-null  float64\n",
      " 57  rougher.state.floatbank10_c_air                     19438 non-null  float64\n",
      " 58  rougher.state.floatbank10_c_level                   19438 non-null  float64\n",
      " 59  rougher.state.floatbank10_d_air                     19439 non-null  float64\n",
      " 60  rougher.state.floatbank10_d_level                   19439 non-null  float64\n",
      " 61  rougher.state.floatbank10_e_air                     19003 non-null  float64\n",
      " 62  rougher.state.floatbank10_e_level                   19439 non-null  float64\n",
      " 63  rougher.state.floatbank10_f_air                     19439 non-null  float64\n",
      " 64  rougher.state.floatbank10_f_level                   19439 non-null  float64\n",
      " 65  secondary_cleaner.output.tail_ag                    19437 non-null  float64\n",
      " 66  secondary_cleaner.output.tail_pb                    19427 non-null  float64\n",
      " 67  secondary_cleaner.output.tail_sol                   17691 non-null  float64\n",
      " 68  secondary_cleaner.output.tail_au                    19439 non-null  float64\n",
      " 69  secondary_cleaner.state.floatbank2_a_air            19219 non-null  float64\n",
      " 70  secondary_cleaner.state.floatbank2_a_level          19438 non-null  float64\n",
      " 71  secondary_cleaner.state.floatbank2_b_air            19416 non-null  float64\n",
      " 72  secondary_cleaner.state.floatbank2_b_level          19438 non-null  float64\n",
      " 73  secondary_cleaner.state.floatbank3_a_air            19426 non-null  float64\n",
      " 74  secondary_cleaner.state.floatbank3_a_level          19438 non-null  float64\n",
      " 75  secondary_cleaner.state.floatbank3_b_air            19438 non-null  float64\n",
      " 76  secondary_cleaner.state.floatbank3_b_level          19438 non-null  float64\n",
      " 77  secondary_cleaner.state.floatbank4_a_air            19433 non-null  float64\n",
      " 78  secondary_cleaner.state.floatbank4_a_level          19438 non-null  float64\n",
      " 79  secondary_cleaner.state.floatbank4_b_air            19438 non-null  float64\n",
      " 80  secondary_cleaner.state.floatbank4_b_level          19438 non-null  float64\n",
      " 81  secondary_cleaner.state.floatbank5_a_air            19438 non-null  float64\n",
      " 82  secondary_cleaner.state.floatbank5_a_level          19438 non-null  float64\n",
      " 83  secondary_cleaner.state.floatbank5_b_air            19438 non-null  float64\n",
      " 84  secondary_cleaner.state.floatbank5_b_level          19438 non-null  float64\n",
      " 85  secondary_cleaner.state.floatbank6_a_air            19437 non-null  float64\n",
      " 86  secondary_cleaner.state.floatbank6_a_level          19438 non-null  float64\n",
      "dtypes: float64(86), object(1)\n",
      "memory usage: 12.9+ MB\n"
     ]
    }
   ],
   "source": [
    "data_full.info()"
   ]
  },
  {
   "cell_type": "code",
   "execution_count": 7,
   "metadata": {},
   "outputs": [
    {
     "name": "stdout",
     "output_type": "stream",
     "text": [
      "<class 'pandas.core.frame.DataFrame'>\n",
      "RangeIndex: 5290 entries, 0 to 5289\n",
      "Data columns (total 53 columns):\n",
      " #   Column                                      Non-Null Count  Dtype  \n",
      "---  ------                                      --------------  -----  \n",
      " 0   date                                        5290 non-null   object \n",
      " 1   primary_cleaner.input.sulfate               5286 non-null   float64\n",
      " 2   primary_cleaner.input.depressant            5285 non-null   float64\n",
      " 3   primary_cleaner.input.feed_size             5290 non-null   float64\n",
      " 4   primary_cleaner.input.xanthate              5286 non-null   float64\n",
      " 5   primary_cleaner.state.floatbank8_a_air      5290 non-null   float64\n",
      " 6   primary_cleaner.state.floatbank8_a_level    5290 non-null   float64\n",
      " 7   primary_cleaner.state.floatbank8_b_air      5290 non-null   float64\n",
      " 8   primary_cleaner.state.floatbank8_b_level    5290 non-null   float64\n",
      " 9   primary_cleaner.state.floatbank8_c_air      5290 non-null   float64\n",
      " 10  primary_cleaner.state.floatbank8_c_level    5290 non-null   float64\n",
      " 11  primary_cleaner.state.floatbank8_d_air      5290 non-null   float64\n",
      " 12  primary_cleaner.state.floatbank8_d_level    5290 non-null   float64\n",
      " 13  rougher.input.feed_ag                       5290 non-null   float64\n",
      " 14  rougher.input.feed_pb                       5290 non-null   float64\n",
      " 15  rougher.input.feed_rate                     5287 non-null   float64\n",
      " 16  rougher.input.feed_size                     5289 non-null   float64\n",
      " 17  rougher.input.feed_sol                      5269 non-null   float64\n",
      " 18  rougher.input.feed_au                       5290 non-null   float64\n",
      " 19  rougher.input.floatbank10_sulfate           5285 non-null   float64\n",
      " 20  rougher.input.floatbank10_xanthate          5290 non-null   float64\n",
      " 21  rougher.input.floatbank11_sulfate           5282 non-null   float64\n",
      " 22  rougher.input.floatbank11_xanthate          5265 non-null   float64\n",
      " 23  rougher.state.floatbank10_a_air             5290 non-null   float64\n",
      " 24  rougher.state.floatbank10_a_level           5290 non-null   float64\n",
      " 25  rougher.state.floatbank10_b_air             5290 non-null   float64\n",
      " 26  rougher.state.floatbank10_b_level           5290 non-null   float64\n",
      " 27  rougher.state.floatbank10_c_air             5290 non-null   float64\n",
      " 28  rougher.state.floatbank10_c_level           5290 non-null   float64\n",
      " 29  rougher.state.floatbank10_d_air             5290 non-null   float64\n",
      " 30  rougher.state.floatbank10_d_level           5290 non-null   float64\n",
      " 31  rougher.state.floatbank10_e_air             5290 non-null   float64\n",
      " 32  rougher.state.floatbank10_e_level           5290 non-null   float64\n",
      " 33  rougher.state.floatbank10_f_air             5290 non-null   float64\n",
      " 34  rougher.state.floatbank10_f_level           5290 non-null   float64\n",
      " 35  secondary_cleaner.state.floatbank2_a_air    5287 non-null   float64\n",
      " 36  secondary_cleaner.state.floatbank2_a_level  5290 non-null   float64\n",
      " 37  secondary_cleaner.state.floatbank2_b_air    5288 non-null   float64\n",
      " 38  secondary_cleaner.state.floatbank2_b_level  5290 non-null   float64\n",
      " 39  secondary_cleaner.state.floatbank3_a_air    5281 non-null   float64\n",
      " 40  secondary_cleaner.state.floatbank3_a_level  5290 non-null   float64\n",
      " 41  secondary_cleaner.state.floatbank3_b_air    5290 non-null   float64\n",
      " 42  secondary_cleaner.state.floatbank3_b_level  5290 non-null   float64\n",
      " 43  secondary_cleaner.state.floatbank4_a_air    5290 non-null   float64\n",
      " 44  secondary_cleaner.state.floatbank4_a_level  5290 non-null   float64\n",
      " 45  secondary_cleaner.state.floatbank4_b_air    5290 non-null   float64\n",
      " 46  secondary_cleaner.state.floatbank4_b_level  5290 non-null   float64\n",
      " 47  secondary_cleaner.state.floatbank5_a_air    5290 non-null   float64\n",
      " 48  secondary_cleaner.state.floatbank5_a_level  5290 non-null   float64\n",
      " 49  secondary_cleaner.state.floatbank5_b_air    5290 non-null   float64\n",
      " 50  secondary_cleaner.state.floatbank5_b_level  5290 non-null   float64\n",
      " 51  secondary_cleaner.state.floatbank6_a_air    5290 non-null   float64\n",
      " 52  secondary_cleaner.state.floatbank6_a_level  5290 non-null   float64\n",
      "dtypes: float64(52), object(1)\n",
      "memory usage: 2.1+ MB\n"
     ]
    }
   ],
   "source": [
    "data_test.info()"
   ]
  },
  {
   "cell_type": "code",
   "execution_count": 8,
   "metadata": {},
   "outputs": [
    {
     "name": "stdout",
     "output_type": "stream",
     "text": [
      "<class 'pandas.core.frame.DataFrame'>\n",
      "RangeIndex: 14149 entries, 0 to 14148\n",
      "Data columns (total 87 columns):\n",
      " #   Column                                              Non-Null Count  Dtype  \n",
      "---  ------                                              --------------  -----  \n",
      " 0   date                                                14149 non-null  object \n",
      " 1   final.output.concentrate_ag                         14148 non-null  float64\n",
      " 2   final.output.concentrate_pb                         14148 non-null  float64\n",
      " 3   final.output.concentrate_sol                        13938 non-null  float64\n",
      " 4   final.output.concentrate_au                         14149 non-null  float64\n",
      " 5   final.output.recovery                               14149 non-null  float64\n",
      " 6   final.output.tail_ag                                14149 non-null  float64\n",
      " 7   final.output.tail_pb                                14049 non-null  float64\n",
      " 8   final.output.tail_sol                               14144 non-null  float64\n",
      " 9   final.output.tail_au                                14149 non-null  float64\n",
      " 10  primary_cleaner.input.sulfate                       14129 non-null  float64\n",
      " 11  primary_cleaner.input.depressant                    14117 non-null  float64\n",
      " 12  primary_cleaner.input.feed_size                     14149 non-null  float64\n",
      " 13  primary_cleaner.input.xanthate                      14049 non-null  float64\n",
      " 14  primary_cleaner.output.concentrate_ag               14149 non-null  float64\n",
      " 15  primary_cleaner.output.concentrate_pb               14063 non-null  float64\n",
      " 16  primary_cleaner.output.concentrate_sol              13863 non-null  float64\n",
      " 17  primary_cleaner.output.concentrate_au               14149 non-null  float64\n",
      " 18  primary_cleaner.output.tail_ag                      14148 non-null  float64\n",
      " 19  primary_cleaner.output.tail_pb                      14134 non-null  float64\n",
      " 20  primary_cleaner.output.tail_sol                     14103 non-null  float64\n",
      " 21  primary_cleaner.output.tail_au                      14149 non-null  float64\n",
      " 22  primary_cleaner.state.floatbank8_a_air              14145 non-null  float64\n",
      " 23  primary_cleaner.state.floatbank8_a_level            14148 non-null  float64\n",
      " 24  primary_cleaner.state.floatbank8_b_air              14145 non-null  float64\n",
      " 25  primary_cleaner.state.floatbank8_b_level            14148 non-null  float64\n",
      " 26  primary_cleaner.state.floatbank8_c_air              14147 non-null  float64\n",
      " 27  primary_cleaner.state.floatbank8_c_level            14148 non-null  float64\n",
      " 28  primary_cleaner.state.floatbank8_d_air              14146 non-null  float64\n",
      " 29  primary_cleaner.state.floatbank8_d_level            14148 non-null  float64\n",
      " 30  rougher.calculation.sulfate_to_au_concentrate       14148 non-null  float64\n",
      " 31  rougher.calculation.floatbank10_sulfate_to_au_feed  14148 non-null  float64\n",
      " 32  rougher.calculation.floatbank11_sulfate_to_au_feed  14148 non-null  float64\n",
      " 33  rougher.calculation.au_pb_ratio                     14149 non-null  float64\n",
      " 34  rougher.input.feed_ag                               14149 non-null  float64\n",
      " 35  rougher.input.feed_pb                               14049 non-null  float64\n",
      " 36  rougher.input.feed_rate                             14141 non-null  float64\n",
      " 37  rougher.input.feed_size                             14005 non-null  float64\n",
      " 38  rougher.input.feed_sol                              14071 non-null  float64\n",
      " 39  rougher.input.feed_au                               14149 non-null  float64\n",
      " 40  rougher.input.floatbank10_sulfate                   14120 non-null  float64\n",
      " 41  rougher.input.floatbank10_xanthate                  14141 non-null  float64\n",
      " 42  rougher.input.floatbank11_sulfate                   14113 non-null  float64\n",
      " 43  rougher.input.floatbank11_xanthate                  13721 non-null  float64\n",
      " 44  rougher.output.concentrate_ag                       14149 non-null  float64\n",
      " 45  rougher.output.concentrate_pb                       14149 non-null  float64\n",
      " 46  rougher.output.concentrate_sol                      14127 non-null  float64\n",
      " 47  rougher.output.concentrate_au                       14149 non-null  float64\n",
      " 48  rougher.output.recovery                             14149 non-null  float64\n",
      " 49  rougher.output.tail_ag                              14148 non-null  float64\n",
      " 50  rougher.output.tail_pb                              14149 non-null  float64\n",
      " 51  rougher.output.tail_sol                             14149 non-null  float64\n",
      " 52  rougher.output.tail_au                              14149 non-null  float64\n",
      " 53  rougher.state.floatbank10_a_air                     14148 non-null  float64\n",
      " 54  rougher.state.floatbank10_a_level                   14148 non-null  float64\n",
      " 55  rougher.state.floatbank10_b_air                     14148 non-null  float64\n",
      " 56  rougher.state.floatbank10_b_level                   14148 non-null  float64\n",
      " 57  rougher.state.floatbank10_c_air                     14148 non-null  float64\n",
      " 58  rougher.state.floatbank10_c_level                   14148 non-null  float64\n",
      " 59  rougher.state.floatbank10_d_air                     14149 non-null  float64\n",
      " 60  rougher.state.floatbank10_d_level                   14149 non-null  float64\n",
      " 61  rougher.state.floatbank10_e_air                     13713 non-null  float64\n",
      " 62  rougher.state.floatbank10_e_level                   14149 non-null  float64\n",
      " 63  rougher.state.floatbank10_f_air                     14149 non-null  float64\n",
      " 64  rougher.state.floatbank10_f_level                   14149 non-null  float64\n",
      " 65  secondary_cleaner.output.tail_ag                    14147 non-null  float64\n",
      " 66  secondary_cleaner.output.tail_pb                    14139 non-null  float64\n",
      " 67  secondary_cleaner.output.tail_sol                   12544 non-null  float64\n",
      " 68  secondary_cleaner.output.tail_au                    14149 non-null  float64\n",
      " 69  secondary_cleaner.state.floatbank2_a_air            13932 non-null  float64\n",
      " 70  secondary_cleaner.state.floatbank2_a_level          14148 non-null  float64\n",
      " 71  secondary_cleaner.state.floatbank2_b_air            14128 non-null  float64\n",
      " 72  secondary_cleaner.state.floatbank2_b_level          14148 non-null  float64\n",
      " 73  secondary_cleaner.state.floatbank3_a_air            14145 non-null  float64\n",
      " 74  secondary_cleaner.state.floatbank3_a_level          14148 non-null  float64\n",
      " 75  secondary_cleaner.state.floatbank3_b_air            14148 non-null  float64\n",
      " 76  secondary_cleaner.state.floatbank3_b_level          14148 non-null  float64\n",
      " 77  secondary_cleaner.state.floatbank4_a_air            14143 non-null  float64\n",
      " 78  secondary_cleaner.state.floatbank4_a_level          14148 non-null  float64\n",
      " 79  secondary_cleaner.state.floatbank4_b_air            14148 non-null  float64\n",
      " 80  secondary_cleaner.state.floatbank4_b_level          14148 non-null  float64\n",
      " 81  secondary_cleaner.state.floatbank5_a_air            14148 non-null  float64\n",
      " 82  secondary_cleaner.state.floatbank5_a_level          14148 non-null  float64\n",
      " 83  secondary_cleaner.state.floatbank5_b_air            14148 non-null  float64\n",
      " 84  secondary_cleaner.state.floatbank5_b_level          14148 non-null  float64\n",
      " 85  secondary_cleaner.state.floatbank6_a_air            14147 non-null  float64\n",
      " 86  secondary_cleaner.state.floatbank6_a_level          14148 non-null  float64\n",
      "dtypes: float64(86), object(1)\n",
      "memory usage: 9.4+ MB\n"
     ]
    }
   ],
   "source": [
    "data_train.info()"
   ]
  },
  {
   "cell_type": "code",
   "execution_count": 9,
   "metadata": {},
   "outputs": [
    {
     "name": "stdout",
     "output_type": "stream",
     "text": [
      "Столбцы, которые есть в тренировочном наборе, но отсутствуют в тестовом:\n"
     ]
    },
    {
     "data": {
      "text/plain": [
       "{'final.output.concentrate_ag',\n",
       " 'final.output.concentrate_au',\n",
       " 'final.output.concentrate_pb',\n",
       " 'final.output.concentrate_sol',\n",
       " 'final.output.recovery',\n",
       " 'final.output.tail_ag',\n",
       " 'final.output.tail_au',\n",
       " 'final.output.tail_pb',\n",
       " 'final.output.tail_sol',\n",
       " 'primary_cleaner.output.concentrate_ag',\n",
       " 'primary_cleaner.output.concentrate_au',\n",
       " 'primary_cleaner.output.concentrate_pb',\n",
       " 'primary_cleaner.output.concentrate_sol',\n",
       " 'primary_cleaner.output.tail_ag',\n",
       " 'primary_cleaner.output.tail_au',\n",
       " 'primary_cleaner.output.tail_pb',\n",
       " 'primary_cleaner.output.tail_sol',\n",
       " 'rougher.calculation.au_pb_ratio',\n",
       " 'rougher.calculation.floatbank10_sulfate_to_au_feed',\n",
       " 'rougher.calculation.floatbank11_sulfate_to_au_feed',\n",
       " 'rougher.calculation.sulfate_to_au_concentrate',\n",
       " 'rougher.output.concentrate_ag',\n",
       " 'rougher.output.concentrate_au',\n",
       " 'rougher.output.concentrate_pb',\n",
       " 'rougher.output.concentrate_sol',\n",
       " 'rougher.output.recovery',\n",
       " 'rougher.output.tail_ag',\n",
       " 'rougher.output.tail_au',\n",
       " 'rougher.output.tail_pb',\n",
       " 'rougher.output.tail_sol',\n",
       " 'secondary_cleaner.output.tail_ag',\n",
       " 'secondary_cleaner.output.tail_au',\n",
       " 'secondary_cleaner.output.tail_pb',\n",
       " 'secondary_cleaner.output.tail_sol'}"
      ]
     },
     "execution_count": 9,
     "metadata": {},
     "output_type": "execute_result"
    }
   ],
   "source": [
    "# посмотрим на столбцы data_train, которые отсутствуют в data_test\n",
    "columns_in_train_not_in_test = set(data_train.columns) - set(data_test.columns)\n",
    "\n",
    "print(\"Столбцы, которые есть в тренировочном наборе, но отсутствуют в тестовом:\")\n",
    "columns_in_train_not_in_test"
   ]
  },
  {
   "cell_type": "markdown",
   "metadata": {},
   "source": [
    "В тестовой выборке отсутствуют непостоянные признаки (внешние параметры, которые зависят от характеристик поступающего сырья). Эти признаки не будут полезны для обучения модели, так как на этапе подачи сырья они будут неизвестны. Кроме того, использование таких признаков потребовало бы от модели сначала предсказывать промежуточные величины, а затем на их основе рассчитывать целевой признак.\n",
    "\n",
    "В отличие от них, исходные характеристики сырья и производственные показатели камер на различных этапах обогащения являются доступными и значимыми. Эти параметры влияют на качество промежуточных величин, которые, в свою очередь, определяют целевой признак recovery. Таким образом, непостоянные признаки можно считать избыточными и излишними, а для обучения модели следует оставить только входные характеристики сырья и внутренние параметры камер, где происходят процессы флотации и фильтрации.\n"
   ]
  },
  {
   "cell_type": "code",
   "execution_count": 10,
   "metadata": {},
   "outputs": [
    {
     "data": {
      "text/plain": [
       "0"
      ]
     },
     "execution_count": 10,
     "metadata": {},
     "output_type": "execute_result"
    }
   ],
   "source": [
    "# сверяем объем выборок\n",
    "len(data_full) - len(data_train) - len(data_test)"
   ]
  },
  {
   "cell_type": "code",
   "execution_count": 11,
   "metadata": {},
   "outputs": [],
   "source": [
    "# приводим столбцы к нужному типу данных для дальнейшего анализа\n",
    "data_full['date'] = pd.to_datetime(data_full['date'], format='%Y-%m-%d %H:%M:%S')\n",
    "data_train['date'] = pd.to_datetime(data_full['date'], format='%Y-%m-%d %H:%M:%S')\n",
    "data_test['date'] = pd.to_datetime(data_full['date'], format='%Y-%m-%d %H:%M:%S')"
   ]
  },
  {
   "cell_type": "code",
   "execution_count": 12,
   "metadata": {},
   "outputs": [
    {
     "data": {
      "image/png": "[encoded data removed]",
      "text/plain": [
       "<Figure size 1080x720 with 1 Axes>"
      ]
     },
     "metadata": {
      "needs_background": "light"
     },
     "output_type": "display_data"
    }
   ],
   "source": [
    "# смотрим на распределение данных по времени\n",
    "data_full['date'].plot(figsize=(15, 10), grid=True)\n",
    "plt.xlabel('Число наблюдений', fontsize=14)\n",
    "plt.ylabel('Время', fontsize=14)\n",
    "plt.title('Распределение данных по времени', fontsize=16, pad=20);"
   ]
  },
  {
   "cell_type": "markdown",
   "metadata": {},
   "source": [
    "Как видно, данные равномерно распределены по времени (одна запись в час на протяжении двух с половиной лет)."
   ]
  },
  {
   "cell_type": "code",
   "execution_count": 13,
   "metadata": {},
   "outputs": [
    {
     "data": {
      "image/png": "[encoded data removed]",
      "text/plain": [
       "<Figure size 1080x720 with 1 Axes>"
      ]
     },
     "metadata": {
      "needs_background": "light"
     },
     "output_type": "display_data"
    }
   ],
   "source": [
    "# в данных есть пропуски, посмотрим на них подробнее на полных данных\n",
    "# исключим единичные пропуски из визуализации\n",
    "\n",
    "full_na = data_full.isna().sum()\n",
    "full_na = full_na[full_na > 10]\n",
    "full_na.sort_values(ascending=False).plot(figsize=(15, 10), kind='bar')\n",
    "plt.xlabel('Столбцы с пропусками', fontsize=14)\n",
    "plt.ylabel('Число пропусков', fontsize=14)\n",
    "plt.title('Столбцы по числу пропусков', fontsize=16, pad=20)\n",
    "plt.grid(True);"
   ]
  },
  {
   "cell_type": "markdown",
   "metadata": {},
   "source": [
    "Как видим, наибольшее число пропусков приходится на хвосты солей после вторичной фильтрации. Рассмотрим эти данные подробнее."
   ]
  },
  {
   "cell_type": "code",
   "execution_count": 14,
   "metadata": {},
   "outputs": [],
   "source": [
    "sec_na = data_full[data_full['secondary_cleaner.output.tail_sol'].isna()]\n",
    "sec_na = sec_na.reset_index(drop=True)"
   ]
  },
  {
   "cell_type": "code",
   "execution_count": 15,
   "metadata": {},
   "outputs": [
    {
     "data": {
      "image/png": "[encoded data removed]",
      "text/plain": [
       "<Figure size 1080x720 with 1 Axes>"
      ]
     },
     "metadata": {
      "needs_background": "light"
     },
     "output_type": "display_data"
    }
   ],
   "source": [
    "sec_na['date'].plot(figsize=(15, 10))\n",
    "\n",
    "plt.grid(True)\n",
    "plt.xlabel('Число наблюдений', fontsize=14)\n",
    "plt.ylabel('Время', fontsize=14)\n",
    "plt.title('Распределение данных по времени', fontsize=16, pad=20);"
   ]
  },
  {
   "cell_type": "code",
   "execution_count": 16,
   "metadata": {},
   "outputs": [
    {
     "data": {
      "image/png": "[encoded data removed]",
      "text/plain": [
       "<Figure size 1080x720 with 1 Axes>"
      ]
     },
     "metadata": {
      "needs_background": "light"
     },
     "output_type": "display_data"
    }
   ],
   "source": [
    "sec_na[sec_na['date'].dt.date > pd.to_datetime('2018-01-01').date()]['date'].plot(figsize=(15, 10))\n",
    "\n",
    "plt.grid(True)\n",
    "plt.xlabel('Число наблюдений', fontsize=14)\n",
    "plt.ylabel('Время', fontsize=14)\n",
    "plt.title('Распределение данных по времени', fontsize=16, pad=20);"
   ]
  },
  {
   "cell_type": "code",
   "execution_count": 17,
   "metadata": {},
   "outputs": [
    {
     "name": "stdout",
     "output_type": "stream",
     "text": [
      "Число наблюдений в исходном датафрейме: 3442\n",
      "Число наблюдений с пропусками: 1400\n"
     ]
    }
   ],
   "source": [
    "print('Число наблюдений в исходном датафрейме:', len(data_full[data_full['date'].dt.date > pd.to_datetime('2018-03-01').date()]))\n",
    "print('Число наблюдений с пропусками:', len(sec_na[sec_na['date'].dt.date > pd.to_datetime('2018-03-01').date()]))"
   ]
  },
  {
   "cell_type": "markdown",
   "metadata": {},
   "source": [
    "С 2018-03-01 почти треть наблюдений содержат пропуски в secondary_cleaner.output.tail_sol. Это не похоже на случайность."
   ]
  },
  {
   "cell_type": "code",
   "execution_count": 18,
   "metadata": {},
   "outputs": [
    {
     "data": {
      "image/png": "[encoded data removed]",
      "text/plain": [
       "<Figure size 1080x720 with 2 Axes>"
      ]
     },
     "metadata": {
      "needs_background": "light"
     },
     "output_type": "display_data"
    }
   ],
   "source": [
    "# посмотрим на распределение хвостов солей до и после второй фильтрации \n",
    "# в строках, где содержатся пропуски на этапе второй фильтрации\n",
    "\n",
    "fig, axes = plt.subplots(1, 2, figsize=(15, 10))\n",
    "\n",
    "sec_na['primary_cleaner.output.tail_sol'].plot(\n",
    "    kind='hist', ax=axes[0], bins=20, color='blue', title='Хвосты солей после первой фильтрации', grid=True)\n",
    "\n",
    "axes[0].set_xlabel('Концентрация солей', fontsize=14)\n",
    "axes[0].set_ylabel('Частота', fontsize=14)\n",
    "axes[0].set_title('Хвосты солей после первой фильтрации', fontsize=16, pad=20) \n",
    "\n",
    "sec_na['final.output.tail_sol'].plot(\n",
    "    kind='hist', ax=axes[1], bins=20, color='green', title='Хвосты солей после финальной фильтрации', grid=True)\n",
    "\n",
    "axes[1].set_xlabel('Концентрация солей', fontsize=14)\n",
    "axes[1].set_ylabel('Частота', fontsize=14)\n",
    "axes[1].set_title('Хвосты солей после финальной фильтрации', fontsize=16, pad=20);"
   ]
  },
  {
   "cell_type": "markdown",
   "metadata": {},
   "source": [
    "Как видим, хвосты солей есть на этапах до и после второй фильтрации. Возможно, на производстве проблема с датчиками на втором этапе фильтрации."
   ]
  },
  {
   "cell_type": "markdown",
   "metadata": {},
   "source": [
    "Поскольку эти строки составляют почти треть за выделенный период, они могут содержать важные признаки для анализа, поэтому оставим их без изменений."
   ]
  },
  {
   "cell_type": "code",
   "execution_count": 19,
   "metadata": {},
   "outputs": [],
   "source": [
    "# заполним пропуски методом ffill(), так как значения в строках обычно схожи.\n",
    "data_full = data_full.ffill(axis=0)\n",
    "data_train = data_train.ffill(axis=0)\n",
    "data_test = data_test.ffill(axis=0)"
   ]
  },
  {
   "cell_type": "code",
   "execution_count": 20,
   "metadata": {},
   "outputs": [
    {
     "data": {
      "text/plain": [
       "0"
      ]
     },
     "execution_count": 20,
     "metadata": {},
     "output_type": "execute_result"
    }
   ],
   "source": [
    "# проверим данные на наличие явных дубликатов на полных данных\n",
    "data_full.duplicated().sum()"
   ]
  },
  {
   "cell_type": "markdown",
   "metadata": {},
   "source": [
    "### Проверка правильности рассчета эффективность обогащения"
   ]
  },
  {
   "cell_type": "code",
   "execution_count": 21,
   "metadata": {},
   "outputs": [
    {
     "data": {
      "text/plain": [
       "9.73512347450521e-15"
      ]
     },
     "execution_count": 21,
     "metadata": {},
     "output_type": "execute_result"
    }
   ],
   "source": [
    "# создадим отдельную переменную для проверки правильности рассчета recovery\n",
    "# отберем нужные признаки\n",
    "r_t = data_train[['rougher.output.recovery', 'rougher.output.concentrate_au', 'rougher.input.feed_au', 'rougher.output.tail_au']]\n",
    "\n",
    "# переименуем их в соответствии с формулой\n",
    "r_t.columns = ['R', 'C', 'F', 'T']\n",
    "\n",
    "# застрахуемся от предупреждений\n",
    "r_t = r_t.copy()\n",
    "\n",
    "# рассчитаем recovery  в соответствии с формулой\n",
    "r_t['R_2'] = ((r_t['C'] * (r_t['F'] - r_t['T'])) / (r_t['F'] * (r_t['C'] - r_t['T']))) * 100\n",
    "\n",
    "# проверим верность recovery метрикой MAE \n",
    "mean_absolute_error(r_t['R'], r_t['R_2'])"
   ]
  },
  {
   "cell_type": "markdown",
   "metadata": {},
   "source": [
    "Число 9.73512347450521e-15 в научной нотации означает: 9.73512347450521 × 10<sup>-15</sup>, что является допустимой погрешностью округлений. Такой результат MAE указывает на то, что метрика recovery рассчитана корректно."
   ]
  },
  {
   "cell_type": "markdown",
   "metadata": {},
   "source": [
    "## Анализ данных"
   ]
  },
  {
   "cell_type": "markdown",
   "metadata": {},
   "source": [
    "### Концентрация солей на различных этапах очистки"
   ]
  },
  {
   "cell_type": "code",
   "execution_count": 22,
   "metadata": {},
   "outputs": [
    {
     "data": {
      "image/png": "[encoded data removed]",
      "text/plain": [
       "<Figure size 1080x720 with 1 Axes>"
      ]
     },
     "metadata": {
      "needs_background": "light"
     },
     "output_type": "display_data"
    }
   ],
   "source": [
    "plt.figure(figsize=(15, 10)) \n",
    "plt.grid(True)\n",
    "\n",
    "sns.distplot(data_train['rougher.input.feed_sol'], label='Начальная концентрация')\n",
    "sns.distplot(data_train['rougher.output.concentrate_sol'], label='Флотация')\n",
    "sns.distplot(data_train['primary_cleaner.output.concentrate_sol'], label='Первый этап очистки')\n",
    "sns.distplot(data_train['final.output.concentrate_sol'], label='Второй этап очистки')\n",
    "\n",
    "plt.legend()\n",
    "plt.ylabel('Плотность', fontsize=14) \n",
    "plt.xlabel('Распределение концентрации солей', fontsize=14)\n",
    "plt.title('Изменение концентрации солей на каждом этапе очистки', fontsize=18, pad=20)\n",
    "plt.show()"
   ]
  },
  {
   "cell_type": "markdown",
   "metadata": {},
   "source": [
    "- Как видно, до флотации концентрация солей составляет около 35–40%.\n",
    "- После флотации она снижается до 25–30%.\n",
    "- На этапе первой очистки концентрация удерживается на уровне около 15%.\n",
    "- После финальной очистки она достигает 8–10%.\n",
    "\n",
    "Прослеживается четкая тенденция: на каждом этапе очистки концентрация солей последовательно снижается."
   ]
  },
  {
   "cell_type": "code",
   "execution_count": 23,
   "metadata": {},
   "outputs": [],
   "source": [
    "# избавимся от аномалий\n",
    "data_train = data_train[\n",
    "    (data_train['rougher.input.feed_sol'] >= 3) &\n",
    "    (data_train['rougher.output.concentrate_sol'] >= 3) &\n",
    "    (data_train['primary_cleaner.output.concentrate_sol'] >= 3) &\n",
    "    (data_train['final.output.concentrate_sol'] >= 3)\n",
    "]"
   ]
  },
  {
   "cell_type": "markdown",
   "metadata": {},
   "source": [
    "### Концентрация свинца на различных этапах очистки"
   ]
  },
  {
   "cell_type": "code",
   "execution_count": 24,
   "metadata": {},
   "outputs": [
    {
     "data": {
      "image/png": "[encoded data removed]",
      "text/plain": [
       "<Figure size 1080x720 with 1 Axes>"
      ]
     },
     "metadata": {
      "needs_background": "light"
     },
     "output_type": "display_data"
    }
   ],
   "source": [
    "plt.figure(figsize=(15, 10)) \n",
    "plt.grid(True)\n",
    "\n",
    "sns.distplot(data_train['rougher.input.feed_pb'], label='Начальная концентрация')\n",
    "sns.distplot(data_train['rougher.output.concentrate_pb'], label='Флотация')\n",
    "sns.distplot(data_train['primary_cleaner.output.concentrate_pb'], label='Первый этап очистки')\n",
    "sns.distplot(data_train['final.output.concentrate_pb'], label='Второй этап очистки')\n",
    "\n",
    "plt.legend()\n",
    "plt.ylabel('Плотность', fontsize=14) \n",
    "plt.xlabel('Распределение концентрации свинца', fontsize=14)\n",
    "plt.title('Изменение концентрации свинца на каждом этапе очистки', fontsize=18, pad=20)\n",
    "plt.show()\n"
   ]
  },
  {
   "cell_type": "markdown",
   "metadata": {},
   "source": [
    "- До флотации доля свинца в сырье составляет около 5%.\n",
    "- После флотации доля свинца увеличивается до 8%.\n",
    "- На этапах первой и второй очистки концентрация свинца практически не изменяется, удерживаясь на уровне около 10%.\n",
    "\n",
    "Прослеживается четкая тенденция: на каждом этапе обработки концентрация свинца постепенно увеличивается, достигая максимума на этапах первой и второй очистки."
   ]
  },
  {
   "cell_type": "code",
   "execution_count": 25,
   "metadata": {},
   "outputs": [],
   "source": [
    "# избавимся от аномалий\n",
    "data_train = data_train[\n",
    "    (data_train['rougher.input.feed_pb'] >= 1) &\n",
    "    (data_train['rougher.output.concentrate_pb'] >= 1) &\n",
    "    (data_train['primary_cleaner.output.concentrate_pb'] >= 1) &\n",
    "    (data_train['final.output.concentrate_pb'] >= 1)\n",
    "]"
   ]
  },
  {
   "cell_type": "markdown",
   "metadata": {},
   "source": [
    "### Концентрация серебра на различных этапах очистки"
   ]
  },
  {
   "cell_type": "code",
   "execution_count": 26,
   "metadata": {},
   "outputs": [
    {
     "data": {
      "image/png": "[encoded data removed]",
      "text/plain": [
       "<Figure size 1080x720 with 1 Axes>"
      ]
     },
     "metadata": {
      "needs_background": "light"
     },
     "output_type": "display_data"
    }
   ],
   "source": [
    "plt.figure(figsize=(15, 10)) \n",
    "plt.grid(True)\n",
    "\n",
    "sns.distplot(data_train['rougher.input.feed_ag'], label='Начальная концентрация')\n",
    "sns.distplot(data_train['rougher.output.concentrate_ag'], label='Флотация')\n",
    "sns.distplot(data_train['primary_cleaner.output.concentrate_ag'], label='Первый этап очистки')\n",
    "sns.distplot(data_train['final.output.concentrate_ag'], label='Второй этап очистки')\n",
    "\n",
    "plt.legend()\n",
    "plt.ylabel('Плотность', fontsize=14) \n",
    "plt.xlabel('Распределение концентрации серебра', fontsize=14)\n",
    "plt.title('Изменение концентрации серебра на каждом этапе очистки', fontsize=18, pad=20)\n",
    "plt.show()"
   ]
  },
  {
   "cell_type": "markdown",
   "metadata": {},
   "source": [
    "- До флотации доля серебра в сырье составляет около 9%.\n",
    "- После флотации она заметно увеличивается до 12%.\n",
    "- На этапе первой очистки концентрация возвращается к первоначальному уровню в 9%.\n",
    "- После финальной очистки достигает минимального значения — 5%.\n",
    "\n",
    "Очевидно, что снижение концентрации серебра осуществляется преимущественно на завершающих этапах. На начальных стадиях обработки приоритет, вероятно, отдается выделению других металлов и удалению примесей."
   ]
  },
  {
   "cell_type": "code",
   "execution_count": 27,
   "metadata": {},
   "outputs": [],
   "source": [
    "# избавимся от аномалий\n",
    "data_train = data_train[\n",
    "    (data_train['rougher.input.feed_ag'] >= 1) &\n",
    "    (data_train['rougher.output.concentrate_ag'] >= 1) &\n",
    "    (data_train['primary_cleaner.output.concentrate_ag'] >= 1) &\n",
    "    (data_train['final.output.concentrate_ag'] >= 1)\n",
    "]"
   ]
  },
  {
   "cell_type": "markdown",
   "metadata": {},
   "source": [
    "### Концентрация золота на различных этапах очистки"
   ]
  },
  {
   "cell_type": "code",
   "execution_count": 28,
   "metadata": {},
   "outputs": [
    {
     "data": {
      "image/png": "[encoded data removed]",
      "text/plain": [
       "<Figure size 1080x720 with 1 Axes>"
      ]
     },
     "metadata": {
      "needs_background": "light"
     },
     "output_type": "display_data"
    }
   ],
   "source": [
    "plt.figure(figsize=(15, 10)) \n",
    "plt.grid(True)\n",
    "\n",
    "sns.distplot(data_train['rougher.input.feed_au'], label='Начальная концентрация')\n",
    "sns.distplot(data_train['rougher.output.concentrate_au'], label='Флотация')\n",
    "sns.distplot(data_train['primary_cleaner.output.concentrate_au'], label='Первый этап очистки')\n",
    "sns.distplot(data_train['final.output.concentrate_au'], label='Второй этап очистки')\n",
    "\n",
    "plt.legend()\n",
    "plt.ylabel('Плотность', fontsize=14) \n",
    "plt.xlabel('Распределение концентрации золота', fontsize=14)\n",
    "plt.title('Изменение концентрации золота на каждом этапе очистки', fontsize=18, pad=20)\n",
    "plt.show()"
   ]
  },
  {
   "cell_type": "markdown",
   "metadata": {},
   "source": [
    "- До флотации доля золота в сырье составляет менее 10%.\n",
    "- После флотации она увеличивается до 20%.\n",
    "- На этапе первой очистки концентрация возрастает до 30%.\n",
    "- После финальной очистки достигает максимального значения — 45%.\n",
    "\n",
    "Прослеживается четкая тенденция: на каждом этапе обработки доля золота стабильно увеличивается, прибавляя около 10% на каждом шаге. "
   ]
  },
  {
   "cell_type": "code",
   "execution_count": 29,
   "metadata": {},
   "outputs": [],
   "source": [
    "# избавимся от аномалий\n",
    "data_train = data_train[\n",
    "    (data_train['rougher.input.feed_au'] >= 3) &\n",
    "    (data_train['rougher.output.concentrate_au'] >= 3) &\n",
    "    (data_train['primary_cleaner.output.concentrate_au'] >= 3) &\n",
    "    (data_train['final.output.concentrate_au'] >= 3)\n",
    "]"
   ]
  },
  {
   "cell_type": "markdown",
   "metadata": {},
   "source": [
    "### Распределение размеров гранул сырья на обучающей и тестовой выборках"
   ]
  },
  {
   "cell_type": "code",
   "execution_count": 30,
   "metadata": {},
   "outputs": [
    {
     "data": {
      "image/png": "[encoded data removed]",
      "text/plain": [
       "<Figure size 1080x720 with 1 Axes>"
      ]
     },
     "metadata": {
      "needs_background": "light"
     },
     "output_type": "display_data"
    }
   ],
   "source": [
    "# до флотации \n",
    "ax = data_train['rougher.input.feed_size'].hist(\n",
    "    figsize=(15, 10), bins=(50), range=(0, 150), label='Тренировочная выборка', density=True, alpha=0.7)\n",
    "data_test['rougher.input.feed_size'].hist(\n",
    "    figsize=(15, 10), bins=(50), ax=ax, range=(0, 150), label='Тестовая выборка', density=True, alpha=0.7);\n",
    "\n",
    "plt.xlabel('Размер гранул', fontsize=14)\n",
    "plt.ylabel('Плотность', fontsize=14)\n",
    "plt.title('Распределения размеров гранул сырья на обучающей и тестовой выборках до флотации', fontsize=18, pad=20)\n",
    "\n",
    "plt.legend()\n",
    "plt.grid(True);"
   ]
  },
  {
   "cell_type": "markdown",
   "metadata": {},
   "source": [
    "Распределение размера гранул сырья в обучающей и тестовой выборках до флотации сопоставимо."
   ]
  },
  {
   "cell_type": "code",
   "execution_count": 31,
   "metadata": {},
   "outputs": [
    {
     "data": {
      "image/png": "[encoded data removed]",
      "text/plain": [
       "<Figure size 1080x720 with 1 Axes>"
      ]
     },
     "metadata": {
      "needs_background": "light"
     },
     "output_type": "display_data"
    }
   ],
   "source": [
    "# после флотации \n",
    "ax = data_train['primary_cleaner.input.feed_size'].hist(\n",
    "    figsize=(15, 10), range=(4, 10), bins=(50), label='Тренировочная выборка', density=True, alpha=0.7)\n",
    "data_test['primary_cleaner.input.feed_size'].hist(\n",
    "    figsize=(15, 10), range=(4, 10), bins=(50), ax=ax, label='Тестовая выборка', density=True, alpha=0.7);\n",
    "\n",
    "plt.xlabel('Размер гранул', fontsize=14)\n",
    "plt.ylabel('Плотность', fontsize=14)\n",
    "plt.title('Распределения размеров гранул сырья на обучающей и тестовой выборках после флотации', fontsize=18, pad=20)\n",
    "\n",
    "plt.legend()\n",
    "plt.grid(True);"
   ]
  },
  {
   "cell_type": "markdown",
   "metadata": {},
   "source": [
    "Распределение размера гранул сырья в обучающей и тестовой выборках после флотации сопоставимо."
   ]
  },
  {
   "cell_type": "markdown",
   "metadata": {},
   "source": [
    "### Суммарная концентрация всех веществ на разных стадиях"
   ]
  },
  {
   "cell_type": "markdown",
   "metadata": {},
   "source": [
    "#### До флотации"
   ]
  },
  {
   "cell_type": "code",
   "execution_count": 32,
   "metadata": {},
   "outputs": [
    {
     "data": {
      "text/plain": [
       "57.43713314132174"
      ]
     },
     "execution_count": 32,
     "metadata": {},
     "output_type": "execute_result"
    }
   ],
   "source": [
    "data_full['rougher.input.feed_ag'\n",
    "         ].median() + data_full['rougher.input.feed_pb'\n",
    "                               ].median() + data_full['rougher.input.feed_au'\n",
    "                                                     ].median() + data_full['rougher.input.feed_sol'].median()"
   ]
  },
  {
   "cell_type": "markdown",
   "metadata": {},
   "source": [
    "#### После флотации"
   ]
  },
  {
   "cell_type": "code",
   "execution_count": 33,
   "metadata": {},
   "outputs": [
    {
     "data": {
      "text/plain": [
       "69.95454739959702"
      ]
     },
     "execution_count": 33,
     "metadata": {},
     "output_type": "execute_result"
    }
   ],
   "source": [
    "data_full['rougher.output.concentrate_ag'\n",
    "         ].median() + data_full['rougher.output.concentrate_pb'\n",
    "                               ].median() + data_full['rougher.output.concentrate_au'\n",
    "                                                     ].median() + data_full['rougher.output.concentrate_sol'].median()"
   ]
  },
  {
   "cell_type": "markdown",
   "metadata": {},
   "source": [
    "#### После первой фильтрации"
   ]
  },
  {
   "cell_type": "code",
   "execution_count": 34,
   "metadata": {},
   "outputs": [
    {
     "data": {
      "text/plain": [
       "61.729478024999096"
      ]
     },
     "execution_count": 34,
     "metadata": {},
     "output_type": "execute_result"
    }
   ],
   "source": [
    "data_full['primary_cleaner.output.concentrate_ag'\n",
    "         ].median() + data_full['primary_cleaner.output.concentrate_pb'\n",
    "                               ].median() + data_full['primary_cleaner.output.concentrate_sol'\n",
    "                                                     ].median() + data_full['primary_cleaner.output.concentrate_au'].median()"
   ]
  },
  {
   "cell_type": "markdown",
   "metadata": {},
   "source": [
    "#### После последней фильтрации"
   ]
  },
  {
   "cell_type": "code",
   "execution_count": 35,
   "metadata": {},
   "outputs": [
    {
     "data": {
      "text/plain": [
       "69.36437234326539"
      ]
     },
     "execution_count": 35,
     "metadata": {},
     "output_type": "execute_result"
    }
   ],
   "source": [
    "data_full['final.output.concentrate_ag'\n",
    "         ].median() + data_full['final.output.concentrate_pb'\n",
    "                               ].median() + data_full['final.output.concentrate_sol'\n",
    "                                                     ].median() + data_full['final.output.concentrate_au'].median()"
   ]
  },
  {
   "cell_type": "markdown",
   "metadata": {},
   "source": [
    "В целом, прослеживается тенденция к повышению концентрации веществ на каждом этапе. Однако вызывает вопросы этап после флотации, так как концентрация веществ на этом этапе оказывается сопоставимой с концентрацией на финальном этапе. Рассмотрим его более детально."
   ]
  },
  {
   "cell_type": "markdown",
   "metadata": {},
   "source": [
    "#### Общее распределение"
   ]
  },
  {
   "cell_type": "code",
   "execution_count": 36,
   "metadata": {},
   "outputs": [],
   "source": [
    "# концентрация в сырье\n",
    "f_con = data_train['rougher.input.feed_ag'\n",
    "         ] + data_train['rougher.input.feed_pb'\n",
    "                               ] + data_train['rougher.input.feed_au'\n",
    "                                                     ] + data_train['rougher.input.feed_sol']\n",
    "# концентрация после флотации\n",
    "r_con = data_train['rougher.output.concentrate_ag'\n",
    "         ] + data_train['rougher.output.concentrate_pb'\n",
    "                               ] + data_train['rougher.output.concentrate_au'\n",
    "                                                     ] + data_train['rougher.output.concentrate_sol']\n",
    "# концентрация после первой фильтрации\n",
    "p_con = data_train['primary_cleaner.output.concentrate_ag'\n",
    "         ] + data_train['primary_cleaner.output.concentrate_pb'\n",
    "                               ] + data_train['primary_cleaner.output.concentrate_sol'\n",
    "                                                     ] + data_train['primary_cleaner.output.concentrate_au']\n",
    "# концентрация после финальной фильтрации\n",
    "s_con = data_train['final.output.concentrate_ag'\n",
    "         ] + data_train['final.output.concentrate_pb'\n",
    "                               ] + data_train['final.output.concentrate_sol'\n",
    "                                                     ] + data_train['final.output.concentrate_au']"
   ]
  },
  {
   "cell_type": "markdown",
   "metadata": {},
   "source": [
    "Поскольку разбивка на тестовую и обучающую выборки уже выполнена, все дальнейшие действия будут проводиться на обучающей выборке, а не на всей выборке данных, чтобы избежать повторений."
   ]
  },
  {
   "cell_type": "code",
   "execution_count": 37,
   "metadata": {},
   "outputs": [
    {
     "data": {
      "image/png": "[encoded data removed]",
      "text/plain": [
       "<Figure size 1080x720 with 1 Axes>"
      ]
     },
     "metadata": {
      "needs_background": "light"
     },
     "output_type": "display_data"
    }
   ],
   "source": [
    "f_con.hist(label='Концентрация в сырье', figsize=(15, 10), bins=90)\n",
    "r_con.hist(label='Концентрация после флотации', figsize=(15, 10), bins=90, alpha=0.8)\n",
    "p_con.hist(label='Концентрация после первой фильтрации', figsize=(15, 10), bins=90, alpha=0.7)\n",
    "s_con.hist(label='Финальный концентрация', figsize=(15, 10), bins=90, alpha=0.5)\n",
    "\n",
    "plt.xlabel('Доля суммарной концентрации веществ', fontsize=14)\n",
    "plt.ylabel('Частота', fontsize=14)\n",
    "plt.title('Распределение суммарной концентрации веществ на разных этапах', fontsize=18, pad=20)\n",
    "\n",
    "plt.legend()\n",
    "plt.grid(True)"
   ]
  },
  {
   "cell_type": "markdown",
   "metadata": {},
   "source": [
    "Как и ожидалось, распределения концентрации веществ на этапе после флотации и на финальном этапе значительно различаются, несмотря на схожие показатели центральной тенденции.\n",
    "\n",
    "На более ранних этапах наблюдается более широкий разброс значений, в то время как после финальной фильтрации большинство данных сконцентрировано вокруг среднего значения, что подтверждается ярко выраженным пиком на визуализации.\n",
    "\n",
    "Особое внимание привлекает аномальный пик нулевых значений на всех этапах. Поскольку эти данные вызывают сомнения, избавимся от аномальных значений в обучающей выборке."
   ]
  },
  {
   "cell_type": "markdown",
   "metadata": {},
   "source": [
    "## Модель"
   ]
  },
  {
   "cell_type": "markdown",
   "metadata": {},
   "source": [
    "### Функция для вычисления sMAPE"
   ]
  },
  {
   "cell_type": "raw",
   "metadata": {},
   "source": [
    "def smape(t, p):\n",
    "    sum_tp = 0\n",
    "    for i in range(len(t)):\n",
    "        sum_tp += abs(t[i] - p[i]) / ((abs(t[i]) + abs(p[i])) / 2)\n",
    "    sum_tp /= len(t)\n",
    "    sum_tp *= 100\n",
    "    return sum_tp"
   ]
  },
  {
   "cell_type": "code",
   "execution_count": 38,
   "metadata": {},
   "outputs": [],
   "source": [
    "def smape(t, p):\n",
    "    return ((1/len(t)) * np.sum(2 * np.abs(t - p) / (np.abs(t) + np.abs(p)))) * 100"
   ]
  },
  {
   "cell_type": "code",
   "execution_count": 39,
   "metadata": {},
   "outputs": [],
   "source": [
    "# создаем объект для оценки с использованием нашей функции smape\n",
    "smape_scorer = make_scorer(smape, greater_is_better=False)"
   ]
  },
  {
   "cell_type": "markdown",
   "metadata": {},
   "source": [
    "### Подготовка данных к созданию и обучению моделей"
   ]
  },
  {
   "cell_type": "code",
   "execution_count": 40,
   "metadata": {},
   "outputs": [],
   "source": [
    "# приводим столбцы к нужному типу данных для дальнейшего анализа\n",
    "data_train['date'] = data_train['date'].astype('int64') // 10**9  \n",
    "data_test['date'] = data_test['date'].astype('int64') // 10**9  \n",
    "data_full['date'] = data_full['date'].astype('int64') // 10**9 "
   ]
  },
  {
   "cell_type": "code",
   "execution_count": 41,
   "metadata": {},
   "outputs": [],
   "source": [
    "# добавим в тестовую выборку целевые признаки\n",
    "data_test = data_test.merge(data_full[['rougher.output.recovery', 'final.output.recovery', 'date']], on='date', how='left')"
   ]
  },
  {
   "cell_type": "code",
   "execution_count": 42,
   "metadata": {},
   "outputs": [],
   "source": [
    "data_train = data_train[data_test.columns]"
   ]
  },
  {
   "cell_type": "code",
   "execution_count": 43,
   "metadata": {},
   "outputs": [
    {
     "name": "stdout",
     "output_type": "stream",
     "text": [
      "(12717, 55)\n",
      "(5290, 55)\n"
     ]
    }
   ],
   "source": [
    "# проверим размер тестовой и обучающей выборок\n",
    "print(data_train.shape)\n",
    "print(data_test.shape)"
   ]
  },
  {
   "cell_type": "markdown",
   "metadata": {},
   "source": [
    "### Выделение признаков"
   ]
  },
  {
   "cell_type": "code",
   "execution_count": 44,
   "metadata": {},
   "outputs": [],
   "source": [
    "# выделяем признаки чернового концентрата для тренировочной и тестовой выборок\n",
    "features_train_rougher = data_train.drop(columns=['rougher.output.recovery', 'final.output.recovery'], axis=1)\n",
    "features_test_rougher = data_test.drop(columns=['rougher.output.recovery', 'final.output.recovery'], axis=1)\n",
    "\n",
    "# выделяем целевые признаки чернового концентрата для тренировочной и тестовой выборок\n",
    "target_train_rougher = data_train['rougher.output.recovery']\n",
    "target_test_rougher = data_test['rougher.output.recovery']\n",
    "\n",
    "# выделяем признаки финального концентрата для тренировочной и тестовой выборок\n",
    "features_train_final = data_train.drop(columns=['rougher.output.recovery', 'final.output.recovery'], axis=1)\n",
    "features_test_final = data_test.drop(columns=['rougher.output.recovery', 'final.output.recovery'], axis=1)\n",
    "\n",
    "# выделяем целевые признаки финального концентрата для тренировочной и тестовой выборок\n",
    "target_train_final = data_train['final.output.recovery']\n",
    "target_test_final = data_test['final.output.recovery']"
   ]
  },
  {
   "cell_type": "code",
   "execution_count": 45,
   "metadata": {},
   "outputs": [],
   "source": [
    "def cross_val_best_model(model, features_train, target_train):\n",
    "    scores = cross_val_score(model, features_train, target_train, cv=5, scoring=smape_scorer)\n",
    "    return np.mean(scores)"
   ]
  },
  {
   "cell_type": "markdown",
   "metadata": {},
   "source": [
    "### Прогноз эффективности обогащения чернового концентрата"
   ]
  },
  {
   "cell_type": "code",
   "execution_count": 46,
   "metadata": {},
   "outputs": [
    {
     "name": "stdout",
     "output_type": "stream",
     "text": [
      "sMAPE для черновой стадии (наивная модель): 13.10764863480925\n"
     ]
    }
   ],
   "source": [
    "# рассчитываем медиану для целевой переменной чернового концентрата на обучающей выборке\n",
    "rougher_median = pd.Series([target_train_rougher.median()] * len(target_test_rougher), index=target_test_rougher.index)\n",
    "\n",
    "# рассчитываем sMAPE для наивной модели на тестовой выборке\n",
    "result_rougher = smape(target_test_rougher, rougher_median)\n",
    "\n",
    "# выводим результат sMAPE для черновой стадии\n",
    "print(f\"sMAPE для черновой стадии (наивная модель): {result_rougher}\")"
   ]
  },
  {
   "cell_type": "code",
   "execution_count": 47,
   "metadata": {},
   "outputs": [],
   "source": [
    "# переменная для хранения лучшего результата sMAPE среди всех моделей\n",
    "best_smap_result_rougher = float('inf')  \n",
    "\n",
    "# название модели с наилучшим результатом для rougher\n",
    "best_model_name_rougher = \"\"\n",
    "\n",
    "# переменная для самой лучшей модели для rougher\n",
    "best_model_rougher = None \n",
    "\n",
    "# переменная для параметров лучшей модели для rougher\n",
    "best_model_params_rougher = {} "
   ]
  },
  {
   "cell_type": "markdown",
   "metadata": {},
   "source": [
    "#### Дерево решений"
   ]
  },
  {
   "cell_type": "code",
   "execution_count": 48,
   "metadata": {},
   "outputs": [
    {
     "name": "stdout",
     "output_type": "stream",
     "text": [
      "DecisionTree: Лучший sMAPE на кросс-валидации для rougher: 12.293672675625285, Глубина: 20\n"
     ]
    }
   ],
   "source": [
    "# DecisionTreeRegressor для чернового концентрата\n",
    "\n",
    "decision_tree_model = DecisionTreeRegressor(random_state=12345)\n",
    "best_rougher_result_dt = float('inf')\n",
    "best_depth_dt = 0\n",
    "\n",
    "# подбираем оптимальную глубину для дерева\n",
    "for depth in range(1, 31):\n",
    "    decision_tree_model.set_params(max_depth=depth)\n",
    "    result_dt = cross_val_best_model(decision_tree_model, features_train_rougher, target_train_rougher)\n",
    "    \n",
    "    if result_dt < best_rougher_result_dt:\n",
    "        best_rougher_result_dt = result_dt\n",
    "        best_depth_dt = depth\n",
    "        \n",
    "# выводим лучший результат для DecisionTree\n",
    "print(f\"DecisionTree: Лучший sMAPE на кросс-валидации для rougher: {-best_rougher_result_dt}, Глубина: {best_depth_dt}\")"
   ]
  },
  {
   "cell_type": "code",
   "execution_count": 49,
   "metadata": {},
   "outputs": [],
   "source": [
    "# обновляем лучшую модель\n",
    "if abs(best_rougher_result_dt) < best_smap_result_rougher:\n",
    "    best_smap_result_rougher = abs(best_rougher_result_dt)\n",
    "    best_model_name_rougher = \"DecisionTree\"\n",
    "    best_model_rougher = decision_tree_model\n",
    "    best_model_params_rougher = {'max_depth': best_depth_dt}"
   ]
  },
  {
   "cell_type": "markdown",
   "metadata": {},
   "source": [
    "#### Случайный лес"
   ]
  },
  {
   "cell_type": "code",
   "execution_count": 50,
   "metadata": {},
   "outputs": [
    {
     "name": "stdout",
     "output_type": "stream",
     "text": [
      "RandomForest: Лучший sMAPE на кросс-валидации для rougher: 7.960418347541831, Количество деревьев: 50, Глубина: 1\n"
     ]
    }
   ],
   "source": [
    "# RandomForestRegressor для чернового концентрата\n",
    "random_forest_model = RandomForestRegressor(random_state=12345)\n",
    "best_rougher_result_rf = float('inf')\n",
    "best_est_rf = 0\n",
    "best_depth_rf = 0\n",
    "\n",
    "\n",
    "# подбираем оптимальные параметры для случайного леса\n",
    "for est in range(10, 51, 10):\n",
    "    \n",
    "    for depth in range(1, 11):\n",
    "        random_forest_model.set_params(n_estimators=est, max_depth=depth)\n",
    "        result_rf = cross_val_best_model(random_forest_model, features_train_rougher, target_train_rougher)\n",
    "        \n",
    "        if result_rf < best_rougher_result_rf:\n",
    "            best_rougher_result_rf = result_rf\n",
    "            best_est_rf = est\n",
    "            best_depth_rf = depth\n",
    "\n",
    "# выводим лучший результат для RandomForest\n",
    "print(f\"RandomForest: Лучший sMAPE на кросс-валидации для rougher: {-best_rougher_result_rf}, \"\n",
    "      f\"Количество деревьев: {best_est_rf}, Глубина: {best_depth_rf}\")"
   ]
  },
  {
   "cell_type": "code",
   "execution_count": 51,
   "metadata": {},
   "outputs": [],
   "source": [
    "# обновляем лучшую модель\n",
    "if abs(best_rougher_result_rf) < best_smap_result_rougher:\n",
    "    best_smap_result_rougher = abs(best_rougher_result_rf)\n",
    "    best_model_name_rougher = \"RandomForest\"\n",
    "    best_model_rougher = random_forest_model\n",
    "    best_model_params_rougher = {'n_estimators': best_est_rf, 'max_depth': best_depth_rf}"
   ]
  },
  {
   "cell_type": "markdown",
   "metadata": {},
   "source": [
    "#### Метод ближайших соседей"
   ]
  },
  {
   "cell_type": "code",
   "execution_count": 52,
   "metadata": {},
   "outputs": [
    {
     "name": "stdout",
     "output_type": "stream",
     "text": [
      "KNeighbors: Лучший sMAPE на кросс-валидации для rougher: 7.338155158018742, Количество соседей: 16\n"
     ]
    }
   ],
   "source": [
    "# KNeighborsRegressor для чернового концентрата\n",
    "knn_model = KNeighborsRegressor()\n",
    "best_rougher_result_knn = float('inf')\n",
    "best_n_neighbors_knn = 0\n",
    "\n",
    "# подбираем количество соседей для KNN\n",
    "for n_neighbors in range(1, 21):\n",
    "    knn_model.set_params(n_neighbors=n_neighbors)\n",
    "    result_knn = cross_val_best_model(knn_model, features_train_rougher, target_train_rougher)\n",
    "    \n",
    "    if result_knn < best_rougher_result_knn:\n",
    "        best_rougher_result_knn = result_knn\n",
    "        best_n_neighbors_knn = n_neighbors\n",
    "\n",
    "# выводим лучший результат для KNeighbors\n",
    "print(f\"KNeighbors: Лучший sMAPE на кросс-валидации для rougher: {-best_rougher_result_knn}, Количество соседей: {best_n_neighbors_knn}\")"
   ]
  },
  {
   "cell_type": "raw",
   "metadata": {},
   "source": [
    "# обучаем модель с лучшими параметрами и выводим sMAPE на тестовой выборке\n",
    "knn_model.set_params(n_neighbors=best_n_neighbors_knn)\n",
    "knn_model.fit(features_train_rougher, target_train_rougher)\n",
    "\n",
    "predictions_knn = knn_model.predict(features_test_rougher)\n",
    "final_smap_knn = smape(target_test_rougher, predictions_knn)\n",
    "\n",
    "print(f\"sMAPE для KNeighbors на тестовой выборке для rougher: {final_smap_knn}\\n\")"
   ]
  },
  {
   "cell_type": "code",
   "execution_count": 53,
   "metadata": {},
   "outputs": [],
   "source": [
    "# обновляем лучшую модель\n",
    "if abs(best_rougher_result_knn) < best_smap_result_rougher:\n",
    "    best_smap_result_rougher = abs(best_rougher_result_knn)\n",
    "    best_model_name_rougher = \"KNeighbors\"\n",
    "    best_model_rougher = knn_model\n",
    "    best_model_params_rougher = {'n_neighbors': best_n_neighbors_knn}"
   ]
  },
  {
   "cell_type": "markdown",
   "metadata": {},
   "source": [
    "#### Лассо-регрессия"
   ]
  },
  {
   "cell_type": "code",
   "execution_count": 80,
   "metadata": {},
   "outputs": [
    {
     "name": "stdout",
     "output_type": "stream",
     "text": [
      "Lasso: Лучший sMAPE на кросс-валидации для rougher: 6.1924364585927965, Alpha: 100\n"
     ]
    }
   ],
   "source": [
    "# Lasso для чернового концентрата\n",
    "lasso_model = Lasso(random_state=12345)\n",
    "best_rougher_result_lasso = float('inf')\n",
    "best_alpha_lasso = 0\n",
    "\n",
    "for alpha in [0.01, 0.1, 1, 10, 100]:\n",
    "    lasso_model.set_params(alpha=alpha, max_iter=5000)\n",
    "    result_lasso = cross_val_best_model(lasso_model, features_train_rougher, target_train_rougher)\n",
    "    \n",
    "    if result_lasso < best_rougher_result_lasso:\n",
    "        best_rougher_result_lasso = result_lasso\n",
    "        best_alpha_lasso = alpha\n",
    "\n",
    "# выводим результат для Lasso Regression\n",
    "print(f\"Lasso: Лучший sMAPE на кросс-валидации для rougher: {-best_rougher_result_lasso}, Alpha: {best_alpha_lasso}\")"
   ]
  },
  {
   "cell_type": "code",
   "execution_count": 81,
   "metadata": {},
   "outputs": [],
   "source": [
    "# обновляем лучшую модель\n",
    "if abs(best_rougher_result_lasso) < best_smap_result_rougher:\n",
    "    best_smap_result_rougher = abs(best_rougher_result_lasso)\n",
    "    best_model_name_rougher = \"Lasso\"\n",
    "    best_model_rougher = lasso_model\n",
    "    best_model_params_rougher = {'alpha': best_alpha_lasso}"
   ]
  },
  {
   "cell_type": "markdown",
   "metadata": {},
   "source": [
    "#### Лучший прогноз эффективности обогащения чернового концентрата"
   ]
  },
  {
   "cell_type": "code",
   "execution_count": 89,
   "metadata": {},
   "outputs": [
    {
     "name": "stdout",
     "output_type": "stream",
     "text": [
      "Лучший результат sMAPE среди всех моделей для rougher: 6.1924364585927965 (модель: Lasso)\n",
      "Параметры лучшей модели для rougher: {'alpha': 100}\n"
     ]
    }
   ],
   "source": [
    "# выводим результат для лучшей модели\n",
    "\n",
    "print(f\"Лучший результат sMAPE среди всех моделей для rougher: {best_smap_result_rougher} (модель: {best_model_name_rougher})\")\n",
    "print(f\"Параметры лучшей модели для rougher: {best_model_params_rougher}\")"
   ]
  },
  {
   "cell_type": "markdown",
   "metadata": {},
   "source": [
    "#### Финальное тестирование на тестовой выборке лучшей модели черновго концентрата"
   ]
  },
  {
   "cell_type": "code",
   "execution_count": 102,
   "metadata": {},
   "outputs": [
    {
     "name": "stdout",
     "output_type": "stream",
     "text": [
      "sMAPE для лучшей модели на тестовой выборке для rougher: 11.288658288125877\n"
     ]
    }
   ],
   "source": [
    "# финальное тестирование на тестовой выборке\n",
    "best_model_rougher.fit(features_train_rougher, target_train_rougher)\n",
    "final_predictions = best_model_rougher.predict(features_test_rougher)\n",
    "final_smap_rougher = smape(target_test_rougher, final_predictions)\n",
    "\n",
    "print(f\"sMAPE для лучшей модели на тестовой выборке для rougher: {final_smap_rougher}\")"
   ]
  },
  {
   "cell_type": "markdown",
   "metadata": {},
   "source": [
    "### Прогноз эффективности обогащения финального концентрата"
   ]
  },
  {
   "cell_type": "code",
   "execution_count": 56,
   "metadata": {},
   "outputs": [
    {
     "name": "stdout",
     "output_type": "stream",
     "text": [
      "sMAPE для финальной стадии (наивная модель): 11.009238749034523\n"
     ]
    }
   ],
   "source": [
    "# рассчитываем медиану для целевой переменной финального концентрата на обучающей выборке\n",
    "final_median = pd.Series([target_train_final.median()] * len(target_test_final), index=target_test_final.index)\n",
    "\n",
    "# рассчитываем sMAPE для наивной модели на тестовой выборке\n",
    "result_final = smape(target_test_final, final_median)\n",
    "\n",
    "# выводим результат sMAPE для финальной стадии\n",
    "print(f\"sMAPE для финальной стадии (наивная модель): {result_final}\")"
   ]
  },
  {
   "cell_type": "code",
   "execution_count": 57,
   "metadata": {},
   "outputs": [],
   "source": [
    "# переменная для хранения лучшего результата sMAPE среди всех моделей\n",
    "best_smap_result_final = float('inf') \n",
    "\n",
    "# название модели с наилучшим результатом для final\n",
    "best_model_name_final = \"\" \n",
    "\n",
    "# переменная для самой лучшей модели для final\n",
    "best_model_final = None  \n",
    "\n",
    "# переменная для параметров лучшей модели для final\n",
    "best_model_params_final = {} "
   ]
  },
  {
   "cell_type": "markdown",
   "metadata": {},
   "source": [
    "#### Дерево решений"
   ]
  },
  {
   "cell_type": "code",
   "execution_count": 58,
   "metadata": {},
   "outputs": [
    {
     "name": "stdout",
     "output_type": "stream",
     "text": [
      "DecisionTree: Лучший sMAPE на кросс-валидации для final: 14.589511198029765, Глубина: 26\n"
     ]
    }
   ],
   "source": [
    "# DecisionTreeRegressor для финальной концентрации\n",
    "decision_tree_model = DecisionTreeRegressor(random_state=12345)\n",
    "best_final_result_dt = float('inf')\n",
    "best_depth_dt = 0\n",
    "\n",
    "# подбираем оптимальную глубину для дерева\n",
    "for depth in range(1, 31):\n",
    "    decision_tree_model.set_params(max_depth=depth)\n",
    "    result_dt = cross_val_best_model(decision_tree_model, features_train_final, target_train_final)\n",
    "    \n",
    "    if result_dt < best_final_result_dt:\n",
    "        best_final_result_dt = result_dt\n",
    "        best_depth_dt = depth\n",
    "        \n",
    "# выводим лучший результат для DecisionTree\n",
    "print(f\"DecisionTree: Лучший sMAPE на кросс-валидации для final: {-best_final_result_dt}, Глубина: {best_depth_dt}\")"
   ]
  },
  {
   "cell_type": "raw",
   "metadata": {},
   "source": [
    "# обучаем модель с лучшими параметрами и выводим sMAPE на тестовой выборке\n",
    "decision_tree_model.set_params(max_depth=best_depth_dt)\n",
    "decision_tree_model.fit(features_train_final, target_train_final)\n",
    "\n",
    "predictions_dt = decision_tree_model.predict(features_test_final)\n",
    "final_smap_dt = smape(target_test_final, predictions_dt)\n",
    "\n",
    "print(f\"sMAPE для DecisionTree на тестовой выборке для final: {final_smap_dt}\\n\")"
   ]
  },
  {
   "cell_type": "code",
   "execution_count": 59,
   "metadata": {},
   "outputs": [],
   "source": [
    "# запишем лучший результат\n",
    "if abs(best_final_result_dt) < best_smap_result_final:\n",
    "    best_smap_result_final = abs(best_final_result_dt)\n",
    "    best_model_name_final = \"DecisionTree\"\n",
    "    best_model_final = decision_tree_model\n",
    "    best_model_params_final = {'max_depth': best_depth_dt}"
   ]
  },
  {
   "cell_type": "markdown",
   "metadata": {},
   "source": [
    "#### Случайный лес"
   ]
  },
  {
   "cell_type": "code",
   "execution_count": 60,
   "metadata": {},
   "outputs": [
    {
     "name": "stdout",
     "output_type": "stream",
     "text": [
      "RandomForest: Лучший sMAPE на кросс-валидации для final: 10.043278272573115, Количество деревьев: 10, Глубина: 10\n"
     ]
    }
   ],
   "source": [
    "# RandomForestRegressor для финальной концентрации\n",
    "random_forest_model = RandomForestRegressor(random_state=12345)\n",
    "best_final_result_rf = float('inf')\n",
    "best_est_rf = 0\n",
    "best_depth_rf = 0\n",
    "\n",
    "# подбираем оптимальные параметры для случайного леса\n",
    "for est in range(10, 51, 10):\n",
    "    \n",
    "    for depth in range(1, 11):\n",
    "        random_forest_model.set_params(n_estimators=est, max_depth=depth)\n",
    "        result_rf = cross_val_best_model(random_forest_model, features_train_final, target_train_final)\n",
    "        \n",
    "        if result_rf < best_final_result_rf:\n",
    "            best_final_result_rf = result_rf\n",
    "            best_est_rf = est\n",
    "            best_depth_rf = depth\n",
    "            \n",
    "# выводим лучший результат для RandomForest\n",
    "print(f\"RandomForest: Лучший sMAPE на кросс-валидации для final: {-best_final_result_rf}, \"\n",
    "      f\"Количество деревьев: {best_est_rf}, Глубина: {best_depth_rf}\")"
   ]
  },
  {
   "cell_type": "code",
   "execution_count": 61,
   "metadata": {},
   "outputs": [],
   "source": [
    "# запишем лучший результат\n",
    "if abs(best_final_result_rf) < best_smap_result_final:\n",
    "    best_smap_result_final = abs(best_final_result_rf)\n",
    "    best_model_name_final = \"RandomForest\"\n",
    "    best_model_final = random_forest_model\n",
    "    best_model_params_final = {'n_estimators': best_est_rf, 'max_depth': best_depth_rf}"
   ]
  },
  {
   "cell_type": "markdown",
   "metadata": {},
   "source": [
    "#### Метод ближайших соседей"
   ]
  },
  {
   "cell_type": "code",
   "execution_count": 62,
   "metadata": {},
   "outputs": [
    {
     "name": "stdout",
     "output_type": "stream",
     "text": [
      "KNeighbors: Лучший sMAPE на кросс-валидации для final: 11.155405629195508, Количество соседей: 20\n"
     ]
    }
   ],
   "source": [
    "# KNeighborsRegressor для финальной концентрации\n",
    "knn_model = KNeighborsRegressor()\n",
    "best_final_result_knn = float('inf')\n",
    "best_n_neighbors_knn = 0\n",
    "\n",
    "# подбираем количество соседей для KNN\n",
    "for n_neighbors in range(1, 21):\n",
    "    knn_model.set_params(n_neighbors=n_neighbors)\n",
    "    result_knn = cross_val_best_model(knn_model, features_train_final, target_train_final)\n",
    "    \n",
    "    if result_knn < best_final_result_knn:\n",
    "        best_final_result_knn = result_knn\n",
    "        best_n_neighbors_knn = n_neighbors\n",
    "\n",
    "# выводим лучший результат для KNeighbors\n",
    "print(f\"KNeighbors: Лучший sMAPE на кросс-валидации для final: {-best_final_result_knn}, Количество соседей: {best_n_neighbors_knn}\")"
   ]
  },
  {
   "cell_type": "code",
   "execution_count": 63,
   "metadata": {},
   "outputs": [],
   "source": [
    "# запишем лучший результат\n",
    "if abs(best_final_result_knn) < best_smap_result_final:\n",
    "    best_smap_result_final = abs(best_final_result_knn)\n",
    "    best_model_name_final = \"KNeighbors\"\n",
    "    best_model_final = knn_model\n",
    "    best_model_params_final = {'n_neighbors': best_n_neighbors_knn}"
   ]
  },
  {
   "cell_type": "markdown",
   "metadata": {},
   "source": [
    "#### Лассо-регрессия"
   ]
  },
  {
   "cell_type": "code",
   "execution_count": 91,
   "metadata": {},
   "outputs": [
    {
     "name": "stdout",
     "output_type": "stream",
     "text": [
      "Lasso: Лучший sMAPE на кросс-валидации для final: 9.955725147468215, Alpha: 100\n"
     ]
    }
   ],
   "source": [
    "# Lasso для финального концентрата\n",
    "lasso_model_final = Lasso(random_state=12345)\n",
    "best_final_result_lasso = float('inf')\n",
    "best_alpha_lasso_final = 0\n",
    "\n",
    "for alpha in [0.01, 0.1, 1, 10, 100]:\n",
    "    lasso_model_final.set_params(alpha=alpha, max_iter=5000)\n",
    "    result_lasso_final = cross_val_best_model(lasso_model_final, features_train_final, target_train_final)\n",
    "    \n",
    "    if result_lasso_final < best_final_result_lasso:\n",
    "        best_final_result_lasso = result_lasso_final\n",
    "        best_alpha_lasso_final = alpha\n",
    "\n",
    "print(f\"Lasso: Лучший sMAPE на кросс-валидации для final: {-best_final_result_lasso}, Alpha: {best_alpha_lasso_final}\")"
   ]
  },
  {
   "cell_type": "code",
   "execution_count": 97,
   "metadata": {},
   "outputs": [],
   "source": [
    "# обновляем лучшую модель\n",
    "if abs(best_final_result_lasso) < best_smap_result_final:\n",
    "    best_smap_result_final = abs(best_final_result_lasso)\n",
    "    best_model_name_final = \"Lasso\"\n",
    "    best_model_final = lasso_model_final\n",
    "    best_model_params_final = {'alpha': best_alpha_lasso_final}"
   ]
  },
  {
   "cell_type": "markdown",
   "metadata": {},
   "source": [
    "#### Лучший прогноз эффективности обогащения финального концентрата"
   ]
  },
  {
   "cell_type": "code",
   "execution_count": 98,
   "metadata": {},
   "outputs": [
    {
     "name": "stdout",
     "output_type": "stream",
     "text": [
      "Лучший результат sMAPE среди всех моделей для final: 9.955725147468215 (модель: Lasso)\n",
      "Параметры лучшей модели для final: {'alpha': 100}\n"
     ]
    }
   ],
   "source": [
    "# выводим лучший результат среди всех моделей\n",
    "print(f\"Лучший результат sMAPE среди всех моделей для final: {best_smap_result_final} (модель: {best_model_name_final})\")\n",
    "print(f\"Параметры лучшей модели для final: {best_model_params_final}\")"
   ]
  },
  {
   "cell_type": "markdown",
   "metadata": {},
   "source": [
    "#### Финальное тестирование на тестовой выборке лучшей модели финального концентрата"
   ]
  },
  {
   "cell_type": "code",
   "execution_count": 101,
   "metadata": {},
   "outputs": [
    {
     "name": "stdout",
     "output_type": "stream",
     "text": [
      "sMAPE для лучшей модели на тестовой выборке для final: 10.618762486152487\n"
     ]
    }
   ],
   "source": [
    "# финальное тестирование на тестовой выборке\n",
    "best_model_final.fit(features_train_final, target_train_final)\n",
    "final_predictions = best_model_final.predict(features_test_final)\n",
    "final_smap_final = smape(target_test_final, final_predictions)\n",
    "\n",
    "print(f\"sMAPE для лучшей модели на тестовой выборке для final: {final_smap_final}\")"
   ]
  },
  {
   "cell_type": "markdown",
   "metadata": {},
   "source": [
    "### Итоговое sMAPE"
   ]
  },
  {
   "cell_type": "code",
   "execution_count": 99,
   "metadata": {},
   "outputs": [],
   "source": [
    "def final_smape(best_rougher_result, best_final_result):\n",
    "    return ((0.25 * best_rougher_result) + (0.75 * final_smap_final))"
   ]
  },
  {
   "cell_type": "code",
   "execution_count": 103,
   "metadata": {},
   "outputs": [
    {
     "data": {
      "text/plain": [
       "10.28895843263263"
      ]
     },
     "execution_count": 103,
     "metadata": {},
     "output_type": "execute_result"
    }
   ],
   "source": [
    "final_smape(final_smap_rougher, best_smap_result_final)"
   ]
  },
  {
   "cell_type": "markdown",
   "metadata": {},
   "source": [
    "### Вывод"
   ]
  },
  {
   "cell_type": "markdown",
   "metadata": {},
   "source": [
    "Была проведена предобработка данных. Обнаружены пропуски в данных о хвостах солей на этапе после второй фильтрации, что может указывать на проблемы с датчиками на производстве. Пропуски и аномальные значения были устранены. \n",
    "\n",
    "В процессе фильтрации наблюдается увеличение суммарной концентрации веществ. Наибольшее увеличение наблюдается для золота, концентрация которого повышается с 10% до 40%. Прослеживается четкая тенденция: на каждом этапе обработки доля золота стабильно увеличивается, прибавляя около 10% на каждом шаге.\n",
    "\n",
    "Была обучена и выбрана лучшая модель.\n",
    "\n",
    "Наилучший прогноз показала модель \"Лассо\" с показателем чернового концентрата sMAPE 11.28 и финального концентрата sMAPE 10.61. Что лучше показателей наивной модели с показателем sMAPE для черновой стадии 13.10 и 11.00 финальной стадии.\n",
    "\n",
    "Итоговое sMAPE составило 10.28."
   ]
  }
 ],
 "metadata": {
  "ExecuteTimeLog": [
   {
    "duration": 465,
    "start_time": "2024-11-13T13:07:31.799Z"
   },
   {
    "duration": 1945,
    "start_time": "2024-11-13T13:07:32.871Z"
   },
   {
    "duration": 37,
    "start_time": "2024-11-13T13:07:36.151Z"
   },
   {
    "duration": 31,
    "start_time": "2024-11-13T13:07:36.952Z"
   },
   {
    "duration": 34,
    "start_time": "2024-11-13T13:07:37.398Z"
   },
   {
    "duration": 24,
    "start_time": "2024-11-13T13:07:46.416Z"
   },
   {
    "duration": 31,
    "start_time": "2024-11-13T13:07:50.895Z"
   },
   {
    "duration": 21,
    "start_time": "2024-11-13T13:07:58.137Z"
   },
   {
    "duration": 22,
    "start_time": "2024-11-13T13:08:30.001Z"
   },
   {
    "duration": 1724,
    "start_time": "2024-11-13T13:19:21.898Z"
   },
   {
    "duration": 1006,
    "start_time": "2024-11-13T13:19:34.488Z"
   },
   {
    "duration": 1592,
    "start_time": "2024-11-13T13:20:11.880Z"
   },
   {
    "duration": 18,
    "start_time": "2024-11-13T13:21:59.544Z"
   },
   {
    "duration": 6,
    "start_time": "2024-11-13T13:22:04.378Z"
   },
   {
    "duration": 6,
    "start_time": "2024-11-13T13:23:25.627Z"
   },
   {
    "duration": 35,
    "start_time": "2024-11-13T14:17:52.790Z"
   },
   {
    "duration": 15,
    "start_time": "2024-11-13T14:18:20.018Z"
   },
   {
    "duration": 8,
    "start_time": "2024-11-13T14:18:32.282Z"
   },
   {
    "duration": 18,
    "start_time": "2024-11-13T14:18:39.842Z"
   },
   {
    "duration": 5,
    "start_time": "2024-11-13T14:41:06.826Z"
   },
   {
    "duration": 4,
    "start_time": "2024-11-13T14:41:20.171Z"
   },
   {
    "duration": 5,
    "start_time": "2024-11-13T14:41:20.283Z"
   },
   {
    "duration": 46,
    "start_time": "2024-11-14T10:20:13.670Z"
   },
   {
    "duration": 379,
    "start_time": "2024-11-14T10:20:18.974Z"
   },
   {
    "duration": 1693,
    "start_time": "2024-11-14T10:20:19.355Z"
   },
   {
    "duration": 26,
    "start_time": "2024-11-14T10:20:21.050Z"
   },
   {
    "duration": 19,
    "start_time": "2024-11-14T10:20:21.078Z"
   },
   {
    "duration": 19,
    "start_time": "2024-11-14T10:20:21.098Z"
   },
   {
    "duration": 38,
    "start_time": "2024-11-14T10:20:21.118Z"
   },
   {
    "duration": 11,
    "start_time": "2024-11-14T10:20:21.157Z"
   },
   {
    "duration": 15,
    "start_time": "2024-11-14T10:20:21.169Z"
   },
   {
    "duration": 3,
    "start_time": "2024-11-14T10:20:21.185Z"
   },
   {
    "duration": 34,
    "start_time": "2024-11-14T10:20:21.190Z"
   },
   {
    "duration": 5,
    "start_time": "2024-11-14T10:20:21.225Z"
   },
   {
    "duration": 10,
    "start_time": "2024-11-14T10:20:21.231Z"
   },
   {
    "duration": 64,
    "start_time": "2024-11-14T10:49:03.118Z"
   },
   {
    "duration": 8,
    "start_time": "2024-11-14T10:49:23.455Z"
   },
   {
    "duration": 37,
    "start_time": "2024-11-14T10:50:19.333Z"
   },
   {
    "duration": 31,
    "start_time": "2024-11-14T10:50:22.664Z"
   },
   {
    "duration": 21,
    "start_time": "2024-11-14T10:51:16.734Z"
   },
   {
    "duration": 35,
    "start_time": "2024-11-14T10:51:20.171Z"
   },
   {
    "duration": 22,
    "start_time": "2024-11-14T10:52:29.661Z"
   },
   {
    "duration": 11,
    "start_time": "2024-11-14T10:52:29.807Z"
   },
   {
    "duration": 5,
    "start_time": "2024-11-14T10:53:45.386Z"
   },
   {
    "duration": 5,
    "start_time": "2024-11-14T10:54:36.895Z"
   },
   {
    "duration": 5,
    "start_time": "2024-11-14T10:55:09.156Z"
   },
   {
    "duration": 405,
    "start_time": "2024-11-14T11:20:14.615Z"
   },
   {
    "duration": 253620,
    "start_time": "2024-11-14T11:50:16.549Z"
   },
   {
    "duration": 178529,
    "start_time": "2024-11-14T11:56:03.800Z"
   },
   {
    "duration": 79895,
    "start_time": "2024-11-14T11:59:04.670Z"
   },
   {
    "duration": 4,
    "start_time": "2024-11-14T12:00:48.377Z"
   },
   {
    "duration": 21855,
    "start_time": "2024-11-14T12:03:41.814Z"
   },
   {
    "duration": 9,
    "start_time": "2024-11-14T12:06:07.188Z"
   },
   {
    "duration": 9,
    "start_time": "2024-11-14T12:06:17.114Z"
   },
   {
    "duration": 50429,
    "start_time": "2024-11-14T12:06:30.363Z"
   },
   {
    "duration": 187,
    "start_time": "2024-11-14T12:07:22.644Z"
   },
   {
    "duration": 267,
    "start_time": "2024-11-14T12:07:46.385Z"
   },
   {
    "duration": 2481,
    "start_time": "2024-11-14T12:09:49.222Z"
   },
   {
    "duration": 6956,
    "start_time": "2024-11-14T12:10:05.150Z"
   },
   {
    "duration": 32508,
    "start_time": "2024-11-14T12:10:49.382Z"
   },
   {
    "duration": 226509,
    "start_time": "2024-11-14T12:11:23.756Z"
   },
   {
    "duration": 20,
    "start_time": "2024-11-14T12:16:15.178Z"
   },
   {
    "duration": 17,
    "start_time": "2024-11-14T12:16:37.036Z"
   },
   {
    "duration": 7,
    "start_time": "2024-11-14T12:18:12.165Z"
   },
   {
    "duration": 18454,
    "start_time": "2024-11-14T12:18:19.963Z"
   },
   {
    "duration": 611,
    "start_time": "2024-11-14T12:18:55.864Z"
   },
   {
    "duration": 2146,
    "start_time": "2024-11-14T12:18:56.477Z"
   },
   {
    "duration": 26,
    "start_time": "2024-11-14T12:18:58.625Z"
   },
   {
    "duration": 19,
    "start_time": "2024-11-14T12:18:58.652Z"
   },
   {
    "duration": 19,
    "start_time": "2024-11-14T12:18:58.673Z"
   },
   {
    "duration": 18,
    "start_time": "2024-11-14T12:18:58.694Z"
   },
   {
    "duration": 34,
    "start_time": "2024-11-14T12:18:58.714Z"
   },
   {
    "duration": 15,
    "start_time": "2024-11-14T12:18:58.749Z"
   },
   {
    "duration": 4,
    "start_time": "2024-11-14T12:18:58.766Z"
   },
   {
    "duration": 10,
    "start_time": "2024-11-14T12:18:58.771Z"
   },
   {
    "duration": 15,
    "start_time": "2024-11-14T12:18:58.783Z"
   },
   {
    "duration": 8,
    "start_time": "2024-11-14T12:18:58.800Z"
   },
   {
    "duration": 47,
    "start_time": "2024-11-14T12:18:58.810Z"
   },
   {
    "duration": 32,
    "start_time": "2024-11-14T12:18:58.859Z"
   },
   {
    "duration": 20,
    "start_time": "2024-11-14T12:18:58.892Z"
   },
   {
    "duration": 37,
    "start_time": "2024-11-14T12:18:58.913Z"
   },
   {
    "duration": 30,
    "start_time": "2024-11-14T12:18:58.952Z"
   },
   {
    "duration": 9,
    "start_time": "2024-11-14T12:18:58.984Z"
   },
   {
    "duration": 14,
    "start_time": "2024-11-14T12:18:58.995Z"
   },
   {
    "duration": 301006,
    "start_time": "2024-11-14T12:18:59.010Z"
   },
   {
    "duration": 309553,
    "start_time": "2024-11-14T12:24:07.110Z"
   },
   {
    "duration": 6945,
    "start_time": "2024-11-14T12:29:16.665Z"
   },
   {
    "duration": 104,
    "start_time": "2024-11-14T14:20:16.545Z"
   },
   {
    "duration": 6,
    "start_time": "2024-11-14T14:21:04.431Z"
   },
   {
    "duration": 54786,
    "start_time": "2024-11-14T14:22:07.137Z"
   },
   {
    "duration": 7,
    "start_time": "2024-11-14T14:23:24.251Z"
   },
   {
    "duration": 73,
    "start_time": "2024-11-14T14:24:19.732Z"
   },
   {
    "duration": 249,
    "start_time": "2024-11-14T14:24:22.743Z"
   },
   {
    "duration": 6,
    "start_time": "2024-11-14T14:26:35.733Z"
   },
   {
    "duration": 5,
    "start_time": "2024-11-14T14:26:56.544Z"
   },
   {
    "duration": 9,
    "start_time": "2024-11-14T14:31:43.365Z"
   },
   {
    "duration": 20,
    "start_time": "2024-11-14T14:33:05.830Z"
   },
   {
    "duration": 16,
    "start_time": "2024-11-14T14:33:24.892Z"
   },
   {
    "duration": 18,
    "start_time": "2024-11-14T14:34:33.254Z"
   },
   {
    "duration": 5,
    "start_time": "2024-11-14T14:34:42.106Z"
   },
   {
    "duration": 23,
    "start_time": "2024-11-14T14:34:52.546Z"
   },
   {
    "duration": 16,
    "start_time": "2024-11-14T14:35:17.771Z"
   },
   {
    "duration": 16,
    "start_time": "2024-11-14T14:35:20.640Z"
   },
   {
    "duration": 17,
    "start_time": "2024-11-14T14:35:43.423Z"
   },
   {
    "duration": 5,
    "start_time": "2024-11-14T14:36:12.476Z"
   },
   {
    "duration": 37500,
    "start_time": "2024-11-14T14:42:28.326Z"
   },
   {
    "duration": 398,
    "start_time": "2024-11-14T14:43:07.417Z"
   },
   {
    "duration": 463,
    "start_time": "2024-11-14T14:44:10.433Z"
   },
   {
    "duration": 479,
    "start_time": "2024-11-14T14:44:40.081Z"
   },
   {
    "duration": 7,
    "start_time": "2024-11-14T14:47:11.945Z"
   },
   {
    "duration": 500,
    "start_time": "2024-11-14T14:47:22.893Z"
   },
   {
    "duration": 11,
    "start_time": "2024-11-14T14:50:07.246Z"
   },
   {
    "duration": 18,
    "start_time": "2024-11-14T14:50:14.848Z"
   },
   {
    "duration": 700,
    "start_time": "2024-11-14T14:51:11.182Z"
   },
   {
    "duration": 18,
    "start_time": "2024-11-14T14:51:24.339Z"
   },
   {
    "duration": 765,
    "start_time": "2024-11-14T14:51:26.976Z"
   },
   {
    "duration": 11,
    "start_time": "2024-11-14T14:53:09.175Z"
   },
   {
    "duration": 699,
    "start_time": "2024-11-14T14:53:10.867Z"
   },
   {
    "duration": 256,
    "start_time": "2024-11-14T14:55:29.110Z"
   },
   {
    "duration": 243,
    "start_time": "2024-11-14T14:56:17.522Z"
   },
   {
    "duration": 10,
    "start_time": "2024-11-14T14:57:38.295Z"
   },
   {
    "duration": 708,
    "start_time": "2024-11-14T14:57:39.283Z"
   },
   {
    "duration": 259,
    "start_time": "2024-11-14T14:57:44.759Z"
   },
   {
    "duration": 11,
    "start_time": "2024-11-14T14:58:51.862Z"
   },
   {
    "duration": 269,
    "start_time": "2024-11-14T14:58:52.010Z"
   },
   {
    "duration": 9,
    "start_time": "2024-11-14T15:00:14.641Z"
   },
   {
    "duration": 272,
    "start_time": "2024-11-14T15:00:15.121Z"
   },
   {
    "duration": 13,
    "start_time": "2024-11-14T15:01:07.559Z"
   },
   {
    "duration": 725,
    "start_time": "2024-11-14T15:01:07.968Z"
   },
   {
    "duration": 254,
    "start_time": "2024-11-14T15:01:30.378Z"
   },
   {
    "duration": 449,
    "start_time": "2024-11-14T15:04:53.752Z"
   },
   {
    "duration": 10,
    "start_time": "2024-11-14T15:11:59.287Z"
   },
   {
    "duration": 274,
    "start_time": "2024-11-14T15:12:00.346Z"
   },
   {
    "duration": 269,
    "start_time": "2024-11-14T15:12:16.046Z"
   },
   {
    "duration": 65,
    "start_time": "2024-11-14T15:42:29.981Z"
   },
   {
    "duration": 62,
    "start_time": "2024-11-14T15:42:36.730Z"
   },
   {
    "duration": 62,
    "start_time": "2024-11-14T15:42:41.732Z"
   },
   {
    "duration": 9,
    "start_time": "2024-11-14T15:42:51.408Z"
   },
   {
    "duration": 8,
    "start_time": "2024-11-14T15:43:08.787Z"
   },
   {
    "duration": 7,
    "start_time": "2024-11-14T15:43:53.651Z"
   },
   {
    "duration": 3,
    "start_time": "2024-11-14T15:44:19.160Z"
   },
   {
    "duration": 7,
    "start_time": "2024-11-14T15:45:08.180Z"
   },
   {
    "duration": 9,
    "start_time": "2024-11-14T15:45:33.849Z"
   },
   {
    "duration": 7,
    "start_time": "2024-11-14T15:46:19.124Z"
   },
   {
    "duration": 3,
    "start_time": "2024-11-14T15:46:30.311Z"
   },
   {
    "duration": 6,
    "start_time": "2024-11-14T15:47:32.242Z"
   },
   {
    "duration": 10,
    "start_time": "2024-11-14T15:48:41.448Z"
   },
   {
    "duration": 8,
    "start_time": "2024-11-14T15:49:13.832Z"
   },
   {
    "duration": 4,
    "start_time": "2024-11-14T15:49:21.318Z"
   },
   {
    "duration": 5,
    "start_time": "2024-11-14T15:50:43.060Z"
   },
   {
    "duration": 5,
    "start_time": "2024-11-14T15:50:43.237Z"
   },
   {
    "duration": 3,
    "start_time": "2024-11-14T15:50:43.387Z"
   },
   {
    "duration": 5,
    "start_time": "2024-11-14T15:50:43.538Z"
   },
   {
    "duration": 5,
    "start_time": "2024-11-14T15:50:43.686Z"
   },
   {
    "duration": 3,
    "start_time": "2024-11-14T15:50:43.831Z"
   },
   {
    "duration": 8,
    "start_time": "2024-11-14T15:50:43.984Z"
   },
   {
    "duration": 6,
    "start_time": "2024-11-14T15:50:44.163Z"
   },
   {
    "duration": 6,
    "start_time": "2024-11-14T15:50:44.313Z"
   },
   {
    "duration": 4,
    "start_time": "2024-11-14T15:50:44.499Z"
   },
   {
    "duration": 258,
    "start_time": "2024-11-14T15:55:23.410Z"
   },
   {
    "duration": 296,
    "start_time": "2024-11-14T15:55:31.949Z"
   },
   {
    "duration": 265,
    "start_time": "2024-11-14T15:55:35.030Z"
   },
   {
    "duration": 266,
    "start_time": "2024-11-14T15:55:38.941Z"
   },
   {
    "duration": 257,
    "start_time": "2024-11-14T15:55:41.294Z"
   },
   {
    "duration": 244,
    "start_time": "2024-11-14T15:55:46.035Z"
   },
   {
    "duration": 253,
    "start_time": "2024-11-14T15:55:56.077Z"
   },
   {
    "duration": 76,
    "start_time": "2024-11-14T15:59:05.009Z"
   },
   {
    "duration": 9,
    "start_time": "2024-11-14T15:59:17.133Z"
   },
   {
    "duration": 745,
    "start_time": "2024-11-14T15:59:18.031Z"
   },
   {
    "duration": 252,
    "start_time": "2024-11-14T15:59:41.091Z"
   },
   {
    "duration": 4,
    "start_time": "2024-11-14T16:07:09.718Z"
   },
   {
    "duration": 4,
    "start_time": "2024-11-14T16:07:49.505Z"
   },
   {
    "duration": 4,
    "start_time": "2024-11-14T16:07:49.689Z"
   },
   {
    "duration": 4,
    "start_time": "2024-11-14T16:07:49.801Z"
   },
   {
    "duration": 5,
    "start_time": "2024-11-14T16:10:28.219Z"
   },
   {
    "duration": 5,
    "start_time": "2024-11-14T16:10:28.401Z"
   },
   {
    "duration": 4,
    "start_time": "2024-11-14T16:10:28.589Z"
   },
   {
    "duration": 4,
    "start_time": "2024-11-14T16:10:28.736Z"
   },
   {
    "duration": 5,
    "start_time": "2024-11-14T16:10:28.888Z"
   },
   {
    "duration": 5,
    "start_time": "2024-11-14T16:10:29.035Z"
   },
   {
    "duration": 4,
    "start_time": "2024-11-14T16:10:29.182Z"
   },
   {
    "duration": 4,
    "start_time": "2024-11-14T16:10:29.333Z"
   },
   {
    "duration": 4,
    "start_time": "2024-11-14T16:13:33.074Z"
   },
   {
    "duration": 18,
    "start_time": "2024-11-14T16:23:04.467Z"
   },
   {
    "duration": 11,
    "start_time": "2024-11-14T16:27:44.381Z"
   },
   {
    "duration": 267,
    "start_time": "2024-11-14T16:27:45.338Z"
   },
   {
    "duration": 12,
    "start_time": "2024-11-14T16:31:34.386Z"
   },
   {
    "duration": 264,
    "start_time": "2024-11-14T16:31:35.302Z"
   },
   {
    "duration": 257,
    "start_time": "2024-11-14T16:31:54.605Z"
   },
   {
    "duration": 14,
    "start_time": "2024-11-14T16:35:02.396Z"
   },
   {
    "duration": 64,
    "start_time": "2024-11-14T16:35:02.942Z"
   },
   {
    "duration": 236,
    "start_time": "2024-11-14T16:35:16.564Z"
   },
   {
    "duration": 67,
    "start_time": "2024-11-14T16:37:02.518Z"
   },
   {
    "duration": 11,
    "start_time": "2024-11-14T16:37:10.436Z"
   },
   {
    "duration": 257,
    "start_time": "2024-11-14T16:37:11.454Z"
   },
   {
    "duration": 260,
    "start_time": "2024-11-14T16:37:15.874Z"
   },
   {
    "duration": 4,
    "start_time": "2024-11-14T16:41:44.782Z"
   },
   {
    "duration": 746,
    "start_time": "2024-11-14T16:41:44.928Z"
   },
   {
    "duration": 0,
    "start_time": "2024-11-14T16:41:45.675Z"
   },
   {
    "duration": 4,
    "start_time": "2024-11-14T16:41:51.575Z"
   },
   {
    "duration": 4,
    "start_time": "2024-11-14T16:41:52.694Z"
   },
   {
    "duration": 4,
    "start_time": "2024-11-14T16:41:53.512Z"
   },
   {
    "duration": 207,
    "start_time": "2024-11-14T17:27:57.567Z"
   },
   {
    "duration": 204,
    "start_time": "2024-11-14T17:28:06.845Z"
   },
   {
    "duration": 49,
    "start_time": "2024-11-15T17:32:05.077Z"
   },
   {
    "duration": 865,
    "start_time": "2024-11-15T17:32:12.712Z"
   },
   {
    "duration": 1978,
    "start_time": "2024-11-15T17:32:13.580Z"
   },
   {
    "duration": 26,
    "start_time": "2024-11-15T17:32:15.559Z"
   },
   {
    "duration": 47,
    "start_time": "2024-11-15T17:32:15.587Z"
   },
   {
    "duration": 34,
    "start_time": "2024-11-15T17:32:15.637Z"
   },
   {
    "duration": 23,
    "start_time": "2024-11-15T17:32:15.673Z"
   },
   {
    "duration": 12,
    "start_time": "2024-11-15T17:32:15.698Z"
   },
   {
    "duration": 16,
    "start_time": "2024-11-15T17:32:15.711Z"
   },
   {
    "duration": 15,
    "start_time": "2024-11-15T17:32:15.728Z"
   },
   {
    "duration": 12,
    "start_time": "2024-11-15T17:32:15.744Z"
   },
   {
    "duration": 37,
    "start_time": "2024-11-15T17:32:15.758Z"
   },
   {
    "duration": 19,
    "start_time": "2024-11-15T17:32:15.797Z"
   },
   {
    "duration": 42,
    "start_time": "2024-11-15T17:32:15.817Z"
   },
   {
    "duration": 33,
    "start_time": "2024-11-15T17:32:15.863Z"
   },
   {
    "duration": 24,
    "start_time": "2024-11-15T17:32:15.898Z"
   },
   {
    "duration": 88,
    "start_time": "2024-11-15T17:32:15.924Z"
   },
   {
    "duration": 34,
    "start_time": "2024-11-15T17:32:16.014Z"
   },
   {
    "duration": 14,
    "start_time": "2024-11-15T17:32:16.050Z"
   },
   {
    "duration": 8,
    "start_time": "2024-11-15T17:32:16.065Z"
   },
   {
    "duration": 127,
    "start_time": "2024-11-15T17:32:16.075Z"
   },
   {
    "duration": 0,
    "start_time": "2024-11-15T17:32:16.206Z"
   },
   {
    "duration": 0,
    "start_time": "2024-11-15T17:32:16.207Z"
   },
   {
    "duration": 0,
    "start_time": "2024-11-15T17:32:16.208Z"
   },
   {
    "duration": 0,
    "start_time": "2024-11-15T17:32:16.210Z"
   },
   {
    "duration": 0,
    "start_time": "2024-11-15T17:32:16.211Z"
   },
   {
    "duration": 0,
    "start_time": "2024-11-15T17:32:16.212Z"
   },
   {
    "duration": 0,
    "start_time": "2024-11-15T17:32:16.214Z"
   },
   {
    "duration": 0,
    "start_time": "2024-11-15T17:32:16.215Z"
   },
   {
    "duration": 0,
    "start_time": "2024-11-15T17:32:16.217Z"
   },
   {
    "duration": 0,
    "start_time": "2024-11-15T17:32:16.218Z"
   },
   {
    "duration": 0,
    "start_time": "2024-11-15T17:32:16.243Z"
   },
   {
    "duration": 0,
    "start_time": "2024-11-15T17:32:16.244Z"
   },
   {
    "duration": 0,
    "start_time": "2024-11-15T17:32:16.249Z"
   },
   {
    "duration": 0,
    "start_time": "2024-11-15T17:32:16.250Z"
   },
   {
    "duration": 0,
    "start_time": "2024-11-15T17:32:16.250Z"
   },
   {
    "duration": 0,
    "start_time": "2024-11-15T17:32:16.251Z"
   },
   {
    "duration": 0,
    "start_time": "2024-11-15T17:32:16.252Z"
   },
   {
    "duration": 0,
    "start_time": "2024-11-15T17:32:16.252Z"
   },
   {
    "duration": 0,
    "start_time": "2024-11-15T17:32:16.253Z"
   },
   {
    "duration": 0,
    "start_time": "2024-11-15T17:32:16.254Z"
   },
   {
    "duration": 0,
    "start_time": "2024-11-15T17:32:16.256Z"
   },
   {
    "duration": 0,
    "start_time": "2024-11-15T17:32:16.257Z"
   },
   {
    "duration": 0,
    "start_time": "2024-11-15T17:32:16.259Z"
   },
   {
    "duration": 0,
    "start_time": "2024-11-15T17:32:16.261Z"
   },
   {
    "duration": 0,
    "start_time": "2024-11-15T17:32:16.262Z"
   },
   {
    "duration": 0,
    "start_time": "2024-11-15T17:32:16.263Z"
   },
   {
    "duration": 0,
    "start_time": "2024-11-15T17:32:16.265Z"
   },
   {
    "duration": 1,
    "start_time": "2024-11-15T17:32:16.266Z"
   },
   {
    "duration": 0,
    "start_time": "2024-11-15T17:32:16.268Z"
   },
   {
    "duration": 0,
    "start_time": "2024-11-15T17:32:16.271Z"
   },
   {
    "duration": 0,
    "start_time": "2024-11-15T17:32:16.273Z"
   },
   {
    "duration": 0,
    "start_time": "2024-11-15T17:32:16.274Z"
   },
   {
    "duration": 0,
    "start_time": "2024-11-15T17:32:16.276Z"
   },
   {
    "duration": 0,
    "start_time": "2024-11-15T17:32:16.277Z"
   },
   {
    "duration": 0,
    "start_time": "2024-11-15T17:32:16.278Z"
   },
   {
    "duration": 0,
    "start_time": "2024-11-15T17:32:16.280Z"
   },
   {
    "duration": 0,
    "start_time": "2024-11-15T17:32:16.281Z"
   },
   {
    "duration": 0,
    "start_time": "2024-11-15T17:32:16.283Z"
   },
   {
    "duration": 0,
    "start_time": "2024-11-15T17:32:16.284Z"
   },
   {
    "duration": 0,
    "start_time": "2024-11-15T17:32:16.285Z"
   },
   {
    "duration": 0,
    "start_time": "2024-11-15T17:32:16.286Z"
   },
   {
    "duration": 0,
    "start_time": "2024-11-15T17:32:16.287Z"
   },
   {
    "duration": 0,
    "start_time": "2024-11-15T17:32:16.288Z"
   },
   {
    "duration": 0,
    "start_time": "2024-11-15T17:32:16.289Z"
   },
   {
    "duration": 0,
    "start_time": "2024-11-15T17:32:16.344Z"
   },
   {
    "duration": 0,
    "start_time": "2024-11-15T17:32:16.346Z"
   },
   {
    "duration": 0,
    "start_time": "2024-11-15T17:32:16.347Z"
   },
   {
    "duration": 0,
    "start_time": "2024-11-15T17:32:16.348Z"
   },
   {
    "duration": 655,
    "start_time": "2024-11-15T20:07:59.354Z"
   },
   {
    "duration": 2104,
    "start_time": "2024-11-15T20:08:00.011Z"
   },
   {
    "duration": 40,
    "start_time": "2024-11-15T20:08:02.117Z"
   },
   {
    "duration": 29,
    "start_time": "2024-11-15T20:08:02.159Z"
   },
   {
    "duration": 36,
    "start_time": "2024-11-15T20:08:02.190Z"
   },
   {
    "duration": 41,
    "start_time": "2024-11-15T20:08:02.228Z"
   },
   {
    "duration": 21,
    "start_time": "2024-11-15T20:08:02.271Z"
   },
   {
    "duration": 27,
    "start_time": "2024-11-15T20:08:02.294Z"
   },
   {
    "duration": 35,
    "start_time": "2024-11-15T20:08:02.323Z"
   },
   {
    "duration": 50,
    "start_time": "2024-11-15T20:08:02.361Z"
   },
   {
    "duration": 94,
    "start_time": "2024-11-15T20:08:02.412Z"
   },
   {
    "duration": 50,
    "start_time": "2024-11-15T20:08:02.507Z"
   },
   {
    "duration": 69,
    "start_time": "2024-11-15T20:08:02.559Z"
   },
   {
    "duration": 34,
    "start_time": "2024-11-15T20:08:02.630Z"
   },
   {
    "duration": 28,
    "start_time": "2024-11-15T20:08:02.666Z"
   },
   {
    "duration": 22,
    "start_time": "2024-11-15T20:08:02.696Z"
   },
   {
    "duration": 45,
    "start_time": "2024-11-15T20:08:02.720Z"
   },
   {
    "duration": 27,
    "start_time": "2024-11-15T20:08:02.767Z"
   },
   {
    "duration": 46,
    "start_time": "2024-11-15T20:08:02.795Z"
   },
   {
    "duration": 52,
    "start_time": "2024-11-15T20:08:02.843Z"
   },
   {
    "duration": 15,
    "start_time": "2024-11-15T20:08:02.897Z"
   },
   {
    "duration": 136,
    "start_time": "2024-11-15T20:08:02.914Z"
   },
   {
    "duration": 479,
    "start_time": "2024-11-15T20:08:03.052Z"
   },
   {
    "duration": 14,
    "start_time": "2024-11-15T20:08:03.533Z"
   },
   {
    "duration": 300,
    "start_time": "2024-11-15T20:08:03.549Z"
   },
   {
    "duration": 10,
    "start_time": "2024-11-15T20:08:03.851Z"
   },
   {
    "duration": 287,
    "start_time": "2024-11-15T20:08:03.863Z"
   },
   {
    "duration": 11,
    "start_time": "2024-11-15T20:08:04.154Z"
   },
   {
    "duration": 347,
    "start_time": "2024-11-15T20:08:04.166Z"
   },
   {
    "duration": 561,
    "start_time": "2024-11-15T20:08:04.514Z"
   },
   {
    "duration": 1203,
    "start_time": "2024-11-15T20:08:05.078Z"
   },
   {
    "duration": 0,
    "start_time": "2024-11-15T20:08:06.283Z"
   },
   {
    "duration": 0,
    "start_time": "2024-11-15T20:08:06.284Z"
   },
   {
    "duration": 0,
    "start_time": "2024-11-15T20:08:06.285Z"
   },
   {
    "duration": 0,
    "start_time": "2024-11-15T20:08:06.286Z"
   },
   {
    "duration": 0,
    "start_time": "2024-11-15T20:08:06.288Z"
   },
   {
    "duration": 0,
    "start_time": "2024-11-15T20:08:06.289Z"
   },
   {
    "duration": 0,
    "start_time": "2024-11-15T20:08:06.290Z"
   },
   {
    "duration": 0,
    "start_time": "2024-11-15T20:08:06.291Z"
   },
   {
    "duration": 0,
    "start_time": "2024-11-15T20:08:06.292Z"
   },
   {
    "duration": 0,
    "start_time": "2024-11-15T20:08:06.293Z"
   },
   {
    "duration": 0,
    "start_time": "2024-11-15T20:08:06.294Z"
   },
   {
    "duration": 0,
    "start_time": "2024-11-15T20:08:06.295Z"
   },
   {
    "duration": 0,
    "start_time": "2024-11-15T20:08:06.297Z"
   },
   {
    "duration": 0,
    "start_time": "2024-11-15T20:08:06.297Z"
   },
   {
    "duration": 0,
    "start_time": "2024-11-15T20:08:06.299Z"
   },
   {
    "duration": 0,
    "start_time": "2024-11-15T20:08:06.300Z"
   },
   {
    "duration": 0,
    "start_time": "2024-11-15T20:08:06.301Z"
   },
   {
    "duration": 0,
    "start_time": "2024-11-15T20:08:06.301Z"
   },
   {
    "duration": 0,
    "start_time": "2024-11-15T20:08:06.302Z"
   },
   {
    "duration": 0,
    "start_time": "2024-11-15T20:08:06.303Z"
   },
   {
    "duration": 0,
    "start_time": "2024-11-15T20:08:06.304Z"
   },
   {
    "duration": 0,
    "start_time": "2024-11-15T20:08:06.305Z"
   },
   {
    "duration": 0,
    "start_time": "2024-11-15T20:08:06.308Z"
   },
   {
    "duration": 0,
    "start_time": "2024-11-15T20:08:06.309Z"
   },
   {
    "duration": 0,
    "start_time": "2024-11-15T20:08:06.310Z"
   },
   {
    "duration": 0,
    "start_time": "2024-11-15T20:08:06.311Z"
   },
   {
    "duration": 0,
    "start_time": "2024-11-15T20:08:06.312Z"
   },
   {
    "duration": 0,
    "start_time": "2024-11-15T20:08:06.313Z"
   },
   {
    "duration": 0,
    "start_time": "2024-11-15T20:08:06.314Z"
   },
   {
    "duration": 0,
    "start_time": "2024-11-15T20:08:06.314Z"
   },
   {
    "duration": 0,
    "start_time": "2024-11-15T20:08:06.315Z"
   },
   {
    "duration": 0,
    "start_time": "2024-11-15T20:08:06.316Z"
   },
   {
    "duration": 0,
    "start_time": "2024-11-15T20:08:06.317Z"
   },
   {
    "duration": 1,
    "start_time": "2024-11-15T20:08:06.318Z"
   },
   {
    "duration": 0,
    "start_time": "2024-11-15T20:08:06.320Z"
   },
   {
    "duration": 0,
    "start_time": "2024-11-15T20:08:06.343Z"
   },
   {
    "duration": 0,
    "start_time": "2024-11-15T20:08:06.344Z"
   },
   {
    "duration": 677,
    "start_time": "2024-11-15T20:09:31.134Z"
   },
   {
    "duration": 1915,
    "start_time": "2024-11-15T20:09:31.813Z"
   },
   {
    "duration": 30,
    "start_time": "2024-11-15T20:09:33.729Z"
   },
   {
    "duration": 19,
    "start_time": "2024-11-15T20:09:33.761Z"
   },
   {
    "duration": 31,
    "start_time": "2024-11-15T20:09:33.782Z"
   },
   {
    "duration": 39,
    "start_time": "2024-11-15T20:09:33.814Z"
   },
   {
    "duration": 11,
    "start_time": "2024-11-15T20:09:33.855Z"
   },
   {
    "duration": 26,
    "start_time": "2024-11-15T20:09:33.868Z"
   },
   {
    "duration": 17,
    "start_time": "2024-11-15T20:09:33.895Z"
   },
   {
    "duration": 27,
    "start_time": "2024-11-15T20:09:33.914Z"
   },
   {
    "duration": 13,
    "start_time": "2024-11-15T20:09:33.942Z"
   },
   {
    "duration": 33,
    "start_time": "2024-11-15T20:09:33.956Z"
   },
   {
    "duration": 50,
    "start_time": "2024-11-15T20:09:33.990Z"
   },
   {
    "duration": 32,
    "start_time": "2024-11-15T20:09:34.042Z"
   },
   {
    "duration": 98,
    "start_time": "2024-11-15T20:09:34.076Z"
   },
   {
    "duration": 23,
    "start_time": "2024-11-15T20:09:34.175Z"
   },
   {
    "duration": 37,
    "start_time": "2024-11-15T20:09:34.199Z"
   },
   {
    "duration": 22,
    "start_time": "2024-11-15T20:09:34.237Z"
   },
   {
    "duration": 11,
    "start_time": "2024-11-15T20:09:34.261Z"
   },
   {
    "duration": 32,
    "start_time": "2024-11-15T20:09:34.274Z"
   },
   {
    "duration": 28,
    "start_time": "2024-11-15T20:09:34.307Z"
   },
   {
    "duration": 25,
    "start_time": "2024-11-15T20:09:34.337Z"
   },
   {
    "duration": 33,
    "start_time": "2024-11-15T20:09:34.364Z"
   },
   {
    "duration": 420,
    "start_time": "2024-11-15T20:09:34.399Z"
   },
   {
    "duration": 13,
    "start_time": "2024-11-15T20:09:34.821Z"
   },
   {
    "duration": 333,
    "start_time": "2024-11-15T20:09:34.836Z"
   },
   {
    "duration": 11,
    "start_time": "2024-11-15T20:09:35.171Z"
   },
   {
    "duration": 270,
    "start_time": "2024-11-15T20:09:35.185Z"
   },
   {
    "duration": 10,
    "start_time": "2024-11-15T20:09:35.458Z"
   },
   {
    "duration": 378,
    "start_time": "2024-11-15T20:09:35.469Z"
   },
   {
    "duration": 554,
    "start_time": "2024-11-15T20:09:35.849Z"
   },
   {
    "duration": 522,
    "start_time": "2024-11-15T20:09:36.404Z"
   },
   {
    "duration": 240,
    "start_time": "2024-11-15T20:09:36.927Z"
   },
   {
    "duration": 5,
    "start_time": "2024-11-15T20:09:37.168Z"
   },
   {
    "duration": 41,
    "start_time": "2024-11-15T20:09:37.175Z"
   },
   {
    "duration": 39,
    "start_time": "2024-11-15T20:09:37.218Z"
   },
   {
    "duration": 29,
    "start_time": "2024-11-15T20:09:37.258Z"
   },
   {
    "duration": 34,
    "start_time": "2024-11-15T20:09:37.288Z"
   },
   {
    "duration": 46,
    "start_time": "2024-11-15T20:09:37.324Z"
   },
   {
    "duration": 44,
    "start_time": "2024-11-15T20:09:37.372Z"
   },
   {
    "duration": 86,
    "start_time": "2024-11-15T20:09:37.417Z"
   },
   {
    "duration": 31,
    "start_time": "2024-11-15T20:09:37.505Z"
   },
   {
    "duration": 33,
    "start_time": "2024-11-15T20:09:37.538Z"
   },
   {
    "duration": 36,
    "start_time": "2024-11-15T20:09:37.573Z"
   },
   {
    "duration": 39,
    "start_time": "2024-11-15T20:09:37.611Z"
   },
   {
    "duration": 36,
    "start_time": "2024-11-15T20:09:37.652Z"
   },
   {
    "duration": 27,
    "start_time": "2024-11-15T20:09:37.690Z"
   },
   {
    "duration": 24,
    "start_time": "2024-11-15T20:09:37.719Z"
   },
   {
    "duration": 36,
    "start_time": "2024-11-15T20:09:37.744Z"
   },
   {
    "duration": 52,
    "start_time": "2024-11-15T20:09:37.781Z"
   },
   {
    "duration": 36,
    "start_time": "2024-11-15T20:09:37.835Z"
   },
   {
    "duration": 25,
    "start_time": "2024-11-15T20:09:37.873Z"
   },
   {
    "duration": 31,
    "start_time": "2024-11-15T20:09:37.900Z"
   },
   {
    "duration": 30,
    "start_time": "2024-11-15T20:09:37.932Z"
   },
   {
    "duration": 44,
    "start_time": "2024-11-15T20:09:37.964Z"
   },
   {
    "duration": 137,
    "start_time": "2024-11-15T20:09:38.011Z"
   },
   {
    "duration": 21,
    "start_time": "2024-11-15T20:09:38.150Z"
   },
   {
    "duration": 30,
    "start_time": "2024-11-15T20:09:38.173Z"
   },
   {
    "duration": 39,
    "start_time": "2024-11-15T20:09:38.206Z"
   },
   {
    "duration": 1262,
    "start_time": "2024-11-15T20:09:38.247Z"
   },
   {
    "duration": 0,
    "start_time": "2024-11-15T20:09:39.510Z"
   },
   {
    "duration": 0,
    "start_time": "2024-11-15T20:09:39.512Z"
   },
   {
    "duration": 0,
    "start_time": "2024-11-15T20:09:39.513Z"
   },
   {
    "duration": 0,
    "start_time": "2024-11-15T20:09:39.514Z"
   },
   {
    "duration": 0,
    "start_time": "2024-11-15T20:09:39.515Z"
   },
   {
    "duration": 0,
    "start_time": "2024-11-15T20:09:39.517Z"
   },
   {
    "duration": 0,
    "start_time": "2024-11-15T20:09:39.518Z"
   },
   {
    "duration": 0,
    "start_time": "2024-11-15T20:09:39.519Z"
   },
   {
    "duration": 21,
    "start_time": "2024-11-15T20:10:21.927Z"
   },
   {
    "duration": 5,
    "start_time": "2024-11-15T20:10:22.863Z"
   },
   {
    "duration": 5,
    "start_time": "2024-11-15T20:10:23.042Z"
   },
   {
    "duration": 5,
    "start_time": "2024-11-15T20:10:23.202Z"
   },
   {
    "duration": 4,
    "start_time": "2024-11-15T20:10:23.374Z"
   },
   {
    "duration": 4,
    "start_time": "2024-11-15T20:10:23.523Z"
   },
   {
    "duration": 4,
    "start_time": "2024-11-15T20:10:23.693Z"
   },
   {
    "duration": 17,
    "start_time": "2024-11-15T20:10:24.934Z"
   },
   {
    "duration": 12,
    "start_time": "2024-11-15T20:10:43.182Z"
   },
   {
    "duration": 11,
    "start_time": "2024-11-15T20:10:47.691Z"
   },
   {
    "duration": 16,
    "start_time": "2024-11-15T20:13:17.215Z"
   },
   {
    "duration": 9,
    "start_time": "2024-11-15T20:13:38.298Z"
   },
   {
    "duration": 9,
    "start_time": "2024-11-15T20:13:54.389Z"
   },
   {
    "duration": 6,
    "start_time": "2024-11-15T20:14:03.378Z"
   },
   {
    "duration": 5,
    "start_time": "2024-11-15T20:14:31.499Z"
   },
   {
    "duration": 131,
    "start_time": "2024-11-15T20:14:42.426Z"
   },
   {
    "duration": 174,
    "start_time": "2024-11-15T20:14:57.181Z"
   },
   {
    "duration": 5,
    "start_time": "2024-11-15T20:15:14.684Z"
   },
   {
    "duration": 5,
    "start_time": "2024-11-15T20:15:16.048Z"
   },
   {
    "duration": 4,
    "start_time": "2024-11-15T20:15:29.937Z"
   },
   {
    "duration": 6,
    "start_time": "2024-11-15T20:15:30.550Z"
   },
   {
    "duration": 180,
    "start_time": "2024-11-15T20:15:31.896Z"
   },
   {
    "duration": 3,
    "start_time": "2024-11-15T20:15:38.550Z"
   },
   {
    "duration": 6,
    "start_time": "2024-11-15T20:15:39.031Z"
   },
   {
    "duration": 233,
    "start_time": "2024-11-15T20:15:40.676Z"
   },
   {
    "duration": 8,
    "start_time": "2024-11-15T20:16:11.644Z"
   },
   {
    "duration": 4,
    "start_time": "2024-11-15T20:16:12.012Z"
   },
   {
    "duration": 6,
    "start_time": "2024-11-15T20:16:12.423Z"
   },
   {
    "duration": 194,
    "start_time": "2024-11-15T20:16:14.126Z"
   },
   {
    "duration": 5,
    "start_time": "2024-11-15T20:16:33.383Z"
   },
   {
    "duration": 4,
    "start_time": "2024-11-15T20:17:09.039Z"
   },
   {
    "duration": 5,
    "start_time": "2024-11-15T20:17:09.653Z"
   },
   {
    "duration": 187,
    "start_time": "2024-11-15T20:17:11.913Z"
   },
   {
    "duration": 544,
    "start_time": "2024-11-15T20:17:29.443Z"
   },
   {
    "duration": 417,
    "start_time": "2024-11-15T20:17:42.580Z"
   },
   {
    "duration": 426,
    "start_time": "2024-11-15T20:17:50.818Z"
   },
   {
    "duration": 413,
    "start_time": "2024-11-15T20:17:54.927Z"
   },
   {
    "duration": 8,
    "start_time": "2024-11-15T20:18:08.228Z"
   },
   {
    "duration": 405,
    "start_time": "2024-11-15T20:18:11.198Z"
   },
   {
    "duration": 433,
    "start_time": "2024-11-15T20:18:23.742Z"
   },
   {
    "duration": 481,
    "start_time": "2024-11-15T20:18:27.877Z"
   },
   {
    "duration": 34,
    "start_time": "2024-11-15T20:19:41.924Z"
   },
   {
    "duration": 6,
    "start_time": "2024-11-15T20:20:06.734Z"
   },
   {
    "duration": 192,
    "start_time": "2024-11-15T20:20:26.703Z"
   },
   {
    "duration": 4,
    "start_time": "2024-11-15T20:20:45.343Z"
   },
   {
    "duration": 4,
    "start_time": "2024-11-15T20:21:09.702Z"
   },
   {
    "duration": 212,
    "start_time": "2024-11-15T20:21:34.399Z"
   },
   {
    "duration": 5,
    "start_time": "2024-11-15T20:21:50.313Z"
   },
   {
    "duration": 9,
    "start_time": "2024-11-15T20:22:11.965Z"
   },
   {
    "duration": 3,
    "start_time": "2024-11-15T20:22:34.931Z"
   },
   {
    "duration": 8,
    "start_time": "2024-11-15T20:22:41.468Z"
   },
   {
    "duration": 6,
    "start_time": "2024-11-15T20:22:48.178Z"
   },
   {
    "duration": 3,
    "start_time": "2024-11-15T20:23:00.814Z"
   },
   {
    "duration": 8,
    "start_time": "2024-11-15T20:23:01.458Z"
   },
   {
    "duration": 3,
    "start_time": "2024-11-15T20:23:59.718Z"
   },
   {
    "duration": 8,
    "start_time": "2024-11-15T20:24:00.136Z"
   },
   {
    "duration": 3,
    "start_time": "2024-11-15T20:24:43.731Z"
   },
   {
    "duration": 12,
    "start_time": "2024-11-15T20:24:53.693Z"
   },
   {
    "duration": 4,
    "start_time": "2024-11-15T20:25:12.853Z"
   },
   {
    "duration": 208,
    "start_time": "2024-11-15T20:25:22.243Z"
   },
   {
    "duration": 240,
    "start_time": "2024-11-15T20:26:23.255Z"
   },
   {
    "duration": 31407,
    "start_time": "2024-11-15T20:26:57.124Z"
   },
   {
    "duration": 9,
    "start_time": "2024-11-15T20:28:13.787Z"
   },
   {
    "duration": 3,
    "start_time": "2024-11-15T20:28:25.593Z"
   },
   {
    "duration": 21324,
    "start_time": "2024-11-15T20:28:28.508Z"
   },
   {
    "duration": 213,
    "start_time": "2024-11-15T20:28:56.895Z"
   },
   {
    "duration": 8,
    "start_time": "2024-11-15T20:29:27.366Z"
   },
   {
    "duration": 3,
    "start_time": "2024-11-15T20:29:58.385Z"
   },
   {
    "duration": 5,
    "start_time": "2024-11-15T20:30:00.424Z"
   },
   {
    "duration": 13,
    "start_time": "2024-11-15T20:30:04.047Z"
   },
   {
    "duration": 3,
    "start_time": "2024-11-15T20:30:11.237Z"
   },
   {
    "duration": 21141,
    "start_time": "2024-11-15T20:30:20.312Z"
   },
   {
    "duration": 227,
    "start_time": "2024-11-15T20:30:46.588Z"
   },
   {
    "duration": 6,
    "start_time": "2024-11-15T20:32:54.909Z"
   },
   {
    "duration": 130,
    "start_time": "2024-11-15T20:33:01.402Z"
   },
   {
    "duration": 22330,
    "start_time": "2024-11-15T20:33:12.789Z"
   },
   {
    "duration": 172,
    "start_time": "2024-11-15T20:33:51.325Z"
   },
   {
    "duration": 131,
    "start_time": "2024-11-15T20:34:07.065Z"
   },
   {
    "duration": 202,
    "start_time": "2024-11-15T20:35:09.884Z"
   },
   {
    "duration": 170,
    "start_time": "2024-11-15T20:36:15.535Z"
   },
   {
    "duration": 187,
    "start_time": "2024-11-15T20:36:29.570Z"
   },
   {
    "duration": 9,
    "start_time": "2024-11-15T20:39:21.170Z"
   },
   {
    "duration": 141,
    "start_time": "2024-11-15T20:39:50.548Z"
   },
   {
    "duration": 14,
    "start_time": "2024-11-15T20:41:08.830Z"
   },
   {
    "duration": 8,
    "start_time": "2024-11-15T20:41:55.514Z"
   },
   {
    "duration": 7,
    "start_time": "2024-11-15T20:42:02.881Z"
   },
   {
    "duration": 5,
    "start_time": "2024-11-15T20:42:05.638Z"
   },
   {
    "duration": 97,
    "start_time": "2024-11-15T20:42:16.297Z"
   },
   {
    "duration": 770,
    "start_time": "2024-11-16T12:38:32.129Z"
   },
   {
    "duration": 1937,
    "start_time": "2024-11-16T12:38:32.901Z"
   },
   {
    "duration": 24,
    "start_time": "2024-11-16T12:38:34.840Z"
   },
   {
    "duration": 20,
    "start_time": "2024-11-16T12:38:34.877Z"
   },
   {
    "duration": 30,
    "start_time": "2024-11-16T12:38:34.899Z"
   },
   {
    "duration": 25,
    "start_time": "2024-11-16T12:38:34.931Z"
   },
   {
    "duration": 25,
    "start_time": "2024-11-16T12:38:34.958Z"
   },
   {
    "duration": 16,
    "start_time": "2024-11-16T12:38:34.984Z"
   },
   {
    "duration": 3,
    "start_time": "2024-11-16T12:38:35.001Z"
   },
   {
    "duration": 16,
    "start_time": "2024-11-16T12:38:35.006Z"
   },
   {
    "duration": 13,
    "start_time": "2024-11-16T12:38:35.024Z"
   },
   {
    "duration": 4,
    "start_time": "2024-11-16T12:38:35.039Z"
   },
   {
    "duration": 60,
    "start_time": "2024-11-16T12:38:35.044Z"
   },
   {
    "duration": 32,
    "start_time": "2024-11-16T12:38:35.107Z"
   },
   {
    "duration": 44,
    "start_time": "2024-11-16T12:38:35.140Z"
   },
   {
    "duration": 22,
    "start_time": "2024-11-16T12:38:35.186Z"
   },
   {
    "duration": 33,
    "start_time": "2024-11-16T12:38:35.209Z"
   },
   {
    "duration": 10,
    "start_time": "2024-11-16T12:38:35.244Z"
   },
   {
    "duration": 5,
    "start_time": "2024-11-16T12:38:35.275Z"
   },
   {
    "duration": 38,
    "start_time": "2024-11-16T12:38:35.282Z"
   },
   {
    "duration": 15,
    "start_time": "2024-11-16T12:38:35.321Z"
   },
   {
    "duration": 34,
    "start_time": "2024-11-16T12:38:35.338Z"
   },
   {
    "duration": 28,
    "start_time": "2024-11-16T12:38:35.374Z"
   },
   {
    "duration": 312,
    "start_time": "2024-11-16T12:38:35.404Z"
   },
   {
    "duration": 10,
    "start_time": "2024-11-16T12:38:35.718Z"
   },
   {
    "duration": 330,
    "start_time": "2024-11-16T12:38:35.729Z"
   },
   {
    "duration": 19,
    "start_time": "2024-11-16T12:38:36.060Z"
   },
   {
    "duration": 274,
    "start_time": "2024-11-16T12:38:36.081Z"
   },
   {
    "duration": 20,
    "start_time": "2024-11-16T12:38:36.356Z"
   },
   {
    "duration": 382,
    "start_time": "2024-11-16T12:38:36.377Z"
   },
   {
    "duration": 553,
    "start_time": "2024-11-16T12:38:36.760Z"
   },
   {
    "duration": 469,
    "start_time": "2024-11-16T12:38:37.314Z"
   },
   {
    "duration": 234,
    "start_time": "2024-11-16T12:38:37.785Z"
   },
   {
    "duration": 5,
    "start_time": "2024-11-16T12:38:38.020Z"
   },
   {
    "duration": 22,
    "start_time": "2024-11-16T12:38:38.027Z"
   },
   {
    "duration": 27,
    "start_time": "2024-11-16T12:38:38.050Z"
   },
   {
    "duration": 6,
    "start_time": "2024-11-16T12:38:38.078Z"
   },
   {
    "duration": 5,
    "start_time": "2024-11-16T12:38:38.085Z"
   },
   {
    "duration": 5,
    "start_time": "2024-11-16T12:38:38.092Z"
   },
   {
    "duration": 4,
    "start_time": "2024-11-16T12:38:38.098Z"
   },
   {
    "duration": 5,
    "start_time": "2024-11-16T12:38:38.106Z"
   },
   {
    "duration": 13,
    "start_time": "2024-11-16T12:38:38.113Z"
   },
   {
    "duration": 14,
    "start_time": "2024-11-16T12:38:38.127Z"
   },
   {
    "duration": 8,
    "start_time": "2024-11-16T12:38:38.177Z"
   },
   {
    "duration": 8,
    "start_time": "2024-11-16T12:38:38.187Z"
   },
   {
    "duration": 10,
    "start_time": "2024-11-16T12:38:38.197Z"
   },
   {
    "duration": 4,
    "start_time": "2024-11-16T12:38:38.209Z"
   },
   {
    "duration": 5,
    "start_time": "2024-11-16T12:38:38.215Z"
   },
   {
    "duration": 5,
    "start_time": "2024-11-16T12:38:38.222Z"
   },
   {
    "duration": 48,
    "start_time": "2024-11-16T12:38:38.229Z"
   },
   {
    "duration": 4,
    "start_time": "2024-11-16T12:38:38.279Z"
   },
   {
    "duration": 5,
    "start_time": "2024-11-16T12:38:38.285Z"
   },
   {
    "duration": 4,
    "start_time": "2024-11-16T12:38:38.292Z"
   },
   {
    "duration": 4,
    "start_time": "2024-11-16T12:38:38.298Z"
   },
   {
    "duration": 4,
    "start_time": "2024-11-16T12:38:38.304Z"
   },
   {
    "duration": 12,
    "start_time": "2024-11-16T12:38:38.309Z"
   },
   {
    "duration": 4,
    "start_time": "2024-11-16T12:38:38.323Z"
   },
   {
    "duration": 4,
    "start_time": "2024-11-16T12:38:38.376Z"
   },
   {
    "duration": 38,
    "start_time": "2024-11-16T12:38:38.382Z"
   },
   {
    "duration": 19,
    "start_time": "2024-11-16T12:38:38.421Z"
   },
   {
    "duration": 6,
    "start_time": "2024-11-16T12:38:38.441Z"
   },
   {
    "duration": 4,
    "start_time": "2024-11-16T12:38:38.449Z"
   },
   {
    "duration": 7,
    "start_time": "2024-11-16T12:38:38.454Z"
   },
   {
    "duration": 3,
    "start_time": "2024-11-16T12:38:38.463Z"
   },
   {
    "duration": 8,
    "start_time": "2024-11-16T12:38:38.475Z"
   },
   {
    "duration": 5,
    "start_time": "2024-11-16T12:38:38.485Z"
   },
   {
    "duration": 16,
    "start_time": "2024-11-16T12:38:38.492Z"
   },
   {
    "duration": 9,
    "start_time": "2024-11-16T12:38:38.510Z"
   },
   {
    "duration": 4,
    "start_time": "2024-11-16T12:38:38.520Z"
   },
   {
    "duration": 10,
    "start_time": "2024-11-16T12:38:38.525Z"
   },
   {
    "duration": 419,
    "start_time": "2024-11-16T12:38:38.537Z"
   },
   {
    "duration": 5,
    "start_time": "2024-11-16T12:38:38.958Z"
   },
   {
    "duration": 228,
    "start_time": "2024-11-16T12:38:38.965Z"
   },
   {
    "duration": 4,
    "start_time": "2024-11-16T12:38:39.195Z"
   },
   {
    "duration": 3,
    "start_time": "2024-11-16T12:38:39.200Z"
   },
   {
    "duration": 4,
    "start_time": "2024-11-16T12:38:39.205Z"
   },
   {
    "duration": 32539,
    "start_time": "2024-11-16T12:38:39.211Z"
   },
   {
    "duration": 3,
    "start_time": "2024-11-16T12:39:11.752Z"
   },
   {
    "duration": 22493,
    "start_time": "2024-11-16T12:39:11.756Z"
   },
   {
    "duration": 255,
    "start_time": "2024-11-16T12:39:34.251Z"
   },
   {
    "duration": 202,
    "start_time": "2024-11-16T12:39:34.507Z"
   },
   {
    "duration": 176,
    "start_time": "2024-11-16T12:39:34.711Z"
   },
   {
    "duration": 187,
    "start_time": "2024-11-16T12:39:34.889Z"
   },
   {
    "duration": 173,
    "start_time": "2024-11-16T12:39:35.077Z"
   },
   {
    "duration": 155,
    "start_time": "2024-11-16T12:39:35.251Z"
   },
   {
    "duration": 8,
    "start_time": "2024-11-16T12:39:35.407Z"
   },
   {
    "duration": 129,
    "start_time": "2024-11-16T12:39:35.417Z"
   },
   {
    "duration": 76,
    "start_time": "2024-11-16T12:43:11.272Z"
   },
   {
    "duration": 36,
    "start_time": "2024-11-16T12:43:17.323Z"
   },
   {
    "duration": 13,
    "start_time": "2024-11-16T12:43:24.157Z"
   },
   {
    "duration": 33,
    "start_time": "2024-11-16T12:43:55.263Z"
   },
   {
    "duration": 20,
    "start_time": "2024-11-16T12:45:59.354Z"
   },
   {
    "duration": 16,
    "start_time": "2024-11-16T12:46:25.256Z"
   },
   {
    "duration": 12,
    "start_time": "2024-11-16T12:46:36.182Z"
   },
   {
    "duration": 13,
    "start_time": "2024-11-16T12:48:17.047Z"
   },
   {
    "duration": 15,
    "start_time": "2024-11-16T12:48:39.237Z"
   },
   {
    "duration": 20,
    "start_time": "2024-11-16T13:03:29.710Z"
   },
   {
    "duration": 173,
    "start_time": "2024-11-16T13:05:44.387Z"
   },
   {
    "duration": 174,
    "start_time": "2024-11-16T13:05:44.561Z"
   },
   {
    "duration": 166,
    "start_time": "2024-11-16T13:05:44.737Z"
   },
   {
    "duration": 172,
    "start_time": "2024-11-16T13:05:44.904Z"
   },
   {
    "duration": 195,
    "start_time": "2024-11-16T13:08:24.445Z"
   },
   {
    "duration": 184,
    "start_time": "2024-11-16T13:08:38.859Z"
   },
   {
    "duration": 225,
    "start_time": "2024-11-16T13:08:55.847Z"
   },
   {
    "duration": 225,
    "start_time": "2024-11-16T13:09:03.953Z"
   },
   {
    "duration": 208,
    "start_time": "2024-11-16T13:09:28.792Z"
   },
   {
    "duration": 225,
    "start_time": "2024-11-16T13:09:31.766Z"
   },
   {
    "duration": 180,
    "start_time": "2024-11-16T13:09:40.515Z"
   },
   {
    "duration": 133,
    "start_time": "2024-11-16T13:09:52.924Z"
   },
   {
    "duration": 241,
    "start_time": "2024-11-16T13:10:07.530Z"
   },
   {
    "duration": 241,
    "start_time": "2024-11-16T13:10:16.110Z"
   },
   {
    "duration": 306,
    "start_time": "2024-11-16T13:12:47.777Z"
   },
   {
    "duration": 256,
    "start_time": "2024-11-16T13:13:07.297Z"
   },
   {
    "duration": 549,
    "start_time": "2024-11-16T13:13:33.543Z"
   },
   {
    "duration": 212,
    "start_time": "2024-11-16T13:13:57.232Z"
   },
   {
    "duration": 301,
    "start_time": "2024-11-16T13:14:15.906Z"
   },
   {
    "duration": 17,
    "start_time": "2024-11-16T13:39:45.316Z"
   },
   {
    "duration": 15,
    "start_time": "2024-11-16T13:39:51.208Z"
   },
   {
    "duration": 21,
    "start_time": "2024-11-16T13:40:58.564Z"
   },
   {
    "duration": 13,
    "start_time": "2024-11-16T13:41:03.356Z"
   },
   {
    "duration": 10,
    "start_time": "2024-11-16T13:41:06.816Z"
   },
   {
    "duration": 13,
    "start_time": "2024-11-16T13:41:17.704Z"
   },
   {
    "duration": 1421,
    "start_time": "2024-11-18T23:04:17.759Z"
   },
   {
    "duration": 2186,
    "start_time": "2024-11-18T23:04:19.182Z"
   },
   {
    "duration": 28,
    "start_time": "2024-11-18T23:04:21.370Z"
   },
   {
    "duration": 22,
    "start_time": "2024-11-18T23:04:21.400Z"
   },
   {
    "duration": 27,
    "start_time": "2024-11-18T23:04:21.424Z"
   },
   {
    "duration": 26,
    "start_time": "2024-11-18T23:04:21.452Z"
   },
   {
    "duration": 31,
    "start_time": "2024-11-18T23:04:21.480Z"
   },
   {
    "duration": 15,
    "start_time": "2024-11-18T23:04:21.513Z"
   },
   {
    "duration": 3,
    "start_time": "2024-11-18T23:04:21.530Z"
   },
   {
    "duration": 129,
    "start_time": "2024-11-18T23:04:21.535Z"
   },
   {
    "duration": 0,
    "start_time": "2024-11-18T23:04:21.666Z"
   },
   {
    "duration": 0,
    "start_time": "2024-11-18T23:04:21.667Z"
   },
   {
    "duration": 0,
    "start_time": "2024-11-18T23:04:21.668Z"
   },
   {
    "duration": 0,
    "start_time": "2024-11-18T23:04:21.669Z"
   },
   {
    "duration": 0,
    "start_time": "2024-11-18T23:04:21.670Z"
   },
   {
    "duration": 0,
    "start_time": "2024-11-18T23:04:21.671Z"
   },
   {
    "duration": 0,
    "start_time": "2024-11-18T23:04:21.673Z"
   },
   {
    "duration": 0,
    "start_time": "2024-11-18T23:04:21.674Z"
   },
   {
    "duration": 0,
    "start_time": "2024-11-18T23:04:21.676Z"
   },
   {
    "duration": 0,
    "start_time": "2024-11-18T23:04:21.677Z"
   },
   {
    "duration": 0,
    "start_time": "2024-11-18T23:04:21.678Z"
   },
   {
    "duration": 0,
    "start_time": "2024-11-18T23:04:21.679Z"
   },
   {
    "duration": 0,
    "start_time": "2024-11-18T23:04:21.680Z"
   },
   {
    "duration": 0,
    "start_time": "2024-11-18T23:04:21.707Z"
   },
   {
    "duration": 0,
    "start_time": "2024-11-18T23:04:21.708Z"
   },
   {
    "duration": 0,
    "start_time": "2024-11-18T23:04:21.709Z"
   },
   {
    "duration": 0,
    "start_time": "2024-11-18T23:04:21.711Z"
   },
   {
    "duration": 0,
    "start_time": "2024-11-18T23:04:21.711Z"
   },
   {
    "duration": 0,
    "start_time": "2024-11-18T23:04:21.713Z"
   },
   {
    "duration": 1191,
    "start_time": "2024-11-18T23:06:47.470Z"
   },
   {
    "duration": 1932,
    "start_time": "2024-11-18T23:06:48.663Z"
   },
   {
    "duration": 20,
    "start_time": "2024-11-18T23:06:50.597Z"
   },
   {
    "duration": 31,
    "start_time": "2024-11-18T23:06:50.618Z"
   },
   {
    "duration": 18,
    "start_time": "2024-11-18T23:06:50.650Z"
   },
   {
    "duration": 22,
    "start_time": "2024-11-18T23:06:50.669Z"
   },
   {
    "duration": 31,
    "start_time": "2024-11-18T23:06:50.692Z"
   },
   {
    "duration": 42,
    "start_time": "2024-11-18T23:06:50.724Z"
   },
   {
    "duration": 3,
    "start_time": "2024-11-18T23:06:50.768Z"
   },
   {
    "duration": 27,
    "start_time": "2024-11-18T23:06:50.774Z"
   },
   {
    "duration": 292,
    "start_time": "2024-11-18T23:06:50.802Z"
   },
   {
    "duration": 374,
    "start_time": "2024-11-18T23:06:51.095Z"
   },
   {
    "duration": 0,
    "start_time": "2024-11-18T23:06:51.470Z"
   },
   {
    "duration": 0,
    "start_time": "2024-11-18T23:06:51.471Z"
   },
   {
    "duration": 0,
    "start_time": "2024-11-18T23:06:51.472Z"
   },
   {
    "duration": 0,
    "start_time": "2024-11-18T23:06:51.473Z"
   },
   {
    "duration": 0,
    "start_time": "2024-11-18T23:06:51.474Z"
   },
   {
    "duration": 0,
    "start_time": "2024-11-18T23:06:51.474Z"
   },
   {
    "duration": 0,
    "start_time": "2024-11-18T23:06:51.475Z"
   },
   {
    "duration": 0,
    "start_time": "2024-11-18T23:06:51.476Z"
   },
   {
    "duration": 0,
    "start_time": "2024-11-18T23:06:51.477Z"
   },
   {
    "duration": 0,
    "start_time": "2024-11-18T23:06:51.478Z"
   },
   {
    "duration": 0,
    "start_time": "2024-11-18T23:06:51.478Z"
   },
   {
    "duration": 0,
    "start_time": "2024-11-18T23:06:51.479Z"
   },
   {
    "duration": 0,
    "start_time": "2024-11-18T23:06:51.480Z"
   },
   {
    "duration": 0,
    "start_time": "2024-11-18T23:06:51.481Z"
   },
   {
    "duration": 0,
    "start_time": "2024-11-18T23:06:51.482Z"
   },
   {
    "duration": 0,
    "start_time": "2024-11-18T23:06:51.482Z"
   },
   {
    "duration": 0,
    "start_time": "2024-11-18T23:06:51.506Z"
   },
   {
    "duration": 0,
    "start_time": "2024-11-18T23:06:51.507Z"
   },
   {
    "duration": 1228,
    "start_time": "2024-11-18T23:07:26.838Z"
   },
   {
    "duration": 1774,
    "start_time": "2024-11-18T23:07:28.068Z"
   },
   {
    "duration": 19,
    "start_time": "2024-11-18T23:07:29.843Z"
   },
   {
    "duration": 31,
    "start_time": "2024-11-18T23:07:29.864Z"
   },
   {
    "duration": 17,
    "start_time": "2024-11-18T23:07:29.896Z"
   },
   {
    "duration": 16,
    "start_time": "2024-11-18T23:07:29.914Z"
   },
   {
    "duration": 11,
    "start_time": "2024-11-18T23:07:29.932Z"
   },
   {
    "duration": 19,
    "start_time": "2024-11-18T23:07:29.944Z"
   },
   {
    "duration": 3,
    "start_time": "2024-11-18T23:07:29.964Z"
   },
   {
    "duration": 42,
    "start_time": "2024-11-18T23:07:29.969Z"
   },
   {
    "duration": 317,
    "start_time": "2024-11-18T23:07:30.012Z"
   },
   {
    "duration": 280,
    "start_time": "2024-11-18T23:07:30.330Z"
   },
   {
    "duration": 345,
    "start_time": "2024-11-18T23:07:30.612Z"
   },
   {
    "duration": 4,
    "start_time": "2024-11-18T23:07:30.959Z"
   },
   {
    "duration": 265,
    "start_time": "2024-11-18T23:07:30.964Z"
   },
   {
    "duration": 218,
    "start_time": "2024-11-18T23:07:31.230Z"
   },
   {
    "duration": 13,
    "start_time": "2024-11-18T23:07:31.449Z"
   },
   {
    "duration": 319,
    "start_time": "2024-11-18T23:07:31.463Z"
   },
   {
    "duration": 14,
    "start_time": "2024-11-18T23:07:31.784Z"
   },
   {
    "duration": 160,
    "start_time": "2024-11-18T23:07:31.799Z"
   },
   {
    "duration": 8,
    "start_time": "2024-11-18T23:07:31.961Z"
   },
   {
    "duration": 26,
    "start_time": "2024-11-18T23:07:31.970Z"
   },
   {
    "duration": 30,
    "start_time": "2024-11-18T23:07:31.998Z"
   },
   {
    "duration": 299,
    "start_time": "2024-11-18T23:07:32.030Z"
   },
   {
    "duration": 10,
    "start_time": "2024-11-18T23:07:32.331Z"
   },
   {
    "duration": 281,
    "start_time": "2024-11-18T23:07:32.342Z"
   },
   {
    "duration": 12,
    "start_time": "2024-11-18T23:07:32.625Z"
   },
   {
    "duration": 301,
    "start_time": "2024-11-18T23:07:32.640Z"
   },
   {
    "duration": 10,
    "start_time": "2024-11-18T23:07:32.942Z"
   },
   {
    "duration": 269,
    "start_time": "2024-11-18T23:07:32.953Z"
   },
   {
    "duration": 1390,
    "start_time": "2024-11-19T00:13:42.660Z"
   },
   {
    "duration": 1855,
    "start_time": "2024-11-19T00:13:44.052Z"
   },
   {
    "duration": 19,
    "start_time": "2024-11-19T00:13:45.909Z"
   },
   {
    "duration": 119,
    "start_time": "2024-11-19T00:13:45.930Z"
   },
   {
    "duration": 83,
    "start_time": "2024-11-19T00:13:46.050Z"
   },
   {
    "duration": 100,
    "start_time": "2024-11-19T00:13:46.134Z"
   },
   {
    "duration": 10,
    "start_time": "2024-11-19T00:13:46.236Z"
   },
   {
    "duration": 41,
    "start_time": "2024-11-19T00:13:46.247Z"
   },
   {
    "duration": 3,
    "start_time": "2024-11-19T00:13:46.289Z"
   },
   {
    "duration": 40,
    "start_time": "2024-11-19T00:13:46.296Z"
   },
   {
    "duration": 307,
    "start_time": "2024-11-19T00:13:46.337Z"
   },
   {
    "duration": 270,
    "start_time": "2024-11-19T00:13:46.645Z"
   },
   {
    "duration": 333,
    "start_time": "2024-11-19T00:13:46.917Z"
   },
   {
    "duration": 5,
    "start_time": "2024-11-19T00:13:47.251Z"
   },
   {
    "duration": 218,
    "start_time": "2024-11-19T00:13:47.257Z"
   },
   {
    "duration": 204,
    "start_time": "2024-11-19T00:13:47.477Z"
   },
   {
    "duration": 11,
    "start_time": "2024-11-19T00:13:47.683Z"
   },
   {
    "duration": 289,
    "start_time": "2024-11-19T00:13:47.695Z"
   },
   {
    "duration": 21,
    "start_time": "2024-11-19T00:13:47.986Z"
   },
   {
    "duration": 102,
    "start_time": "2024-11-19T00:13:48.008Z"
   },
   {
    "duration": 9,
    "start_time": "2024-11-19T00:13:48.111Z"
   },
   {
    "duration": 21,
    "start_time": "2024-11-19T00:13:48.121Z"
   },
   {
    "duration": 15,
    "start_time": "2024-11-19T00:13:48.143Z"
   },
   {
    "duration": 309,
    "start_time": "2024-11-19T00:13:48.160Z"
   },
   {
    "duration": 9,
    "start_time": "2024-11-19T00:13:48.471Z"
   },
   {
    "duration": 271,
    "start_time": "2024-11-19T00:13:48.482Z"
   },
   {
    "duration": 10,
    "start_time": "2024-11-19T00:13:48.754Z"
   },
   {
    "duration": 278,
    "start_time": "2024-11-19T00:13:48.767Z"
   },
   {
    "duration": 9,
    "start_time": "2024-11-19T00:13:49.046Z"
   },
   {
    "duration": 276,
    "start_time": "2024-11-19T00:13:49.057Z"
   },
   {
    "duration": 391,
    "start_time": "2024-11-19T00:13:49.335Z"
   },
   {
    "duration": 314,
    "start_time": "2024-11-19T00:13:49.727Z"
   },
   {
    "duration": 68,
    "start_time": "2024-11-19T00:13:50.042Z"
   },
   {
    "duration": 0,
    "start_time": "2024-11-19T00:13:50.112Z"
   },
   {
    "duration": 0,
    "start_time": "2024-11-19T00:13:50.113Z"
   },
   {
    "duration": 0,
    "start_time": "2024-11-19T00:13:50.114Z"
   },
   {
    "duration": 0,
    "start_time": "2024-11-19T00:13:50.115Z"
   },
   {
    "duration": 0,
    "start_time": "2024-11-19T00:13:50.116Z"
   },
   {
    "duration": 0,
    "start_time": "2024-11-19T00:13:50.117Z"
   },
   {
    "duration": 0,
    "start_time": "2024-11-19T00:13:50.118Z"
   },
   {
    "duration": 0,
    "start_time": "2024-11-19T00:13:50.119Z"
   },
   {
    "duration": 0,
    "start_time": "2024-11-19T00:13:50.120Z"
   },
   {
    "duration": 0,
    "start_time": "2024-11-19T00:13:50.121Z"
   },
   {
    "duration": 0,
    "start_time": "2024-11-19T00:13:50.121Z"
   },
   {
    "duration": 0,
    "start_time": "2024-11-19T00:13:50.122Z"
   },
   {
    "duration": 0,
    "start_time": "2024-11-19T00:13:50.123Z"
   },
   {
    "duration": 0,
    "start_time": "2024-11-19T00:13:50.124Z"
   },
   {
    "duration": 0,
    "start_time": "2024-11-19T00:13:50.125Z"
   },
   {
    "duration": 0,
    "start_time": "2024-11-19T00:13:50.125Z"
   },
   {
    "duration": 0,
    "start_time": "2024-11-19T00:13:50.126Z"
   },
   {
    "duration": 0,
    "start_time": "2024-11-19T00:13:50.127Z"
   },
   {
    "duration": 0,
    "start_time": "2024-11-19T00:13:50.128Z"
   },
   {
    "duration": 0,
    "start_time": "2024-11-19T00:13:50.129Z"
   },
   {
    "duration": 0,
    "start_time": "2024-11-19T00:13:50.130Z"
   },
   {
    "duration": 0,
    "start_time": "2024-11-19T00:13:50.131Z"
   },
   {
    "duration": 0,
    "start_time": "2024-11-19T00:13:50.132Z"
   },
   {
    "duration": 0,
    "start_time": "2024-11-19T00:13:50.133Z"
   },
   {
    "duration": 0,
    "start_time": "2024-11-19T00:13:50.133Z"
   },
   {
    "duration": 1286,
    "start_time": "2024-11-19T00:14:08.979Z"
   },
   {
    "duration": 1629,
    "start_time": "2024-11-19T00:14:10.266Z"
   },
   {
    "duration": 21,
    "start_time": "2024-11-19T00:14:11.896Z"
   },
   {
    "duration": 17,
    "start_time": "2024-11-19T00:14:11.918Z"
   },
   {
    "duration": 17,
    "start_time": "2024-11-19T00:14:11.937Z"
   },
   {
    "duration": 16,
    "start_time": "2024-11-19T00:14:11.956Z"
   },
   {
    "duration": 11,
    "start_time": "2024-11-19T00:14:11.974Z"
   },
   {
    "duration": 17,
    "start_time": "2024-11-19T00:14:12.006Z"
   },
   {
    "duration": 3,
    "start_time": "2024-11-19T00:14:12.025Z"
   },
   {
    "duration": 26,
    "start_time": "2024-11-19T00:14:12.029Z"
   },
   {
    "duration": 310,
    "start_time": "2024-11-19T00:14:12.056Z"
   },
   {
    "duration": 284,
    "start_time": "2024-11-19T00:14:12.368Z"
   },
   {
    "duration": 339,
    "start_time": "2024-11-19T00:14:12.654Z"
   },
   {
    "duration": 10,
    "start_time": "2024-11-19T00:14:12.997Z"
   },
   {
    "duration": 217,
    "start_time": "2024-11-19T00:14:13.008Z"
   },
   {
    "duration": 226,
    "start_time": "2024-11-19T00:14:13.227Z"
   },
   {
    "duration": 11,
    "start_time": "2024-11-19T00:14:13.455Z"
   },
   {
    "duration": 289,
    "start_time": "2024-11-19T00:14:13.468Z"
   },
   {
    "duration": 14,
    "start_time": "2024-11-19T00:14:13.759Z"
   },
   {
    "duration": 96,
    "start_time": "2024-11-19T00:14:13.775Z"
   },
   {
    "duration": 8,
    "start_time": "2024-11-19T00:14:13.872Z"
   },
   {
    "duration": 23,
    "start_time": "2024-11-19T00:14:13.881Z"
   },
   {
    "duration": 18,
    "start_time": "2024-11-19T00:14:13.906Z"
   },
   {
    "duration": 280,
    "start_time": "2024-11-19T00:14:13.925Z"
   },
   {
    "duration": 9,
    "start_time": "2024-11-19T00:14:14.207Z"
   },
   {
    "duration": 277,
    "start_time": "2024-11-19T00:14:14.217Z"
   },
   {
    "duration": 11,
    "start_time": "2024-11-19T00:14:14.496Z"
   },
   {
    "duration": 302,
    "start_time": "2024-11-19T00:14:14.508Z"
   },
   {
    "duration": 10,
    "start_time": "2024-11-19T00:14:14.811Z"
   },
   {
    "duration": 259,
    "start_time": "2024-11-19T00:14:14.822Z"
   },
   {
    "duration": 395,
    "start_time": "2024-11-19T00:14:15.083Z"
   },
   {
    "duration": 319,
    "start_time": "2024-11-19T00:14:15.480Z"
   },
   {
    "duration": 7,
    "start_time": "2024-11-19T00:14:15.800Z"
   },
   {
    "duration": 20,
    "start_time": "2024-11-19T00:14:15.808Z"
   },
   {
    "duration": 8,
    "start_time": "2024-11-19T00:14:15.830Z"
   },
   {
    "duration": 6,
    "start_time": "2024-11-19T00:14:15.840Z"
   },
   {
    "duration": 7,
    "start_time": "2024-11-19T00:14:15.848Z"
   },
   {
    "duration": 622,
    "start_time": "2024-11-19T00:14:15.856Z"
   },
   {
    "duration": 16,
    "start_time": "2024-11-19T00:14:16.479Z"
   },
   {
    "duration": 3,
    "start_time": "2024-11-19T00:14:16.507Z"
   },
   {
    "duration": 8,
    "start_time": "2024-11-19T00:14:16.514Z"
   },
   {
    "duration": 13,
    "start_time": "2024-11-19T00:14:16.524Z"
   },
   {
    "duration": 9,
    "start_time": "2024-11-19T00:14:16.538Z"
   },
   {
    "duration": 12,
    "start_time": "2024-11-19T00:14:16.548Z"
   },
   {
    "duration": 14,
    "start_time": "2024-11-19T00:14:16.562Z"
   },
   {
    "duration": 144,
    "start_time": "2024-11-19T00:14:16.577Z"
   },
   {
    "duration": 3,
    "start_time": "2024-11-19T00:14:16.722Z"
   },
   {
    "duration": 23591,
    "start_time": "2024-11-19T00:14:16.726Z"
   },
   {
    "duration": 297,
    "start_time": "2024-11-19T00:14:40.319Z"
   },
   {
    "duration": 35536,
    "start_time": "2024-11-19T00:14:40.617Z"
   },
   {
    "duration": 132,
    "start_time": "2024-11-19T00:15:16.154Z"
   },
   {
    "duration": 3,
    "start_time": "2024-11-19T00:15:16.288Z"
   },
   {
    "duration": 24500,
    "start_time": "2024-11-19T00:15:16.292Z"
   },
   {
    "duration": 344,
    "start_time": "2024-11-19T00:15:40.793Z"
   },
   {
    "duration": 35315,
    "start_time": "2024-11-19T00:15:41.138Z"
   },
   {
    "duration": 2,
    "start_time": "2024-11-19T00:16:16.455Z"
   },
   {
    "duration": 14,
    "start_time": "2024-11-19T00:16:16.459Z"
   },
   {
    "duration": 1255,
    "start_time": "2024-11-19T00:40:11.715Z"
   },
   {
    "duration": 2202,
    "start_time": "2024-11-19T00:40:12.972Z"
   },
   {
    "duration": 21,
    "start_time": "2024-11-19T00:40:15.176Z"
   },
   {
    "duration": 48,
    "start_time": "2024-11-19T00:40:15.199Z"
   },
   {
    "duration": 50,
    "start_time": "2024-11-19T00:40:15.249Z"
   },
   {
    "duration": 91,
    "start_time": "2024-11-19T00:40:15.301Z"
   },
   {
    "duration": 40,
    "start_time": "2024-11-19T00:40:15.394Z"
   },
   {
    "duration": 40,
    "start_time": "2024-11-19T00:40:15.436Z"
   },
   {
    "duration": 8,
    "start_time": "2024-11-19T00:40:15.477Z"
   },
   {
    "duration": 42,
    "start_time": "2024-11-19T00:40:15.489Z"
   },
   {
    "duration": 289,
    "start_time": "2024-11-19T00:40:15.532Z"
   },
   {
    "duration": 372,
    "start_time": "2024-11-19T00:40:15.822Z"
   },
   {
    "duration": 4,
    "start_time": "2024-11-19T00:40:16.195Z"
   },
   {
    "duration": 213,
    "start_time": "2024-11-19T00:40:16.206Z"
   },
   {
    "duration": 198,
    "start_time": "2024-11-19T00:40:16.420Z"
   },
   {
    "duration": 12,
    "start_time": "2024-11-19T00:40:16.619Z"
   },
   {
    "duration": 283,
    "start_time": "2024-11-19T00:40:16.632Z"
   },
   {
    "duration": 14,
    "start_time": "2024-11-19T00:40:16.917Z"
   },
   {
    "duration": 97,
    "start_time": "2024-11-19T00:40:16.932Z"
   },
   {
    "duration": 8,
    "start_time": "2024-11-19T00:40:17.030Z"
   },
   {
    "duration": 83,
    "start_time": "2024-11-19T00:40:17.039Z"
   },
   {
    "duration": 120,
    "start_time": "2024-11-19T00:40:17.123Z"
   },
   {
    "duration": 393,
    "start_time": "2024-11-19T00:40:17.244Z"
   },
   {
    "duration": 8,
    "start_time": "2024-11-19T00:40:17.639Z"
   },
   {
    "duration": 269,
    "start_time": "2024-11-19T00:40:17.648Z"
   },
   {
    "duration": 9,
    "start_time": "2024-11-19T00:40:17.918Z"
   },
   {
    "duration": 263,
    "start_time": "2024-11-19T00:40:17.928Z"
   },
   {
    "duration": 15,
    "start_time": "2024-11-19T00:40:18.194Z"
   },
   {
    "duration": 254,
    "start_time": "2024-11-19T00:40:18.210Z"
   },
   {
    "duration": 378,
    "start_time": "2024-11-19T00:40:18.465Z"
   },
   {
    "duration": 317,
    "start_time": "2024-11-19T00:40:18.845Z"
   },
   {
    "duration": 7,
    "start_time": "2024-11-19T00:40:19.164Z"
   },
   {
    "duration": 20,
    "start_time": "2024-11-19T00:40:19.173Z"
   },
   {
    "duration": 16,
    "start_time": "2024-11-19T00:40:19.194Z"
   },
   {
    "duration": 10,
    "start_time": "2024-11-19T00:40:19.211Z"
   },
   {
    "duration": 27,
    "start_time": "2024-11-19T00:40:19.222Z"
   },
   {
    "duration": 628,
    "start_time": "2024-11-19T00:40:19.250Z"
   },
   {
    "duration": 16,
    "start_time": "2024-11-19T00:40:19.879Z"
   },
   {
    "duration": 3,
    "start_time": "2024-11-19T00:40:19.907Z"
   },
   {
    "duration": 11,
    "start_time": "2024-11-19T00:40:19.911Z"
   },
   {
    "duration": 12,
    "start_time": "2024-11-19T00:40:19.924Z"
   },
   {
    "duration": 26,
    "start_time": "2024-11-19T00:40:19.937Z"
   },
   {
    "duration": 15,
    "start_time": "2024-11-19T00:40:19.964Z"
   },
   {
    "duration": 19,
    "start_time": "2024-11-19T00:40:19.980Z"
   },
   {
    "duration": 129,
    "start_time": "2024-11-19T00:40:20.001Z"
   },
   {
    "duration": 3,
    "start_time": "2024-11-19T00:40:20.131Z"
   },
   {
    "duration": 22382,
    "start_time": "2024-11-19T00:40:20.135Z"
   },
   {
    "duration": 398,
    "start_time": "2024-11-19T00:40:42.519Z"
   },
   {
    "duration": 34626,
    "start_time": "2024-11-19T00:40:42.918Z"
   },
   {
    "duration": 131,
    "start_time": "2024-11-19T00:41:17.545Z"
   },
   {
    "duration": 2,
    "start_time": "2024-11-19T00:41:17.678Z"
   },
   {
    "duration": 23489,
    "start_time": "2024-11-19T00:41:17.681Z"
   },
   {
    "duration": 260,
    "start_time": "2024-11-19T00:41:41.172Z"
   },
   {
    "duration": 34918,
    "start_time": "2024-11-19T00:41:41.433Z"
   },
   {
    "duration": 3,
    "start_time": "2024-11-19T00:42:16.352Z"
   },
   {
    "duration": 42,
    "start_time": "2024-11-19T00:42:16.356Z"
   },
   {
    "duration": 1491,
    "start_time": "2024-11-19T23:58:01.440Z"
   },
   {
    "duration": 2066,
    "start_time": "2024-11-19T23:58:02.933Z"
   },
   {
    "duration": 27,
    "start_time": "2024-11-19T23:58:05.002Z"
   },
   {
    "duration": 25,
    "start_time": "2024-11-19T23:58:05.031Z"
   },
   {
    "duration": 18,
    "start_time": "2024-11-19T23:58:05.057Z"
   },
   {
    "duration": 36,
    "start_time": "2024-11-19T23:58:05.077Z"
   },
   {
    "duration": 16,
    "start_time": "2024-11-19T23:58:05.115Z"
   },
   {
    "duration": 21,
    "start_time": "2024-11-19T23:58:05.132Z"
   },
   {
    "duration": 5,
    "start_time": "2024-11-19T23:58:05.155Z"
   },
   {
    "duration": 57,
    "start_time": "2024-11-19T23:58:05.164Z"
   },
   {
    "duration": 346,
    "start_time": "2024-11-19T23:58:05.223Z"
   },
   {
    "duration": 436,
    "start_time": "2024-11-19T23:58:05.571Z"
   },
   {
    "duration": 6,
    "start_time": "2024-11-19T23:58:06.008Z"
   },
   {
    "duration": 241,
    "start_time": "2024-11-19T23:58:06.015Z"
   },
   {
    "duration": 241,
    "start_time": "2024-11-19T23:58:06.257Z"
   },
   {
    "duration": 20,
    "start_time": "2024-11-19T23:58:06.500Z"
   },
   {
    "duration": 334,
    "start_time": "2024-11-19T23:58:06.522Z"
   },
   {
    "duration": 14,
    "start_time": "2024-11-19T23:58:06.858Z"
   },
   {
    "duration": 101,
    "start_time": "2024-11-19T23:58:06.873Z"
   },
   {
    "duration": 13,
    "start_time": "2024-11-19T23:58:06.976Z"
   },
   {
    "duration": 338,
    "start_time": "2024-11-19T23:58:06.990Z"
   },
   {
    "duration": 0,
    "start_time": "2024-11-19T23:58:07.330Z"
   },
   {
    "duration": 0,
    "start_time": "2024-11-19T23:58:07.331Z"
   },
   {
    "duration": 0,
    "start_time": "2024-11-19T23:58:07.332Z"
   },
   {
    "duration": 0,
    "start_time": "2024-11-19T23:58:07.333Z"
   },
   {
    "duration": 0,
    "start_time": "2024-11-19T23:58:07.334Z"
   },
   {
    "duration": 0,
    "start_time": "2024-11-19T23:58:07.335Z"
   },
   {
    "duration": 0,
    "start_time": "2024-11-19T23:58:07.336Z"
   },
   {
    "duration": 0,
    "start_time": "2024-11-19T23:58:07.337Z"
   },
   {
    "duration": 0,
    "start_time": "2024-11-19T23:58:07.338Z"
   },
   {
    "duration": 0,
    "start_time": "2024-11-19T23:58:07.339Z"
   },
   {
    "duration": 0,
    "start_time": "2024-11-19T23:58:07.340Z"
   },
   {
    "duration": 0,
    "start_time": "2024-11-19T23:58:07.341Z"
   },
   {
    "duration": 0,
    "start_time": "2024-11-19T23:58:07.342Z"
   },
   {
    "duration": 0,
    "start_time": "2024-11-19T23:58:07.343Z"
   },
   {
    "duration": 0,
    "start_time": "2024-11-19T23:58:07.344Z"
   },
   {
    "duration": 0,
    "start_time": "2024-11-19T23:58:07.345Z"
   },
   {
    "duration": 0,
    "start_time": "2024-11-19T23:58:07.346Z"
   },
   {
    "duration": 0,
    "start_time": "2024-11-19T23:58:07.347Z"
   },
   {
    "duration": 0,
    "start_time": "2024-11-19T23:58:07.348Z"
   },
   {
    "duration": 0,
    "start_time": "2024-11-19T23:58:07.349Z"
   },
   {
    "duration": 0,
    "start_time": "2024-11-19T23:58:07.351Z"
   },
   {
    "duration": 0,
    "start_time": "2024-11-19T23:58:07.352Z"
   },
   {
    "duration": 0,
    "start_time": "2024-11-19T23:58:07.353Z"
   },
   {
    "duration": 0,
    "start_time": "2024-11-19T23:58:07.354Z"
   },
   {
    "duration": 0,
    "start_time": "2024-11-19T23:58:07.354Z"
   },
   {
    "duration": 0,
    "start_time": "2024-11-19T23:58:07.355Z"
   },
   {
    "duration": 0,
    "start_time": "2024-11-19T23:58:07.356Z"
   },
   {
    "duration": 0,
    "start_time": "2024-11-19T23:58:07.357Z"
   },
   {
    "duration": 0,
    "start_time": "2024-11-19T23:58:07.358Z"
   },
   {
    "duration": 0,
    "start_time": "2024-11-19T23:58:07.359Z"
   },
   {
    "duration": 1478,
    "start_time": "2024-11-19T23:58:46.789Z"
   },
   {
    "duration": 1814,
    "start_time": "2024-11-19T23:58:48.269Z"
   },
   {
    "duration": 22,
    "start_time": "2024-11-19T23:58:50.085Z"
   },
   {
    "duration": 25,
    "start_time": "2024-11-19T23:58:50.109Z"
   },
   {
    "duration": 31,
    "start_time": "2024-11-19T23:58:50.135Z"
   },
   {
    "duration": 20,
    "start_time": "2024-11-19T23:58:50.168Z"
   },
   {
    "duration": 28,
    "start_time": "2024-11-19T23:58:50.189Z"
   },
   {
    "duration": 19,
    "start_time": "2024-11-19T23:58:50.218Z"
   },
   {
    "duration": 4,
    "start_time": "2024-11-19T23:58:50.238Z"
   },
   {
    "duration": 21,
    "start_time": "2024-11-19T23:58:50.244Z"
   },
   {
    "duration": 407,
    "start_time": "2024-11-19T23:58:50.266Z"
   },
   {
    "duration": 402,
    "start_time": "2024-11-19T23:58:50.675Z"
   },
   {
    "duration": 5,
    "start_time": "2024-11-19T23:58:51.079Z"
   },
   {
    "duration": 280,
    "start_time": "2024-11-19T23:58:51.085Z"
   },
   {
    "duration": 219,
    "start_time": "2024-11-19T23:58:51.366Z"
   },
   {
    "duration": 12,
    "start_time": "2024-11-19T23:58:51.587Z"
   },
   {
    "duration": 314,
    "start_time": "2024-11-19T23:58:51.601Z"
   },
   {
    "duration": 18,
    "start_time": "2024-11-19T23:58:51.917Z"
   },
   {
    "duration": 100,
    "start_time": "2024-11-19T23:58:51.937Z"
   },
   {
    "duration": 8,
    "start_time": "2024-11-19T23:58:52.039Z"
   },
   {
    "duration": 1336,
    "start_time": "2024-11-19T23:58:52.049Z"
   },
   {
    "duration": 0,
    "start_time": "2024-11-19T23:58:53.388Z"
   },
   {
    "duration": 0,
    "start_time": "2024-11-19T23:58:53.389Z"
   },
   {
    "duration": 0,
    "start_time": "2024-11-19T23:58:53.390Z"
   },
   {
    "duration": 0,
    "start_time": "2024-11-19T23:58:53.391Z"
   },
   {
    "duration": 0,
    "start_time": "2024-11-19T23:58:53.393Z"
   },
   {
    "duration": 0,
    "start_time": "2024-11-19T23:58:53.394Z"
   },
   {
    "duration": 0,
    "start_time": "2024-11-19T23:58:53.395Z"
   },
   {
    "duration": 0,
    "start_time": "2024-11-19T23:58:53.397Z"
   },
   {
    "duration": 0,
    "start_time": "2024-11-19T23:58:53.398Z"
   },
   {
    "duration": 0,
    "start_time": "2024-11-19T23:58:53.412Z"
   },
   {
    "duration": 0,
    "start_time": "2024-11-19T23:58:53.413Z"
   },
   {
    "duration": 0,
    "start_time": "2024-11-19T23:58:53.414Z"
   },
   {
    "duration": 0,
    "start_time": "2024-11-19T23:58:53.415Z"
   },
   {
    "duration": 0,
    "start_time": "2024-11-19T23:58:53.417Z"
   },
   {
    "duration": 0,
    "start_time": "2024-11-19T23:58:53.418Z"
   },
   {
    "duration": 0,
    "start_time": "2024-11-19T23:58:53.419Z"
   },
   {
    "duration": 0,
    "start_time": "2024-11-19T23:58:53.421Z"
   },
   {
    "duration": 0,
    "start_time": "2024-11-19T23:58:53.422Z"
   },
   {
    "duration": 0,
    "start_time": "2024-11-19T23:58:53.423Z"
   },
   {
    "duration": 0,
    "start_time": "2024-11-19T23:58:53.424Z"
   },
   {
    "duration": 0,
    "start_time": "2024-11-19T23:58:53.426Z"
   },
   {
    "duration": 0,
    "start_time": "2024-11-19T23:58:53.427Z"
   },
   {
    "duration": 0,
    "start_time": "2024-11-19T23:58:53.428Z"
   },
   {
    "duration": 0,
    "start_time": "2024-11-19T23:58:53.429Z"
   },
   {
    "duration": 0,
    "start_time": "2024-11-19T23:58:53.430Z"
   },
   {
    "duration": 0,
    "start_time": "2024-11-19T23:58:53.431Z"
   },
   {
    "duration": 0,
    "start_time": "2024-11-19T23:58:53.433Z"
   },
   {
    "duration": 0,
    "start_time": "2024-11-19T23:58:53.434Z"
   },
   {
    "duration": 0,
    "start_time": "2024-11-19T23:58:53.435Z"
   },
   {
    "duration": 0,
    "start_time": "2024-11-19T23:58:53.435Z"
   },
   {
    "duration": 1397,
    "start_time": "2024-11-20T00:03:30.102Z"
   },
   {
    "duration": 1927,
    "start_time": "2024-11-20T00:03:31.501Z"
   },
   {
    "duration": 21,
    "start_time": "2024-11-20T00:03:33.429Z"
   },
   {
    "duration": 17,
    "start_time": "2024-11-20T00:03:33.452Z"
   },
   {
    "duration": 37,
    "start_time": "2024-11-20T00:03:33.470Z"
   },
   {
    "duration": 24,
    "start_time": "2024-11-20T00:03:33.508Z"
   },
   {
    "duration": 14,
    "start_time": "2024-11-20T00:03:33.534Z"
   },
   {
    "duration": 16,
    "start_time": "2024-11-20T00:03:33.550Z"
   },
   {
    "duration": 4,
    "start_time": "2024-11-20T00:03:33.568Z"
   },
   {
    "duration": 58,
    "start_time": "2024-11-20T00:03:33.574Z"
   },
   {
    "duration": 379,
    "start_time": "2024-11-20T00:03:33.633Z"
   },
   {
    "duration": 373,
    "start_time": "2024-11-20T00:03:34.013Z"
   },
   {
    "duration": 6,
    "start_time": "2024-11-20T00:03:34.387Z"
   },
   {
    "duration": 262,
    "start_time": "2024-11-20T00:03:34.395Z"
   },
   {
    "duration": 241,
    "start_time": "2024-11-20T00:03:34.659Z"
   },
   {
    "duration": 17,
    "start_time": "2024-11-20T00:03:34.901Z"
   },
   {
    "duration": 316,
    "start_time": "2024-11-20T00:03:34.919Z"
   },
   {
    "duration": 14,
    "start_time": "2024-11-20T00:03:35.237Z"
   },
   {
    "duration": 105,
    "start_time": "2024-11-20T00:03:35.253Z"
   },
   {
    "duration": 9,
    "start_time": "2024-11-20T00:03:35.360Z"
   },
   {
    "duration": 1604,
    "start_time": "2024-11-20T00:03:35.370Z"
   },
   {
    "duration": 1774,
    "start_time": "2024-11-20T00:03:36.976Z"
   },
   {
    "duration": 1558,
    "start_time": "2024-11-20T00:03:38.751Z"
   },
   {
    "duration": 1482,
    "start_time": "2024-11-20T00:03:40.311Z"
   },
   {
    "duration": 446,
    "start_time": "2024-11-20T00:03:41.794Z"
   },
   {
    "duration": 335,
    "start_time": "2024-11-20T00:03:42.242Z"
   },
   {
    "duration": 6,
    "start_time": "2024-11-20T00:03:42.578Z"
   },
   {
    "duration": 5,
    "start_time": "2024-11-20T00:03:42.587Z"
   },
   {
    "duration": 5,
    "start_time": "2024-11-20T00:03:42.594Z"
   },
   {
    "duration": 13,
    "start_time": "2024-11-20T00:03:42.600Z"
   },
   {
    "duration": 16,
    "start_time": "2024-11-20T00:03:42.615Z"
   },
   {
    "duration": 680,
    "start_time": "2024-11-20T00:03:42.632Z"
   },
   {
    "duration": 24,
    "start_time": "2024-11-20T00:03:43.314Z"
   },
   {
    "duration": 9,
    "start_time": "2024-11-20T00:03:43.339Z"
   },
   {
    "duration": 25,
    "start_time": "2024-11-20T00:03:43.349Z"
   },
   {
    "duration": 20,
    "start_time": "2024-11-20T00:03:43.375Z"
   },
   {
    "duration": 5,
    "start_time": "2024-11-20T00:03:43.397Z"
   },
   {
    "duration": 9,
    "start_time": "2024-11-20T00:03:43.404Z"
   },
   {
    "duration": 16,
    "start_time": "2024-11-20T00:03:43.414Z"
   },
   {
    "duration": 157,
    "start_time": "2024-11-20T00:03:43.431Z"
   },
   {
    "duration": 3,
    "start_time": "2024-11-20T00:03:43.589Z"
   },
   {
    "duration": 25453,
    "start_time": "2024-11-20T00:03:43.593Z"
   },
   {
    "duration": 398,
    "start_time": "2024-11-20T00:04:09.048Z"
   },
   {
    "duration": 2312,
    "start_time": "2024-11-20T00:04:09.447Z"
   },
   {
    "duration": 0,
    "start_time": "2024-11-20T00:04:11.761Z"
   },
   {
    "duration": 0,
    "start_time": "2024-11-20T00:04:11.762Z"
   },
   {
    "duration": 0,
    "start_time": "2024-11-20T00:04:11.763Z"
   },
   {
    "duration": 0,
    "start_time": "2024-11-20T00:04:11.764Z"
   },
   {
    "duration": 0,
    "start_time": "2024-11-20T00:04:11.765Z"
   },
   {
    "duration": 0,
    "start_time": "2024-11-20T00:04:11.765Z"
   },
   {
    "duration": 0,
    "start_time": "2024-11-20T00:04:11.766Z"
   },
   {
    "duration": 3,
    "start_time": "2024-11-20T00:05:51.336Z"
   },
   {
    "duration": 1408,
    "start_time": "2024-11-20T00:07:35.509Z"
   },
   {
    "duration": 1929,
    "start_time": "2024-11-20T00:07:36.919Z"
   },
   {
    "duration": 21,
    "start_time": "2024-11-20T00:07:38.849Z"
   },
   {
    "duration": 24,
    "start_time": "2024-11-20T00:07:38.871Z"
   },
   {
    "duration": 36,
    "start_time": "2024-11-20T00:07:38.897Z"
   },
   {
    "duration": 16,
    "start_time": "2024-11-20T00:07:38.934Z"
   },
   {
    "duration": 12,
    "start_time": "2024-11-20T00:07:38.952Z"
   },
   {
    "duration": 15,
    "start_time": "2024-11-20T00:07:38.965Z"
   },
   {
    "duration": 31,
    "start_time": "2024-11-20T00:07:38.981Z"
   },
   {
    "duration": 39,
    "start_time": "2024-11-20T00:07:39.015Z"
   },
   {
    "duration": 419,
    "start_time": "2024-11-20T00:07:39.055Z"
   },
   {
    "duration": 372,
    "start_time": "2024-11-20T00:07:39.475Z"
   },
   {
    "duration": 4,
    "start_time": "2024-11-20T00:07:39.849Z"
   },
   {
    "duration": 233,
    "start_time": "2024-11-20T00:07:39.855Z"
   },
   {
    "duration": 238,
    "start_time": "2024-11-20T00:07:40.090Z"
   },
   {
    "duration": 13,
    "start_time": "2024-11-20T00:07:40.329Z"
   },
   {
    "duration": 310,
    "start_time": "2024-11-20T00:07:40.344Z"
   },
   {
    "duration": 14,
    "start_time": "2024-11-20T00:07:40.655Z"
   },
   {
    "duration": 103,
    "start_time": "2024-11-20T00:07:40.671Z"
   },
   {
    "duration": 9,
    "start_time": "2024-11-20T00:07:40.775Z"
   },
   {
    "duration": 1385,
    "start_time": "2024-11-20T00:07:40.785Z"
   },
   {
    "duration": 1410,
    "start_time": "2024-11-20T00:07:42.171Z"
   },
   {
    "duration": 1248,
    "start_time": "2024-11-20T00:07:43.583Z"
   },
   {
    "duration": 1413,
    "start_time": "2024-11-20T00:07:44.832Z"
   },
   {
    "duration": 354,
    "start_time": "2024-11-20T00:07:46.246Z"
   },
   {
    "duration": 412,
    "start_time": "2024-11-20T00:07:46.602Z"
   },
   {
    "duration": 10,
    "start_time": "2024-11-20T00:07:47.016Z"
   },
   {
    "duration": 8,
    "start_time": "2024-11-20T00:07:47.033Z"
   },
   {
    "duration": 7,
    "start_time": "2024-11-20T00:07:47.044Z"
   },
   {
    "duration": 8,
    "start_time": "2024-11-20T00:07:47.053Z"
   },
   {
    "duration": 9,
    "start_time": "2024-11-20T00:07:47.063Z"
   },
   {
    "duration": 710,
    "start_time": "2024-11-20T00:07:47.073Z"
   },
   {
    "duration": 16,
    "start_time": "2024-11-20T00:07:47.785Z"
   },
   {
    "duration": 54,
    "start_time": "2024-11-20T00:07:47.802Z"
   },
   {
    "duration": 7,
    "start_time": "2024-11-20T00:07:47.858Z"
   },
   {
    "duration": 9,
    "start_time": "2024-11-20T00:07:47.868Z"
   },
   {
    "duration": 5,
    "start_time": "2024-11-20T00:07:47.878Z"
   },
   {
    "duration": 6,
    "start_time": "2024-11-20T00:07:47.884Z"
   },
   {
    "duration": 12,
    "start_time": "2024-11-20T00:07:47.891Z"
   },
   {
    "duration": 147,
    "start_time": "2024-11-20T00:07:47.904Z"
   },
   {
    "duration": 2,
    "start_time": "2024-11-20T00:07:48.053Z"
   },
   {
    "duration": 17470,
    "start_time": "2024-11-20T00:07:48.056Z"
   },
   {
    "duration": 0,
    "start_time": "2024-11-20T00:08:05.528Z"
   },
   {
    "duration": 0,
    "start_time": "2024-11-20T00:08:05.529Z"
   },
   {
    "duration": 1,
    "start_time": "2024-11-20T00:08:05.530Z"
   },
   {
    "duration": 0,
    "start_time": "2024-11-20T00:08:05.532Z"
   },
   {
    "duration": 0,
    "start_time": "2024-11-20T00:08:05.533Z"
   },
   {
    "duration": 0,
    "start_time": "2024-11-20T00:08:05.533Z"
   },
   {
    "duration": 0,
    "start_time": "2024-11-20T00:08:05.535Z"
   },
   {
    "duration": 0,
    "start_time": "2024-11-20T00:08:05.536Z"
   },
   {
    "duration": 0,
    "start_time": "2024-11-20T00:08:05.537Z"
   },
   {
    "duration": 1339,
    "start_time": "2024-11-20T00:11:54.859Z"
   },
   {
    "duration": 1577,
    "start_time": "2024-11-20T00:11:56.200Z"
   },
   {
    "duration": 21,
    "start_time": "2024-11-20T00:11:57.778Z"
   },
   {
    "duration": 76,
    "start_time": "2024-11-20T00:11:57.801Z"
   },
   {
    "duration": 18,
    "start_time": "2024-11-20T00:11:57.879Z"
   },
   {
    "duration": 32,
    "start_time": "2024-11-20T00:11:57.898Z"
   },
   {
    "duration": 11,
    "start_time": "2024-11-20T00:11:57.932Z"
   },
   {
    "duration": 17,
    "start_time": "2024-11-20T00:11:57.944Z"
   },
   {
    "duration": 22,
    "start_time": "2024-11-20T00:11:57.963Z"
   },
   {
    "duration": 25,
    "start_time": "2024-11-20T00:11:57.988Z"
   },
   {
    "duration": 393,
    "start_time": "2024-11-20T00:11:58.014Z"
   },
   {
    "duration": 368,
    "start_time": "2024-11-20T00:11:58.408Z"
   },
   {
    "duration": 5,
    "start_time": "2024-11-20T00:11:58.777Z"
   },
   {
    "duration": 247,
    "start_time": "2024-11-20T00:11:58.783Z"
   },
   {
    "duration": 222,
    "start_time": "2024-11-20T00:11:59.032Z"
   },
   {
    "duration": 13,
    "start_time": "2024-11-20T00:11:59.256Z"
   },
   {
    "duration": 322,
    "start_time": "2024-11-20T00:11:59.270Z"
   },
   {
    "duration": 21,
    "start_time": "2024-11-20T00:11:59.593Z"
   },
   {
    "duration": 124,
    "start_time": "2024-11-20T00:11:59.615Z"
   },
   {
    "duration": 8,
    "start_time": "2024-11-20T00:11:59.741Z"
   },
   {
    "duration": 1448,
    "start_time": "2024-11-20T00:11:59.750Z"
   },
   {
    "duration": 1486,
    "start_time": "2024-11-20T00:12:01.200Z"
   },
   {
    "duration": 1487,
    "start_time": "2024-11-20T00:12:02.688Z"
   },
   {
    "duration": 1400,
    "start_time": "2024-11-20T00:12:04.176Z"
   },
   {
    "duration": 363,
    "start_time": "2024-11-20T00:12:05.577Z"
   },
   {
    "duration": 435,
    "start_time": "2024-11-20T00:12:05.942Z"
   },
   {
    "duration": 6,
    "start_time": "2024-11-20T00:12:06.378Z"
   },
   {
    "duration": 5,
    "start_time": "2024-11-20T00:12:06.387Z"
   },
   {
    "duration": 19,
    "start_time": "2024-11-20T00:12:06.393Z"
   },
   {
    "duration": 9,
    "start_time": "2024-11-20T00:12:06.413Z"
   },
   {
    "duration": 7,
    "start_time": "2024-11-20T00:12:06.424Z"
   },
   {
    "duration": 746,
    "start_time": "2024-11-20T00:12:06.433Z"
   },
   {
    "duration": 16,
    "start_time": "2024-11-20T00:12:07.181Z"
   },
   {
    "duration": 3,
    "start_time": "2024-11-20T00:12:07.198Z"
   },
   {
    "duration": 13,
    "start_time": "2024-11-20T00:12:07.203Z"
   },
   {
    "duration": 13,
    "start_time": "2024-11-20T00:12:07.217Z"
   },
   {
    "duration": 16,
    "start_time": "2024-11-20T00:12:07.232Z"
   },
   {
    "duration": 7,
    "start_time": "2024-11-20T00:12:07.250Z"
   },
   {
    "duration": 23,
    "start_time": "2024-11-20T00:12:07.258Z"
   },
   {
    "duration": 192,
    "start_time": "2024-11-20T00:12:07.283Z"
   },
   {
    "duration": 0,
    "start_time": "2024-11-20T00:12:07.477Z"
   },
   {
    "duration": 0,
    "start_time": "2024-11-20T00:12:07.478Z"
   },
   {
    "duration": 0,
    "start_time": "2024-11-20T00:12:07.480Z"
   },
   {
    "duration": 0,
    "start_time": "2024-11-20T00:12:07.481Z"
   },
   {
    "duration": 0,
    "start_time": "2024-11-20T00:12:07.482Z"
   },
   {
    "duration": 0,
    "start_time": "2024-11-20T00:12:07.483Z"
   },
   {
    "duration": 0,
    "start_time": "2024-11-20T00:12:07.484Z"
   },
   {
    "duration": 0,
    "start_time": "2024-11-20T00:12:07.486Z"
   },
   {
    "duration": 0,
    "start_time": "2024-11-20T00:12:07.487Z"
   },
   {
    "duration": 0,
    "start_time": "2024-11-20T00:12:07.488Z"
   },
   {
    "duration": 0,
    "start_time": "2024-11-20T00:12:07.489Z"
   },
   {
    "duration": 1316,
    "start_time": "2024-11-20T00:23:17.169Z"
   },
   {
    "duration": 1716,
    "start_time": "2024-11-20T00:23:18.487Z"
   },
   {
    "duration": 27,
    "start_time": "2024-11-20T00:23:20.204Z"
   },
   {
    "duration": 16,
    "start_time": "2024-11-20T00:23:20.233Z"
   },
   {
    "duration": 17,
    "start_time": "2024-11-20T00:23:20.250Z"
   },
   {
    "duration": 15,
    "start_time": "2024-11-20T00:23:20.268Z"
   },
   {
    "duration": 38,
    "start_time": "2024-11-20T00:23:20.285Z"
   },
   {
    "duration": 14,
    "start_time": "2024-11-20T00:23:20.326Z"
   },
   {
    "duration": 3,
    "start_time": "2024-11-20T00:23:20.342Z"
   },
   {
    "duration": 21,
    "start_time": "2024-11-20T00:23:20.348Z"
   },
   {
    "duration": 404,
    "start_time": "2024-11-20T00:23:20.370Z"
   },
   {
    "duration": 367,
    "start_time": "2024-11-20T00:23:20.776Z"
   },
   {
    "duration": 4,
    "start_time": "2024-11-20T00:23:21.145Z"
   },
   {
    "duration": 233,
    "start_time": "2024-11-20T00:23:21.150Z"
   },
   {
    "duration": 226,
    "start_time": "2024-11-20T00:23:21.384Z"
   },
   {
    "duration": 18,
    "start_time": "2024-11-20T00:23:21.611Z"
   },
   {
    "duration": 322,
    "start_time": "2024-11-20T00:23:21.630Z"
   },
   {
    "duration": 14,
    "start_time": "2024-11-20T00:23:21.954Z"
   },
   {
    "duration": 96,
    "start_time": "2024-11-20T00:23:21.970Z"
   },
   {
    "duration": 9,
    "start_time": "2024-11-20T00:23:22.067Z"
   },
   {
    "duration": 1389,
    "start_time": "2024-11-20T00:23:22.077Z"
   },
   {
    "duration": 8,
    "start_time": "2024-11-20T00:23:23.467Z"
   },
   {
    "duration": 1373,
    "start_time": "2024-11-20T00:23:23.477Z"
   },
   {
    "duration": 9,
    "start_time": "2024-11-20T00:23:24.852Z"
   },
   {
    "duration": 1384,
    "start_time": "2024-11-20T00:23:24.863Z"
   },
   {
    "duration": 8,
    "start_time": "2024-11-20T00:23:26.249Z"
   },
   {
    "duration": 1280,
    "start_time": "2024-11-20T00:23:26.258Z"
   },
   {
    "duration": 7,
    "start_time": "2024-11-20T00:23:27.543Z"
   },
   {
    "duration": 351,
    "start_time": "2024-11-20T00:23:27.552Z"
   },
   {
    "duration": 414,
    "start_time": "2024-11-20T00:23:27.905Z"
   },
   {
    "duration": 7,
    "start_time": "2024-11-20T00:23:28.321Z"
   },
   {
    "duration": 5,
    "start_time": "2024-11-20T00:23:28.329Z"
   },
   {
    "duration": 5,
    "start_time": "2024-11-20T00:23:28.336Z"
   },
   {
    "duration": 5,
    "start_time": "2024-11-20T00:23:28.342Z"
   },
   {
    "duration": 6,
    "start_time": "2024-11-20T00:23:28.348Z"
   },
   {
    "duration": 774,
    "start_time": "2024-11-20T00:23:28.355Z"
   },
   {
    "duration": 18,
    "start_time": "2024-11-20T00:23:29.141Z"
   },
   {
    "duration": 3,
    "start_time": "2024-11-20T00:23:29.161Z"
   },
   {
    "duration": 8,
    "start_time": "2024-11-20T00:23:29.165Z"
   },
   {
    "duration": 9,
    "start_time": "2024-11-20T00:23:29.174Z"
   },
   {
    "duration": 4,
    "start_time": "2024-11-20T00:23:29.184Z"
   },
   {
    "duration": 22,
    "start_time": "2024-11-20T00:23:29.190Z"
   },
   {
    "duration": 12,
    "start_time": "2024-11-20T00:23:29.214Z"
   },
   {
    "duration": 142,
    "start_time": "2024-11-20T00:23:29.227Z"
   },
   {
    "duration": 2,
    "start_time": "2024-11-20T00:23:29.371Z"
   },
   {
    "duration": 16094,
    "start_time": "2024-11-20T00:23:29.374Z"
   },
   {
    "duration": 0,
    "start_time": "2024-11-20T00:23:45.470Z"
   },
   {
    "duration": 0,
    "start_time": "2024-11-20T00:23:45.472Z"
   },
   {
    "duration": 0,
    "start_time": "2024-11-20T00:23:45.473Z"
   },
   {
    "duration": 0,
    "start_time": "2024-11-20T00:23:45.474Z"
   },
   {
    "duration": 0,
    "start_time": "2024-11-20T00:23:45.476Z"
   },
   {
    "duration": 0,
    "start_time": "2024-11-20T00:23:45.477Z"
   },
   {
    "duration": 0,
    "start_time": "2024-11-20T00:23:45.478Z"
   },
   {
    "duration": 0,
    "start_time": "2024-11-20T00:23:45.480Z"
   },
   {
    "duration": 0,
    "start_time": "2024-11-20T00:23:45.481Z"
   },
   {
    "duration": 339,
    "start_time": "2024-11-20T00:28:05.937Z"
   },
   {
    "duration": 329,
    "start_time": "2024-11-20T00:28:10.231Z"
   },
   {
    "duration": 5,
    "start_time": "2024-11-20T00:34:36.013Z"
   },
   {
    "duration": 1345,
    "start_time": "2024-11-20T00:34:45.419Z"
   },
   {
    "duration": 2181,
    "start_time": "2024-11-20T00:34:46.766Z"
   },
   {
    "duration": 19,
    "start_time": "2024-11-20T00:34:48.949Z"
   },
   {
    "duration": 15,
    "start_time": "2024-11-20T00:34:48.970Z"
   },
   {
    "duration": 26,
    "start_time": "2024-11-20T00:34:48.986Z"
   },
   {
    "duration": 20,
    "start_time": "2024-11-20T00:34:49.013Z"
   },
   {
    "duration": 11,
    "start_time": "2024-11-20T00:34:49.035Z"
   },
   {
    "duration": 14,
    "start_time": "2024-11-20T00:34:49.048Z"
   },
   {
    "duration": 5,
    "start_time": "2024-11-20T00:34:49.063Z"
   },
   {
    "duration": 3,
    "start_time": "2024-11-20T00:34:49.070Z"
   },
   {
    "duration": 58,
    "start_time": "2024-11-20T00:34:49.074Z"
   },
   {
    "duration": 375,
    "start_time": "2024-11-20T00:34:49.134Z"
   },
   {
    "duration": 367,
    "start_time": "2024-11-20T00:34:49.510Z"
   },
   {
    "duration": 4,
    "start_time": "2024-11-20T00:34:49.878Z"
   },
   {
    "duration": 256,
    "start_time": "2024-11-20T00:34:49.884Z"
   },
   {
    "duration": 214,
    "start_time": "2024-11-20T00:34:50.142Z"
   },
   {
    "duration": 11,
    "start_time": "2024-11-20T00:34:50.358Z"
   },
   {
    "duration": 315,
    "start_time": "2024-11-20T00:34:50.371Z"
   },
   {
    "duration": 15,
    "start_time": "2024-11-20T00:34:50.687Z"
   },
   {
    "duration": 97,
    "start_time": "2024-11-20T00:34:50.703Z"
   },
   {
    "duration": 17,
    "start_time": "2024-11-20T00:34:50.801Z"
   },
   {
    "duration": 1330,
    "start_time": "2024-11-20T00:34:50.820Z"
   },
   {
    "duration": 7,
    "start_time": "2024-11-20T00:34:52.151Z"
   },
   {
    "duration": 916,
    "start_time": "2024-11-20T00:34:52.159Z"
   },
   {
    "duration": 0,
    "start_time": "2024-11-20T00:34:53.078Z"
   },
   {
    "duration": 0,
    "start_time": "2024-11-20T00:34:53.080Z"
   },
   {
    "duration": 0,
    "start_time": "2024-11-20T00:34:53.081Z"
   },
   {
    "duration": 0,
    "start_time": "2024-11-20T00:34:53.083Z"
   },
   {
    "duration": 0,
    "start_time": "2024-11-20T00:34:53.084Z"
   },
   {
    "duration": 0,
    "start_time": "2024-11-20T00:34:53.086Z"
   },
   {
    "duration": 0,
    "start_time": "2024-11-20T00:34:53.087Z"
   },
   {
    "duration": 0,
    "start_time": "2024-11-20T00:34:53.088Z"
   },
   {
    "duration": 0,
    "start_time": "2024-11-20T00:34:53.090Z"
   },
   {
    "duration": 0,
    "start_time": "2024-11-20T00:34:53.092Z"
   },
   {
    "duration": 0,
    "start_time": "2024-11-20T00:34:53.111Z"
   },
   {
    "duration": 0,
    "start_time": "2024-11-20T00:34:53.113Z"
   },
   {
    "duration": 0,
    "start_time": "2024-11-20T00:34:53.114Z"
   },
   {
    "duration": 0,
    "start_time": "2024-11-20T00:34:53.116Z"
   },
   {
    "duration": 0,
    "start_time": "2024-11-20T00:34:53.117Z"
   },
   {
    "duration": 0,
    "start_time": "2024-11-20T00:34:53.118Z"
   },
   {
    "duration": 0,
    "start_time": "2024-11-20T00:34:53.119Z"
   },
   {
    "duration": 0,
    "start_time": "2024-11-20T00:34:53.120Z"
   },
   {
    "duration": 0,
    "start_time": "2024-11-20T00:34:53.121Z"
   },
   {
    "duration": 0,
    "start_time": "2024-11-20T00:34:53.122Z"
   },
   {
    "duration": 0,
    "start_time": "2024-11-20T00:34:53.123Z"
   },
   {
    "duration": 0,
    "start_time": "2024-11-20T00:34:53.125Z"
   },
   {
    "duration": 0,
    "start_time": "2024-11-20T00:34:53.126Z"
   },
   {
    "duration": 0,
    "start_time": "2024-11-20T00:34:53.127Z"
   },
   {
    "duration": 0,
    "start_time": "2024-11-20T00:34:53.128Z"
   },
   {
    "duration": 0,
    "start_time": "2024-11-20T00:34:53.129Z"
   },
   {
    "duration": 0,
    "start_time": "2024-11-20T00:34:53.130Z"
   },
   {
    "duration": 0,
    "start_time": "2024-11-20T00:34:53.131Z"
   },
   {
    "duration": 0,
    "start_time": "2024-11-20T00:34:53.133Z"
   },
   {
    "duration": 0,
    "start_time": "2024-11-20T00:34:53.135Z"
   },
   {
    "duration": 0,
    "start_time": "2024-11-20T00:34:53.136Z"
   },
   {
    "duration": 1309,
    "start_time": "2024-11-20T01:53:13.415Z"
   },
   {
    "duration": 1762,
    "start_time": "2024-11-20T01:53:14.726Z"
   },
   {
    "duration": 21,
    "start_time": "2024-11-20T01:53:16.490Z"
   },
   {
    "duration": 20,
    "start_time": "2024-11-20T01:53:16.513Z"
   },
   {
    "duration": 21,
    "start_time": "2024-11-20T01:53:16.534Z"
   },
   {
    "duration": 16,
    "start_time": "2024-11-20T01:53:16.556Z"
   },
   {
    "duration": 11,
    "start_time": "2024-11-20T01:53:16.573Z"
   },
   {
    "duration": 41,
    "start_time": "2024-11-20T01:53:16.586Z"
   },
   {
    "duration": 5,
    "start_time": "2024-11-20T01:53:16.629Z"
   },
   {
    "duration": 10,
    "start_time": "2024-11-20T01:53:16.637Z"
   },
   {
    "duration": 23,
    "start_time": "2024-11-20T01:53:16.648Z"
   },
   {
    "duration": 373,
    "start_time": "2024-11-20T01:53:16.672Z"
   },
   {
    "duration": 364,
    "start_time": "2024-11-20T01:53:17.046Z"
   },
   {
    "duration": 5,
    "start_time": "2024-11-20T01:53:17.412Z"
   },
   {
    "duration": 223,
    "start_time": "2024-11-20T01:53:17.418Z"
   },
   {
    "duration": 214,
    "start_time": "2024-11-20T01:53:17.643Z"
   },
   {
    "duration": 12,
    "start_time": "2024-11-20T01:53:17.859Z"
   },
   {
    "duration": 294,
    "start_time": "2024-11-20T01:53:17.873Z"
   },
   {
    "duration": 14,
    "start_time": "2024-11-20T01:53:18.169Z"
   },
   {
    "duration": 97,
    "start_time": "2024-11-20T01:53:18.184Z"
   },
   {
    "duration": 8,
    "start_time": "2024-11-20T01:53:18.283Z"
   },
   {
    "duration": 1434,
    "start_time": "2024-11-20T01:53:18.292Z"
   },
   {
    "duration": 6,
    "start_time": "2024-11-20T01:53:19.727Z"
   },
   {
    "duration": 1263,
    "start_time": "2024-11-20T01:53:19.735Z"
   },
   {
    "duration": 13,
    "start_time": "2024-11-20T01:53:20.999Z"
   },
   {
    "duration": 1190,
    "start_time": "2024-11-20T01:53:21.013Z"
   },
   {
    "duration": 11,
    "start_time": "2024-11-20T01:53:22.204Z"
   },
   {
    "duration": 1174,
    "start_time": "2024-11-20T01:53:22.219Z"
   },
   {
    "duration": 7,
    "start_time": "2024-11-20T01:53:23.394Z"
   },
   {
    "duration": 338,
    "start_time": "2024-11-20T01:53:23.402Z"
   },
   {
    "duration": 389,
    "start_time": "2024-11-20T01:53:23.742Z"
   },
   {
    "duration": 5,
    "start_time": "2024-11-20T01:53:24.133Z"
   },
   {
    "duration": 26,
    "start_time": "2024-11-20T01:53:24.139Z"
   },
   {
    "duration": 5,
    "start_time": "2024-11-20T01:53:24.167Z"
   },
   {
    "duration": 5,
    "start_time": "2024-11-20T01:53:24.173Z"
   },
   {
    "duration": 6,
    "start_time": "2024-11-20T01:53:24.179Z"
   },
   {
    "duration": 671,
    "start_time": "2024-11-20T01:53:24.186Z"
   },
   {
    "duration": 3,
    "start_time": "2024-11-20T01:53:24.858Z"
   },
   {
    "duration": 19,
    "start_time": "2024-11-20T01:53:24.862Z"
   },
   {
    "duration": 6,
    "start_time": "2024-11-20T01:53:24.882Z"
   },
   {
    "duration": 7,
    "start_time": "2024-11-20T01:53:24.890Z"
   },
   {
    "duration": 3,
    "start_time": "2024-11-20T01:53:24.898Z"
   },
   {
    "duration": 9,
    "start_time": "2024-11-20T01:53:24.903Z"
   },
   {
    "duration": 9,
    "start_time": "2024-11-20T01:53:24.913Z"
   },
   {
    "duration": 2,
    "start_time": "2024-11-20T01:53:24.924Z"
   },
   {
    "duration": 7,
    "start_time": "2024-11-20T01:53:24.927Z"
   },
   {
    "duration": 10,
    "start_time": "2024-11-20T01:53:24.935Z"
   },
   {
    "duration": 82680,
    "start_time": "2024-11-20T01:53:24.946Z"
   },
   {
    "duration": 910,
    "start_time": "2024-11-20T01:54:47.628Z"
   },
   {
    "duration": 3,
    "start_time": "2024-11-20T01:54:48.539Z"
   },
   {
    "duration": 1288360,
    "start_time": "2024-11-20T01:54:48.543Z"
   },
   {
    "duration": 2455,
    "start_time": "2024-11-20T02:16:16.904Z"
   },
   {
    "duration": 2,
    "start_time": "2024-11-20T02:16:19.361Z"
   },
   {
    "duration": 77581,
    "start_time": "2024-11-20T02:16:19.364Z"
   },
   {
    "duration": 1846,
    "start_time": "2024-11-20T02:17:36.946Z"
   },
   {
    "duration": 2,
    "start_time": "2024-11-20T02:17:38.793Z"
   },
   {
    "duration": 1016,
    "start_time": "2024-11-20T02:17:38.797Z"
   },
   {
    "duration": 101,
    "start_time": "2024-11-20T02:17:39.814Z"
   },
   {
    "duration": 3,
    "start_time": "2024-11-20T02:17:39.917Z"
   },
   {
    "duration": 108,
    "start_time": "2024-11-20T02:17:39.922Z"
   },
   {
    "duration": 7,
    "start_time": "2024-11-20T02:17:40.111Z"
   },
   {
    "duration": 15,
    "start_time": "2024-11-20T02:17:40.120Z"
   },
   {
    "duration": 22471,
    "start_time": "2024-11-20T02:17:40.136Z"
   },
   {
    "duration": 207,
    "start_time": "2024-11-20T02:18:02.608Z"
   },
   {
    "duration": 32449,
    "start_time": "2024-11-20T02:18:02.816Z"
   },
   {
    "duration": 3,
    "start_time": "2024-11-20T02:18:35.266Z"
   },
   {
    "duration": 114,
    "start_time": "2024-11-20T02:18:35.270Z"
   },
   {
    "duration": 6,
    "start_time": "2024-11-20T02:28:34.522Z"
   },
   {
    "duration": 7,
    "start_time": "2024-11-20T02:43:09.401Z"
   },
   {
    "duration": 3,
    "start_time": "2024-11-20T02:43:11.789Z"
   },
   {
    "duration": 89124,
    "start_time": "2024-11-20T02:43:13.892Z"
   },
   {
    "duration": 1063,
    "start_time": "2024-11-20T02:44:43.018Z"
   },
   {
    "duration": 3,
    "start_time": "2024-11-20T02:44:44.082Z"
   },
   {
    "duration": 1314803,
    "start_time": "2024-11-20T02:44:44.087Z"
   },
   {
    "duration": 3775,
    "start_time": "2024-11-20T03:06:38.891Z"
   },
   {
    "duration": 3,
    "start_time": "2024-11-20T03:06:42.667Z"
   },
   {
    "duration": 77336,
    "start_time": "2024-11-20T03:06:42.671Z"
   },
   {
    "duration": 1658,
    "start_time": "2024-11-20T03:08:00.008Z"
   },
   {
    "duration": 2,
    "start_time": "2024-11-20T03:08:01.668Z"
   },
   {
    "duration": 940,
    "start_time": "2024-11-20T03:08:01.672Z"
   },
   {
    "duration": 198,
    "start_time": "2024-11-20T03:08:02.614Z"
   },
   {
    "duration": 2,
    "start_time": "2024-11-20T03:08:02.814Z"
   },
   {
    "duration": 120,
    "start_time": "2024-11-20T03:08:02.818Z"
   },
   {
    "duration": 29,
    "start_time": "2024-11-20T03:08:02.940Z"
   },
   {
    "duration": 7,
    "start_time": "2024-11-20T03:08:02.971Z"
   },
   {
    "duration": 1692,
    "start_time": "2024-11-21T16:00:33.251Z"
   },
   {
    "duration": 1981,
    "start_time": "2024-11-21T16:00:34.945Z"
   },
   {
    "duration": 25,
    "start_time": "2024-11-21T16:00:36.928Z"
   },
   {
    "duration": 36,
    "start_time": "2024-11-21T16:00:36.955Z"
   },
   {
    "duration": 60,
    "start_time": "2024-11-21T16:00:36.992Z"
   },
   {
    "duration": 20,
    "start_time": "2024-11-21T16:00:37.054Z"
   },
   {
    "duration": 13,
    "start_time": "2024-11-21T16:00:37.075Z"
   },
   {
    "duration": 16,
    "start_time": "2024-11-21T16:00:37.089Z"
   },
   {
    "duration": 14,
    "start_time": "2024-11-21T16:00:37.107Z"
   },
   {
    "duration": 63,
    "start_time": "2024-11-21T16:00:37.124Z"
   },
   {
    "duration": 27,
    "start_time": "2024-11-21T16:00:37.189Z"
   },
   {
    "duration": 463,
    "start_time": "2024-11-21T16:00:37.218Z"
   },
   {
    "duration": 387,
    "start_time": "2024-11-21T16:00:37.683Z"
   },
   {
    "duration": 5,
    "start_time": "2024-11-21T16:00:38.071Z"
   },
   {
    "duration": 278,
    "start_time": "2024-11-21T16:00:38.077Z"
   },
   {
    "duration": 230,
    "start_time": "2024-11-21T16:00:38.357Z"
   },
   {
    "duration": 14,
    "start_time": "2024-11-21T16:00:38.589Z"
   },
   {
    "duration": 329,
    "start_time": "2024-11-21T16:00:38.604Z"
   },
   {
    "duration": 18,
    "start_time": "2024-11-21T16:00:38.935Z"
   },
   {
    "duration": 107,
    "start_time": "2024-11-21T16:00:38.955Z"
   },
   {
    "duration": 14,
    "start_time": "2024-11-21T16:00:39.064Z"
   },
   {
    "duration": 1698,
    "start_time": "2024-11-21T16:00:39.080Z"
   },
   {
    "duration": 7,
    "start_time": "2024-11-21T16:00:40.780Z"
   },
   {
    "duration": 1540,
    "start_time": "2024-11-21T16:00:40.789Z"
   },
   {
    "duration": 8,
    "start_time": "2024-11-21T16:00:42.331Z"
   },
   {
    "duration": 1688,
    "start_time": "2024-11-21T16:00:42.341Z"
   },
   {
    "duration": 8,
    "start_time": "2024-11-21T16:00:44.031Z"
   },
   {
    "duration": 1378,
    "start_time": "2024-11-21T16:00:44.043Z"
   },
   {
    "duration": 7,
    "start_time": "2024-11-21T16:00:45.423Z"
   },
   {
    "duration": 400,
    "start_time": "2024-11-21T16:00:45.431Z"
   },
   {
    "duration": 502,
    "start_time": "2024-11-21T16:00:45.833Z"
   },
   {
    "duration": 6,
    "start_time": "2024-11-21T16:00:46.337Z"
   },
   {
    "duration": 9,
    "start_time": "2024-11-21T16:00:46.345Z"
   },
   {
    "duration": 6,
    "start_time": "2024-11-21T16:00:46.371Z"
   },
   {
    "duration": 6,
    "start_time": "2024-11-21T16:00:46.379Z"
   },
   {
    "duration": 8,
    "start_time": "2024-11-21T16:00:46.386Z"
   },
   {
    "duration": 875,
    "start_time": "2024-11-21T16:00:46.395Z"
   },
   {
    "duration": 3,
    "start_time": "2024-11-21T16:00:47.271Z"
   },
   {
    "duration": 17,
    "start_time": "2024-11-21T16:00:47.276Z"
   },
   {
    "duration": 9,
    "start_time": "2024-11-21T16:00:47.295Z"
   },
   {
    "duration": 9,
    "start_time": "2024-11-21T16:00:47.306Z"
   },
   {
    "duration": 2,
    "start_time": "2024-11-21T16:00:47.317Z"
   },
   {
    "duration": 13,
    "start_time": "2024-11-21T16:00:47.321Z"
   },
   {
    "duration": 3,
    "start_time": "2024-11-21T16:00:47.336Z"
   },
   {
    "duration": 33,
    "start_time": "2024-11-21T16:00:47.340Z"
   },
   {
    "duration": 3,
    "start_time": "2024-11-21T16:00:47.374Z"
   },
   {
    "duration": 112162,
    "start_time": "2024-11-21T16:00:47.379Z"
   },
   {
    "duration": 3,
    "start_time": "2024-11-21T16:02:39.543Z"
   },
   {
    "duration": 1943236,
    "start_time": "2024-11-21T16:02:39.547Z"
   },
   {
    "duration": 3,
    "start_time": "2024-11-21T16:35:02.785Z"
   },
   {
    "duration": 106256,
    "start_time": "2024-11-21T16:35:02.790Z"
   },
   {
    "duration": 4,
    "start_time": "2024-11-21T16:36:49.048Z"
   },
   {
    "duration": 1717,
    "start_time": "2024-11-21T16:36:49.054Z"
   },
   {
    "duration": 3,
    "start_time": "2024-11-21T16:36:50.773Z"
   },
   {
    "duration": 4,
    "start_time": "2024-11-21T16:36:50.777Z"
   },
   {
    "duration": 201,
    "start_time": "2024-11-21T16:36:50.783Z"
   },
   {
    "duration": 0,
    "start_time": "2024-11-21T16:36:50.986Z"
   },
   {
    "duration": 0,
    "start_time": "2024-11-21T16:36:50.988Z"
   },
   {
    "duration": 0,
    "start_time": "2024-11-21T16:36:50.989Z"
   },
   {
    "duration": 0,
    "start_time": "2024-11-21T16:36:50.991Z"
   },
   {
    "duration": 0,
    "start_time": "2024-11-21T16:36:50.992Z"
   },
   {
    "duration": 0,
    "start_time": "2024-11-21T16:36:50.993Z"
   },
   {
    "duration": 0,
    "start_time": "2024-11-21T16:36:50.994Z"
   },
   {
    "duration": 0,
    "start_time": "2024-11-21T16:36:50.996Z"
   },
   {
    "duration": 0,
    "start_time": "2024-11-21T16:36:50.997Z"
   },
   {
    "duration": 0,
    "start_time": "2024-11-21T16:36:51.130Z"
   },
   {
    "duration": 0,
    "start_time": "2024-11-21T16:36:51.132Z"
   },
   {
    "duration": 0,
    "start_time": "2024-11-21T16:36:51.133Z"
   },
   {
    "duration": 0,
    "start_time": "2024-11-21T16:36:51.134Z"
   },
   {
    "duration": 0,
    "start_time": "2024-11-21T16:36:51.135Z"
   },
   {
    "duration": 1448,
    "start_time": "2024-11-21T16:40:12.183Z"
   },
   {
    "duration": 1837,
    "start_time": "2024-11-21T16:40:13.633Z"
   },
   {
    "duration": 26,
    "start_time": "2024-11-21T16:40:15.472Z"
   },
   {
    "duration": 21,
    "start_time": "2024-11-21T16:40:15.500Z"
   },
   {
    "duration": 51,
    "start_time": "2024-11-21T16:40:15.523Z"
   },
   {
    "duration": 20,
    "start_time": "2024-11-21T16:40:15.576Z"
   },
   {
    "duration": 14,
    "start_time": "2024-11-21T16:40:15.598Z"
   },
   {
    "duration": 18,
    "start_time": "2024-11-21T16:40:15.613Z"
   },
   {
    "duration": 5,
    "start_time": "2024-11-21T16:40:15.633Z"
   },
   {
    "duration": 4,
    "start_time": "2024-11-21T16:40:15.670Z"
   },
   {
    "duration": 38,
    "start_time": "2024-11-21T16:40:15.676Z"
   },
   {
    "duration": 423,
    "start_time": "2024-11-21T16:40:15.715Z"
   },
   {
    "duration": 397,
    "start_time": "2024-11-21T16:40:16.139Z"
   },
   {
    "duration": 5,
    "start_time": "2024-11-21T16:40:16.538Z"
   },
   {
    "duration": 250,
    "start_time": "2024-11-21T16:40:16.545Z"
   },
   {
    "duration": 242,
    "start_time": "2024-11-21T16:40:16.796Z"
   },
   {
    "duration": 16,
    "start_time": "2024-11-21T16:40:17.040Z"
   },
   {
    "duration": 342,
    "start_time": "2024-11-21T16:40:17.069Z"
   },
   {
    "duration": 18,
    "start_time": "2024-11-21T16:40:17.413Z"
   },
   {
    "duration": 110,
    "start_time": "2024-11-21T16:40:17.433Z"
   },
   {
    "duration": 10,
    "start_time": "2024-11-21T16:40:17.544Z"
   },
   {
    "duration": 1391,
    "start_time": "2024-11-21T16:40:17.556Z"
   },
   {
    "duration": 8,
    "start_time": "2024-11-21T16:40:18.948Z"
   },
   {
    "duration": 985,
    "start_time": "2024-11-21T16:40:18.957Z"
   },
   {
    "duration": 0,
    "start_time": "2024-11-21T16:40:19.944Z"
   },
   {
    "duration": 0,
    "start_time": "2024-11-21T16:40:19.946Z"
   },
   {
    "duration": 0,
    "start_time": "2024-11-21T16:40:19.947Z"
   },
   {
    "duration": 0,
    "start_time": "2024-11-21T16:40:19.948Z"
   },
   {
    "duration": 0,
    "start_time": "2024-11-21T16:40:19.949Z"
   },
   {
    "duration": 0,
    "start_time": "2024-11-21T16:40:19.950Z"
   },
   {
    "duration": 0,
    "start_time": "2024-11-21T16:40:19.970Z"
   },
   {
    "duration": 0,
    "start_time": "2024-11-21T16:40:19.971Z"
   },
   {
    "duration": 0,
    "start_time": "2024-11-21T16:40:19.972Z"
   },
   {
    "duration": 0,
    "start_time": "2024-11-21T16:40:19.974Z"
   },
   {
    "duration": 0,
    "start_time": "2024-11-21T16:40:19.975Z"
   },
   {
    "duration": 0,
    "start_time": "2024-11-21T16:40:19.976Z"
   },
   {
    "duration": 0,
    "start_time": "2024-11-21T16:40:19.977Z"
   },
   {
    "duration": 0,
    "start_time": "2024-11-21T16:40:19.978Z"
   },
   {
    "duration": 0,
    "start_time": "2024-11-21T16:40:19.980Z"
   },
   {
    "duration": 0,
    "start_time": "2024-11-21T16:40:19.981Z"
   },
   {
    "duration": 0,
    "start_time": "2024-11-21T16:40:19.982Z"
   },
   {
    "duration": 0,
    "start_time": "2024-11-21T16:40:19.982Z"
   },
   {
    "duration": 0,
    "start_time": "2024-11-21T16:40:19.983Z"
   },
   {
    "duration": 0,
    "start_time": "2024-11-21T16:40:19.984Z"
   },
   {
    "duration": 0,
    "start_time": "2024-11-21T16:40:19.985Z"
   },
   {
    "duration": 0,
    "start_time": "2024-11-21T16:40:19.986Z"
   },
   {
    "duration": 0,
    "start_time": "2024-11-21T16:40:19.987Z"
   },
   {
    "duration": 0,
    "start_time": "2024-11-21T16:40:19.988Z"
   },
   {
    "duration": 0,
    "start_time": "2024-11-21T16:40:19.989Z"
   },
   {
    "duration": 0,
    "start_time": "2024-11-21T16:40:19.991Z"
   },
   {
    "duration": 0,
    "start_time": "2024-11-21T16:40:19.991Z"
   },
   {
    "duration": 0,
    "start_time": "2024-11-21T16:40:19.992Z"
   },
   {
    "duration": 0,
    "start_time": "2024-11-21T16:40:19.993Z"
   },
   {
    "duration": 0,
    "start_time": "2024-11-21T16:40:19.995Z"
   },
   {
    "duration": 0,
    "start_time": "2024-11-21T16:40:19.996Z"
   },
   {
    "duration": 0,
    "start_time": "2024-11-21T16:40:19.996Z"
   },
   {
    "duration": 0,
    "start_time": "2024-11-21T16:40:19.997Z"
   },
   {
    "duration": 0,
    "start_time": "2024-11-21T16:40:19.998Z"
   },
   {
    "duration": 0,
    "start_time": "2024-11-21T16:40:19.999Z"
   },
   {
    "duration": 0,
    "start_time": "2024-11-21T16:40:20.000Z"
   },
   {
    "duration": 0,
    "start_time": "2024-11-21T16:40:20.001Z"
   },
   {
    "duration": 0,
    "start_time": "2024-11-21T16:40:20.002Z"
   },
   {
    "duration": 0,
    "start_time": "2024-11-21T16:40:20.003Z"
   },
   {
    "duration": 0,
    "start_time": "2024-11-21T16:40:20.004Z"
   },
   {
    "duration": 1,
    "start_time": "2024-11-21T16:40:20.006Z"
   },
   {
    "duration": 0,
    "start_time": "2024-11-21T16:40:20.008Z"
   },
   {
    "duration": 0,
    "start_time": "2024-11-21T16:40:20.010Z"
   },
   {
    "duration": 0,
    "start_time": "2024-11-21T16:40:20.071Z"
   },
   {
    "duration": 0,
    "start_time": "2024-11-21T16:40:20.072Z"
   },
   {
    "duration": 0,
    "start_time": "2024-11-21T16:40:20.074Z"
   },
   {
    "duration": 0,
    "start_time": "2024-11-21T16:40:20.075Z"
   },
   {
    "duration": 1531,
    "start_time": "2024-11-21T16:41:07.928Z"
   },
   {
    "duration": 3633,
    "start_time": "2024-11-21T16:41:09.461Z"
   },
   {
    "duration": 26,
    "start_time": "2024-11-21T16:41:13.095Z"
   },
   {
    "duration": 21,
    "start_time": "2024-11-21T16:41:13.123Z"
   },
   {
    "duration": 66,
    "start_time": "2024-11-21T16:41:13.145Z"
   },
   {
    "duration": 32,
    "start_time": "2024-11-21T16:41:13.212Z"
   },
   {
    "duration": 25,
    "start_time": "2024-11-21T16:41:13.246Z"
   },
   {
    "duration": 17,
    "start_time": "2024-11-21T16:41:13.274Z"
   },
   {
    "duration": 5,
    "start_time": "2024-11-21T16:41:13.292Z"
   },
   {
    "duration": 75,
    "start_time": "2024-11-21T16:41:13.300Z"
   },
   {
    "duration": 38,
    "start_time": "2024-11-21T16:41:13.376Z"
   },
   {
    "duration": 397,
    "start_time": "2024-11-21T16:41:13.416Z"
   },
   {
    "duration": 430,
    "start_time": "2024-11-21T16:41:13.814Z"
   },
   {
    "duration": 4,
    "start_time": "2024-11-21T16:41:14.246Z"
   },
   {
    "duration": 321,
    "start_time": "2024-11-21T16:41:14.252Z"
   },
   {
    "duration": 313,
    "start_time": "2024-11-21T16:41:14.574Z"
   },
   {
    "duration": 15,
    "start_time": "2024-11-21T16:41:14.888Z"
   },
   {
    "duration": 358,
    "start_time": "2024-11-21T16:41:14.905Z"
   },
   {
    "duration": 18,
    "start_time": "2024-11-21T16:41:15.265Z"
   },
   {
    "duration": 202,
    "start_time": "2024-11-21T16:41:15.284Z"
   },
   {
    "duration": 10,
    "start_time": "2024-11-21T16:41:15.488Z"
   },
   {
    "duration": 1456,
    "start_time": "2024-11-21T16:41:15.499Z"
   },
   {
    "duration": 8,
    "start_time": "2024-11-21T16:41:16.957Z"
   },
   {
    "duration": 1499,
    "start_time": "2024-11-21T16:41:16.967Z"
   },
   {
    "duration": 9,
    "start_time": "2024-11-21T16:41:18.470Z"
   },
   {
    "duration": 1470,
    "start_time": "2024-11-21T16:41:18.480Z"
   },
   {
    "duration": 7,
    "start_time": "2024-11-21T16:41:19.952Z"
   },
   {
    "duration": 1345,
    "start_time": "2024-11-21T16:41:19.973Z"
   },
   {
    "duration": 7,
    "start_time": "2024-11-21T16:41:21.320Z"
   },
   {
    "duration": 452,
    "start_time": "2024-11-21T16:41:21.329Z"
   },
   {
    "duration": 489,
    "start_time": "2024-11-21T16:41:21.783Z"
   },
   {
    "duration": 7,
    "start_time": "2024-11-21T16:41:22.274Z"
   },
   {
    "duration": 8,
    "start_time": "2024-11-21T16:41:22.283Z"
   },
   {
    "duration": 6,
    "start_time": "2024-11-21T16:41:22.293Z"
   },
   {
    "duration": 9,
    "start_time": "2024-11-21T16:41:22.301Z"
   },
   {
    "duration": 7,
    "start_time": "2024-11-21T16:41:22.312Z"
   },
   {
    "duration": 817,
    "start_time": "2024-11-21T16:41:22.320Z"
   },
   {
    "duration": 3,
    "start_time": "2024-11-21T16:41:23.139Z"
   },
   {
    "duration": 40,
    "start_time": "2024-11-21T16:41:23.143Z"
   },
   {
    "duration": 7,
    "start_time": "2024-11-21T16:41:23.184Z"
   },
   {
    "duration": 9,
    "start_time": "2024-11-21T16:41:23.193Z"
   },
   {
    "duration": 5,
    "start_time": "2024-11-21T16:41:23.204Z"
   },
   {
    "duration": 4,
    "start_time": "2024-11-21T16:41:23.211Z"
   },
   {
    "duration": 15,
    "start_time": "2024-11-21T16:41:23.217Z"
   },
   {
    "duration": 3,
    "start_time": "2024-11-21T16:41:23.234Z"
   },
   {
    "duration": 7,
    "start_time": "2024-11-21T16:41:23.238Z"
   },
   {
    "duration": 2,
    "start_time": "2024-11-21T16:41:23.247Z"
   },
   {
    "duration": 79070,
    "start_time": "2024-11-21T16:41:23.250Z"
   },
   {
    "duration": 3,
    "start_time": "2024-11-21T16:42:42.321Z"
   },
   {
    "duration": 1216895,
    "start_time": "2024-11-21T16:42:42.325Z"
   },
   {
    "duration": 4,
    "start_time": "2024-11-21T17:02:59.222Z"
   },
   {
    "duration": 94222,
    "start_time": "2024-11-21T17:02:59.228Z"
   },
   {
    "duration": 3,
    "start_time": "2024-11-21T17:04:33.452Z"
   },
   {
    "duration": 1518,
    "start_time": "2024-11-21T17:04:33.456Z"
   },
   {
    "duration": 4,
    "start_time": "2024-11-21T17:04:34.975Z"
   },
   {
    "duration": 91,
    "start_time": "2024-11-21T17:04:34.980Z"
   },
   {
    "duration": 1040,
    "start_time": "2024-11-21T17:04:35.073Z"
   },
   {
    "duration": 7,
    "start_time": "2024-11-21T17:04:36.115Z"
   },
   {
    "duration": 11,
    "start_time": "2024-11-21T17:04:36.123Z"
   },
   {
    "duration": 88230,
    "start_time": "2024-11-21T17:04:36.136Z"
   },
   {
    "duration": 13,
    "start_time": "2024-11-21T17:06:04.373Z"
   },
   {
    "duration": 69838,
    "start_time": "2024-11-21T17:06:04.394Z"
   },
   {
    "duration": 0,
    "start_time": "2024-11-21T17:07:14.233Z"
   },
   {
    "duration": 0,
    "start_time": "2024-11-21T17:07:14.235Z"
   },
   {
    "duration": 0,
    "start_time": "2024-11-21T17:07:14.236Z"
   },
   {
    "duration": 0,
    "start_time": "2024-11-21T17:07:14.238Z"
   },
   {
    "duration": 0,
    "start_time": "2024-11-21T17:07:14.238Z"
   },
   {
    "duration": 0,
    "start_time": "2024-11-21T17:07:14.239Z"
   },
   {
    "duration": 0,
    "start_time": "2024-11-21T17:07:14.241Z"
   },
   {
    "duration": 0,
    "start_time": "2024-11-21T17:07:14.241Z"
   },
   {
    "duration": 0,
    "start_time": "2024-11-21T17:07:14.242Z"
   },
   {
    "duration": 1602,
    "start_time": "2024-11-21T17:22:38.021Z"
   },
   {
    "duration": 2158,
    "start_time": "2024-11-21T17:22:39.626Z"
   },
   {
    "duration": 30,
    "start_time": "2024-11-21T17:22:41.786Z"
   },
   {
    "duration": 22,
    "start_time": "2024-11-21T17:22:41.818Z"
   },
   {
    "duration": 41,
    "start_time": "2024-11-21T17:22:41.842Z"
   },
   {
    "duration": 42,
    "start_time": "2024-11-21T17:22:41.885Z"
   },
   {
    "duration": 12,
    "start_time": "2024-11-21T17:22:41.928Z"
   },
   {
    "duration": 16,
    "start_time": "2024-11-21T17:22:41.942Z"
   },
   {
    "duration": 14,
    "start_time": "2024-11-21T17:22:41.959Z"
   },
   {
    "duration": 4,
    "start_time": "2024-11-21T17:22:41.975Z"
   },
   {
    "duration": 25,
    "start_time": "2024-11-21T17:22:41.981Z"
   },
   {
    "duration": 475,
    "start_time": "2024-11-21T17:22:42.008Z"
   },
   {
    "duration": 418,
    "start_time": "2024-11-21T17:22:42.484Z"
   },
   {
    "duration": 5,
    "start_time": "2024-11-21T17:22:42.904Z"
   },
   {
    "duration": 281,
    "start_time": "2024-11-21T17:22:42.911Z"
   },
   {
    "duration": 262,
    "start_time": "2024-11-21T17:22:43.194Z"
   },
   {
    "duration": 24,
    "start_time": "2024-11-21T17:22:43.457Z"
   },
   {
    "duration": 400,
    "start_time": "2024-11-21T17:22:43.483Z"
   },
   {
    "duration": 21,
    "start_time": "2024-11-21T17:22:43.885Z"
   },
   {
    "duration": 113,
    "start_time": "2024-11-21T17:22:43.908Z"
   },
   {
    "duration": 10,
    "start_time": "2024-11-21T17:22:44.023Z"
   },
   {
    "duration": 1620,
    "start_time": "2024-11-21T17:22:44.035Z"
   },
   {
    "duration": 8,
    "start_time": "2024-11-21T17:22:45.656Z"
   },
   {
    "duration": 1576,
    "start_time": "2024-11-21T17:22:45.666Z"
   },
   {
    "duration": 9,
    "start_time": "2024-11-21T17:22:47.244Z"
   },
   {
    "duration": 1686,
    "start_time": "2024-11-21T17:22:47.255Z"
   },
   {
    "duration": 7,
    "start_time": "2024-11-21T17:22:48.943Z"
   },
   {
    "duration": 1605,
    "start_time": "2024-11-21T17:22:48.951Z"
   },
   {
    "duration": 12,
    "start_time": "2024-11-21T17:22:50.558Z"
   },
   {
    "duration": 446,
    "start_time": "2024-11-21T17:22:50.572Z"
   },
   {
    "duration": 530,
    "start_time": "2024-11-21T17:22:51.020Z"
   },
   {
    "duration": 7,
    "start_time": "2024-11-21T17:22:51.551Z"
   },
   {
    "duration": 17,
    "start_time": "2024-11-21T17:22:51.559Z"
   },
   {
    "duration": 7,
    "start_time": "2024-11-21T17:22:51.577Z"
   },
   {
    "duration": 6,
    "start_time": "2024-11-21T17:22:51.586Z"
   },
   {
    "duration": 17,
    "start_time": "2024-11-21T17:22:51.593Z"
   },
   {
    "duration": 892,
    "start_time": "2024-11-21T17:22:51.612Z"
   },
   {
    "duration": 4,
    "start_time": "2024-11-21T17:22:52.506Z"
   },
   {
    "duration": 26,
    "start_time": "2024-11-21T17:22:52.511Z"
   },
   {
    "duration": 6,
    "start_time": "2024-11-21T17:22:52.539Z"
   },
   {
    "duration": 9,
    "start_time": "2024-11-21T17:22:52.550Z"
   },
   {
    "duration": 11,
    "start_time": "2024-11-21T17:22:52.560Z"
   },
   {
    "duration": 5,
    "start_time": "2024-11-21T17:22:52.572Z"
   },
   {
    "duration": 14,
    "start_time": "2024-11-21T17:22:52.579Z"
   },
   {
    "duration": 34,
    "start_time": "2024-11-21T17:22:52.595Z"
   },
   {
    "duration": 12,
    "start_time": "2024-11-21T17:22:52.631Z"
   },
   {
    "duration": 3,
    "start_time": "2024-11-21T17:22:52.645Z"
   },
   {
    "duration": 84408,
    "start_time": "2024-11-21T17:22:52.649Z"
   },
   {
    "duration": 2,
    "start_time": "2024-11-21T17:24:17.059Z"
   },
   {
    "duration": 1278893,
    "start_time": "2024-11-21T17:24:17.070Z"
   },
   {
    "duration": 3,
    "start_time": "2024-11-21T17:45:35.970Z"
   },
   {
    "duration": 94489,
    "start_time": "2024-11-21T17:45:35.975Z"
   },
   {
    "duration": 3,
    "start_time": "2024-11-21T17:47:10.470Z"
   },
   {
    "duration": 4,
    "start_time": "2024-11-21T17:47:10.475Z"
   },
   {
    "duration": 984,
    "start_time": "2024-11-21T17:47:10.481Z"
   },
   {
    "duration": 8,
    "start_time": "2024-11-21T17:47:11.470Z"
   },
   {
    "duration": 7,
    "start_time": "2024-11-21T17:47:11.480Z"
   },
   {
    "duration": 74296,
    "start_time": "2024-11-21T17:47:11.489Z"
   },
   {
    "duration": 0,
    "start_time": "2024-11-21T17:48:25.787Z"
   },
   {
    "duration": 0,
    "start_time": "2024-11-21T17:48:25.789Z"
   },
   {
    "duration": 0,
    "start_time": "2024-11-21T17:48:25.791Z"
   },
   {
    "duration": 0,
    "start_time": "2024-11-21T17:48:25.792Z"
   },
   {
    "duration": 0,
    "start_time": "2024-11-21T17:48:25.794Z"
   },
   {
    "duration": 0,
    "start_time": "2024-11-21T17:48:25.795Z"
   },
   {
    "duration": 0,
    "start_time": "2024-11-21T17:48:25.797Z"
   },
   {
    "duration": 0,
    "start_time": "2024-11-21T17:48:25.798Z"
   },
   {
    "duration": 0,
    "start_time": "2024-11-21T17:48:25.799Z"
   },
   {
    "duration": 1500,
    "start_time": "2024-11-21T17:49:03.283Z"
   },
   {
    "duration": 2231,
    "start_time": "2024-11-21T17:49:04.786Z"
   },
   {
    "duration": 26,
    "start_time": "2024-11-21T17:49:07.019Z"
   },
   {
    "duration": 36,
    "start_time": "2024-11-21T17:49:07.047Z"
   },
   {
    "duration": 23,
    "start_time": "2024-11-21T17:49:07.085Z"
   },
   {
    "duration": 23,
    "start_time": "2024-11-21T17:49:07.110Z"
   },
   {
    "duration": 12,
    "start_time": "2024-11-21T17:49:07.134Z"
   },
   {
    "duration": 20,
    "start_time": "2024-11-21T17:49:07.170Z"
   },
   {
    "duration": 4,
    "start_time": "2024-11-21T17:49:07.192Z"
   },
   {
    "duration": 5,
    "start_time": "2024-11-21T17:49:07.198Z"
   },
   {
    "duration": 34,
    "start_time": "2024-11-21T17:49:07.204Z"
   },
   {
    "duration": 456,
    "start_time": "2024-11-21T17:49:07.240Z"
   },
   {
    "duration": 422,
    "start_time": "2024-11-21T17:49:07.698Z"
   },
   {
    "duration": 5,
    "start_time": "2024-11-21T17:49:08.124Z"
   },
   {
    "duration": 307,
    "start_time": "2024-11-21T17:49:08.131Z"
   },
   {
    "duration": 265,
    "start_time": "2024-11-21T17:49:08.439Z"
   },
   {
    "duration": 15,
    "start_time": "2024-11-21T17:49:08.705Z"
   },
   {
    "duration": 356,
    "start_time": "2024-11-21T17:49:08.722Z"
   },
   {
    "duration": 20,
    "start_time": "2024-11-21T17:49:09.080Z"
   },
   {
    "duration": 117,
    "start_time": "2024-11-21T17:49:09.101Z"
   },
   {
    "duration": 10,
    "start_time": "2024-11-21T17:49:09.219Z"
   },
   {
    "duration": 1569,
    "start_time": "2024-11-21T17:49:09.230Z"
   },
   {
    "duration": 8,
    "start_time": "2024-11-21T17:49:10.801Z"
   },
   {
    "duration": 1663,
    "start_time": "2024-11-21T17:49:10.811Z"
   },
   {
    "duration": 10,
    "start_time": "2024-11-21T17:49:12.476Z"
   },
   {
    "duration": 1690,
    "start_time": "2024-11-21T17:49:12.487Z"
   },
   {
    "duration": 9,
    "start_time": "2024-11-21T17:49:14.179Z"
   },
   {
    "duration": 1661,
    "start_time": "2024-11-21T17:49:14.190Z"
   },
   {
    "duration": 7,
    "start_time": "2024-11-21T17:49:15.853Z"
   },
   {
    "duration": 411,
    "start_time": "2024-11-21T17:49:15.869Z"
   },
   {
    "duration": 535,
    "start_time": "2024-11-21T17:49:16.282Z"
   },
   {
    "duration": 9,
    "start_time": "2024-11-21T17:49:16.818Z"
   },
   {
    "duration": 6,
    "start_time": "2024-11-21T17:49:16.828Z"
   },
   {
    "duration": 11,
    "start_time": "2024-11-21T17:49:16.835Z"
   },
   {
    "duration": 27,
    "start_time": "2024-11-21T17:49:16.847Z"
   },
   {
    "duration": 8,
    "start_time": "2024-11-21T17:49:16.875Z"
   },
   {
    "duration": 871,
    "start_time": "2024-11-21T17:49:16.885Z"
   },
   {
    "duration": 3,
    "start_time": "2024-11-21T17:49:17.757Z"
   },
   {
    "duration": 10,
    "start_time": "2024-11-21T17:49:17.761Z"
   },
   {
    "duration": 11,
    "start_time": "2024-11-21T17:49:17.773Z"
   },
   {
    "duration": 9,
    "start_time": "2024-11-21T17:49:17.788Z"
   },
   {
    "duration": 4,
    "start_time": "2024-11-21T17:49:17.799Z"
   },
   {
    "duration": 5,
    "start_time": "2024-11-21T17:49:17.805Z"
   },
   {
    "duration": 15,
    "start_time": "2024-11-21T17:49:17.811Z"
   },
   {
    "duration": 3,
    "start_time": "2024-11-21T17:49:17.827Z"
   },
   {
    "duration": 46,
    "start_time": "2024-11-21T17:49:17.831Z"
   },
   {
    "duration": 13,
    "start_time": "2024-11-21T17:49:17.879Z"
   },
   {
    "duration": 83537,
    "start_time": "2024-11-21T17:49:17.893Z"
   },
   {
    "duration": 2,
    "start_time": "2024-11-21T17:50:41.432Z"
   },
   {
    "duration": 1243691,
    "start_time": "2024-11-21T17:50:41.436Z"
   },
   {
    "duration": 3,
    "start_time": "2024-11-21T18:11:25.129Z"
   },
   {
    "duration": 88030,
    "start_time": "2024-11-21T18:11:25.134Z"
   },
   {
    "duration": 13,
    "start_time": "2024-11-21T18:12:53.169Z"
   },
   {
    "duration": 5,
    "start_time": "2024-11-21T18:12:53.183Z"
   },
   {
    "duration": 1877,
    "start_time": "2024-11-21T18:12:53.189Z"
   },
   {
    "duration": 14,
    "start_time": "2024-11-21T18:12:55.072Z"
   },
   {
    "duration": 8,
    "start_time": "2024-11-21T18:12:55.087Z"
   },
   {
    "duration": 89253,
    "start_time": "2024-11-21T18:12:55.096Z"
   },
   {
    "duration": 2,
    "start_time": "2024-11-21T18:14:24.351Z"
   },
   {
    "duration": 1322447,
    "start_time": "2024-11-21T18:14:24.355Z"
   },
   {
    "duration": 3,
    "start_time": "2024-11-21T18:36:26.803Z"
   },
   {
    "duration": 85954,
    "start_time": "2024-11-21T18:36:26.807Z"
   },
   {
    "duration": 22,
    "start_time": "2024-11-21T18:37:52.763Z"
   },
   {
    "duration": 4,
    "start_time": "2024-11-21T18:37:52.794Z"
   },
   {
    "duration": 18585,
    "start_time": "2024-11-21T18:37:52.799Z"
   },
   {
    "duration": 4,
    "start_time": "2024-11-21T18:38:11.386Z"
   },
   {
    "duration": 6,
    "start_time": "2024-11-21T18:38:11.392Z"
   },
   {
    "duration": 1283,
    "start_time": "2024-11-21T18:48:08.991Z"
   },
   {
    "duration": 3,
    "start_time": "2024-11-21T18:48:14.558Z"
   },
   {
    "duration": 4,
    "start_time": "2024-11-21T18:48:26.595Z"
   },
   {
    "duration": 85,
    "start_time": "2024-11-21T18:48:31.692Z"
   },
   {
    "duration": 1311,
    "start_time": "2024-11-21T18:49:13.060Z"
   },
   {
    "duration": 3,
    "start_time": "2024-11-21T18:49:17.773Z"
   },
   {
    "duration": 4,
    "start_time": "2024-11-21T18:49:22.277Z"
   },
   {
    "duration": 190,
    "start_time": "2024-11-21T18:49:50.782Z"
   },
   {
    "duration": 3,
    "start_time": "2024-11-21T18:51:22.156Z"
   },
   {
    "duration": 4,
    "start_time": "2024-11-21T18:51:22.524Z"
   },
   {
    "duration": 8,
    "start_time": "2024-11-21T19:04:32.136Z"
   },
   {
    "duration": 143308,
    "start_time": "2024-11-21T19:09:52.184Z"
   },
   {
    "duration": 98722,
    "start_time": "2024-11-21T19:12:27.352Z"
   },
   {
    "duration": 3,
    "start_time": "2024-11-21T19:14:10.689Z"
   },
   {
    "duration": 3,
    "start_time": "2024-11-21T19:15:28.436Z"
   },
   {
    "duration": 3,
    "start_time": "2024-11-21T19:15:32.538Z"
   },
   {
    "duration": 225,
    "start_time": "2024-11-21T19:16:10.649Z"
   },
   {
    "duration": 2,
    "start_time": "2024-11-21T19:16:55.486Z"
   },
   {
    "duration": 106,
    "start_time": "2024-11-21T19:16:59.674Z"
   },
   {
    "duration": 61,
    "start_time": "2024-11-21T19:17:07.224Z"
   },
   {
    "duration": 3,
    "start_time": "2024-11-21T19:17:13.517Z"
   },
   {
    "duration": 4,
    "start_time": "2024-11-21T19:17:16.347Z"
   },
   {
    "duration": 232,
    "start_time": "2024-11-21T19:17:19.339Z"
   },
   {
    "duration": 107831,
    "start_time": "2024-11-21T19:18:47.746Z"
   },
   {
    "duration": 3,
    "start_time": "2024-11-21T19:23:33.646Z"
   },
   {
    "duration": 3,
    "start_time": "2024-11-21T19:23:36.751Z"
   },
   {
    "duration": 2,
    "start_time": "2024-11-21T19:24:35.027Z"
   },
   {
    "duration": 3,
    "start_time": "2024-11-21T19:24:37.257Z"
   },
   {
    "duration": 196,
    "start_time": "2024-11-21T19:24:41.875Z"
   },
   {
    "duration": 3,
    "start_time": "2024-11-21T19:24:54.490Z"
   },
   {
    "duration": 3,
    "start_time": "2024-11-21T19:24:57.407Z"
   },
   {
    "duration": 3,
    "start_time": "2024-11-21T19:25:06.045Z"
   },
   {
    "duration": 4,
    "start_time": "2024-11-21T19:25:06.793Z"
   },
   {
    "duration": 238,
    "start_time": "2024-11-21T19:29:54.832Z"
   },
   {
    "duration": 51,
    "start_time": "2024-11-21T19:30:04.321Z"
   },
   {
    "duration": 4,
    "start_time": "2024-11-21T19:31:07.312Z"
   },
   {
    "duration": 4,
    "start_time": "2024-11-21T19:31:41.899Z"
   }
  ],
  "kernelspec": {
   "display_name": "Python 3 (ipykernel)",
   "language": "python",
   "name": "python3"
  },
  "language_info": {
   "codemirror_mode": {
    "name": "ipython",
    "version": 3
   },
   "file_extension": ".py",
   "mimetype": "text/x-python",
   "name": "python",
   "nbconvert_exporter": "python",
   "pygments_lexer": "ipython3",
   "version": "3.9.23"
  },
  "toc": {
   "base_numbering": 1,
   "nav_menu": {},
   "number_sections": true,
   "sideBar": true,
   "skip_h1_title": true,
   "title_cell": "Содержание",
   "title_sidebar": "Contents",
   "toc_cell": true,
   "toc_position": {
    "height": "calc(100% - 180px)",
    "left": "10px",
    "top": "150px",
    "width": "165px"
   },
   "toc_section_display": true,
   "toc_window_display": true
  }
 },
 "nbformat": 4,
 "nbformat_minor": 4
}
